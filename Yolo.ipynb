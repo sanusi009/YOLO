{
  "nbformat": 4,
  "nbformat_minor": 0,
  "metadata": {
    "colab": {
      "provenance": [],
      "gpuType": "T4"
    },
    "kernelspec": {
      "name": "python3",
      "display_name": "Python 3"
    },
    "language_info": {
      "name": "python"
    },
    "accelerator": "GPU"
  },
  "cells": [
    {
      "cell_type": "code",
      "execution_count": 1,
      "metadata": {
        "colab": {
          "base_uri": "https://localhost:8080/"
        },
        "id": "NWUQLoAWk7Cl",
        "outputId": "672a3b54-6b05-44f8-9fa4-0cefe845d68f"
      },
      "outputs": [
        {
          "output_type": "stream",
          "name": "stdout",
          "text": [
            "Collecting ultralytics\n",
            "  Downloading ultralytics-8.3.74-py3-none-any.whl.metadata (35 kB)\n",
            "Requirement already satisfied: opencv-python in /usr/local/lib/python3.11/dist-packages (4.11.0.86)\n",
            "Requirement already satisfied: pandas in /usr/local/lib/python3.11/dist-packages (2.2.2)\n",
            "Requirement already satisfied: numpy in /usr/local/lib/python3.11/dist-packages (1.26.4)\n",
            "Requirement already satisfied: torch in /usr/local/lib/python3.11/dist-packages (2.5.1+cu124)\n",
            "Requirement already satisfied: torchvision in /usr/local/lib/python3.11/dist-packages (0.20.1+cu124)\n",
            "Requirement already satisfied: tqdm in /usr/local/lib/python3.11/dist-packages (4.67.1)\n",
            "Requirement already satisfied: matplotlib>=3.3.0 in /usr/local/lib/python3.11/dist-packages (from ultralytics) (3.10.0)\n",
            "Requirement already satisfied: pillow>=7.1.2 in /usr/local/lib/python3.11/dist-packages (from ultralytics) (11.1.0)\n",
            "Requirement already satisfied: pyyaml>=5.3.1 in /usr/local/lib/python3.11/dist-packages (from ultralytics) (6.0.2)\n",
            "Requirement already satisfied: requests>=2.23.0 in /usr/local/lib/python3.11/dist-packages (from ultralytics) (2.32.3)\n",
            "Requirement already satisfied: scipy>=1.4.1 in /usr/local/lib/python3.11/dist-packages (from ultralytics) (1.13.1)\n",
            "Requirement already satisfied: psutil in /usr/local/lib/python3.11/dist-packages (from ultralytics) (5.9.5)\n",
            "Requirement already satisfied: py-cpuinfo in /usr/local/lib/python3.11/dist-packages (from ultralytics) (9.0.0)\n",
            "Requirement already satisfied: seaborn>=0.11.0 in /usr/local/lib/python3.11/dist-packages (from ultralytics) (0.13.2)\n",
            "Collecting ultralytics-thop>=2.0.0 (from ultralytics)\n",
            "  Downloading ultralytics_thop-2.0.14-py3-none-any.whl.metadata (9.4 kB)\n",
            "Requirement already satisfied: python-dateutil>=2.8.2 in /usr/local/lib/python3.11/dist-packages (from pandas) (2.8.2)\n",
            "Requirement already satisfied: pytz>=2020.1 in /usr/local/lib/python3.11/dist-packages (from pandas) (2025.1)\n",
            "Requirement already satisfied: tzdata>=2022.7 in /usr/local/lib/python3.11/dist-packages (from pandas) (2025.1)\n",
            "Requirement already satisfied: filelock in /usr/local/lib/python3.11/dist-packages (from torch) (3.17.0)\n",
            "Requirement already satisfied: typing-extensions>=4.8.0 in /usr/local/lib/python3.11/dist-packages (from torch) (4.12.2)\n",
            "Requirement already satisfied: networkx in /usr/local/lib/python3.11/dist-packages (from torch) (3.4.2)\n",
            "Requirement already satisfied: jinja2 in /usr/local/lib/python3.11/dist-packages (from torch) (3.1.5)\n",
            "Requirement already satisfied: fsspec in /usr/local/lib/python3.11/dist-packages (from torch) (2024.10.0)\n",
            "Collecting nvidia-cuda-nvrtc-cu12==12.4.127 (from torch)\n",
            "  Downloading nvidia_cuda_nvrtc_cu12-12.4.127-py3-none-manylinux2014_x86_64.whl.metadata (1.5 kB)\n",
            "Collecting nvidia-cuda-runtime-cu12==12.4.127 (from torch)\n",
            "  Downloading nvidia_cuda_runtime_cu12-12.4.127-py3-none-manylinux2014_x86_64.whl.metadata (1.5 kB)\n",
            "Collecting nvidia-cuda-cupti-cu12==12.4.127 (from torch)\n",
            "  Downloading nvidia_cuda_cupti_cu12-12.4.127-py3-none-manylinux2014_x86_64.whl.metadata (1.6 kB)\n",
            "Collecting nvidia-cudnn-cu12==9.1.0.70 (from torch)\n",
            "  Downloading nvidia_cudnn_cu12-9.1.0.70-py3-none-manylinux2014_x86_64.whl.metadata (1.6 kB)\n",
            "Collecting nvidia-cublas-cu12==12.4.5.8 (from torch)\n",
            "  Downloading nvidia_cublas_cu12-12.4.5.8-py3-none-manylinux2014_x86_64.whl.metadata (1.5 kB)\n",
            "Collecting nvidia-cufft-cu12==11.2.1.3 (from torch)\n",
            "  Downloading nvidia_cufft_cu12-11.2.1.3-py3-none-manylinux2014_x86_64.whl.metadata (1.5 kB)\n",
            "Collecting nvidia-curand-cu12==10.3.5.147 (from torch)\n",
            "  Downloading nvidia_curand_cu12-10.3.5.147-py3-none-manylinux2014_x86_64.whl.metadata (1.5 kB)\n",
            "Collecting nvidia-cusolver-cu12==11.6.1.9 (from torch)\n",
            "  Downloading nvidia_cusolver_cu12-11.6.1.9-py3-none-manylinux2014_x86_64.whl.metadata (1.6 kB)\n",
            "Collecting nvidia-cusparse-cu12==12.3.1.170 (from torch)\n",
            "  Downloading nvidia_cusparse_cu12-12.3.1.170-py3-none-manylinux2014_x86_64.whl.metadata (1.6 kB)\n",
            "Requirement already satisfied: nvidia-nccl-cu12==2.21.5 in /usr/local/lib/python3.11/dist-packages (from torch) (2.21.5)\n",
            "Requirement already satisfied: nvidia-nvtx-cu12==12.4.127 in /usr/local/lib/python3.11/dist-packages (from torch) (12.4.127)\n",
            "Collecting nvidia-nvjitlink-cu12==12.4.127 (from torch)\n",
            "  Downloading nvidia_nvjitlink_cu12-12.4.127-py3-none-manylinux2014_x86_64.whl.metadata (1.5 kB)\n",
            "Requirement already satisfied: triton==3.1.0 in /usr/local/lib/python3.11/dist-packages (from torch) (3.1.0)\n",
            "Requirement already satisfied: sympy==1.13.1 in /usr/local/lib/python3.11/dist-packages (from torch) (1.13.1)\n",
            "Requirement already satisfied: mpmath<1.4,>=1.1.0 in /usr/local/lib/python3.11/dist-packages (from sympy==1.13.1->torch) (1.3.0)\n",
            "Requirement already satisfied: contourpy>=1.0.1 in /usr/local/lib/python3.11/dist-packages (from matplotlib>=3.3.0->ultralytics) (1.3.1)\n",
            "Requirement already satisfied: cycler>=0.10 in /usr/local/lib/python3.11/dist-packages (from matplotlib>=3.3.0->ultralytics) (0.12.1)\n",
            "Requirement already satisfied: fonttools>=4.22.0 in /usr/local/lib/python3.11/dist-packages (from matplotlib>=3.3.0->ultralytics) (4.55.8)\n",
            "Requirement already satisfied: kiwisolver>=1.3.1 in /usr/local/lib/python3.11/dist-packages (from matplotlib>=3.3.0->ultralytics) (1.4.8)\n",
            "Requirement already satisfied: packaging>=20.0 in /usr/local/lib/python3.11/dist-packages (from matplotlib>=3.3.0->ultralytics) (24.2)\n",
            "Requirement already satisfied: pyparsing>=2.3.1 in /usr/local/lib/python3.11/dist-packages (from matplotlib>=3.3.0->ultralytics) (3.2.1)\n",
            "Requirement already satisfied: six>=1.5 in /usr/local/lib/python3.11/dist-packages (from python-dateutil>=2.8.2->pandas) (1.17.0)\n",
            "Requirement already satisfied: charset-normalizer<4,>=2 in /usr/local/lib/python3.11/dist-packages (from requests>=2.23.0->ultralytics) (3.4.1)\n",
            "Requirement already satisfied: idna<4,>=2.5 in /usr/local/lib/python3.11/dist-packages (from requests>=2.23.0->ultralytics) (3.10)\n",
            "Requirement already satisfied: urllib3<3,>=1.21.1 in /usr/local/lib/python3.11/dist-packages (from requests>=2.23.0->ultralytics) (2.3.0)\n",
            "Requirement already satisfied: certifi>=2017.4.17 in /usr/local/lib/python3.11/dist-packages (from requests>=2.23.0->ultralytics) (2025.1.31)\n",
            "Requirement already satisfied: MarkupSafe>=2.0 in /usr/local/lib/python3.11/dist-packages (from jinja2->torch) (3.0.2)\n",
            "Downloading ultralytics-8.3.74-py3-none-any.whl (914 kB)\n",
            "\u001b[2K   \u001b[90m━━━━━━━━━━━━━━━━━━━━━━━━━━━━━━━━━━━━━━━━\u001b[0m \u001b[32m914.7/914.7 kB\u001b[0m \u001b[31m45.3 MB/s\u001b[0m eta \u001b[36m0:00:00\u001b[0m\n",
            "\u001b[?25hDownloading nvidia_cublas_cu12-12.4.5.8-py3-none-manylinux2014_x86_64.whl (363.4 MB)\n",
            "\u001b[2K   \u001b[90m━━━━━━━━━━━━━━━━━━━━━━━━━━━━━━━━━━━━━━━━\u001b[0m \u001b[32m363.4/363.4 MB\u001b[0m \u001b[31m4.6 MB/s\u001b[0m eta \u001b[36m0:00:00\u001b[0m\n",
            "\u001b[?25hDownloading nvidia_cuda_cupti_cu12-12.4.127-py3-none-manylinux2014_x86_64.whl (13.8 MB)\n",
            "\u001b[2K   \u001b[90m━━━━━━━━━━━━━━━━━━━━━━━━━━━━━━━━━━━━━━━━\u001b[0m \u001b[32m13.8/13.8 MB\u001b[0m \u001b[31m104.3 MB/s\u001b[0m eta \u001b[36m0:00:00\u001b[0m\n",
            "\u001b[?25hDownloading nvidia_cuda_nvrtc_cu12-12.4.127-py3-none-manylinux2014_x86_64.whl (24.6 MB)\n",
            "\u001b[2K   \u001b[90m━━━━━━━━━━━━━━━━━━━━━━━━━━━━━━━━━━━━━━━━\u001b[0m \u001b[32m24.6/24.6 MB\u001b[0m \u001b[31m66.4 MB/s\u001b[0m eta \u001b[36m0:00:00\u001b[0m\n",
            "\u001b[?25hDownloading nvidia_cuda_runtime_cu12-12.4.127-py3-none-manylinux2014_x86_64.whl (883 kB)\n",
            "\u001b[2K   \u001b[90m━━━━━━━━━━━━━━━━━━━━━━━━━━━━━━━━━━━━━━━━\u001b[0m \u001b[32m883.7/883.7 kB\u001b[0m \u001b[31m46.1 MB/s\u001b[0m eta \u001b[36m0:00:00\u001b[0m\n",
            "\u001b[?25hDownloading nvidia_cudnn_cu12-9.1.0.70-py3-none-manylinux2014_x86_64.whl (664.8 MB)\n",
            "\u001b[2K   \u001b[90m━━━━━━━━━━━━━━━━━━━━━━━━━━━━━━━━━━━━━━━━\u001b[0m \u001b[32m664.8/664.8 MB\u001b[0m \u001b[31m2.1 MB/s\u001b[0m eta \u001b[36m0:00:00\u001b[0m\n",
            "\u001b[?25hDownloading nvidia_cufft_cu12-11.2.1.3-py3-none-manylinux2014_x86_64.whl (211.5 MB)\n",
            "\u001b[2K   \u001b[90m━━━━━━━━━━━━━━━━━━━━━━━━━━━━━━━━━━━━━━━━\u001b[0m \u001b[32m211.5/211.5 MB\u001b[0m \u001b[31m6.3 MB/s\u001b[0m eta \u001b[36m0:00:00\u001b[0m\n",
            "\u001b[?25hDownloading nvidia_curand_cu12-10.3.5.147-py3-none-manylinux2014_x86_64.whl (56.3 MB)\n",
            "\u001b[2K   \u001b[90m━━━━━━━━━━━━━━━━━━━━━━━━━━━━━━━━━━━━━━━━\u001b[0m \u001b[32m56.3/56.3 MB\u001b[0m \u001b[31m13.9 MB/s\u001b[0m eta \u001b[36m0:00:00\u001b[0m\n",
            "\u001b[?25hDownloading nvidia_cusolver_cu12-11.6.1.9-py3-none-manylinux2014_x86_64.whl (127.9 MB)\n",
            "\u001b[2K   \u001b[90m━━━━━━━━━━━━━━━━━━━━━━━━━━━━━━━━━━━━━━━━\u001b[0m \u001b[32m127.9/127.9 MB\u001b[0m \u001b[31m7.4 MB/s\u001b[0m eta \u001b[36m0:00:00\u001b[0m\n",
            "\u001b[?25hDownloading nvidia_cusparse_cu12-12.3.1.170-py3-none-manylinux2014_x86_64.whl (207.5 MB)\n",
            "\u001b[2K   \u001b[90m━━━━━━━━━━━━━━━━━━━━━━━━━━━━━━━━━━━━━━━━\u001b[0m \u001b[32m207.5/207.5 MB\u001b[0m \u001b[31m6.0 MB/s\u001b[0m eta \u001b[36m0:00:00\u001b[0m\n",
            "\u001b[?25hDownloading nvidia_nvjitlink_cu12-12.4.127-py3-none-manylinux2014_x86_64.whl (21.1 MB)\n",
            "\u001b[2K   \u001b[90m━━━━━━━━━━━━━━━━━━━━━━━━━━━━━━━━━━━━━━━━\u001b[0m \u001b[32m21.1/21.1 MB\u001b[0m \u001b[31m57.5 MB/s\u001b[0m eta \u001b[36m0:00:00\u001b[0m\n",
            "\u001b[?25hDownloading ultralytics_thop-2.0.14-py3-none-any.whl (26 kB)\n",
            "Installing collected packages: nvidia-nvjitlink-cu12, nvidia-curand-cu12, nvidia-cufft-cu12, nvidia-cuda-runtime-cu12, nvidia-cuda-nvrtc-cu12, nvidia-cuda-cupti-cu12, nvidia-cublas-cu12, nvidia-cusparse-cu12, nvidia-cudnn-cu12, nvidia-cusolver-cu12, ultralytics-thop, ultralytics\n",
            "  Attempting uninstall: nvidia-nvjitlink-cu12\n",
            "    Found existing installation: nvidia-nvjitlink-cu12 12.5.82\n",
            "    Uninstalling nvidia-nvjitlink-cu12-12.5.82:\n",
            "      Successfully uninstalled nvidia-nvjitlink-cu12-12.5.82\n",
            "  Attempting uninstall: nvidia-curand-cu12\n",
            "    Found existing installation: nvidia-curand-cu12 10.3.6.82\n",
            "    Uninstalling nvidia-curand-cu12-10.3.6.82:\n",
            "      Successfully uninstalled nvidia-curand-cu12-10.3.6.82\n",
            "  Attempting uninstall: nvidia-cufft-cu12\n",
            "    Found existing installation: nvidia-cufft-cu12 11.2.3.61\n",
            "    Uninstalling nvidia-cufft-cu12-11.2.3.61:\n",
            "      Successfully uninstalled nvidia-cufft-cu12-11.2.3.61\n",
            "  Attempting uninstall: nvidia-cuda-runtime-cu12\n",
            "    Found existing installation: nvidia-cuda-runtime-cu12 12.5.82\n",
            "    Uninstalling nvidia-cuda-runtime-cu12-12.5.82:\n",
            "      Successfully uninstalled nvidia-cuda-runtime-cu12-12.5.82\n",
            "  Attempting uninstall: nvidia-cuda-nvrtc-cu12\n",
            "    Found existing installation: nvidia-cuda-nvrtc-cu12 12.5.82\n",
            "    Uninstalling nvidia-cuda-nvrtc-cu12-12.5.82:\n",
            "      Successfully uninstalled nvidia-cuda-nvrtc-cu12-12.5.82\n",
            "  Attempting uninstall: nvidia-cuda-cupti-cu12\n",
            "    Found existing installation: nvidia-cuda-cupti-cu12 12.5.82\n",
            "    Uninstalling nvidia-cuda-cupti-cu12-12.5.82:\n",
            "      Successfully uninstalled nvidia-cuda-cupti-cu12-12.5.82\n",
            "  Attempting uninstall: nvidia-cublas-cu12\n",
            "    Found existing installation: nvidia-cublas-cu12 12.5.3.2\n",
            "    Uninstalling nvidia-cublas-cu12-12.5.3.2:\n",
            "      Successfully uninstalled nvidia-cublas-cu12-12.5.3.2\n",
            "  Attempting uninstall: nvidia-cusparse-cu12\n",
            "    Found existing installation: nvidia-cusparse-cu12 12.5.1.3\n",
            "    Uninstalling nvidia-cusparse-cu12-12.5.1.3:\n",
            "      Successfully uninstalled nvidia-cusparse-cu12-12.5.1.3\n",
            "  Attempting uninstall: nvidia-cudnn-cu12\n",
            "    Found existing installation: nvidia-cudnn-cu12 9.3.0.75\n",
            "    Uninstalling nvidia-cudnn-cu12-9.3.0.75:\n",
            "      Successfully uninstalled nvidia-cudnn-cu12-9.3.0.75\n",
            "  Attempting uninstall: nvidia-cusolver-cu12\n",
            "    Found existing installation: nvidia-cusolver-cu12 11.6.3.83\n",
            "    Uninstalling nvidia-cusolver-cu12-11.6.3.83:\n",
            "      Successfully uninstalled nvidia-cusolver-cu12-11.6.3.83\n",
            "Successfully installed nvidia-cublas-cu12-12.4.5.8 nvidia-cuda-cupti-cu12-12.4.127 nvidia-cuda-nvrtc-cu12-12.4.127 nvidia-cuda-runtime-cu12-12.4.127 nvidia-cudnn-cu12-9.1.0.70 nvidia-cufft-cu12-11.2.1.3 nvidia-curand-cu12-10.3.5.147 nvidia-cusolver-cu12-11.6.1.9 nvidia-cusparse-cu12-12.3.1.170 nvidia-nvjitlink-cu12-12.4.127 ultralytics-8.3.74 ultralytics-thop-2.0.14\n"
          ]
        }
      ],
      "source": [
        "!pip install ultralytics opencv-python pandas numpy torch torchvision tqdm"
      ]
    },
    {
      "cell_type": "code",
      "source": [
        "import os\n",
        "import cv2\n",
        "import random\n",
        "import zipfile\n",
        "import shutil\n",
        "import torch\n",
        "import pandas as pd\n",
        "import numpy as np\n",
        "import matplotlib.pyplot as plt\n",
        "from tqdm import tqdm\n",
        "from ultralytics import YOLO\n",
        "from torch.utils.data import Dataset, DataLoader\n",
        "from torchvision import transforms\n",
        "from sklearn.model_selection import train_test_split"
      ],
      "metadata": {
        "colab": {
          "base_uri": "https://localhost:8080/"
        },
        "id": "xFfI_2h8lPJu",
        "outputId": "c8977893-5452-4238-da72-8e94afd76862"
      },
      "execution_count": 2,
      "outputs": [
        {
          "output_type": "stream",
          "name": "stdout",
          "text": [
            "Creating new Ultralytics Settings v0.0.6 file ✅ \n",
            "View Ultralytics Settings with 'yolo settings' or at '/root/.config/Ultralytics/settings.json'\n",
            "Update Settings with 'yolo settings key=value', i.e. 'yolo settings runs_dir=path/to/dir'. For help see https://docs.ultralytics.com/quickstart/#ultralytics-settings.\n"
          ]
        }
      ]
    },
    {
      "cell_type": "code",
      "source": [
        "# Path to the data.zip file\n",
        "zip_file_path = \"/content/data.zip\"\n",
        "extracted_folder_path = \"/content/data\"  # Folder to extract the contents\n",
        "\n",
        "# Extract data.zip if not already extracted\n",
        "if not os.path.exists(extracted_folder_path):\n",
        "    with zipfile.ZipFile(zip_file_path, 'r') as zip_ref:\n",
        "        zip_ref.extractall(extracted_folder_path)\n",
        "    print(f\"Extracted {zip_file_path} to {extracted_folder_path}\")"
      ],
      "metadata": {
        "id": "jjInF8c_l5Ge",
        "colab": {
          "base_uri": "https://localhost:8080/"
        },
        "outputId": "da8d10f5-77a0-4ae5-cb11-78f715861d12"
      },
      "execution_count": 3,
      "outputs": [
        {
          "output_type": "stream",
          "name": "stdout",
          "text": [
            "Extracted /content/data.zip to /content/data\n"
          ]
        }
      ]
    },
    {
      "cell_type": "code",
      "source": [
        "TRAIN_CSV = \"/content/Train.csv\"\n",
        "TEST_CSV = \"/content/Test.csv\"\n",
        "TRAIN_IMG_DIR = os.path.join(extracted_folder_path, \"train\")\n",
        "TEST_IMG_DIR = os.path.join(extracted_folder_path, \"test\")\n",
        "YOLO_DATA_DIR = \"/content/yolo_dataset/images/train\""
      ],
      "metadata": {
        "id": "8vgPB3ikmB4y"
      },
      "execution_count": 4,
      "outputs": []
    },
    {
      "cell_type": "code",
      "source": [
        "import pandas as pd\n",
        "import os\n",
        "\n",
        "# Load the CSV file\n",
        "TRAIN_CSV = \"/content/Train.csv\"  # Update the path if needed\n",
        "train_df = pd.read_csv(TRAIN_CSV)\n",
        "\n",
        "# Define the output directory for FolderName.txt\n",
        "OUTPUT_DIR = \"/content/foldername_texts\"\n",
        "os.makedirs(OUTPUT_DIR, exist_ok=True)\n",
        "\n",
        "# Remove the 'FolderName' column and save the updated CSV\n",
        "train_df.drop(columns=['FolderName'], inplace=True)\n",
        "\n",
        "# Save the modified CSV (without FolderName)\n",
        "MODIFIED_CSV_PATH = os.path.join(OUTPUT_DIR, \"Modified_Train.csv\")\n",
        "train_df.to_csv(MODIFIED_CSV_PATH, index=False)\n",
        "\n",
        "# Save FolderName column separately as FolderName.txt\n",
        "FOLDERNAME_TXT_PATH = os.path.join(OUTPUT_DIR, \"FolderName.txt\")\n",
        "train_df_original = pd.read_csv(TRAIN_CSV)  # Reload original CSV to extract FolderName\n",
        "foldernames = train_df_original[\"FolderName\"]\n",
        "\n",
        "# Write folder names to FolderName.txt\n",
        "with open(FOLDERNAME_TXT_PATH, \"w\") as f:\n",
        "    for name in foldernames:\n",
        "        f.write(name + \"\\n\")\n",
        "\n",
        "print(f\"✅ Modified CSV saved at: {MODIFIED_CSV_PATH}\")\n",
        "print(f\"✅ Folder names saved separately at: {FOLDERNAME_TXT_PATH}\")\n"
      ],
      "metadata": {
        "colab": {
          "base_uri": "https://localhost:8080/"
        },
        "id": "xrIoCQidpnbt",
        "outputId": "5ee18743-747a-413c-de54-9934eb422abc"
      },
      "execution_count": 5,
      "outputs": [
        {
          "output_type": "stream",
          "name": "stdout",
          "text": [
            "✅ Modified CSV saved at: /content/foldername_texts/Modified_Train.csv\n",
            "✅ Folder names saved separately at: /content/foldername_texts/FolderName.txt\n"
          ]
        }
      ]
    },
    {
      "cell_type": "code",
      "source": [
        "import os\n",
        "\n",
        "# Define the file path\n",
        "FOLDERNAME_TXT_PATH = \"/content/foldername_texts/FolderName.txt\"\n",
        "\n",
        "# Check if the file exists\n",
        "if os.path.exists(FOLDERNAME_TXT_PATH):\n",
        "    # Open and read the contents of the file\n",
        "    with open(FOLDERNAME_TXT_PATH, \"r\") as file:\n",
        "        contents = file.readlines()  # Read all lines into a list\n",
        "\n",
        "    # Get the length of the file (number of lines)\n",
        "    file_length = len(contents)\n",
        "\n",
        "    # Print the first few lines to verify\n",
        "    print(f\"✅ FolderName.txt contains {file_length} entries.\\n\")\n",
        "    print(\"🔹 First 10 Lines:\\n\")\n",
        "    for line in contents[:10]:  # Show only the first 10 lines\n",
        "        print(line.strip())  # Strip removes extra whitespace\n",
        "else:\n",
        "    print(\"❌ File not found! Check the path and try again.\")\n",
        "\n"
      ],
      "metadata": {
        "colab": {
          "base_uri": "https://localhost:8080/"
        },
        "id": "9CwNZv9zqUxm",
        "outputId": "1f54a77f-b29e-4c0c-d3ae-265412ba28ea"
      },
      "execution_count": 6,
      "outputs": [
        {
          "output_type": "stream",
          "name": "stdout",
          "text": [
            "✅ FolderName.txt contains 386 entries.\n",
            "\n",
            "🔹 First 10 Lines:\n",
            "\n",
            "A6dzrkjqvl\n",
            "Ypktwvqjbn\n",
            "Ox18ob0syv\n",
            "Hqcekwpxgu\n",
            "Ummqfuetoc\n",
            "B5myqsh1wi\n",
            "L8w7zu7wek\n",
            "Izbgyxre0g\n",
            "Vinlgebupo\n",
            "Hc3b9gicdo\n"
          ]
        }
      ]
    },
    {
      "cell_type": "code",
      "source": [
        "# Load the training CSV file\n",
        "TRAIN_CSV = \"/content/Train.csv\"  # Replace with actual path to your CSV file\n",
        "train_df = pd.read_csv(TRAIN_CSV)\n",
        "\n",
        "# Split dataset into train/val (80/20)\n",
        "train_set, val_set = train_test_split(train_df, test_size=0.2, random_state=42)\n",
        "print(train_df.head(), train_df.info())"
      ],
      "metadata": {
        "colab": {
          "base_uri": "https://localhost:8080/"
        },
        "id": "LarxD09M4MkM",
        "outputId": "2eb2c479-501c-4b8f-c34b-f3e37463b25d"
      },
      "execution_count": 8,
      "outputs": [
        {
          "output_type": "stream",
          "name": "stdout",
          "text": [
            "<class 'pandas.core.frame.DataFrame'>\n",
            "RangeIndex: 386 entries, 0 to 385\n",
            "Data columns (total 9 columns):\n",
            " #   Column       Non-Null Count  Dtype  \n",
            "---  ------       --------------  -----  \n",
            " 0   ID           386 non-null    object \n",
            " 1   FolderName   386 non-null    object \n",
            " 2   PlantNumber  386 non-null    int64  \n",
            " 3   Side         386 non-null    object \n",
            " 4   Start        386 non-null    int64  \n",
            " 5   End          386 non-null    int64  \n",
            " 6   RootVolume   386 non-null    float64\n",
            " 7   Genotype     386 non-null    object \n",
            " 8   Stage        386 non-null    object \n",
            "dtypes: float64(1), int64(3), object(5)\n",
            "memory usage: 27.3+ KB\n",
            "                 ID  FolderName  PlantNumber Side  Start  End  RootVolume  \\\n",
            "0  ID_826322_Lbmaya  A6dzrkjqvl            3    L     33   42         0.9   \n",
            "1  ID_718181_Bslpwx  Ypktwvqjbn            7    L     33   41         1.5   \n",
            "2  ID_465762_L1n61d  Ox18ob0syv            4    R     21   28         2.7   \n",
            "3  ID_626872_Pbmx2e  Hqcekwpxgu            2    R     30   39         2.6   \n",
            "4  ID_518846_Opko8c  Ummqfuetoc            1    R     17   26         2.7   \n",
            "\n",
            "             Genotype  Stage  \n",
            "0  IITA-TMS-IBA000070  Early  \n",
            "1           IBA154810  Early  \n",
            "2           IBA980581  Early  \n",
            "3  IITA-TMS-IBA000070  Early  \n",
            "4           IBA980581  Early   None\n"
          ]
        }
      ]
    },
    {
      "cell_type": "code",
      "source": [
        "\n",
        "# Define directories\n",
        "train_root_dir = \"/content/data/train\"\n",
        "dst_images_train = \"/content/yolo_dataset/images/train\"\n",
        "dst_images_val = \"/content/yolo_dataset/images/val\"\n",
        "dst_labels_train = \"/content/yolo_dataset/labels/train\"\n",
        "dst_labels_val = \"/content/yolo_dataset/labels/val\"\n",
        "foldername_txt_path = \"/content/foldername_texts/FolderName.txt\"\n",
        "\n",
        "# Create destination directories if they don't exist\n",
        "for directory in [dst_images_train, dst_images_val, dst_labels_train, dst_labels_val]:\n",
        "    os.makedirs(directory, exist_ok=True)\n",
        "\n",
        "# ✅ Function to convert bounding boxes to YOLO format\n",
        "def convert_to_yolo_format(image_width, image_height, bbox):\n",
        "    \"\"\"\n",
        "    Convert bounding box from (x_min, y_min, x_max, y_max) to YOLO format (x_center, y_center, width, height).\n",
        "\n",
        "    bbox: (x_min, y_min, x_max, y_max) in absolute pixel values.\n",
        "    \"\"\"\n",
        "    x_min, y_min, x_max, y_max = bbox\n",
        "    x_center = (x_min + x_max) / 2 / image_width\n",
        "    y_center = (y_min + y_max) / 2 / image_height\n",
        "    width = (x_max - x_min) / image_width\n",
        "    height = (y_max - y_min) / image_height\n",
        "\n",
        "    return f\"0 {x_center:.6f} {y_center:.6f} {width:.6f} {height:.6f}\"\n",
        "\n",
        "# Collect all image paths\n",
        "all_images = []\n",
        "for subfolder in sorted(os.listdir(train_root_dir)):\n",
        "    subfolder_path = os.path.join(train_root_dir, subfolder)\n",
        "    if os.path.isdir(subfolder_path):\n",
        "        for root, _, files in os.walk(subfolder_path):\n",
        "            for file in sorted(files):\n",
        "                if file.lower().endswith(\".png\"):  # Check if it's a .png image\n",
        "                    all_images.append(os.path.join(root, file))\n",
        "\n",
        "# ✅ Randomly select 386 images\n",
        "selected_images = random.sample(all_images, min(386, len(all_images)))\n",
        "\n",
        "# ✅ Split into 308 train and 78 validation images\n",
        "train_images = selected_images[:308]\n",
        "val_images = selected_images[308:]\n",
        "\n",
        "# Function to copy and rename images\n",
        "def copy_images(image_list, dst_dir):\n",
        "    for idx, src_file in enumerate(image_list, start=1):\n",
        "        new_filename = f\"image_{idx:05d}.png\"  # Rename sequentially\n",
        "        dst_file = os.path.join(dst_dir, new_filename)\n",
        "        shutil.copy(src_file, dst_file)\n",
        "\n",
        "    print(f\"✅ Successfully copied {len(image_list)} images to {dst_dir}\")\n",
        "\n",
        "# Copy images into respective directories\n",
        "copy_images(train_images, dst_images_train)\n",
        "copy_images(val_images, dst_images_val)\n",
        "\n",
        "# ✅ Process FolderName.txt for label assignment\n",
        "if os.path.exists(foldername_txt_path):\n",
        "    with open(foldername_txt_path, \"r\") as file:\n",
        "        all_labels = file.readlines()\n",
        "\n",
        "    all_labels = [label.strip() for label in all_labels]  # Clean up labels\n",
        "\n",
        "    if len(all_labels) >= 386:  # Ensure we have enough labels\n",
        "        train_labels = all_labels[:308]\n",
        "        val_labels = all_labels[308:]\n",
        "\n",
        "        # Function to save labels in YOLO format\n",
        "        def save_labels(image_list, label_list, dst_dir):\n",
        "            for idx, (image_path, label) in enumerate(zip(image_list, label_list)):\n",
        "                label_filename = f\"image_{idx+1:05d}.txt\"  # Match image filename\n",
        "                label_path = os.path.join(dst_dir, label_filename)\n",
        "\n",
        "                # Simulated bounding box (replace with actual detection logic)\n",
        "                image_width, image_height = 640, 480  # Replace with actual image size\n",
        "                bbox = (100, 100, 300, 300)  # Replace with actual bbox coordinates\n",
        "\n",
        "                yolo_label = convert_to_yolo_format(image_width, image_height, bbox)\n",
        "\n",
        "                with open(label_path, \"w\") as f:\n",
        "                    f.write(yolo_label)\n",
        "\n",
        "            print(f\"✅ Successfully saved {len(label_list)} labels to {dst_dir}\")\n",
        "\n",
        "        # Save labels into respective directories\n",
        "        save_labels(train_images, train_labels, dst_labels_train)\n",
        "        save_labels(val_images, val_labels, dst_labels_val)\n",
        "    else:\n",
        "        print(\"❌ Not enough labels in FolderName.txt!\")\n",
        "else:\n",
        "    print(\"❌ FolderName.txt not found!\")\n",
        "\n",
        "print(\"🎯 Dataset preparation complete!\")\n"
      ],
      "metadata": {
        "colab": {
          "base_uri": "https://localhost:8080/"
        },
        "id": "3Y0LAKnYtUQG",
        "outputId": "46c12c0b-b36e-4011-bc83-492c0b6c85b7"
      },
      "execution_count": 9,
      "outputs": [
        {
          "output_type": "stream",
          "name": "stdout",
          "text": [
            "✅ Successfully copied 308 images to /content/yolo_dataset/images/train\n",
            "✅ Successfully copied 78 images to /content/yolo_dataset/images/val\n",
            "✅ Successfully saved 308 labels to /content/yolo_dataset/labels/train\n",
            "✅ Successfully saved 78 labels to /content/yolo_dataset/labels/val\n",
            "🎯 Dataset preparation complete!\n"
          ]
        }
      ]
    },
    {
      "cell_type": "code",
      "source": [
        "import os\n",
        "\n",
        "train_label_dir = \"/content/yolo_dataset/labels/train\"\n",
        "val_label_dir = \"/content/yolo_dataset/labels/val\"\n",
        "\n",
        "train_labels = [f for f in os.listdir(train_label_dir) if f.endswith(\".txt\")]\n",
        "val_labels = [f for f in os.listdir(val_label_dir) if f.endswith(\".txt\")]\n",
        "\n",
        "print(f\"Train labels found: {len(train_labels)}\")\n",
        "print(f\"Validation labels found: {len(val_labels)}\")\n"
      ],
      "metadata": {
        "colab": {
          "base_uri": "https://localhost:8080/"
        },
        "id": "Gm1vuEM26nky",
        "outputId": "a1f48e09-7064-4345-8265-1d8d7ae61bc8"
      },
      "execution_count": 10,
      "outputs": [
        {
          "output_type": "stream",
          "name": "stdout",
          "text": [
            "Train labels found: 308\n",
            "Validation labels found: 78\n"
          ]
        }
      ]
    },
    {
      "cell_type": "code",
      "source": [
        "for label_file in train_labels[:5]:  # Check first 5 label files\n",
        "    path = os.path.join(train_label_dir, label_file)\n",
        "    with open(path, \"r\") as f:\n",
        "        content = f.read().strip()\n",
        "        print(f\"{label_file}: {content if content else '⚠️ EMPTY FILE'}\")\n"
      ],
      "metadata": {
        "colab": {
          "base_uri": "https://localhost:8080/"
        },
        "id": "XN52JgIn63i7",
        "outputId": "37bc2137-0b02-4f5c-ff48-1459e899499f"
      },
      "execution_count": 11,
      "outputs": [
        {
          "output_type": "stream",
          "name": "stdout",
          "text": [
            "image_00243.txt: 0 0.312500 0.416667 0.312500 0.416667\n",
            "image_00214.txt: 0 0.312500 0.416667 0.312500 0.416667\n",
            "image_00240.txt: 0 0.312500 0.416667 0.312500 0.416667\n",
            "image_00211.txt: 0 0.312500 0.416667 0.312500 0.416667\n",
            "image_00091.txt: 0 0.312500 0.416667 0.312500 0.416667\n"
          ]
        }
      ]
    },
    {
      "cell_type": "code",
      "source": [
        "with open(\"/content/yolo_dataset/data.yaml\", \"r\") as f:\n",
        "    print(f.read())\n"
      ],
      "metadata": {
        "colab": {
          "base_uri": "https://localhost:8080/"
        },
        "id": "h-v7poNl7GCJ",
        "outputId": "96ec2d33-9861-4267-8432-c409f6d6d4db"
      },
      "execution_count": 13,
      "outputs": [
        {
          "output_type": "stream",
          "name": "stdout",
          "text": [
            "path: /content/yolo_dataset\n",
            "train: images/train\n",
            "val: images/val\n",
            "nc: 1\n",
            "names: [\"root\"]\n",
            "\n",
            "\n"
          ]
        }
      ]
    },
    {
      "cell_type": "code",
      "source": [
        "!rm /content/yolo_dataset/labels/train.cache\n",
        "!rm /content/yolo_dataset/labels/val.cache\n"
      ],
      "metadata": {
        "colab": {
          "base_uri": "https://localhost:8080/"
        },
        "id": "JsyJMiNj7p_l",
        "outputId": "37c94817-27b4-4b44-fa5e-6a9facdc153a"
      },
      "execution_count": 14,
      "outputs": [
        {
          "output_type": "stream",
          "name": "stdout",
          "text": [
            "rm: cannot remove '/content/yolo_dataset/labels/train.cache': No such file or directory\n",
            "rm: cannot remove '/content/yolo_dataset/labels/val.cache': No such file or directory\n"
          ]
        }
      ]
    },
    {
      "cell_type": "code",
      "source": [
        "\n",
        "# Create data.yaml for YOLOv8\n",
        "data_yaml_content = \"\"\"path: /content/yolo_dataset\n",
        "train: images/train\n",
        "val: images/val\n",
        "nc: 1\n",
        "names: [\"root\"]\n",
        "\n",
        "\"\"\"\n",
        "\n",
        "yaml_path = \"/content/yolo_dataset/data.yaml\"\n",
        "with open(yaml_path, \"w\") as f:\n",
        "    f.write(data_yaml_content)\n",
        "\n",
        "print(f\"✅ Created {yaml_path}\")\n",
        "\n"
      ],
      "metadata": {
        "colab": {
          "base_uri": "https://localhost:8080/"
        },
        "id": "Dd1oUWVF3u8A",
        "outputId": "49271392-c52e-41e1-c40f-5f8eeb123b92"
      },
      "execution_count": 12,
      "outputs": [
        {
          "output_type": "stream",
          "name": "stdout",
          "text": [
            "✅ Created /content/yolo_dataset/data.yaml\n"
          ]
        }
      ]
    },
    {
      "cell_type": "code",
      "source": [
        "\n",
        "model = YOLO(\"yolov8n.pt\")\n",
        "model.train(data=\"yolo_dataset/data.yaml\", epochs=50, imgsz=640, batch=16, lr0=0.001)\n"
      ],
      "metadata": {
        "colab": {
          "base_uri": "https://localhost:8080/"
        },
        "id": "TnlzfqRk4LGC",
        "outputId": "cebb06b4-68d9-4d4b-f659-3a243fe49836"
      },
      "execution_count": 15,
      "outputs": [
        {
          "output_type": "stream",
          "name": "stdout",
          "text": [
            "Downloading https://github.com/ultralytics/assets/releases/download/v8.3.0/yolov8n.pt to 'yolov8n.pt'...\n"
          ]
        },
        {
          "output_type": "stream",
          "name": "stderr",
          "text": [
            "100%|██████████| 6.25M/6.25M [00:00<00:00, 309MB/s]\n"
          ]
        },
        {
          "output_type": "stream",
          "name": "stdout",
          "text": [
            "Ultralytics 8.3.74 🚀 Python-3.11.11 torch-2.5.1+cu124 CUDA:0 (Tesla T4, 15095MiB)\n",
            "\u001b[34m\u001b[1mengine/trainer: \u001b[0mtask=detect, mode=train, model=yolov8n.pt, data=yolo_dataset/data.yaml, epochs=50, time=None, patience=100, batch=16, imgsz=640, save=True, save_period=-1, cache=False, device=None, workers=8, project=None, name=train, exist_ok=False, pretrained=True, optimizer=auto, verbose=True, seed=0, deterministic=True, single_cls=False, rect=False, cos_lr=False, close_mosaic=10, resume=False, amp=True, fraction=1.0, profile=False, freeze=None, multi_scale=False, overlap_mask=True, mask_ratio=4, dropout=0.0, val=True, split=val, save_json=False, save_hybrid=False, conf=None, iou=0.7, max_det=300, half=False, dnn=False, plots=True, source=None, vid_stride=1, stream_buffer=False, visualize=False, augment=False, agnostic_nms=False, classes=None, retina_masks=False, embed=None, show=False, save_frames=False, save_txt=False, save_conf=False, save_crop=False, show_labels=True, show_conf=True, show_boxes=True, line_width=None, format=torchscript, keras=False, optimize=False, int8=False, dynamic=False, simplify=True, opset=None, workspace=None, nms=False, lr0=0.001, lrf=0.01, momentum=0.937, weight_decay=0.0005, warmup_epochs=3.0, warmup_momentum=0.8, warmup_bias_lr=0.1, box=7.5, cls=0.5, dfl=1.5, pose=12.0, kobj=1.0, nbs=64, hsv_h=0.015, hsv_s=0.7, hsv_v=0.4, degrees=0.0, translate=0.1, scale=0.5, shear=0.0, perspective=0.0, flipud=0.0, fliplr=0.5, bgr=0.0, mosaic=1.0, mixup=0.0, copy_paste=0.0, copy_paste_mode=flip, auto_augment=randaugment, erasing=0.4, crop_fraction=1.0, cfg=None, tracker=botsort.yaml, save_dir=runs/detect/train\n",
            "Downloading https://ultralytics.com/assets/Arial.ttf to '/root/.config/Ultralytics/Arial.ttf'...\n"
          ]
        },
        {
          "output_type": "stream",
          "name": "stderr",
          "text": [
            "100%|██████████| 755k/755k [00:00<00:00, 77.9MB/s]\n"
          ]
        },
        {
          "output_type": "stream",
          "name": "stdout",
          "text": [
            "Overriding model.yaml nc=80 with nc=1\n",
            "\n",
            "                   from  n    params  module                                       arguments                     \n",
            "  0                  -1  1       464  ultralytics.nn.modules.conv.Conv             [3, 16, 3, 2]                 \n",
            "  1                  -1  1      4672  ultralytics.nn.modules.conv.Conv             [16, 32, 3, 2]                \n",
            "  2                  -1  1      7360  ultralytics.nn.modules.block.C2f             [32, 32, 1, True]             \n",
            "  3                  -1  1     18560  ultralytics.nn.modules.conv.Conv             [32, 64, 3, 2]                \n",
            "  4                  -1  2     49664  ultralytics.nn.modules.block.C2f             [64, 64, 2, True]             \n",
            "  5                  -1  1     73984  ultralytics.nn.modules.conv.Conv             [64, 128, 3, 2]               \n",
            "  6                  -1  2    197632  ultralytics.nn.modules.block.C2f             [128, 128, 2, True]           \n",
            "  7                  -1  1    295424  ultralytics.nn.modules.conv.Conv             [128, 256, 3, 2]              \n",
            "  8                  -1  1    460288  ultralytics.nn.modules.block.C2f             [256, 256, 1, True]           \n",
            "  9                  -1  1    164608  ultralytics.nn.modules.block.SPPF            [256, 256, 5]                 \n",
            " 10                  -1  1         0  torch.nn.modules.upsampling.Upsample         [None, 2, 'nearest']          \n",
            " 11             [-1, 6]  1         0  ultralytics.nn.modules.conv.Concat           [1]                           \n",
            " 12                  -1  1    148224  ultralytics.nn.modules.block.C2f             [384, 128, 1]                 \n",
            " 13                  -1  1         0  torch.nn.modules.upsampling.Upsample         [None, 2, 'nearest']          \n",
            " 14             [-1, 4]  1         0  ultralytics.nn.modules.conv.Concat           [1]                           \n",
            " 15                  -1  1     37248  ultralytics.nn.modules.block.C2f             [192, 64, 1]                  \n",
            " 16                  -1  1     36992  ultralytics.nn.modules.conv.Conv             [64, 64, 3, 2]                \n",
            " 17            [-1, 12]  1         0  ultralytics.nn.modules.conv.Concat           [1]                           \n",
            " 18                  -1  1    123648  ultralytics.nn.modules.block.C2f             [192, 128, 1]                 \n",
            " 19                  -1  1    147712  ultralytics.nn.modules.conv.Conv             [128, 128, 3, 2]              \n",
            " 20             [-1, 9]  1         0  ultralytics.nn.modules.conv.Concat           [1]                           \n",
            " 21                  -1  1    493056  ultralytics.nn.modules.block.C2f             [384, 256, 1]                 \n",
            " 22        [15, 18, 21]  1    751507  ultralytics.nn.modules.head.Detect           [1, [64, 128, 256]]           \n",
            "Model summary: 225 layers, 3,011,043 parameters, 3,011,027 gradients, 8.2 GFLOPs\n",
            "\n",
            "Transferred 319/355 items from pretrained weights\n",
            "\u001b[34m\u001b[1mTensorBoard: \u001b[0mStart with 'tensorboard --logdir runs/detect/train', view at http://localhost:6006/\n",
            "Freezing layer 'model.22.dfl.conv.weight'\n",
            "\u001b[34m\u001b[1mAMP: \u001b[0mrunning Automatic Mixed Precision (AMP) checks...\n",
            "Downloading https://github.com/ultralytics/assets/releases/download/v8.3.0/yolo11n.pt to 'yolo11n.pt'...\n"
          ]
        },
        {
          "output_type": "stream",
          "name": "stderr",
          "text": [
            "100%|██████████| 5.35M/5.35M [00:00<00:00, 221MB/s]\n"
          ]
        },
        {
          "output_type": "stream",
          "name": "stdout",
          "text": [
            "\u001b[34m\u001b[1mAMP: \u001b[0mchecks passed ✅\n"
          ]
        },
        {
          "output_type": "stream",
          "name": "stderr",
          "text": [
            "\u001b[34m\u001b[1mtrain: \u001b[0mScanning /content/yolo_dataset/labels/train... 308 images, 0 backgrounds, 0 corrupt: 100%|██████████| 308/308 [00:00<00:00, 2319.34it/s]"
          ]
        },
        {
          "output_type": "stream",
          "name": "stdout",
          "text": [
            "\u001b[34m\u001b[1mtrain: \u001b[0mNew cache created: /content/yolo_dataset/labels/train.cache\n"
          ]
        },
        {
          "output_type": "stream",
          "name": "stderr",
          "text": [
            "\n"
          ]
        },
        {
          "output_type": "stream",
          "name": "stdout",
          "text": [
            "\u001b[34m\u001b[1malbumentations: \u001b[0mBlur(p=0.01, blur_limit=(3, 7)), MedianBlur(p=0.01, blur_limit=(3, 7)), ToGray(p=0.01, num_output_channels=3, method='weighted_average'), CLAHE(p=0.01, clip_limit=(1.0, 4.0), tile_grid_size=(8, 8))\n"
          ]
        },
        {
          "output_type": "stream",
          "name": "stderr",
          "text": [
            "\u001b[34m\u001b[1mval: \u001b[0mScanning /content/yolo_dataset/labels/val... 78 images, 0 backgrounds, 0 corrupt: 100%|██████████| 78/78 [00:00<00:00, 1596.01it/s]"
          ]
        },
        {
          "output_type": "stream",
          "name": "stdout",
          "text": [
            "\u001b[34m\u001b[1mval: \u001b[0mNew cache created: /content/yolo_dataset/labels/val.cache\n"
          ]
        },
        {
          "output_type": "stream",
          "name": "stderr",
          "text": [
            "\n"
          ]
        },
        {
          "output_type": "stream",
          "name": "stdout",
          "text": [
            "Plotting labels to runs/detect/train/labels.jpg... \n",
            "\u001b[34m\u001b[1moptimizer:\u001b[0m 'optimizer=auto' found, ignoring 'lr0=0.001' and 'momentum=0.937' and determining best 'optimizer', 'lr0' and 'momentum' automatically... \n",
            "\u001b[34m\u001b[1moptimizer:\u001b[0m AdamW(lr=0.002, momentum=0.9) with parameter groups 57 weight(decay=0.0), 64 weight(decay=0.0005), 63 bias(decay=0.0)\n",
            "\u001b[34m\u001b[1mTensorBoard: \u001b[0mmodel graph visualization added ✅\n",
            "Image sizes 640 train, 640 val\n",
            "Using 2 dataloader workers\n",
            "Logging results to \u001b[1mruns/detect/train\u001b[0m\n",
            "Starting training for 50 epochs...\n",
            "\n",
            "      Epoch    GPU_mem   box_loss   cls_loss   dfl_loss  Instances       Size\n"
          ]
        },
        {
          "output_type": "stream",
          "name": "stderr",
          "text": [
            "       1/50      2.23G      5.494      12.43      4.539          8        640: 100%|██████████| 20/20 [00:08<00:00,  2.48it/s]\n",
            "                 Class     Images  Instances      Box(P          R      mAP50  mAP50-95): 100%|██████████| 3/3 [00:01<00:00,  1.62it/s]"
          ]
        },
        {
          "output_type": "stream",
          "name": "stdout",
          "text": [
            "                   all         78         78          0          0          0          0\n"
          ]
        },
        {
          "output_type": "stream",
          "name": "stderr",
          "text": [
            "\n"
          ]
        },
        {
          "output_type": "stream",
          "name": "stdout",
          "text": [
            "\n",
            "      Epoch    GPU_mem   box_loss   cls_loss   dfl_loss  Instances       Size\n"
          ]
        },
        {
          "output_type": "stream",
          "name": "stderr",
          "text": [
            "       2/50      2.17G      3.457      4.707      1.983         12        640: 100%|██████████| 20/20 [00:04<00:00,  4.21it/s]\n",
            "                 Class     Images  Instances      Box(P          R      mAP50  mAP50-95): 100%|██████████| 3/3 [00:00<00:00,  7.03it/s]"
          ]
        },
        {
          "output_type": "stream",
          "name": "stdout",
          "text": [
            "                   all         78         78     0.0044      0.295    0.00289   0.000625\n"
          ]
        },
        {
          "output_type": "stream",
          "name": "stderr",
          "text": [
            "\n"
          ]
        },
        {
          "output_type": "stream",
          "name": "stdout",
          "text": [
            "\n",
            "      Epoch    GPU_mem   box_loss   cls_loss   dfl_loss  Instances       Size\n"
          ]
        },
        {
          "output_type": "stream",
          "name": "stderr",
          "text": [
            "       3/50      2.18G      2.958      4.014      1.893          8        640: 100%|██████████| 20/20 [00:05<00:00,  3.44it/s]\n",
            "                 Class     Images  Instances      Box(P          R      mAP50  mAP50-95): 100%|██████████| 3/3 [00:00<00:00,  6.12it/s]"
          ]
        },
        {
          "output_type": "stream",
          "name": "stdout",
          "text": [
            "                   all         78         78   0.000272     0.0256   0.000145   1.45e-05\n"
          ]
        },
        {
          "output_type": "stream",
          "name": "stderr",
          "text": [
            "\n"
          ]
        },
        {
          "output_type": "stream",
          "name": "stdout",
          "text": [
            "\n",
            "      Epoch    GPU_mem   box_loss   cls_loss   dfl_loss  Instances       Size\n"
          ]
        },
        {
          "output_type": "stream",
          "name": "stderr",
          "text": [
            "       4/50      2.18G      3.126      3.622       1.82          6        640: 100%|██████████| 20/20 [00:04<00:00,  4.26it/s]\n",
            "                 Class     Images  Instances      Box(P          R      mAP50  mAP50-95): 100%|██████████| 3/3 [00:00<00:00,  7.58it/s]"
          ]
        },
        {
          "output_type": "stream",
          "name": "stdout",
          "text": [
            "                   all         78         78    0.00212      0.218     0.0016   0.000238\n"
          ]
        },
        {
          "output_type": "stream",
          "name": "stderr",
          "text": [
            "\n"
          ]
        },
        {
          "output_type": "stream",
          "name": "stdout",
          "text": [
            "\n",
            "      Epoch    GPU_mem   box_loss   cls_loss   dfl_loss  Instances       Size\n"
          ]
        },
        {
          "output_type": "stream",
          "name": "stderr",
          "text": [
            "       5/50      2.18G      2.946      3.343      1.862         10        640: 100%|██████████| 20/20 [00:05<00:00,  3.50it/s]\n",
            "                 Class     Images  Instances      Box(P          R      mAP50  mAP50-95): 100%|██████████| 3/3 [00:00<00:00,  5.95it/s]"
          ]
        },
        {
          "output_type": "stream",
          "name": "stdout",
          "text": [
            "                   all         78         78    0.00805      0.936     0.0549     0.0125\n"
          ]
        },
        {
          "output_type": "stream",
          "name": "stderr",
          "text": [
            "\n"
          ]
        },
        {
          "output_type": "stream",
          "name": "stdout",
          "text": [
            "\n",
            "      Epoch    GPU_mem   box_loss   cls_loss   dfl_loss  Instances       Size\n"
          ]
        },
        {
          "output_type": "stream",
          "name": "stderr",
          "text": [
            "       6/50      2.18G      3.004      3.495      1.837          8        640: 100%|██████████| 20/20 [00:04<00:00,  4.39it/s]\n",
            "                 Class     Images  Instances      Box(P          R      mAP50  mAP50-95): 100%|██████████| 3/3 [00:00<00:00,  6.01it/s]"
          ]
        },
        {
          "output_type": "stream",
          "name": "stdout",
          "text": [
            "                   all         78         78    0.00434      0.474     0.0141     0.0022\n"
          ]
        },
        {
          "output_type": "stream",
          "name": "stderr",
          "text": [
            "\n"
          ]
        },
        {
          "output_type": "stream",
          "name": "stdout",
          "text": [
            "\n",
            "      Epoch    GPU_mem   box_loss   cls_loss   dfl_loss  Instances       Size\n"
          ]
        },
        {
          "output_type": "stream",
          "name": "stderr",
          "text": [
            "       7/50      2.18G      2.932      3.121      1.833          9        640: 100%|██████████| 20/20 [00:05<00:00,  3.56it/s]\n",
            "                 Class     Images  Instances      Box(P          R      mAP50  mAP50-95): 100%|██████████| 3/3 [00:00<00:00,  6.01it/s]"
          ]
        },
        {
          "output_type": "stream",
          "name": "stdout",
          "text": [
            "                   all         78         78     0.0107          1        0.1     0.0284\n"
          ]
        },
        {
          "output_type": "stream",
          "name": "stderr",
          "text": [
            "\n"
          ]
        },
        {
          "output_type": "stream",
          "name": "stdout",
          "text": [
            "\n",
            "      Epoch    GPU_mem   box_loss   cls_loss   dfl_loss  Instances       Size\n"
          ]
        },
        {
          "output_type": "stream",
          "name": "stderr",
          "text": [
            "       8/50      2.18G      2.855      2.984      1.726         12        640: 100%|██████████| 20/20 [00:04<00:00,  4.38it/s]\n",
            "                 Class     Images  Instances      Box(P          R      mAP50  mAP50-95): 100%|██████████| 3/3 [00:00<00:00,  6.00it/s]"
          ]
        },
        {
          "output_type": "stream",
          "name": "stdout",
          "text": [
            "                   all         78         78     0.0107      0.974     0.0449     0.0105\n"
          ]
        },
        {
          "output_type": "stream",
          "name": "stderr",
          "text": [
            "\n"
          ]
        },
        {
          "output_type": "stream",
          "name": "stdout",
          "text": [
            "\n",
            "      Epoch    GPU_mem   box_loss   cls_loss   dfl_loss  Instances       Size\n"
          ]
        },
        {
          "output_type": "stream",
          "name": "stderr",
          "text": [
            "       9/50      2.18G      2.787      2.984      1.743         12        640: 100%|██████████| 20/20 [00:05<00:00,  3.50it/s]\n",
            "                 Class     Images  Instances      Box(P          R      mAP50  mAP50-95): 100%|██████████| 3/3 [00:00<00:00,  6.24it/s]"
          ]
        },
        {
          "output_type": "stream",
          "name": "stdout",
          "text": [
            "                   all         78         78    0.00668      0.513     0.0235    0.00393\n"
          ]
        },
        {
          "output_type": "stream",
          "name": "stderr",
          "text": [
            "\n"
          ]
        },
        {
          "output_type": "stream",
          "name": "stdout",
          "text": [
            "\n",
            "      Epoch    GPU_mem   box_loss   cls_loss   dfl_loss  Instances       Size\n"
          ]
        },
        {
          "output_type": "stream",
          "name": "stderr",
          "text": [
            "      10/50      2.18G      2.717      2.799      1.684          8        640: 100%|██████████| 20/20 [00:04<00:00,  4.26it/s]\n",
            "                 Class     Images  Instances      Box(P          R      mAP50  mAP50-95): 100%|██████████| 3/3 [00:00<00:00,  7.66it/s]"
          ]
        },
        {
          "output_type": "stream",
          "name": "stdout",
          "text": [
            "                   all         78         78     0.0143          1     0.0749     0.0108\n"
          ]
        },
        {
          "output_type": "stream",
          "name": "stderr",
          "text": [
            "\n"
          ]
        },
        {
          "output_type": "stream",
          "name": "stdout",
          "text": [
            "\n",
            "      Epoch    GPU_mem   box_loss   cls_loss   dfl_loss  Instances       Size\n"
          ]
        },
        {
          "output_type": "stream",
          "name": "stderr",
          "text": [
            "      11/50      2.18G       2.61       2.76      1.713          8        640: 100%|██████████| 20/20 [00:05<00:00,  3.83it/s]\n",
            "                 Class     Images  Instances      Box(P          R      mAP50  mAP50-95): 100%|██████████| 3/3 [00:01<00:00,  2.92it/s]"
          ]
        },
        {
          "output_type": "stream",
          "name": "stdout",
          "text": [
            "                   all         78         78    0.00976      0.987      0.041     0.0099\n"
          ]
        },
        {
          "output_type": "stream",
          "name": "stderr",
          "text": [
            "\n"
          ]
        },
        {
          "output_type": "stream",
          "name": "stdout",
          "text": [
            "\n",
            "      Epoch    GPU_mem   box_loss   cls_loss   dfl_loss  Instances       Size\n"
          ]
        },
        {
          "output_type": "stream",
          "name": "stderr",
          "text": [
            "      12/50      2.18G       2.67      2.702      1.697         12        640: 100%|██████████| 20/20 [00:04<00:00,  4.43it/s]\n",
            "                 Class     Images  Instances      Box(P          R      mAP50  mAP50-95): 100%|██████████| 3/3 [00:00<00:00,  7.60it/s]"
          ]
        },
        {
          "output_type": "stream",
          "name": "stdout",
          "text": [
            "                   all         78         78     0.0115          1      0.138     0.0372\n"
          ]
        },
        {
          "output_type": "stream",
          "name": "stderr",
          "text": [
            "\n"
          ]
        },
        {
          "output_type": "stream",
          "name": "stdout",
          "text": [
            "\n",
            "      Epoch    GPU_mem   box_loss   cls_loss   dfl_loss  Instances       Size\n"
          ]
        },
        {
          "output_type": "stream",
          "name": "stderr",
          "text": [
            "      13/50      2.18G      2.573      2.653      1.689         12        640: 100%|██████████| 20/20 [00:04<00:00,  4.03it/s]\n",
            "                 Class     Images  Instances      Box(P          R      mAP50  mAP50-95): 100%|██████████| 3/3 [00:01<00:00,  2.92it/s]"
          ]
        },
        {
          "output_type": "stream",
          "name": "stdout",
          "text": [
            "                   all         78         78     0.0181          1        0.1       0.02\n"
          ]
        },
        {
          "output_type": "stream",
          "name": "stderr",
          "text": [
            "\n"
          ]
        },
        {
          "output_type": "stream",
          "name": "stdout",
          "text": [
            "\n",
            "      Epoch    GPU_mem   box_loss   cls_loss   dfl_loss  Instances       Size\n"
          ]
        },
        {
          "output_type": "stream",
          "name": "stderr",
          "text": [
            "      14/50      2.18G      2.556      2.585       1.74          9        640: 100%|██████████| 20/20 [00:04<00:00,  4.43it/s]\n",
            "                 Class     Images  Instances      Box(P          R      mAP50  mAP50-95): 100%|██████████| 3/3 [00:00<00:00,  6.09it/s]"
          ]
        },
        {
          "output_type": "stream",
          "name": "stdout",
          "text": [
            "                   all         78         78     0.0197          1     0.0685     0.0184\n"
          ]
        },
        {
          "output_type": "stream",
          "name": "stderr",
          "text": [
            "\n"
          ]
        },
        {
          "output_type": "stream",
          "name": "stdout",
          "text": [
            "\n",
            "      Epoch    GPU_mem   box_loss   cls_loss   dfl_loss  Instances       Size\n"
          ]
        },
        {
          "output_type": "stream",
          "name": "stderr",
          "text": [
            "      15/50      2.18G      2.495      2.533      1.737         14        640: 100%|██████████| 20/20 [00:04<00:00,  4.10it/s]\n",
            "                 Class     Images  Instances      Box(P          R      mAP50  mAP50-95): 100%|██████████| 3/3 [00:00<00:00,  4.02it/s]"
          ]
        },
        {
          "output_type": "stream",
          "name": "stdout",
          "text": [
            "                   all         78         78     0.0209          1     0.0958     0.0245\n"
          ]
        },
        {
          "output_type": "stream",
          "name": "stderr",
          "text": [
            "\n"
          ]
        },
        {
          "output_type": "stream",
          "name": "stdout",
          "text": [
            "\n",
            "      Epoch    GPU_mem   box_loss   cls_loss   dfl_loss  Instances       Size\n"
          ]
        },
        {
          "output_type": "stream",
          "name": "stderr",
          "text": [
            "      16/50      2.18G       2.37      2.444      1.692          8        640: 100%|██████████| 20/20 [00:04<00:00,  4.41it/s]\n",
            "                 Class     Images  Instances      Box(P          R      mAP50  mAP50-95): 100%|██████████| 3/3 [00:00<00:00,  6.25it/s]"
          ]
        },
        {
          "output_type": "stream",
          "name": "stdout",
          "text": [
            "                   all         78         78     0.0166      0.808     0.0162    0.00374\n"
          ]
        },
        {
          "output_type": "stream",
          "name": "stderr",
          "text": [
            "\n"
          ]
        },
        {
          "output_type": "stream",
          "name": "stdout",
          "text": [
            "\n",
            "      Epoch    GPU_mem   box_loss   cls_loss   dfl_loss  Instances       Size\n"
          ]
        },
        {
          "output_type": "stream",
          "name": "stderr",
          "text": [
            "      17/50      2.18G      2.385      2.496      1.702         11        640: 100%|██████████| 20/20 [00:04<00:00,  4.29it/s]\n",
            "                 Class     Images  Instances      Box(P          R      mAP50  mAP50-95): 100%|██████████| 3/3 [00:00<00:00,  4.20it/s]"
          ]
        },
        {
          "output_type": "stream",
          "name": "stdout",
          "text": [
            "                   all         78         78     0.0194          1     0.0772     0.0192\n"
          ]
        },
        {
          "output_type": "stream",
          "name": "stderr",
          "text": [
            "\n"
          ]
        },
        {
          "output_type": "stream",
          "name": "stdout",
          "text": [
            "\n",
            "      Epoch    GPU_mem   box_loss   cls_loss   dfl_loss  Instances       Size\n"
          ]
        },
        {
          "output_type": "stream",
          "name": "stderr",
          "text": [
            "      18/50      2.18G      2.439      2.454      1.687          8        640: 100%|██████████| 20/20 [00:04<00:00,  4.04it/s]\n",
            "                 Class     Images  Instances      Box(P          R      mAP50  mAP50-95): 100%|██████████| 3/3 [00:00<00:00,  6.79it/s]"
          ]
        },
        {
          "output_type": "stream",
          "name": "stdout",
          "text": [
            "                   all         78         78     0.0217          1     0.0864     0.0123\n"
          ]
        },
        {
          "output_type": "stream",
          "name": "stderr",
          "text": [
            "\n"
          ]
        },
        {
          "output_type": "stream",
          "name": "stdout",
          "text": [
            "\n",
            "      Epoch    GPU_mem   box_loss   cls_loss   dfl_loss  Instances       Size\n"
          ]
        },
        {
          "output_type": "stream",
          "name": "stderr",
          "text": [
            "      19/50      2.18G      2.339      2.343      1.659          7        640: 100%|██████████| 20/20 [00:04<00:00,  4.35it/s]\n",
            "                 Class     Images  Instances      Box(P          R      mAP50  mAP50-95): 100%|██████████| 3/3 [00:00<00:00,  6.09it/s]"
          ]
        },
        {
          "output_type": "stream",
          "name": "stdout",
          "text": [
            "                   all         78         78      0.021      0.936      0.141     0.0195\n"
          ]
        },
        {
          "output_type": "stream",
          "name": "stderr",
          "text": [
            "\n"
          ]
        },
        {
          "output_type": "stream",
          "name": "stdout",
          "text": [
            "\n",
            "      Epoch    GPU_mem   box_loss   cls_loss   dfl_loss  Instances       Size\n"
          ]
        },
        {
          "output_type": "stream",
          "name": "stderr",
          "text": [
            "      20/50      2.18G      2.398      2.353      1.634         12        640: 100%|██████████| 20/20 [00:05<00:00,  3.76it/s]\n",
            "                 Class     Images  Instances      Box(P          R      mAP50  mAP50-95): 100%|██████████| 3/3 [00:00<00:00,  7.27it/s]"
          ]
        },
        {
          "output_type": "stream",
          "name": "stdout",
          "text": [
            "                   all         78         78     0.0202          1       0.13     0.0251\n"
          ]
        },
        {
          "output_type": "stream",
          "name": "stderr",
          "text": [
            "\n"
          ]
        },
        {
          "output_type": "stream",
          "name": "stdout",
          "text": [
            "\n",
            "      Epoch    GPU_mem   box_loss   cls_loss   dfl_loss  Instances       Size\n"
          ]
        },
        {
          "output_type": "stream",
          "name": "stderr",
          "text": [
            "      21/50      2.18G      2.213      2.356      1.658         12        640: 100%|██████████| 20/20 [00:04<00:00,  4.39it/s]\n",
            "                 Class     Images  Instances      Box(P          R      mAP50  mAP50-95): 100%|██████████| 3/3 [00:00<00:00,  6.60it/s]"
          ]
        },
        {
          "output_type": "stream",
          "name": "stdout",
          "text": [
            "                   all         78         78     0.0161      0.974      0.139     0.0149\n"
          ]
        },
        {
          "output_type": "stream",
          "name": "stderr",
          "text": [
            "\n"
          ]
        },
        {
          "output_type": "stream",
          "name": "stdout",
          "text": [
            "\n",
            "      Epoch    GPU_mem   box_loss   cls_loss   dfl_loss  Instances       Size\n"
          ]
        },
        {
          "output_type": "stream",
          "name": "stderr",
          "text": [
            "      22/50      2.18G      2.297      2.382      1.594         10        640: 100%|██████████| 20/20 [00:05<00:00,  3.62it/s]\n",
            "                 Class     Images  Instances      Box(P          R      mAP50  mAP50-95): 100%|██████████| 3/3 [00:00<00:00,  6.37it/s]"
          ]
        },
        {
          "output_type": "stream",
          "name": "stdout",
          "text": [
            "                   all         78         78     0.0219          1      0.287     0.0542\n"
          ]
        },
        {
          "output_type": "stream",
          "name": "stderr",
          "text": [
            "\n"
          ]
        },
        {
          "output_type": "stream",
          "name": "stdout",
          "text": [
            "\n",
            "      Epoch    GPU_mem   box_loss   cls_loss   dfl_loss  Instances       Size\n"
          ]
        },
        {
          "output_type": "stream",
          "name": "stderr",
          "text": [
            "      23/50      2.18G      2.247      2.307      1.647         12        640: 100%|██████████| 20/20 [00:04<00:00,  4.36it/s]\n",
            "                 Class     Images  Instances      Box(P          R      mAP50  mAP50-95): 100%|██████████| 3/3 [00:00<00:00,  6.70it/s]"
          ]
        },
        {
          "output_type": "stream",
          "name": "stdout",
          "text": [
            "                   all         78         78     0.0229          1       0.26     0.0873\n"
          ]
        },
        {
          "output_type": "stream",
          "name": "stderr",
          "text": [
            "\n"
          ]
        },
        {
          "output_type": "stream",
          "name": "stdout",
          "text": [
            "\n",
            "      Epoch    GPU_mem   box_loss   cls_loss   dfl_loss  Instances       Size\n"
          ]
        },
        {
          "output_type": "stream",
          "name": "stderr",
          "text": [
            "      24/50      2.18G      2.418       2.33      1.667          8        640: 100%|██████████| 20/20 [00:05<00:00,  3.50it/s]\n",
            "                 Class     Images  Instances      Box(P          R      mAP50  mAP50-95): 100%|██████████| 3/3 [00:00<00:00,  6.26it/s]"
          ]
        },
        {
          "output_type": "stream",
          "name": "stdout",
          "text": [
            "                   all         78         78     0.0141          1      0.213     0.0452\n"
          ]
        },
        {
          "output_type": "stream",
          "name": "stderr",
          "text": [
            "\n"
          ]
        },
        {
          "output_type": "stream",
          "name": "stdout",
          "text": [
            "\n",
            "      Epoch    GPU_mem   box_loss   cls_loss   dfl_loss  Instances       Size\n"
          ]
        },
        {
          "output_type": "stream",
          "name": "stderr",
          "text": [
            "      25/50      2.18G      2.288      2.286      1.671         10        640: 100%|██████████| 20/20 [00:04<00:00,  4.24it/s]\n",
            "                 Class     Images  Instances      Box(P          R      mAP50  mAP50-95): 100%|██████████| 3/3 [00:00<00:00,  7.11it/s]"
          ]
        },
        {
          "output_type": "stream",
          "name": "stdout",
          "text": [
            "                   all         78         78     0.0151      0.974      0.177     0.0412\n"
          ]
        },
        {
          "output_type": "stream",
          "name": "stderr",
          "text": [
            "\n"
          ]
        },
        {
          "output_type": "stream",
          "name": "stdout",
          "text": [
            "\n",
            "      Epoch    GPU_mem   box_loss   cls_loss   dfl_loss  Instances       Size\n"
          ]
        },
        {
          "output_type": "stream",
          "name": "stderr",
          "text": [
            "      26/50      2.18G      2.205      2.239      1.652         10        640: 100%|██████████| 20/20 [00:05<00:00,  3.48it/s]\n",
            "                 Class     Images  Instances      Box(P          R      mAP50  mAP50-95): 100%|██████████| 3/3 [00:00<00:00,  5.44it/s]"
          ]
        },
        {
          "output_type": "stream",
          "name": "stdout",
          "text": [
            "                   all         78         78     0.0174          1      0.161     0.0399\n"
          ]
        },
        {
          "output_type": "stream",
          "name": "stderr",
          "text": [
            "\n"
          ]
        },
        {
          "output_type": "stream",
          "name": "stdout",
          "text": [
            "\n",
            "      Epoch    GPU_mem   box_loss   cls_loss   dfl_loss  Instances       Size\n"
          ]
        },
        {
          "output_type": "stream",
          "name": "stderr",
          "text": [
            "      27/50      2.18G      2.117      2.262      1.637          8        640: 100%|██████████| 20/20 [00:04<00:00,  4.25it/s]\n",
            "                 Class     Images  Instances      Box(P          R      mAP50  mAP50-95): 100%|██████████| 3/3 [00:00<00:00,  7.55it/s]"
          ]
        },
        {
          "output_type": "stream",
          "name": "stdout",
          "text": [
            "                   all         78         78     0.0228          1      0.176     0.0332\n"
          ]
        },
        {
          "output_type": "stream",
          "name": "stderr",
          "text": [
            "\n"
          ]
        },
        {
          "output_type": "stream",
          "name": "stdout",
          "text": [
            "\n",
            "      Epoch    GPU_mem   box_loss   cls_loss   dfl_loss  Instances       Size\n"
          ]
        },
        {
          "output_type": "stream",
          "name": "stderr",
          "text": [
            "      28/50      2.18G      2.137      2.216      1.594         10        640: 100%|██████████| 20/20 [00:05<00:00,  3.46it/s]\n",
            "                 Class     Images  Instances      Box(P          R      mAP50  mAP50-95): 100%|██████████| 3/3 [00:00<00:00,  6.42it/s]"
          ]
        },
        {
          "output_type": "stream",
          "name": "stdout",
          "text": [
            "                   all         78         78     0.0268          1      0.145     0.0329\n"
          ]
        },
        {
          "output_type": "stream",
          "name": "stderr",
          "text": [
            "\n"
          ]
        },
        {
          "output_type": "stream",
          "name": "stdout",
          "text": [
            "\n",
            "      Epoch    GPU_mem   box_loss   cls_loss   dfl_loss  Instances       Size\n"
          ]
        },
        {
          "output_type": "stream",
          "name": "stderr",
          "text": [
            "      29/50      2.18G      2.113      2.241      1.564         10        640: 100%|██████████| 20/20 [00:05<00:00,  3.47it/s]\n",
            "                 Class     Images  Instances      Box(P          R      mAP50  mAP50-95): 100%|██████████| 3/3 [00:00<00:00,  5.55it/s]"
          ]
        },
        {
          "output_type": "stream",
          "name": "stdout",
          "text": [
            "                   all         78         78     0.0255          1      0.171     0.0504\n"
          ]
        },
        {
          "output_type": "stream",
          "name": "stderr",
          "text": [
            "\n"
          ]
        },
        {
          "output_type": "stream",
          "name": "stdout",
          "text": [
            "\n",
            "      Epoch    GPU_mem   box_loss   cls_loss   dfl_loss  Instances       Size\n"
          ]
        },
        {
          "output_type": "stream",
          "name": "stderr",
          "text": [
            "      30/50      2.18G      2.119      2.249      1.622          9        640: 100%|██████████| 20/20 [00:05<00:00,  3.55it/s]\n",
            "                 Class     Images  Instances      Box(P          R      mAP50  mAP50-95): 100%|██████████| 3/3 [00:00<00:00,  4.57it/s]"
          ]
        },
        {
          "output_type": "stream",
          "name": "stdout",
          "text": [
            "                   all         78         78     0.0192          1      0.143     0.0478\n"
          ]
        },
        {
          "output_type": "stream",
          "name": "stderr",
          "text": [
            "\n"
          ]
        },
        {
          "output_type": "stream",
          "name": "stdout",
          "text": [
            "\n",
            "      Epoch    GPU_mem   box_loss   cls_loss   dfl_loss  Instances       Size\n"
          ]
        },
        {
          "output_type": "stream",
          "name": "stderr",
          "text": [
            "      31/50      2.18G      2.196      2.202      1.589          6        640: 100%|██████████| 20/20 [00:04<00:00,  4.33it/s]\n",
            "                 Class     Images  Instances      Box(P          R      mAP50  mAP50-95): 100%|██████████| 3/3 [00:00<00:00,  6.78it/s]"
          ]
        },
        {
          "output_type": "stream",
          "name": "stdout",
          "text": [
            "                   all         78         78      0.023          1      0.129     0.0368\n"
          ]
        },
        {
          "output_type": "stream",
          "name": "stderr",
          "text": [
            "\n"
          ]
        },
        {
          "output_type": "stream",
          "name": "stdout",
          "text": [
            "\n",
            "      Epoch    GPU_mem   box_loss   cls_loss   dfl_loss  Instances       Size\n"
          ]
        },
        {
          "output_type": "stream",
          "name": "stderr",
          "text": [
            "      32/50      2.18G      2.074      2.163      1.601         10        640: 100%|██████████| 20/20 [00:05<00:00,  3.45it/s]\n",
            "                 Class     Images  Instances      Box(P          R      mAP50  mAP50-95): 100%|██████████| 3/3 [00:00<00:00,  5.89it/s]"
          ]
        },
        {
          "output_type": "stream",
          "name": "stdout",
          "text": [
            "                   all         78         78     0.0178          1      0.131     0.0639\n"
          ]
        },
        {
          "output_type": "stream",
          "name": "stderr",
          "text": [
            "\n"
          ]
        },
        {
          "output_type": "stream",
          "name": "stdout",
          "text": [
            "\n",
            "      Epoch    GPU_mem   box_loss   cls_loss   dfl_loss  Instances       Size\n"
          ]
        },
        {
          "output_type": "stream",
          "name": "stderr",
          "text": [
            "      33/50      2.18G      2.021      2.188      1.596          6        640: 100%|██████████| 20/20 [00:04<00:00,  4.29it/s]\n",
            "                 Class     Images  Instances      Box(P          R      mAP50  mAP50-95): 100%|██████████| 3/3 [00:00<00:00,  6.92it/s]"
          ]
        },
        {
          "output_type": "stream",
          "name": "stdout",
          "text": [
            "                   all         78         78     0.0174          1       0.12     0.0663\n"
          ]
        },
        {
          "output_type": "stream",
          "name": "stderr",
          "text": [
            "\n"
          ]
        },
        {
          "output_type": "stream",
          "name": "stdout",
          "text": [
            "\n",
            "      Epoch    GPU_mem   box_loss   cls_loss   dfl_loss  Instances       Size\n"
          ]
        },
        {
          "output_type": "stream",
          "name": "stderr",
          "text": [
            "      34/50      2.18G       2.12      2.181      1.607         13        640: 100%|██████████| 20/20 [00:05<00:00,  3.48it/s]\n",
            "                 Class     Images  Instances      Box(P          R      mAP50  mAP50-95): 100%|██████████| 3/3 [00:00<00:00,  5.22it/s]"
          ]
        },
        {
          "output_type": "stream",
          "name": "stdout",
          "text": [
            "                   all         78         78     0.0205          1      0.146     0.0501\n"
          ]
        },
        {
          "output_type": "stream",
          "name": "stderr",
          "text": [
            "\n"
          ]
        },
        {
          "output_type": "stream",
          "name": "stdout",
          "text": [
            "\n",
            "      Epoch    GPU_mem   box_loss   cls_loss   dfl_loss  Instances       Size\n"
          ]
        },
        {
          "output_type": "stream",
          "name": "stderr",
          "text": [
            "      35/50      2.18G      2.026       2.18      1.573         12        640: 100%|██████████| 20/20 [00:04<00:00,  4.40it/s]\n",
            "                 Class     Images  Instances      Box(P          R      mAP50  mAP50-95): 100%|██████████| 3/3 [00:00<00:00,  6.31it/s]"
          ]
        },
        {
          "output_type": "stream",
          "name": "stdout",
          "text": [
            "                   all         78         78     0.0758      0.987      0.142     0.0482\n"
          ]
        },
        {
          "output_type": "stream",
          "name": "stderr",
          "text": [
            "\n"
          ]
        },
        {
          "output_type": "stream",
          "name": "stdout",
          "text": [
            "\n",
            "      Epoch    GPU_mem   box_loss   cls_loss   dfl_loss  Instances       Size\n"
          ]
        },
        {
          "output_type": "stream",
          "name": "stderr",
          "text": [
            "      36/50      2.18G      1.971      2.163      1.584          8        640: 100%|██████████| 20/20 [00:05<00:00,  3.49it/s]\n",
            "                 Class     Images  Instances      Box(P          R      mAP50  mAP50-95): 100%|██████████| 3/3 [00:00<00:00,  4.83it/s]"
          ]
        },
        {
          "output_type": "stream",
          "name": "stdout",
          "text": [
            "                   all         78         78     0.0751      0.962      0.123     0.0274\n"
          ]
        },
        {
          "output_type": "stream",
          "name": "stderr",
          "text": [
            "\n"
          ]
        },
        {
          "output_type": "stream",
          "name": "stdout",
          "text": [
            "\n",
            "      Epoch    GPU_mem   box_loss   cls_loss   dfl_loss  Instances       Size\n"
          ]
        },
        {
          "output_type": "stream",
          "name": "stderr",
          "text": [
            "      37/50      2.18G      1.957      2.166      1.608         10        640: 100%|██████████| 20/20 [00:04<00:00,  4.28it/s]\n",
            "                 Class     Images  Instances      Box(P          R      mAP50  mAP50-95): 100%|██████████| 3/3 [00:00<00:00,  6.59it/s]"
          ]
        },
        {
          "output_type": "stream",
          "name": "stdout",
          "text": [
            "                   all         78         78     0.0614          1      0.131      0.032\n"
          ]
        },
        {
          "output_type": "stream",
          "name": "stderr",
          "text": [
            "\n"
          ]
        },
        {
          "output_type": "stream",
          "name": "stdout",
          "text": [
            "\n",
            "      Epoch    GPU_mem   box_loss   cls_loss   dfl_loss  Instances       Size\n"
          ]
        },
        {
          "output_type": "stream",
          "name": "stderr",
          "text": [
            "      38/50      2.18G      1.984      2.158       1.59          8        640: 100%|██████████| 20/20 [00:05<00:00,  3.54it/s]\n",
            "                 Class     Images  Instances      Box(P          R      mAP50  mAP50-95): 100%|██████████| 3/3 [00:00<00:00,  4.97it/s]"
          ]
        },
        {
          "output_type": "stream",
          "name": "stdout",
          "text": [
            "                   all         78         78     0.0198          1      0.126     0.0344\n"
          ]
        },
        {
          "output_type": "stream",
          "name": "stderr",
          "text": [
            "\n"
          ]
        },
        {
          "output_type": "stream",
          "name": "stdout",
          "text": [
            "\n",
            "      Epoch    GPU_mem   box_loss   cls_loss   dfl_loss  Instances       Size\n"
          ]
        },
        {
          "output_type": "stream",
          "name": "stderr",
          "text": [
            "      39/50      2.18G      1.987      2.123       1.56         10        640: 100%|██████████| 20/20 [00:04<00:00,  4.29it/s]\n",
            "                 Class     Images  Instances      Box(P          R      mAP50  mAP50-95): 100%|██████████| 3/3 [00:00<00:00,  5.56it/s]"
          ]
        },
        {
          "output_type": "stream",
          "name": "stdout",
          "text": [
            "                   all         78         78     0.0212          1     0.0993     0.0226\n"
          ]
        },
        {
          "output_type": "stream",
          "name": "stderr",
          "text": [
            "\n"
          ]
        },
        {
          "output_type": "stream",
          "name": "stdout",
          "text": [
            "\n",
            "      Epoch    GPU_mem   box_loss   cls_loss   dfl_loss  Instances       Size\n"
          ]
        },
        {
          "output_type": "stream",
          "name": "stderr",
          "text": [
            "      40/50      2.18G      1.925       2.16      1.558          8        640: 100%|██████████| 20/20 [00:05<00:00,  3.76it/s]\n",
            "                 Class     Images  Instances      Box(P          R      mAP50  mAP50-95): 100%|██████████| 3/3 [00:00<00:00,  3.28it/s]"
          ]
        },
        {
          "output_type": "stream",
          "name": "stdout",
          "text": [
            "                   all         78         78     0.0221          1      0.115     0.0329\n"
          ]
        },
        {
          "output_type": "stream",
          "name": "stderr",
          "text": [
            "\n"
          ]
        },
        {
          "output_type": "stream",
          "name": "stdout",
          "text": [
            "Closing dataloader mosaic\n",
            "\u001b[34m\u001b[1malbumentations: \u001b[0mBlur(p=0.01, blur_limit=(3, 7)), MedianBlur(p=0.01, blur_limit=(3, 7)), ToGray(p=0.01, num_output_channels=3, method='weighted_average'), CLAHE(p=0.01, clip_limit=(1.0, 4.0), tile_grid_size=(8, 8))\n",
            "\n",
            "      Epoch    GPU_mem   box_loss   cls_loss   dfl_loss  Instances       Size\n"
          ]
        },
        {
          "output_type": "stream",
          "name": "stderr",
          "text": [
            "      41/50      2.25G      2.662      2.939      1.748          3        640: 100%|██████████| 20/20 [00:05<00:00,  3.39it/s]\n",
            "                 Class     Images  Instances      Box(P          R      mAP50  mAP50-95): 100%|██████████| 3/3 [00:00<00:00,  5.58it/s]"
          ]
        },
        {
          "output_type": "stream",
          "name": "stdout",
          "text": [
            "                   all         78         78     0.0198          1      0.176     0.0296\n"
          ]
        },
        {
          "output_type": "stream",
          "name": "stderr",
          "text": [
            "\n"
          ]
        },
        {
          "output_type": "stream",
          "name": "stdout",
          "text": [
            "\n",
            "      Epoch    GPU_mem   box_loss   cls_loss   dfl_loss  Instances       Size\n"
          ]
        },
        {
          "output_type": "stream",
          "name": "stderr",
          "text": [
            "      42/50      2.17G      2.323      2.284      1.609          4        640: 100%|██████████| 20/20 [00:05<00:00,  3.54it/s]\n",
            "                 Class     Images  Instances      Box(P          R      mAP50  mAP50-95): 100%|██████████| 3/3 [00:00<00:00,  6.53it/s]"
          ]
        },
        {
          "output_type": "stream",
          "name": "stdout",
          "text": [
            "                   all         78         78     0.0181          1      0.129     0.0296\n"
          ]
        },
        {
          "output_type": "stream",
          "name": "stderr",
          "text": [
            "\n"
          ]
        },
        {
          "output_type": "stream",
          "name": "stdout",
          "text": [
            "\n",
            "      Epoch    GPU_mem   box_loss   cls_loss   dfl_loss  Instances       Size\n"
          ]
        },
        {
          "output_type": "stream",
          "name": "stderr",
          "text": [
            "      43/50      2.18G      2.031      2.236      1.579          4        640: 100%|██████████| 20/20 [00:04<00:00,  4.44it/s]\n",
            "                 Class     Images  Instances      Box(P          R      mAP50  mAP50-95): 100%|██████████| 3/3 [00:00<00:00,  6.45it/s]"
          ]
        },
        {
          "output_type": "stream",
          "name": "stdout",
          "text": [
            "                   all         78         78     0.0172          1      0.106     0.0332\n"
          ]
        },
        {
          "output_type": "stream",
          "name": "stderr",
          "text": [
            "\n"
          ]
        },
        {
          "output_type": "stream",
          "name": "stdout",
          "text": [
            "\n",
            "      Epoch    GPU_mem   box_loss   cls_loss   dfl_loss  Instances       Size\n"
          ]
        },
        {
          "output_type": "stream",
          "name": "stderr",
          "text": [
            "      44/50      2.18G      1.887      2.197       1.58          4        640: 100%|██████████| 20/20 [00:05<00:00,  3.50it/s]\n",
            "                 Class     Images  Instances      Box(P          R      mAP50  mAP50-95): 100%|██████████| 3/3 [00:00<00:00,  4.85it/s]"
          ]
        },
        {
          "output_type": "stream",
          "name": "stdout",
          "text": [
            "                   all         78         78     0.0187          1     0.0958     0.0299\n"
          ]
        },
        {
          "output_type": "stream",
          "name": "stderr",
          "text": [
            "\n"
          ]
        },
        {
          "output_type": "stream",
          "name": "stdout",
          "text": [
            "\n",
            "      Epoch    GPU_mem   box_loss   cls_loss   dfl_loss  Instances       Size\n"
          ]
        },
        {
          "output_type": "stream",
          "name": "stderr",
          "text": [
            "      45/50      2.17G       1.82      2.142       1.53          4        640: 100%|██████████| 20/20 [00:04<00:00,  4.42it/s]\n",
            "                 Class     Images  Instances      Box(P          R      mAP50  mAP50-95): 100%|██████████| 3/3 [00:00<00:00,  7.28it/s]"
          ]
        },
        {
          "output_type": "stream",
          "name": "stdout",
          "text": [
            "                   all         78         78     0.0232      0.987     0.0963      0.026\n"
          ]
        },
        {
          "output_type": "stream",
          "name": "stderr",
          "text": [
            "\n"
          ]
        },
        {
          "output_type": "stream",
          "name": "stdout",
          "text": [
            "\n",
            "      Epoch    GPU_mem   box_loss   cls_loss   dfl_loss  Instances       Size\n"
          ]
        },
        {
          "output_type": "stream",
          "name": "stderr",
          "text": [
            "      46/50      2.17G      1.884      2.068      1.495          4        640: 100%|██████████| 20/20 [00:05<00:00,  3.74it/s]\n",
            "                 Class     Images  Instances      Box(P          R      mAP50  mAP50-95): 100%|██████████| 3/3 [00:00<00:00,  4.25it/s]"
          ]
        },
        {
          "output_type": "stream",
          "name": "stdout",
          "text": [
            "                   all         78         78     0.0315          1      0.163     0.0554\n"
          ]
        },
        {
          "output_type": "stream",
          "name": "stderr",
          "text": [
            "\n"
          ]
        },
        {
          "output_type": "stream",
          "name": "stdout",
          "text": [
            "\n",
            "      Epoch    GPU_mem   box_loss   cls_loss   dfl_loss  Instances       Size\n"
          ]
        },
        {
          "output_type": "stream",
          "name": "stderr",
          "text": [
            "      47/50      2.17G      1.765      2.044      1.508          4        640: 100%|██████████| 20/20 [00:04<00:00,  4.52it/s]\n",
            "                 Class     Images  Instances      Box(P          R      mAP50  mAP50-95): 100%|██████████| 3/3 [00:00<00:00,  6.52it/s]"
          ]
        },
        {
          "output_type": "stream",
          "name": "stdout",
          "text": [
            "                   all         78         78     0.0356          1      0.104      0.043\n"
          ]
        },
        {
          "output_type": "stream",
          "name": "stderr",
          "text": [
            "\n"
          ]
        },
        {
          "output_type": "stream",
          "name": "stdout",
          "text": [
            "\n",
            "      Epoch    GPU_mem   box_loss   cls_loss   dfl_loss  Instances       Size\n"
          ]
        },
        {
          "output_type": "stream",
          "name": "stderr",
          "text": [
            "      48/50      2.17G      1.723      2.052      1.482          4        640: 100%|██████████| 20/20 [00:04<00:00,  4.19it/s]\n",
            "                 Class     Images  Instances      Box(P          R      mAP50  mAP50-95): 100%|██████████| 3/3 [00:00<00:00,  4.07it/s]"
          ]
        },
        {
          "output_type": "stream",
          "name": "stdout",
          "text": [
            "                   all         78         78     0.0346          1     0.0976     0.0389\n"
          ]
        },
        {
          "output_type": "stream",
          "name": "stderr",
          "text": [
            "\n"
          ]
        },
        {
          "output_type": "stream",
          "name": "stdout",
          "text": [
            "\n",
            "      Epoch    GPU_mem   box_loss   cls_loss   dfl_loss  Instances       Size\n"
          ]
        },
        {
          "output_type": "stream",
          "name": "stderr",
          "text": [
            "      49/50      2.17G       1.67      2.007      1.486          4        640: 100%|██████████| 20/20 [00:04<00:00,  4.28it/s]\n",
            "                 Class     Images  Instances      Box(P          R      mAP50  mAP50-95): 100%|██████████| 3/3 [00:00<00:00,  6.65it/s]"
          ]
        },
        {
          "output_type": "stream",
          "name": "stdout",
          "text": [
            "                   all         78         78     0.0356          1     0.0938     0.0369\n"
          ]
        },
        {
          "output_type": "stream",
          "name": "stderr",
          "text": [
            "\n"
          ]
        },
        {
          "output_type": "stream",
          "name": "stdout",
          "text": [
            "\n",
            "      Epoch    GPU_mem   box_loss   cls_loss   dfl_loss  Instances       Size\n"
          ]
        },
        {
          "output_type": "stream",
          "name": "stderr",
          "text": [
            "      50/50      2.17G       1.65      2.047      1.506          4        640: 100%|██████████| 20/20 [00:04<00:00,  4.27it/s]\n",
            "                 Class     Images  Instances      Box(P          R      mAP50  mAP50-95): 100%|██████████| 3/3 [00:00<00:00,  5.17it/s]"
          ]
        },
        {
          "output_type": "stream",
          "name": "stdout",
          "text": [
            "                   all         78         78     0.0363          1      0.095     0.0325\n"
          ]
        },
        {
          "output_type": "stream",
          "name": "stderr",
          "text": [
            "\n"
          ]
        },
        {
          "output_type": "stream",
          "name": "stdout",
          "text": [
            "\n",
            "50 epochs completed in 0.090 hours.\n",
            "Optimizer stripped from runs/detect/train/weights/last.pt, 6.2MB\n",
            "Optimizer stripped from runs/detect/train/weights/best.pt, 6.2MB\n",
            "\n",
            "Validating runs/detect/train/weights/best.pt...\n",
            "Ultralytics 8.3.74 🚀 Python-3.11.11 torch-2.5.1+cu124 CUDA:0 (Tesla T4, 15095MiB)\n",
            "Model summary (fused): 168 layers, 3,005,843 parameters, 0 gradients, 8.1 GFLOPs\n"
          ]
        },
        {
          "output_type": "stream",
          "name": "stderr",
          "text": [
            "                 Class     Images  Instances      Box(P          R      mAP50  mAP50-95): 100%|██████████| 3/3 [00:00<00:00,  5.76it/s]\n"
          ]
        },
        {
          "output_type": "stream",
          "name": "stdout",
          "text": [
            "                   all         78         78     0.0228          1      0.262     0.0882\n",
            "Speed: 0.0ms preprocess, 1.2ms inference, 0.0ms loss, 2.4ms postprocess per image\n",
            "Results saved to \u001b[1mruns/detect/train\u001b[0m\n"
          ]
        },
        {
          "output_type": "execute_result",
          "data": {
            "text/plain": [
              "ultralytics.utils.metrics.DetMetrics object with attributes:\n",
              "\n",
              "ap_class_index: array([0])\n",
              "box: ultralytics.utils.metrics.Metric object\n",
              "confusion_matrix: <ultralytics.utils.metrics.ConfusionMatrix object at 0x7db634d55050>\n",
              "curves: ['Precision-Recall(B)', 'F1-Confidence(B)', 'Precision-Confidence(B)', 'Recall-Confidence(B)']\n",
              "curves_results: [[array([          0,    0.001001,    0.002002,    0.003003,    0.004004,    0.005005,    0.006006,    0.007007,    0.008008,    0.009009,     0.01001,    0.011011,    0.012012,    0.013013,    0.014014,    0.015015,    0.016016,    0.017017,    0.018018,    0.019019,     0.02002,    0.021021,    0.022022,    0.023023,\n",
              "          0.024024,    0.025025,    0.026026,    0.027027,    0.028028,    0.029029,     0.03003,    0.031031,    0.032032,    0.033033,    0.034034,    0.035035,    0.036036,    0.037037,    0.038038,    0.039039,     0.04004,    0.041041,    0.042042,    0.043043,    0.044044,    0.045045,    0.046046,    0.047047,\n",
              "          0.048048,    0.049049,     0.05005,    0.051051,    0.052052,    0.053053,    0.054054,    0.055055,    0.056056,    0.057057,    0.058058,    0.059059,     0.06006,    0.061061,    0.062062,    0.063063,    0.064064,    0.065065,    0.066066,    0.067067,    0.068068,    0.069069,     0.07007,    0.071071,\n",
              "          0.072072,    0.073073,    0.074074,    0.075075,    0.076076,    0.077077,    0.078078,    0.079079,     0.08008,    0.081081,    0.082082,    0.083083,    0.084084,    0.085085,    0.086086,    0.087087,    0.088088,    0.089089,     0.09009,    0.091091,    0.092092,    0.093093,    0.094094,    0.095095,\n",
              "          0.096096,    0.097097,    0.098098,    0.099099,      0.1001,      0.1011,      0.1021,      0.1031,      0.1041,     0.10511,     0.10611,     0.10711,     0.10811,     0.10911,     0.11011,     0.11111,     0.11211,     0.11311,     0.11411,     0.11512,     0.11612,     0.11712,     0.11812,     0.11912,\n",
              "           0.12012,     0.12112,     0.12212,     0.12312,     0.12412,     0.12513,     0.12613,     0.12713,     0.12813,     0.12913,     0.13013,     0.13113,     0.13213,     0.13313,     0.13413,     0.13514,     0.13614,     0.13714,     0.13814,     0.13914,     0.14014,     0.14114,     0.14214,     0.14314,\n",
              "           0.14414,     0.14515,     0.14615,     0.14715,     0.14815,     0.14915,     0.15015,     0.15115,     0.15215,     0.15315,     0.15415,     0.15516,     0.15616,     0.15716,     0.15816,     0.15916,     0.16016,     0.16116,     0.16216,     0.16316,     0.16416,     0.16517,     0.16617,     0.16717,\n",
              "           0.16817,     0.16917,     0.17017,     0.17117,     0.17217,     0.17317,     0.17417,     0.17518,     0.17618,     0.17718,     0.17818,     0.17918,     0.18018,     0.18118,     0.18218,     0.18318,     0.18418,     0.18519,     0.18619,     0.18719,     0.18819,     0.18919,     0.19019,     0.19119,\n",
              "           0.19219,     0.19319,     0.19419,      0.1952,      0.1962,      0.1972,      0.1982,      0.1992,      0.2002,      0.2012,      0.2022,      0.2032,      0.2042,     0.20521,     0.20621,     0.20721,     0.20821,     0.20921,     0.21021,     0.21121,     0.21221,     0.21321,     0.21421,     0.21522,\n",
              "           0.21622,     0.21722,     0.21822,     0.21922,     0.22022,     0.22122,     0.22222,     0.22322,     0.22422,     0.22523,     0.22623,     0.22723,     0.22823,     0.22923,     0.23023,     0.23123,     0.23223,     0.23323,     0.23423,     0.23524,     0.23624,     0.23724,     0.23824,     0.23924,\n",
              "           0.24024,     0.24124,     0.24224,     0.24324,     0.24424,     0.24525,     0.24625,     0.24725,     0.24825,     0.24925,     0.25025,     0.25125,     0.25225,     0.25325,     0.25425,     0.25526,     0.25626,     0.25726,     0.25826,     0.25926,     0.26026,     0.26126,     0.26226,     0.26326,\n",
              "           0.26426,     0.26527,     0.26627,     0.26727,     0.26827,     0.26927,     0.27027,     0.27127,     0.27227,     0.27327,     0.27427,     0.27528,     0.27628,     0.27728,     0.27828,     0.27928,     0.28028,     0.28128,     0.28228,     0.28328,     0.28428,     0.28529,     0.28629,     0.28729,\n",
              "           0.28829,     0.28929,     0.29029,     0.29129,     0.29229,     0.29329,     0.29429,      0.2953,      0.2963,      0.2973,      0.2983,      0.2993,      0.3003,      0.3013,      0.3023,      0.3033,      0.3043,     0.30531,     0.30631,     0.30731,     0.30831,     0.30931,     0.31031,     0.31131,\n",
              "           0.31231,     0.31331,     0.31431,     0.31532,     0.31632,     0.31732,     0.31832,     0.31932,     0.32032,     0.32132,     0.32232,     0.32332,     0.32432,     0.32533,     0.32633,     0.32733,     0.32833,     0.32933,     0.33033,     0.33133,     0.33233,     0.33333,     0.33433,     0.33534,\n",
              "           0.33634,     0.33734,     0.33834,     0.33934,     0.34034,     0.34134,     0.34234,     0.34334,     0.34434,     0.34535,     0.34635,     0.34735,     0.34835,     0.34935,     0.35035,     0.35135,     0.35235,     0.35335,     0.35435,     0.35536,     0.35636,     0.35736,     0.35836,     0.35936,\n",
              "           0.36036,     0.36136,     0.36236,     0.36336,     0.36436,     0.36537,     0.36637,     0.36737,     0.36837,     0.36937,     0.37037,     0.37137,     0.37237,     0.37337,     0.37437,     0.37538,     0.37638,     0.37738,     0.37838,     0.37938,     0.38038,     0.38138,     0.38238,     0.38338,\n",
              "           0.38438,     0.38539,     0.38639,     0.38739,     0.38839,     0.38939,     0.39039,     0.39139,     0.39239,     0.39339,     0.39439,      0.3954,      0.3964,      0.3974,      0.3984,      0.3994,      0.4004,      0.4014,      0.4024,      0.4034,      0.4044,     0.40541,     0.40641,     0.40741,\n",
              "           0.40841,     0.40941,     0.41041,     0.41141,     0.41241,     0.41341,     0.41441,     0.41542,     0.41642,     0.41742,     0.41842,     0.41942,     0.42042,     0.42142,     0.42242,     0.42342,     0.42442,     0.42543,     0.42643,     0.42743,     0.42843,     0.42943,     0.43043,     0.43143,\n",
              "           0.43243,     0.43343,     0.43443,     0.43544,     0.43644,     0.43744,     0.43844,     0.43944,     0.44044,     0.44144,     0.44244,     0.44344,     0.44444,     0.44545,     0.44645,     0.44745,     0.44845,     0.44945,     0.45045,     0.45145,     0.45245,     0.45345,     0.45445,     0.45546,\n",
              "           0.45646,     0.45746,     0.45846,     0.45946,     0.46046,     0.46146,     0.46246,     0.46346,     0.46446,     0.46547,     0.46647,     0.46747,     0.46847,     0.46947,     0.47047,     0.47147,     0.47247,     0.47347,     0.47447,     0.47548,     0.47648,     0.47748,     0.47848,     0.47948,\n",
              "           0.48048,     0.48148,     0.48248,     0.48348,     0.48448,     0.48549,     0.48649,     0.48749,     0.48849,     0.48949,     0.49049,     0.49149,     0.49249,     0.49349,     0.49449,      0.4955,      0.4965,      0.4975,      0.4985,      0.4995,      0.5005,      0.5015,      0.5025,      0.5035,\n",
              "            0.5045,     0.50551,     0.50651,     0.50751,     0.50851,     0.50951,     0.51051,     0.51151,     0.51251,     0.51351,     0.51451,     0.51552,     0.51652,     0.51752,     0.51852,     0.51952,     0.52052,     0.52152,     0.52252,     0.52352,     0.52452,     0.52553,     0.52653,     0.52753,\n",
              "           0.52853,     0.52953,     0.53053,     0.53153,     0.53253,     0.53353,     0.53453,     0.53554,     0.53654,     0.53754,     0.53854,     0.53954,     0.54054,     0.54154,     0.54254,     0.54354,     0.54454,     0.54555,     0.54655,     0.54755,     0.54855,     0.54955,     0.55055,     0.55155,\n",
              "           0.55255,     0.55355,     0.55455,     0.55556,     0.55656,     0.55756,     0.55856,     0.55956,     0.56056,     0.56156,     0.56256,     0.56356,     0.56456,     0.56557,     0.56657,     0.56757,     0.56857,     0.56957,     0.57057,     0.57157,     0.57257,     0.57357,     0.57457,     0.57558,\n",
              "           0.57658,     0.57758,     0.57858,     0.57958,     0.58058,     0.58158,     0.58258,     0.58358,     0.58458,     0.58559,     0.58659,     0.58759,     0.58859,     0.58959,     0.59059,     0.59159,     0.59259,     0.59359,     0.59459,      0.5956,      0.5966,      0.5976,      0.5986,      0.5996,\n",
              "            0.6006,      0.6016,      0.6026,      0.6036,      0.6046,     0.60561,     0.60661,     0.60761,     0.60861,     0.60961,     0.61061,     0.61161,     0.61261,     0.61361,     0.61461,     0.61562,     0.61662,     0.61762,     0.61862,     0.61962,     0.62062,     0.62162,     0.62262,     0.62362,\n",
              "           0.62462,     0.62563,     0.62663,     0.62763,     0.62863,     0.62963,     0.63063,     0.63163,     0.63263,     0.63363,     0.63463,     0.63564,     0.63664,     0.63764,     0.63864,     0.63964,     0.64064,     0.64164,     0.64264,     0.64364,     0.64464,     0.64565,     0.64665,     0.64765,\n",
              "           0.64865,     0.64965,     0.65065,     0.65165,     0.65265,     0.65365,     0.65465,     0.65566,     0.65666,     0.65766,     0.65866,     0.65966,     0.66066,     0.66166,     0.66266,     0.66366,     0.66466,     0.66567,     0.66667,     0.66767,     0.66867,     0.66967,     0.67067,     0.67167,\n",
              "           0.67267,     0.67367,     0.67467,     0.67568,     0.67668,     0.67768,     0.67868,     0.67968,     0.68068,     0.68168,     0.68268,     0.68368,     0.68468,     0.68569,     0.68669,     0.68769,     0.68869,     0.68969,     0.69069,     0.69169,     0.69269,     0.69369,     0.69469,      0.6957,\n",
              "            0.6967,      0.6977,      0.6987,      0.6997,      0.7007,      0.7017,      0.7027,      0.7037,      0.7047,     0.70571,     0.70671,     0.70771,     0.70871,     0.70971,     0.71071,     0.71171,     0.71271,     0.71371,     0.71471,     0.71572,     0.71672,     0.71772,     0.71872,     0.71972,\n",
              "           0.72072,     0.72172,     0.72272,     0.72372,     0.72472,     0.72573,     0.72673,     0.72773,     0.72873,     0.72973,     0.73073,     0.73173,     0.73273,     0.73373,     0.73473,     0.73574,     0.73674,     0.73774,     0.73874,     0.73974,     0.74074,     0.74174,     0.74274,     0.74374,\n",
              "           0.74474,     0.74575,     0.74675,     0.74775,     0.74875,     0.74975,     0.75075,     0.75175,     0.75275,     0.75375,     0.75475,     0.75576,     0.75676,     0.75776,     0.75876,     0.75976,     0.76076,     0.76176,     0.76276,     0.76376,     0.76476,     0.76577,     0.76677,     0.76777,\n",
              "           0.76877,     0.76977,     0.77077,     0.77177,     0.77277,     0.77377,     0.77477,     0.77578,     0.77678,     0.77778,     0.77878,     0.77978,     0.78078,     0.78178,     0.78278,     0.78378,     0.78478,     0.78579,     0.78679,     0.78779,     0.78879,     0.78979,     0.79079,     0.79179,\n",
              "           0.79279,     0.79379,     0.79479,      0.7958,      0.7968,      0.7978,      0.7988,      0.7998,      0.8008,      0.8018,      0.8028,      0.8038,      0.8048,     0.80581,     0.80681,     0.80781,     0.80881,     0.80981,     0.81081,     0.81181,     0.81281,     0.81381,     0.81481,     0.81582,\n",
              "           0.81682,     0.81782,     0.81882,     0.81982,     0.82082,     0.82182,     0.82282,     0.82382,     0.82482,     0.82583,     0.82683,     0.82783,     0.82883,     0.82983,     0.83083,     0.83183,     0.83283,     0.83383,     0.83483,     0.83584,     0.83684,     0.83784,     0.83884,     0.83984,\n",
              "           0.84084,     0.84184,     0.84284,     0.84384,     0.84484,     0.84585,     0.84685,     0.84785,     0.84885,     0.84985,     0.85085,     0.85185,     0.85285,     0.85385,     0.85485,     0.85586,     0.85686,     0.85786,     0.85886,     0.85986,     0.86086,     0.86186,     0.86286,     0.86386,\n",
              "           0.86486,     0.86587,     0.86687,     0.86787,     0.86887,     0.86987,     0.87087,     0.87187,     0.87287,     0.87387,     0.87487,     0.87588,     0.87688,     0.87788,     0.87888,     0.87988,     0.88088,     0.88188,     0.88288,     0.88388,     0.88488,     0.88589,     0.88689,     0.88789,\n",
              "           0.88889,     0.88989,     0.89089,     0.89189,     0.89289,     0.89389,     0.89489,      0.8959,      0.8969,      0.8979,      0.8989,      0.8999,      0.9009,      0.9019,      0.9029,      0.9039,      0.9049,     0.90591,     0.90691,     0.90791,     0.90891,     0.90991,     0.91091,     0.91191,\n",
              "           0.91291,     0.91391,     0.91491,     0.91592,     0.91692,     0.91792,     0.91892,     0.91992,     0.92092,     0.92192,     0.92292,     0.92392,     0.92492,     0.92593,     0.92693,     0.92793,     0.92893,     0.92993,     0.93093,     0.93193,     0.93293,     0.93393,     0.93493,     0.93594,\n",
              "           0.93694,     0.93794,     0.93894,     0.93994,     0.94094,     0.94194,     0.94294,     0.94394,     0.94494,     0.94595,     0.94695,     0.94795,     0.94895,     0.94995,     0.95095,     0.95195,     0.95295,     0.95395,     0.95495,     0.95596,     0.95696,     0.95796,     0.95896,     0.95996,\n",
              "           0.96096,     0.96196,     0.96296,     0.96396,     0.96496,     0.96597,     0.96697,     0.96797,     0.96897,     0.96997,     0.97097,     0.97197,     0.97297,     0.97397,     0.97497,     0.97598,     0.97698,     0.97798,     0.97898,     0.97998,     0.98098,     0.98198,     0.98298,     0.98398,\n",
              "           0.98498,     0.98599,     0.98699,     0.98799,     0.98899,     0.98999,     0.99099,     0.99199,     0.99299,     0.99399,     0.99499,       0.996,       0.997,       0.998,       0.999,           1]), array([[          1,           1,           1,           1,           1,           1,           1,           1,           1,           1,           1,           1,           1,           1,           1,           1,           1,           1,           1,           1,           1,           1,           1,\n",
              "                  1,           1,           1,           1,           1,           1,           1,           1,           1,           1,           1,           1,           1,           1,           1,           1,     0.38462,     0.38462,     0.38462,     0.38462,     0.38462,     0.38462,     0.38462,\n",
              "            0.38462,     0.38462,     0.38462,     0.38462,     0.38462,     0.38462,     0.38462,     0.38462,     0.38462,     0.38462,     0.38462,     0.38462,     0.38462,     0.38462,     0.38462,     0.38462,     0.38462,     0.38462,     0.38462,     0.36842,     0.36842,     0.36842,     0.36842,\n",
              "            0.36842,     0.36842,     0.36842,     0.36842,     0.36842,     0.36842,     0.36842,     0.36842,     0.36842,     0.36842,     0.36842,     0.36842,     0.36842,     0.36842,     0.36842,     0.36842,     0.36842,     0.36842,     0.36842,     0.36842,     0.36842,     0.36842,     0.36842,\n",
              "            0.36842,     0.36842,     0.36842,     0.36842,     0.36842,     0.36842,     0.36842,     0.36842,     0.36842,     0.36842,     0.36842,     0.36842,     0.36842,     0.36842,     0.36842,     0.36842,     0.36842,     0.36842,     0.36842,     0.36842,     0.36842,     0.36842,     0.36842,\n",
              "            0.36842,     0.36842,     0.36842,     0.36842,     0.36842,     0.36842,     0.36842,     0.36842,     0.36842,     0.36842,     0.36842,     0.36842,     0.36842,     0.36842,     0.36842,     0.36842,     0.36842,     0.36842,     0.36842,     0.36842,     0.36842,     0.36842,     0.36842,\n",
              "            0.36842,     0.36842,     0.36842,     0.36842,     0.36842,     0.36842,     0.36842,     0.36842,     0.36842,     0.36842,     0.36842,     0.36842,     0.36842,     0.36842,     0.36842,     0.36842,     0.36842,     0.36842,     0.36842,     0.36842,     0.36842,     0.36842,     0.36842,\n",
              "            0.36842,     0.36842,     0.36842,     0.36842,     0.36842,     0.36842,     0.36842,     0.36842,     0.36842,     0.36842,     0.36842,     0.36842,     0.36842,     0.36842,     0.36842,     0.36842,     0.36842,     0.36842,     0.36842,     0.33333,     0.33333,     0.33333,     0.33333,\n",
              "            0.33333,     0.33333,     0.33333,     0.33333,     0.33333,     0.33333,     0.33333,     0.33333,     0.33333,      0.3125,      0.3125,      0.3125,      0.3125,      0.3125,      0.3125,      0.3125,      0.3125,      0.3125,      0.3125,      0.3125,      0.3125,      0.3125,      0.3125,\n",
              "             0.3125,      0.3125,      0.3125,      0.3125,      0.3125,      0.3125,      0.3125,      0.3125,      0.3125,      0.3125,      0.3125,      0.3125,      0.3125,      0.3125,      0.3125,      0.3125,      0.3125,      0.3125,      0.3125,      0.3125,      0.3125,      0.3125,      0.3125,\n",
              "             0.3125,      0.3125,      0.3125,      0.3125,      0.3125,      0.3125,      0.3125,      0.3125,      0.3125,      0.3125,      0.3125,      0.3125,      0.3125,      0.3125,      0.3125,      0.3125,      0.3125,      0.3125,      0.3125,      0.3125,      0.3125,      0.3125,      0.3125,\n",
              "             0.3125,      0.3125,      0.3125,      0.3125,     0.30435,     0.30435,     0.30435,     0.30435,     0.30435,     0.30435,     0.30435,     0.30435,     0.30435,     0.30435,     0.30435,     0.30435,     0.30137,     0.30137,     0.30137,     0.30137,     0.30137,     0.30137,     0.30137,\n",
              "            0.30137,     0.30137,     0.30137,     0.30137,     0.30137,     0.30137,      0.2875,      0.2875,      0.2875,      0.2875,      0.2875,      0.2875,      0.2875,      0.2875,      0.2875,      0.2875,      0.2875,      0.2875,      0.2875,     0.28571,     0.28571,     0.28571,     0.28571,\n",
              "            0.28571,     0.28571,     0.28571,     0.28571,     0.28571,     0.28571,     0.28571,     0.28571,     0.28571,     0.28409,     0.28409,     0.28409,     0.28409,     0.28409,     0.28409,     0.28409,     0.28409,     0.28409,     0.28409,     0.28409,     0.28409,     0.28409,     0.27957,\n",
              "            0.27957,     0.27957,     0.27957,     0.27957,     0.27957,     0.27957,     0.27957,     0.27957,     0.27957,     0.27957,     0.27957,     0.27358,     0.27358,     0.27358,     0.27358,     0.27358,     0.27358,     0.27358,     0.27358,     0.27358,     0.27358,     0.27358,     0.27358,\n",
              "            0.27358,     0.27358,     0.27358,     0.27358,     0.27358,     0.27358,     0.27358,     0.27358,     0.27358,     0.27358,     0.27358,     0.27358,     0.27358,     0.27358,     0.27358,     0.27358,     0.27358,     0.27358,     0.27358,     0.27358,     0.27358,     0.27358,     0.27358,\n",
              "            0.27358,     0.27358,     0.27358,     0.27358,     0.25641,     0.25641,     0.25641,     0.25641,     0.25641,     0.25641,     0.25641,     0.25641,     0.25641,     0.25641,     0.25641,     0.25641,     0.25641,     0.24324,     0.24324,     0.24324,     0.24324,     0.24324,     0.24324,\n",
              "            0.24324,     0.24324,     0.24324,     0.24324,     0.24324,     0.24324,     0.24324,     0.24324,     0.24324,     0.24324,     0.24324,     0.24324,     0.24324,     0.24324,     0.24324,     0.24324,     0.24324,     0.24324,     0.24324,     0.24324,     0.24324,     0.24324,     0.24324,\n",
              "            0.24324,     0.24324,     0.24324,     0.24324,     0.24324,     0.24324,     0.24324,     0.24324,     0.24324,     0.24324,     0.24324,     0.24324,     0.24324,     0.24324,     0.24324,     0.24324,     0.24324,     0.24324,     0.24324,     0.24324,     0.24324,     0.24324,     0.24324,\n",
              "            0.24324,     0.24324,     0.24324,     0.24324,     0.24324,     0.24324,     0.24324,     0.24324,     0.24324,     0.24324,     0.24324,     0.24324,     0.24324,     0.24324,     0.24324,     0.24324,     0.24324,     0.24324,     0.24324,     0.24324,     0.24324,     0.24324,     0.24324,\n",
              "            0.24324,     0.24324,     0.23871,     0.23871,     0.23871,     0.23871,     0.23871,     0.23871,     0.23871,     0.23871,     0.23871,     0.23871,     0.23871,     0.23871,     0.23214,     0.23214,     0.23214,     0.23214,     0.23214,     0.23214,     0.23214,     0.23214,     0.23214,\n",
              "            0.23214,     0.23214,     0.23214,     0.23214,     0.23214,     0.23214,     0.23214,     0.23214,     0.23214,     0.23214,     0.23214,     0.23214,     0.23214,     0.23214,     0.23214,     0.23214,     0.23214,     0.22905,     0.22905,     0.22905,     0.22905,     0.22905,     0.22905,\n",
              "            0.22905,     0.22905,     0.22905,     0.22905,     0.22905,     0.22905,     0.22905,     0.22905,     0.22905,     0.22905,     0.22905,     0.22905,     0.22905,     0.22905,     0.22905,     0.22905,     0.22905,     0.22905,     0.22905,     0.22905,     0.21239,     0.21239,     0.21239,\n",
              "            0.21239,     0.21239,     0.21239,     0.21239,     0.21239,     0.21239,     0.21239,     0.21239,     0.21239,     0.21239,     0.21239,     0.21239,     0.21239,     0.21239,     0.21239,     0.21239,     0.21239,     0.21239,     0.21239,     0.21239,     0.21239,     0.21239,     0.21239,\n",
              "            0.21239,     0.21239,     0.21239,     0.21239,     0.21239,     0.21239,     0.21239,     0.21239,     0.21239,     0.21239,     0.21239,     0.21239,     0.21239,     0.21239,     0.21239,     0.21239,     0.21239,     0.21239,     0.21239,     0.21239,     0.21239,     0.21239,     0.21239,\n",
              "            0.21239,     0.21239,     0.21239,     0.21239,     0.21239,     0.21239,     0.21239,     0.21239,     0.21239,     0.21239,     0.21239,     0.21239,     0.21239,     0.21239,     0.21239,     0.21239,     0.21239,     0.21239,     0.21239,     0.21239,     0.21239,     0.21239,     0.21239,\n",
              "            0.21239,     0.21239,     0.21239,     0.21239,     0.21239,     0.21239,     0.21239,     0.21239,     0.21239,     0.21239,     0.21239,     0.21239,     0.21239,     0.21239,     0.21239,     0.21239,     0.21239,     0.20248,     0.20248,     0.20248,     0.20248,     0.20248,     0.20248,\n",
              "            0.20248,     0.20248,     0.20248,     0.20248,     0.20248,     0.20248,     0.20248,      0.2008,      0.2008,      0.2008,      0.2008,      0.2008,      0.2008,      0.2008,      0.2008,      0.2008,      0.2008,      0.2008,      0.2008,      0.2008,     0.18681,     0.18681,     0.18681,\n",
              "            0.18681,     0.18681,     0.18681,     0.18681,     0.18681,     0.18681,     0.18681,     0.18681,     0.18681,     0.18681,     0.18662,     0.18662,     0.18662,     0.18662,     0.18662,     0.18662,     0.18662,     0.18662,     0.18662,     0.18662,     0.18662,     0.18662,     0.18662,\n",
              "            0.18662,     0.18662,     0.18662,     0.18662,     0.18662,     0.18662,     0.18662,     0.18662,     0.18662,     0.18662,     0.18662,     0.18662,     0.18557,     0.18557,     0.18557,     0.18557,     0.18557,     0.18557,     0.18557,     0.18557,     0.18557,     0.18557,     0.18557,\n",
              "            0.18557,     0.18557,     0.18043,     0.18043,     0.18043,     0.18043,     0.18043,     0.18043,     0.18043,     0.18043,     0.18043,     0.18043,     0.18043,     0.18043,     0.18043,     0.18043,     0.18043,     0.18043,     0.18043,     0.18043,     0.18043,     0.18043,     0.18043,\n",
              "            0.18043,     0.18043,     0.18043,     0.18043,     0.18043,     0.18043,     0.18043,     0.18043,     0.18043,     0.18043,     0.18043,     0.18043,     0.18043,     0.18043,     0.18043,     0.18043,     0.18043,     0.18043,     0.18043,     0.18043,     0.18043,     0.18043,     0.18043,\n",
              "            0.18043,     0.18043,     0.18043,     0.18043,     0.18043,     0.18043,     0.18043,     0.18043,     0.18043,     0.18043,     0.18043,     0.18043,     0.18043,     0.18043,     0.18043,     0.18043,     0.18043,     0.18043,     0.18043,     0.18043,     0.16129,     0.16129,     0.16129,\n",
              "            0.16129,     0.16129,     0.16129,     0.16129,     0.16129,     0.16129,     0.16129,     0.16129,     0.16129,     0.16129,     0.16104,     0.16104,     0.16104,     0.16104,     0.16104,     0.16104,     0.16104,     0.16104,     0.16104,     0.16104,     0.16104,     0.16104,     0.16104,\n",
              "            0.16104,     0.16104,     0.16104,     0.16104,     0.16104,     0.16104,     0.16104,     0.16104,     0.16104,     0.16104,     0.16104,     0.16104,     0.16104,        0.15,        0.15,        0.15,        0.15,        0.15,        0.15,        0.15,        0.15,        0.15,        0.15,\n",
              "               0.15,        0.15,     0.14953,     0.14953,     0.14953,     0.14953,     0.14953,     0.14953,     0.14953,     0.14953,     0.14953,     0.14953,     0.14953,     0.14953,     0.14953,     0.14534,     0.14534,     0.14534,     0.14534,     0.14534,     0.14534,     0.14534,     0.14534,\n",
              "            0.14534,     0.14534,     0.14534,     0.14534,     0.14534,     0.14534,     0.14534,     0.14534,     0.14534,     0.14534,     0.14534,     0.14534,     0.14534,     0.14534,     0.14534,     0.14534,     0.14534,     0.14534,     0.14534,     0.14534,     0.14534,     0.14534,     0.14534,\n",
              "            0.14534,     0.14534,     0.14534,     0.14534,     0.14534,     0.14534,     0.14534,     0.14534,     0.13523,     0.13523,     0.13523,     0.13523,     0.13523,     0.13523,     0.13523,     0.13523,     0.13523,     0.13523,     0.13523,     0.13523,     0.13523,     0.13523,     0.13523,\n",
              "            0.13523,     0.13523,     0.13523,     0.13523,     0.13523,     0.13523,     0.13523,     0.13523,     0.13523,     0.13523,     0.13523,     0.13523,     0.13523,     0.13523,     0.13523,     0.13523,     0.13523,     0.13523,     0.13523,     0.13523,     0.13523,     0.13523,     0.13523,\n",
              "            0.13523,     0.13523,     0.13523,     0.13523,     0.13523,     0.13523,     0.13523,     0.13523,     0.13523,     0.13523,     0.13523,     0.13523,     0.13523,     0.13523,     0.13523,     0.13523,     0.13523,     0.13523,     0.13523,     0.13523,     0.13523,     0.13523,     0.13523,\n",
              "            0.13523,     0.13523,     0.13523,     0.13523,     0.13523,     0.13523,     0.13523,     0.13523,     0.13523,     0.13523,     0.13523,     0.13523,     0.13523,     0.13523,     0.13523,     0.13523,     0.13523,     0.13523,     0.13523,     0.13523,     0.13523,     0.13523,     0.13523,\n",
              "            0.13523,     0.13523,     0.13523,     0.13523,     0.13523,     0.13523,     0.13523,     0.13523,     0.13523,     0.13523,     0.13523,     0.13523,     0.13523,     0.13523,     0.13523,     0.13523,     0.13523,     0.13523,     0.13523,     0.13523,     0.13523,     0.13523,     0.13523,\n",
              "            0.13523,     0.13523,     0.13523,     0.13523,     0.13523,     0.13523,     0.13523,     0.13523,     0.13509,     0.13509,     0.13509,     0.13509,     0.13509,     0.13509,     0.13509,     0.13509,     0.13509,     0.13509,     0.13509,     0.13509,     0.13509,     0.13043,     0.13043,\n",
              "            0.13043,     0.13043,     0.13043,     0.13043,     0.13043,     0.13043,     0.13043,     0.13043,     0.13043,     0.13043,           0]]), 'Recall', 'Precision'], [array([          0,    0.001001,    0.002002,    0.003003,    0.004004,    0.005005,    0.006006,    0.007007,    0.008008,    0.009009,     0.01001,    0.011011,    0.012012,    0.013013,    0.014014,    0.015015,    0.016016,    0.017017,    0.018018,    0.019019,     0.02002,    0.021021,    0.022022,    0.023023,\n",
              "          0.024024,    0.025025,    0.026026,    0.027027,    0.028028,    0.029029,     0.03003,    0.031031,    0.032032,    0.033033,    0.034034,    0.035035,    0.036036,    0.037037,    0.038038,    0.039039,     0.04004,    0.041041,    0.042042,    0.043043,    0.044044,    0.045045,    0.046046,    0.047047,\n",
              "          0.048048,    0.049049,     0.05005,    0.051051,    0.052052,    0.053053,    0.054054,    0.055055,    0.056056,    0.057057,    0.058058,    0.059059,     0.06006,    0.061061,    0.062062,    0.063063,    0.064064,    0.065065,    0.066066,    0.067067,    0.068068,    0.069069,     0.07007,    0.071071,\n",
              "          0.072072,    0.073073,    0.074074,    0.075075,    0.076076,    0.077077,    0.078078,    0.079079,     0.08008,    0.081081,    0.082082,    0.083083,    0.084084,    0.085085,    0.086086,    0.087087,    0.088088,    0.089089,     0.09009,    0.091091,    0.092092,    0.093093,    0.094094,    0.095095,\n",
              "          0.096096,    0.097097,    0.098098,    0.099099,      0.1001,      0.1011,      0.1021,      0.1031,      0.1041,     0.10511,     0.10611,     0.10711,     0.10811,     0.10911,     0.11011,     0.11111,     0.11211,     0.11311,     0.11411,     0.11512,     0.11612,     0.11712,     0.11812,     0.11912,\n",
              "           0.12012,     0.12112,     0.12212,     0.12312,     0.12412,     0.12513,     0.12613,     0.12713,     0.12813,     0.12913,     0.13013,     0.13113,     0.13213,     0.13313,     0.13413,     0.13514,     0.13614,     0.13714,     0.13814,     0.13914,     0.14014,     0.14114,     0.14214,     0.14314,\n",
              "           0.14414,     0.14515,     0.14615,     0.14715,     0.14815,     0.14915,     0.15015,     0.15115,     0.15215,     0.15315,     0.15415,     0.15516,     0.15616,     0.15716,     0.15816,     0.15916,     0.16016,     0.16116,     0.16216,     0.16316,     0.16416,     0.16517,     0.16617,     0.16717,\n",
              "           0.16817,     0.16917,     0.17017,     0.17117,     0.17217,     0.17317,     0.17417,     0.17518,     0.17618,     0.17718,     0.17818,     0.17918,     0.18018,     0.18118,     0.18218,     0.18318,     0.18418,     0.18519,     0.18619,     0.18719,     0.18819,     0.18919,     0.19019,     0.19119,\n",
              "           0.19219,     0.19319,     0.19419,      0.1952,      0.1962,      0.1972,      0.1982,      0.1992,      0.2002,      0.2012,      0.2022,      0.2032,      0.2042,     0.20521,     0.20621,     0.20721,     0.20821,     0.20921,     0.21021,     0.21121,     0.21221,     0.21321,     0.21421,     0.21522,\n",
              "           0.21622,     0.21722,     0.21822,     0.21922,     0.22022,     0.22122,     0.22222,     0.22322,     0.22422,     0.22523,     0.22623,     0.22723,     0.22823,     0.22923,     0.23023,     0.23123,     0.23223,     0.23323,     0.23423,     0.23524,     0.23624,     0.23724,     0.23824,     0.23924,\n",
              "           0.24024,     0.24124,     0.24224,     0.24324,     0.24424,     0.24525,     0.24625,     0.24725,     0.24825,     0.24925,     0.25025,     0.25125,     0.25225,     0.25325,     0.25425,     0.25526,     0.25626,     0.25726,     0.25826,     0.25926,     0.26026,     0.26126,     0.26226,     0.26326,\n",
              "           0.26426,     0.26527,     0.26627,     0.26727,     0.26827,     0.26927,     0.27027,     0.27127,     0.27227,     0.27327,     0.27427,     0.27528,     0.27628,     0.27728,     0.27828,     0.27928,     0.28028,     0.28128,     0.28228,     0.28328,     0.28428,     0.28529,     0.28629,     0.28729,\n",
              "           0.28829,     0.28929,     0.29029,     0.29129,     0.29229,     0.29329,     0.29429,      0.2953,      0.2963,      0.2973,      0.2983,      0.2993,      0.3003,      0.3013,      0.3023,      0.3033,      0.3043,     0.30531,     0.30631,     0.30731,     0.30831,     0.30931,     0.31031,     0.31131,\n",
              "           0.31231,     0.31331,     0.31431,     0.31532,     0.31632,     0.31732,     0.31832,     0.31932,     0.32032,     0.32132,     0.32232,     0.32332,     0.32432,     0.32533,     0.32633,     0.32733,     0.32833,     0.32933,     0.33033,     0.33133,     0.33233,     0.33333,     0.33433,     0.33534,\n",
              "           0.33634,     0.33734,     0.33834,     0.33934,     0.34034,     0.34134,     0.34234,     0.34334,     0.34434,     0.34535,     0.34635,     0.34735,     0.34835,     0.34935,     0.35035,     0.35135,     0.35235,     0.35335,     0.35435,     0.35536,     0.35636,     0.35736,     0.35836,     0.35936,\n",
              "           0.36036,     0.36136,     0.36236,     0.36336,     0.36436,     0.36537,     0.36637,     0.36737,     0.36837,     0.36937,     0.37037,     0.37137,     0.37237,     0.37337,     0.37437,     0.37538,     0.37638,     0.37738,     0.37838,     0.37938,     0.38038,     0.38138,     0.38238,     0.38338,\n",
              "           0.38438,     0.38539,     0.38639,     0.38739,     0.38839,     0.38939,     0.39039,     0.39139,     0.39239,     0.39339,     0.39439,      0.3954,      0.3964,      0.3974,      0.3984,      0.3994,      0.4004,      0.4014,      0.4024,      0.4034,      0.4044,     0.40541,     0.40641,     0.40741,\n",
              "           0.40841,     0.40941,     0.41041,     0.41141,     0.41241,     0.41341,     0.41441,     0.41542,     0.41642,     0.41742,     0.41842,     0.41942,     0.42042,     0.42142,     0.42242,     0.42342,     0.42442,     0.42543,     0.42643,     0.42743,     0.42843,     0.42943,     0.43043,     0.43143,\n",
              "           0.43243,     0.43343,     0.43443,     0.43544,     0.43644,     0.43744,     0.43844,     0.43944,     0.44044,     0.44144,     0.44244,     0.44344,     0.44444,     0.44545,     0.44645,     0.44745,     0.44845,     0.44945,     0.45045,     0.45145,     0.45245,     0.45345,     0.45445,     0.45546,\n",
              "           0.45646,     0.45746,     0.45846,     0.45946,     0.46046,     0.46146,     0.46246,     0.46346,     0.46446,     0.46547,     0.46647,     0.46747,     0.46847,     0.46947,     0.47047,     0.47147,     0.47247,     0.47347,     0.47447,     0.47548,     0.47648,     0.47748,     0.47848,     0.47948,\n",
              "           0.48048,     0.48148,     0.48248,     0.48348,     0.48448,     0.48549,     0.48649,     0.48749,     0.48849,     0.48949,     0.49049,     0.49149,     0.49249,     0.49349,     0.49449,      0.4955,      0.4965,      0.4975,      0.4985,      0.4995,      0.5005,      0.5015,      0.5025,      0.5035,\n",
              "            0.5045,     0.50551,     0.50651,     0.50751,     0.50851,     0.50951,     0.51051,     0.51151,     0.51251,     0.51351,     0.51451,     0.51552,     0.51652,     0.51752,     0.51852,     0.51952,     0.52052,     0.52152,     0.52252,     0.52352,     0.52452,     0.52553,     0.52653,     0.52753,\n",
              "           0.52853,     0.52953,     0.53053,     0.53153,     0.53253,     0.53353,     0.53453,     0.53554,     0.53654,     0.53754,     0.53854,     0.53954,     0.54054,     0.54154,     0.54254,     0.54354,     0.54454,     0.54555,     0.54655,     0.54755,     0.54855,     0.54955,     0.55055,     0.55155,\n",
              "           0.55255,     0.55355,     0.55455,     0.55556,     0.55656,     0.55756,     0.55856,     0.55956,     0.56056,     0.56156,     0.56256,     0.56356,     0.56456,     0.56557,     0.56657,     0.56757,     0.56857,     0.56957,     0.57057,     0.57157,     0.57257,     0.57357,     0.57457,     0.57558,\n",
              "           0.57658,     0.57758,     0.57858,     0.57958,     0.58058,     0.58158,     0.58258,     0.58358,     0.58458,     0.58559,     0.58659,     0.58759,     0.58859,     0.58959,     0.59059,     0.59159,     0.59259,     0.59359,     0.59459,      0.5956,      0.5966,      0.5976,      0.5986,      0.5996,\n",
              "            0.6006,      0.6016,      0.6026,      0.6036,      0.6046,     0.60561,     0.60661,     0.60761,     0.60861,     0.60961,     0.61061,     0.61161,     0.61261,     0.61361,     0.61461,     0.61562,     0.61662,     0.61762,     0.61862,     0.61962,     0.62062,     0.62162,     0.62262,     0.62362,\n",
              "           0.62462,     0.62563,     0.62663,     0.62763,     0.62863,     0.62963,     0.63063,     0.63163,     0.63263,     0.63363,     0.63463,     0.63564,     0.63664,     0.63764,     0.63864,     0.63964,     0.64064,     0.64164,     0.64264,     0.64364,     0.64464,     0.64565,     0.64665,     0.64765,\n",
              "           0.64865,     0.64965,     0.65065,     0.65165,     0.65265,     0.65365,     0.65465,     0.65566,     0.65666,     0.65766,     0.65866,     0.65966,     0.66066,     0.66166,     0.66266,     0.66366,     0.66466,     0.66567,     0.66667,     0.66767,     0.66867,     0.66967,     0.67067,     0.67167,\n",
              "           0.67267,     0.67367,     0.67467,     0.67568,     0.67668,     0.67768,     0.67868,     0.67968,     0.68068,     0.68168,     0.68268,     0.68368,     0.68468,     0.68569,     0.68669,     0.68769,     0.68869,     0.68969,     0.69069,     0.69169,     0.69269,     0.69369,     0.69469,      0.6957,\n",
              "            0.6967,      0.6977,      0.6987,      0.6997,      0.7007,      0.7017,      0.7027,      0.7037,      0.7047,     0.70571,     0.70671,     0.70771,     0.70871,     0.70971,     0.71071,     0.71171,     0.71271,     0.71371,     0.71471,     0.71572,     0.71672,     0.71772,     0.71872,     0.71972,\n",
              "           0.72072,     0.72172,     0.72272,     0.72372,     0.72472,     0.72573,     0.72673,     0.72773,     0.72873,     0.72973,     0.73073,     0.73173,     0.73273,     0.73373,     0.73473,     0.73574,     0.73674,     0.73774,     0.73874,     0.73974,     0.74074,     0.74174,     0.74274,     0.74374,\n",
              "           0.74474,     0.74575,     0.74675,     0.74775,     0.74875,     0.74975,     0.75075,     0.75175,     0.75275,     0.75375,     0.75475,     0.75576,     0.75676,     0.75776,     0.75876,     0.75976,     0.76076,     0.76176,     0.76276,     0.76376,     0.76476,     0.76577,     0.76677,     0.76777,\n",
              "           0.76877,     0.76977,     0.77077,     0.77177,     0.77277,     0.77377,     0.77477,     0.77578,     0.77678,     0.77778,     0.77878,     0.77978,     0.78078,     0.78178,     0.78278,     0.78378,     0.78478,     0.78579,     0.78679,     0.78779,     0.78879,     0.78979,     0.79079,     0.79179,\n",
              "           0.79279,     0.79379,     0.79479,      0.7958,      0.7968,      0.7978,      0.7988,      0.7998,      0.8008,      0.8018,      0.8028,      0.8038,      0.8048,     0.80581,     0.80681,     0.80781,     0.80881,     0.80981,     0.81081,     0.81181,     0.81281,     0.81381,     0.81481,     0.81582,\n",
              "           0.81682,     0.81782,     0.81882,     0.81982,     0.82082,     0.82182,     0.82282,     0.82382,     0.82482,     0.82583,     0.82683,     0.82783,     0.82883,     0.82983,     0.83083,     0.83183,     0.83283,     0.83383,     0.83483,     0.83584,     0.83684,     0.83784,     0.83884,     0.83984,\n",
              "           0.84084,     0.84184,     0.84284,     0.84384,     0.84484,     0.84585,     0.84685,     0.84785,     0.84885,     0.84985,     0.85085,     0.85185,     0.85285,     0.85385,     0.85485,     0.85586,     0.85686,     0.85786,     0.85886,     0.85986,     0.86086,     0.86186,     0.86286,     0.86386,\n",
              "           0.86486,     0.86587,     0.86687,     0.86787,     0.86887,     0.86987,     0.87087,     0.87187,     0.87287,     0.87387,     0.87487,     0.87588,     0.87688,     0.87788,     0.87888,     0.87988,     0.88088,     0.88188,     0.88288,     0.88388,     0.88488,     0.88589,     0.88689,     0.88789,\n",
              "           0.88889,     0.88989,     0.89089,     0.89189,     0.89289,     0.89389,     0.89489,      0.8959,      0.8969,      0.8979,      0.8989,      0.8999,      0.9009,      0.9019,      0.9029,      0.9039,      0.9049,     0.90591,     0.90691,     0.90791,     0.90891,     0.90991,     0.91091,     0.91191,\n",
              "           0.91291,     0.91391,     0.91491,     0.91592,     0.91692,     0.91792,     0.91892,     0.91992,     0.92092,     0.92192,     0.92292,     0.92392,     0.92492,     0.92593,     0.92693,     0.92793,     0.92893,     0.92993,     0.93093,     0.93193,     0.93293,     0.93393,     0.93493,     0.93594,\n",
              "           0.93694,     0.93794,     0.93894,     0.93994,     0.94094,     0.94194,     0.94294,     0.94394,     0.94494,     0.94595,     0.94695,     0.94795,     0.94895,     0.94995,     0.95095,     0.95195,     0.95295,     0.95395,     0.95495,     0.95596,     0.95696,     0.95796,     0.95896,     0.95996,\n",
              "           0.96096,     0.96196,     0.96296,     0.96396,     0.96496,     0.96597,     0.96697,     0.96797,     0.96897,     0.96997,     0.97097,     0.97197,     0.97297,     0.97397,     0.97497,     0.97598,     0.97698,     0.97798,     0.97898,     0.97998,     0.98098,     0.98198,     0.98298,     0.98398,\n",
              "           0.98498,     0.98599,     0.98699,     0.98799,     0.98899,     0.98999,     0.99099,     0.99199,     0.99299,     0.99399,     0.99499,       0.996,       0.997,       0.998,       0.999,           1]), array([[   0.044533,    0.044533,    0.050321,    0.054851,    0.057712,    0.059592,    0.060879,    0.062222,    0.063782,    0.064977,    0.065795,    0.067431,    0.069614,    0.074314,    0.081425,    0.090804,    0.099802,     0.11014,     0.12187,     0.13133,     0.14247,     0.15025,     0.15589,\n",
              "            0.15963,      0.1628,     0.16805,     0.17094,     0.17423,     0.17884,     0.18307,     0.18714,     0.19005,     0.19326,     0.19802,     0.20132,     0.20641,     0.20951,     0.21874,     0.22545,     0.23038,     0.23505,     0.24346,     0.28251,     0.27425,    0.039912,           0,\n",
              "                  0,           0,           0,           0,           0,           0,           0,           0,           0,           0,           0,           0,           0,           0,           0,           0,           0,           0,           0,           0,           0,           0,           0,\n",
              "                  0,           0,           0,           0,           0,           0,           0,           0,           0,           0,           0,           0,           0,           0,           0,           0,           0,           0,           0,           0,           0,           0,           0,\n",
              "                  0,           0,           0,           0,           0,           0,           0,           0,           0,           0,           0,           0,           0,           0,           0,           0,           0,           0,           0,           0,           0,           0,           0,\n",
              "                  0,           0,           0,           0,           0,           0,           0,           0,           0,           0,           0,           0,           0,           0,           0,           0,           0,           0,           0,           0,           0,           0,           0,\n",
              "                  0,           0,           0,           0,           0,           0,           0,           0,           0,           0,           0,           0,           0,           0,           0,           0,           0,           0,           0,           0,           0,           0,           0,\n",
              "                  0,           0,           0,           0,           0,           0,           0,           0,           0,           0,           0,           0,           0,           0,           0,           0,           0,           0,           0,           0,           0,           0,           0,\n",
              "                  0,           0,           0,           0,           0,           0,           0,           0,           0,           0,           0,           0,           0,           0,           0,           0,           0,           0,           0,           0,           0,           0,           0,\n",
              "                  0,           0,           0,           0,           0,           0,           0,           0,           0,           0,           0,           0,           0,           0,           0,           0,           0,           0,           0,           0,           0,           0,           0,\n",
              "                  0,           0,           0,           0,           0,           0,           0,           0,           0,           0,           0,           0,           0,           0,           0,           0,           0,           0,           0,           0,           0,           0,           0,\n",
              "                  0,           0,           0,           0,           0,           0,           0,           0,           0,           0,           0,           0,           0,           0,           0,           0,           0,           0,           0,           0,           0,           0,           0,\n",
              "                  0,           0,           0,           0,           0,           0,           0,           0,           0,           0,           0,           0,           0,           0,           0,           0,           0,           0,           0,           0,           0,           0,           0,\n",
              "                  0,           0,           0,           0,           0,           0,           0,           0,           0,           0,           0,           0,           0,           0,           0,           0,           0,           0,           0,           0,           0,           0,           0,\n",
              "                  0,           0,           0,           0,           0,           0,           0,           0,           0,           0,           0,           0,           0,           0,           0,           0,           0,           0,           0,           0,           0,           0,           0,\n",
              "                  0,           0,           0,           0,           0,           0,           0,           0,           0,           0,           0,           0,           0,           0,           0,           0,           0,           0,           0,           0,           0,           0,           0,\n",
              "                  0,           0,           0,           0,           0,           0,           0,           0,           0,           0,           0,           0,           0,           0,           0,           0,           0,           0,           0,           0,           0,           0,           0,\n",
              "                  0,           0,           0,           0,           0,           0,           0,           0,           0,           0,           0,           0,           0,           0,           0,           0,           0,           0,           0,           0,           0,           0,           0,\n",
              "                  0,           0,           0,           0,           0,           0,           0,           0,           0,           0,           0,           0,           0,           0,           0,           0,           0,           0,           0,           0,           0,           0,           0,\n",
              "                  0,           0,           0,           0,           0,           0,           0,           0,           0,           0,           0,           0,           0,           0,           0,           0,           0,           0,           0,           0,           0,           0,           0,\n",
              "                  0,           0,           0,           0,           0,           0,           0,           0,           0,           0,           0,           0,           0,           0,           0,           0,           0,           0,           0,           0,           0,           0,           0,\n",
              "                  0,           0,           0,           0,           0,           0,           0,           0,           0,           0,           0,           0,           0,           0,           0,           0,           0,           0,           0,           0,           0,           0,           0,\n",
              "                  0,           0,           0,           0,           0,           0,           0,           0,           0,           0,           0,           0,           0,           0,           0,           0,           0,           0,           0,           0,           0,           0,           0,\n",
              "                  0,           0,           0,           0,           0,           0,           0,           0,           0,           0,           0,           0,           0,           0,           0,           0,           0,           0,           0,           0,           0,           0,           0,\n",
              "                  0,           0,           0,           0,           0,           0,           0,           0,           0,           0,           0,           0,           0,           0,           0,           0,           0,           0,           0,           0,           0,           0,           0,\n",
              "                  0,           0,           0,           0,           0,           0,           0,           0,           0,           0,           0,           0,           0,           0,           0,           0,           0,           0,           0,           0,           0,           0,           0,\n",
              "                  0,           0,           0,           0,           0,           0,           0,           0,           0,           0,           0,           0,           0,           0,           0,           0,           0,           0,           0,           0,           0,           0,           0,\n",
              "                  0,           0,           0,           0,           0,           0,           0,           0,           0,           0,           0,           0,           0,           0,           0,           0,           0,           0,           0,           0,           0,           0,           0,\n",
              "                  0,           0,           0,           0,           0,           0,           0,           0,           0,           0,           0,           0,           0,           0,           0,           0,           0,           0,           0,           0,           0,           0,           0,\n",
              "                  0,           0,           0,           0,           0,           0,           0,           0,           0,           0,           0,           0,           0,           0,           0,           0,           0,           0,           0,           0,           0,           0,           0,\n",
              "                  0,           0,           0,           0,           0,           0,           0,           0,           0,           0,           0,           0,           0,           0,           0,           0,           0,           0,           0,           0,           0,           0,           0,\n",
              "                  0,           0,           0,           0,           0,           0,           0,           0,           0,           0,           0,           0,           0,           0,           0,           0,           0,           0,           0,           0,           0,           0,           0,\n",
              "                  0,           0,           0,           0,           0,           0,           0,           0,           0,           0,           0,           0,           0,           0,           0,           0,           0,           0,           0,           0,           0,           0,           0,\n",
              "                  0,           0,           0,           0,           0,           0,           0,           0,           0,           0,           0,           0,           0,           0,           0,           0,           0,           0,           0,           0,           0,           0,           0,\n",
              "                  0,           0,           0,           0,           0,           0,           0,           0,           0,           0,           0,           0,           0,           0,           0,           0,           0,           0,           0,           0,           0,           0,           0,\n",
              "                  0,           0,           0,           0,           0,           0,           0,           0,           0,           0,           0,           0,           0,           0,           0,           0,           0,           0,           0,           0,           0,           0,           0,\n",
              "                  0,           0,           0,           0,           0,           0,           0,           0,           0,           0,           0,           0,           0,           0,           0,           0,           0,           0,           0,           0,           0,           0,           0,\n",
              "                  0,           0,           0,           0,           0,           0,           0,           0,           0,           0,           0,           0,           0,           0,           0,           0,           0,           0,           0,           0,           0,           0,           0,\n",
              "                  0,           0,           0,           0,           0,           0,           0,           0,           0,           0,           0,           0,           0,           0,           0,           0,           0,           0,           0,           0,           0,           0,           0,\n",
              "                  0,           0,           0,           0,           0,           0,           0,           0,           0,           0,           0,           0,           0,           0,           0,           0,           0,           0,           0,           0,           0,           0,           0,\n",
              "                  0,           0,           0,           0,           0,           0,           0,           0,           0,           0,           0,           0,           0,           0,           0,           0,           0,           0,           0,           0,           0,           0,           0,\n",
              "                  0,           0,           0,           0,           0,           0,           0,           0,           0,           0,           0,           0,           0,           0,           0,           0,           0,           0,           0,           0,           0,           0,           0,\n",
              "                  0,           0,           0,           0,           0,           0,           0,           0,           0,           0,           0,           0,           0,           0,           0,           0,           0,           0,           0,           0,           0,           0,           0,\n",
              "                  0,           0,           0,           0,           0,           0,           0,           0,           0,           0,           0]]), 'Confidence', 'F1'], [array([          0,    0.001001,    0.002002,    0.003003,    0.004004,    0.005005,    0.006006,    0.007007,    0.008008,    0.009009,     0.01001,    0.011011,    0.012012,    0.013013,    0.014014,    0.015015,    0.016016,    0.017017,    0.018018,    0.019019,     0.02002,    0.021021,    0.022022,    0.023023,\n",
              "          0.024024,    0.025025,    0.026026,    0.027027,    0.028028,    0.029029,     0.03003,    0.031031,    0.032032,    0.033033,    0.034034,    0.035035,    0.036036,    0.037037,    0.038038,    0.039039,     0.04004,    0.041041,    0.042042,    0.043043,    0.044044,    0.045045,    0.046046,    0.047047,\n",
              "          0.048048,    0.049049,     0.05005,    0.051051,    0.052052,    0.053053,    0.054054,    0.055055,    0.056056,    0.057057,    0.058058,    0.059059,     0.06006,    0.061061,    0.062062,    0.063063,    0.064064,    0.065065,    0.066066,    0.067067,    0.068068,    0.069069,     0.07007,    0.071071,\n",
              "          0.072072,    0.073073,    0.074074,    0.075075,    0.076076,    0.077077,    0.078078,    0.079079,     0.08008,    0.081081,    0.082082,    0.083083,    0.084084,    0.085085,    0.086086,    0.087087,    0.088088,    0.089089,     0.09009,    0.091091,    0.092092,    0.093093,    0.094094,    0.095095,\n",
              "          0.096096,    0.097097,    0.098098,    0.099099,      0.1001,      0.1011,      0.1021,      0.1031,      0.1041,     0.10511,     0.10611,     0.10711,     0.10811,     0.10911,     0.11011,     0.11111,     0.11211,     0.11311,     0.11411,     0.11512,     0.11612,     0.11712,     0.11812,     0.11912,\n",
              "           0.12012,     0.12112,     0.12212,     0.12312,     0.12412,     0.12513,     0.12613,     0.12713,     0.12813,     0.12913,     0.13013,     0.13113,     0.13213,     0.13313,     0.13413,     0.13514,     0.13614,     0.13714,     0.13814,     0.13914,     0.14014,     0.14114,     0.14214,     0.14314,\n",
              "           0.14414,     0.14515,     0.14615,     0.14715,     0.14815,     0.14915,     0.15015,     0.15115,     0.15215,     0.15315,     0.15415,     0.15516,     0.15616,     0.15716,     0.15816,     0.15916,     0.16016,     0.16116,     0.16216,     0.16316,     0.16416,     0.16517,     0.16617,     0.16717,\n",
              "           0.16817,     0.16917,     0.17017,     0.17117,     0.17217,     0.17317,     0.17417,     0.17518,     0.17618,     0.17718,     0.17818,     0.17918,     0.18018,     0.18118,     0.18218,     0.18318,     0.18418,     0.18519,     0.18619,     0.18719,     0.18819,     0.18919,     0.19019,     0.19119,\n",
              "           0.19219,     0.19319,     0.19419,      0.1952,      0.1962,      0.1972,      0.1982,      0.1992,      0.2002,      0.2012,      0.2022,      0.2032,      0.2042,     0.20521,     0.20621,     0.20721,     0.20821,     0.20921,     0.21021,     0.21121,     0.21221,     0.21321,     0.21421,     0.21522,\n",
              "           0.21622,     0.21722,     0.21822,     0.21922,     0.22022,     0.22122,     0.22222,     0.22322,     0.22422,     0.22523,     0.22623,     0.22723,     0.22823,     0.22923,     0.23023,     0.23123,     0.23223,     0.23323,     0.23423,     0.23524,     0.23624,     0.23724,     0.23824,     0.23924,\n",
              "           0.24024,     0.24124,     0.24224,     0.24324,     0.24424,     0.24525,     0.24625,     0.24725,     0.24825,     0.24925,     0.25025,     0.25125,     0.25225,     0.25325,     0.25425,     0.25526,     0.25626,     0.25726,     0.25826,     0.25926,     0.26026,     0.26126,     0.26226,     0.26326,\n",
              "           0.26426,     0.26527,     0.26627,     0.26727,     0.26827,     0.26927,     0.27027,     0.27127,     0.27227,     0.27327,     0.27427,     0.27528,     0.27628,     0.27728,     0.27828,     0.27928,     0.28028,     0.28128,     0.28228,     0.28328,     0.28428,     0.28529,     0.28629,     0.28729,\n",
              "           0.28829,     0.28929,     0.29029,     0.29129,     0.29229,     0.29329,     0.29429,      0.2953,      0.2963,      0.2973,      0.2983,      0.2993,      0.3003,      0.3013,      0.3023,      0.3033,      0.3043,     0.30531,     0.30631,     0.30731,     0.30831,     0.30931,     0.31031,     0.31131,\n",
              "           0.31231,     0.31331,     0.31431,     0.31532,     0.31632,     0.31732,     0.31832,     0.31932,     0.32032,     0.32132,     0.32232,     0.32332,     0.32432,     0.32533,     0.32633,     0.32733,     0.32833,     0.32933,     0.33033,     0.33133,     0.33233,     0.33333,     0.33433,     0.33534,\n",
              "           0.33634,     0.33734,     0.33834,     0.33934,     0.34034,     0.34134,     0.34234,     0.34334,     0.34434,     0.34535,     0.34635,     0.34735,     0.34835,     0.34935,     0.35035,     0.35135,     0.35235,     0.35335,     0.35435,     0.35536,     0.35636,     0.35736,     0.35836,     0.35936,\n",
              "           0.36036,     0.36136,     0.36236,     0.36336,     0.36436,     0.36537,     0.36637,     0.36737,     0.36837,     0.36937,     0.37037,     0.37137,     0.37237,     0.37337,     0.37437,     0.37538,     0.37638,     0.37738,     0.37838,     0.37938,     0.38038,     0.38138,     0.38238,     0.38338,\n",
              "           0.38438,     0.38539,     0.38639,     0.38739,     0.38839,     0.38939,     0.39039,     0.39139,     0.39239,     0.39339,     0.39439,      0.3954,      0.3964,      0.3974,      0.3984,      0.3994,      0.4004,      0.4014,      0.4024,      0.4034,      0.4044,     0.40541,     0.40641,     0.40741,\n",
              "           0.40841,     0.40941,     0.41041,     0.41141,     0.41241,     0.41341,     0.41441,     0.41542,     0.41642,     0.41742,     0.41842,     0.41942,     0.42042,     0.42142,     0.42242,     0.42342,     0.42442,     0.42543,     0.42643,     0.42743,     0.42843,     0.42943,     0.43043,     0.43143,\n",
              "           0.43243,     0.43343,     0.43443,     0.43544,     0.43644,     0.43744,     0.43844,     0.43944,     0.44044,     0.44144,     0.44244,     0.44344,     0.44444,     0.44545,     0.44645,     0.44745,     0.44845,     0.44945,     0.45045,     0.45145,     0.45245,     0.45345,     0.45445,     0.45546,\n",
              "           0.45646,     0.45746,     0.45846,     0.45946,     0.46046,     0.46146,     0.46246,     0.46346,     0.46446,     0.46547,     0.46647,     0.46747,     0.46847,     0.46947,     0.47047,     0.47147,     0.47247,     0.47347,     0.47447,     0.47548,     0.47648,     0.47748,     0.47848,     0.47948,\n",
              "           0.48048,     0.48148,     0.48248,     0.48348,     0.48448,     0.48549,     0.48649,     0.48749,     0.48849,     0.48949,     0.49049,     0.49149,     0.49249,     0.49349,     0.49449,      0.4955,      0.4965,      0.4975,      0.4985,      0.4995,      0.5005,      0.5015,      0.5025,      0.5035,\n",
              "            0.5045,     0.50551,     0.50651,     0.50751,     0.50851,     0.50951,     0.51051,     0.51151,     0.51251,     0.51351,     0.51451,     0.51552,     0.51652,     0.51752,     0.51852,     0.51952,     0.52052,     0.52152,     0.52252,     0.52352,     0.52452,     0.52553,     0.52653,     0.52753,\n",
              "           0.52853,     0.52953,     0.53053,     0.53153,     0.53253,     0.53353,     0.53453,     0.53554,     0.53654,     0.53754,     0.53854,     0.53954,     0.54054,     0.54154,     0.54254,     0.54354,     0.54454,     0.54555,     0.54655,     0.54755,     0.54855,     0.54955,     0.55055,     0.55155,\n",
              "           0.55255,     0.55355,     0.55455,     0.55556,     0.55656,     0.55756,     0.55856,     0.55956,     0.56056,     0.56156,     0.56256,     0.56356,     0.56456,     0.56557,     0.56657,     0.56757,     0.56857,     0.56957,     0.57057,     0.57157,     0.57257,     0.57357,     0.57457,     0.57558,\n",
              "           0.57658,     0.57758,     0.57858,     0.57958,     0.58058,     0.58158,     0.58258,     0.58358,     0.58458,     0.58559,     0.58659,     0.58759,     0.58859,     0.58959,     0.59059,     0.59159,     0.59259,     0.59359,     0.59459,      0.5956,      0.5966,      0.5976,      0.5986,      0.5996,\n",
              "            0.6006,      0.6016,      0.6026,      0.6036,      0.6046,     0.60561,     0.60661,     0.60761,     0.60861,     0.60961,     0.61061,     0.61161,     0.61261,     0.61361,     0.61461,     0.61562,     0.61662,     0.61762,     0.61862,     0.61962,     0.62062,     0.62162,     0.62262,     0.62362,\n",
              "           0.62462,     0.62563,     0.62663,     0.62763,     0.62863,     0.62963,     0.63063,     0.63163,     0.63263,     0.63363,     0.63463,     0.63564,     0.63664,     0.63764,     0.63864,     0.63964,     0.64064,     0.64164,     0.64264,     0.64364,     0.64464,     0.64565,     0.64665,     0.64765,\n",
              "           0.64865,     0.64965,     0.65065,     0.65165,     0.65265,     0.65365,     0.65465,     0.65566,     0.65666,     0.65766,     0.65866,     0.65966,     0.66066,     0.66166,     0.66266,     0.66366,     0.66466,     0.66567,     0.66667,     0.66767,     0.66867,     0.66967,     0.67067,     0.67167,\n",
              "           0.67267,     0.67367,     0.67467,     0.67568,     0.67668,     0.67768,     0.67868,     0.67968,     0.68068,     0.68168,     0.68268,     0.68368,     0.68468,     0.68569,     0.68669,     0.68769,     0.68869,     0.68969,     0.69069,     0.69169,     0.69269,     0.69369,     0.69469,      0.6957,\n",
              "            0.6967,      0.6977,      0.6987,      0.6997,      0.7007,      0.7017,      0.7027,      0.7037,      0.7047,     0.70571,     0.70671,     0.70771,     0.70871,     0.70971,     0.71071,     0.71171,     0.71271,     0.71371,     0.71471,     0.71572,     0.71672,     0.71772,     0.71872,     0.71972,\n",
              "           0.72072,     0.72172,     0.72272,     0.72372,     0.72472,     0.72573,     0.72673,     0.72773,     0.72873,     0.72973,     0.73073,     0.73173,     0.73273,     0.73373,     0.73473,     0.73574,     0.73674,     0.73774,     0.73874,     0.73974,     0.74074,     0.74174,     0.74274,     0.74374,\n",
              "           0.74474,     0.74575,     0.74675,     0.74775,     0.74875,     0.74975,     0.75075,     0.75175,     0.75275,     0.75375,     0.75475,     0.75576,     0.75676,     0.75776,     0.75876,     0.75976,     0.76076,     0.76176,     0.76276,     0.76376,     0.76476,     0.76577,     0.76677,     0.76777,\n",
              "           0.76877,     0.76977,     0.77077,     0.77177,     0.77277,     0.77377,     0.77477,     0.77578,     0.77678,     0.77778,     0.77878,     0.77978,     0.78078,     0.78178,     0.78278,     0.78378,     0.78478,     0.78579,     0.78679,     0.78779,     0.78879,     0.78979,     0.79079,     0.79179,\n",
              "           0.79279,     0.79379,     0.79479,      0.7958,      0.7968,      0.7978,      0.7988,      0.7998,      0.8008,      0.8018,      0.8028,      0.8038,      0.8048,     0.80581,     0.80681,     0.80781,     0.80881,     0.80981,     0.81081,     0.81181,     0.81281,     0.81381,     0.81481,     0.81582,\n",
              "           0.81682,     0.81782,     0.81882,     0.81982,     0.82082,     0.82182,     0.82282,     0.82382,     0.82482,     0.82583,     0.82683,     0.82783,     0.82883,     0.82983,     0.83083,     0.83183,     0.83283,     0.83383,     0.83483,     0.83584,     0.83684,     0.83784,     0.83884,     0.83984,\n",
              "           0.84084,     0.84184,     0.84284,     0.84384,     0.84484,     0.84585,     0.84685,     0.84785,     0.84885,     0.84985,     0.85085,     0.85185,     0.85285,     0.85385,     0.85485,     0.85586,     0.85686,     0.85786,     0.85886,     0.85986,     0.86086,     0.86186,     0.86286,     0.86386,\n",
              "           0.86486,     0.86587,     0.86687,     0.86787,     0.86887,     0.86987,     0.87087,     0.87187,     0.87287,     0.87387,     0.87487,     0.87588,     0.87688,     0.87788,     0.87888,     0.87988,     0.88088,     0.88188,     0.88288,     0.88388,     0.88488,     0.88589,     0.88689,     0.88789,\n",
              "           0.88889,     0.88989,     0.89089,     0.89189,     0.89289,     0.89389,     0.89489,      0.8959,      0.8969,      0.8979,      0.8989,      0.8999,      0.9009,      0.9019,      0.9029,      0.9039,      0.9049,     0.90591,     0.90691,     0.90791,     0.90891,     0.90991,     0.91091,     0.91191,\n",
              "           0.91291,     0.91391,     0.91491,     0.91592,     0.91692,     0.91792,     0.91892,     0.91992,     0.92092,     0.92192,     0.92292,     0.92392,     0.92492,     0.92593,     0.92693,     0.92793,     0.92893,     0.92993,     0.93093,     0.93193,     0.93293,     0.93393,     0.93493,     0.93594,\n",
              "           0.93694,     0.93794,     0.93894,     0.93994,     0.94094,     0.94194,     0.94294,     0.94394,     0.94494,     0.94595,     0.94695,     0.94795,     0.94895,     0.94995,     0.95095,     0.95195,     0.95295,     0.95395,     0.95495,     0.95596,     0.95696,     0.95796,     0.95896,     0.95996,\n",
              "           0.96096,     0.96196,     0.96296,     0.96396,     0.96496,     0.96597,     0.96697,     0.96797,     0.96897,     0.96997,     0.97097,     0.97197,     0.97297,     0.97397,     0.97497,     0.97598,     0.97698,     0.97798,     0.97898,     0.97998,     0.98098,     0.98198,     0.98298,     0.98398,\n",
              "           0.98498,     0.98599,     0.98699,     0.98799,     0.98899,     0.98999,     0.99099,     0.99199,     0.99299,     0.99399,     0.99499,       0.996,       0.997,       0.998,       0.999,           1]), array([[   0.022774,    0.022774,     0.02581,    0.028199,    0.029713,    0.030711,    0.031395,     0.03211,    0.032941,     0.03358,    0.034017,    0.034892,    0.036062,    0.038591,     0.04244,    0.047561,    0.052522,    0.058277,    0.064887,    0.070279,    0.076697,    0.081227,    0.084533,\n",
              "           0.086738,     0.08861,     0.09173,    0.093459,    0.095425,    0.098199,     0.10076,     0.10323,       0.105,     0.10697,     0.10989,     0.11193,     0.11508,     0.11701,      0.1228,     0.12705,     0.13018,     0.13414,     0.14183,     0.17369,     0.29475,           1,           1,\n",
              "                  1,           1,           1,           1,           1,           1,           1,           1,           1,           1,           1,           1,           1,           1,           1,           1,           1,           1,           1,           1,           1,           1,           1,\n",
              "                  1,           1,           1,           1,           1,           1,           1,           1,           1,           1,           1,           1,           1,           1,           1,           1,           1,           1,           1,           1,           1,           1,           1,\n",
              "                  1,           1,           1,           1,           1,           1,           1,           1,           1,           1,           1,           1,           1,           1,           1,           1,           1,           1,           1,           1,           1,           1,           1,\n",
              "                  1,           1,           1,           1,           1,           1,           1,           1,           1,           1,           1,           1,           1,           1,           1,           1,           1,           1,           1,           1,           1,           1,           1,\n",
              "                  1,           1,           1,           1,           1,           1,           1,           1,           1,           1,           1,           1,           1,           1,           1,           1,           1,           1,           1,           1,           1,           1,           1,\n",
              "                  1,           1,           1,           1,           1,           1,           1,           1,           1,           1,           1,           1,           1,           1,           1,           1,           1,           1,           1,           1,           1,           1,           1,\n",
              "                  1,           1,           1,           1,           1,           1,           1,           1,           1,           1,           1,           1,           1,           1,           1,           1,           1,           1,           1,           1,           1,           1,           1,\n",
              "                  1,           1,           1,           1,           1,           1,           1,           1,           1,           1,           1,           1,           1,           1,           1,           1,           1,           1,           1,           1,           1,           1,           1,\n",
              "                  1,           1,           1,           1,           1,           1,           1,           1,           1,           1,           1,           1,           1,           1,           1,           1,           1,           1,           1,           1,           1,           1,           1,\n",
              "                  1,           1,           1,           1,           1,           1,           1,           1,           1,           1,           1,           1,           1,           1,           1,           1,           1,           1,           1,           1,           1,           1,           1,\n",
              "                  1,           1,           1,           1,           1,           1,           1,           1,           1,           1,           1,           1,           1,           1,           1,           1,           1,           1,           1,           1,           1,           1,           1,\n",
              "                  1,           1,           1,           1,           1,           1,           1,           1,           1,           1,           1,           1,           1,           1,           1,           1,           1,           1,           1,           1,           1,           1,           1,\n",
              "                  1,           1,           1,           1,           1,           1,           1,           1,           1,           1,           1,           1,           1,           1,           1,           1,           1,           1,           1,           1,           1,           1,           1,\n",
              "                  1,           1,           1,           1,           1,           1,           1,           1,           1,           1,           1,           1,           1,           1,           1,           1,           1,           1,           1,           1,           1,           1,           1,\n",
              "                  1,           1,           1,           1,           1,           1,           1,           1,           1,           1,           1,           1,           1,           1,           1,           1,           1,           1,           1,           1,           1,           1,           1,\n",
              "                  1,           1,           1,           1,           1,           1,           1,           1,           1,           1,           1,           1,           1,           1,           1,           1,           1,           1,           1,           1,           1,           1,           1,\n",
              "                  1,           1,           1,           1,           1,           1,           1,           1,           1,           1,           1,           1,           1,           1,           1,           1,           1,           1,           1,           1,           1,           1,           1,\n",
              "                  1,           1,           1,           1,           1,           1,           1,           1,           1,           1,           1,           1,           1,           1,           1,           1,           1,           1,           1,           1,           1,           1,           1,\n",
              "                  1,           1,           1,           1,           1,           1,           1,           1,           1,           1,           1,           1,           1,           1,           1,           1,           1,           1,           1,           1,           1,           1,           1,\n",
              "                  1,           1,           1,           1,           1,           1,           1,           1,           1,           1,           1,           1,           1,           1,           1,           1,           1,           1,           1,           1,           1,           1,           1,\n",
              "                  1,           1,           1,           1,           1,           1,           1,           1,           1,           1,           1,           1,           1,           1,           1,           1,           1,           1,           1,           1,           1,           1,           1,\n",
              "                  1,           1,           1,           1,           1,           1,           1,           1,           1,           1,           1,           1,           1,           1,           1,           1,           1,           1,           1,           1,           1,           1,           1,\n",
              "                  1,           1,           1,           1,           1,           1,           1,           1,           1,           1,           1,           1,           1,           1,           1,           1,           1,           1,           1,           1,           1,           1,           1,\n",
              "                  1,           1,           1,           1,           1,           1,           1,           1,           1,           1,           1,           1,           1,           1,           1,           1,           1,           1,           1,           1,           1,           1,           1,\n",
              "                  1,           1,           1,           1,           1,           1,           1,           1,           1,           1,           1,           1,           1,           1,           1,           1,           1,           1,           1,           1,           1,           1,           1,\n",
              "                  1,           1,           1,           1,           1,           1,           1,           1,           1,           1,           1,           1,           1,           1,           1,           1,           1,           1,           1,           1,           1,           1,           1,\n",
              "                  1,           1,           1,           1,           1,           1,           1,           1,           1,           1,           1,           1,           1,           1,           1,           1,           1,           1,           1,           1,           1,           1,           1,\n",
              "                  1,           1,           1,           1,           1,           1,           1,           1,           1,           1,           1,           1,           1,           1,           1,           1,           1,           1,           1,           1,           1,           1,           1,\n",
              "                  1,           1,           1,           1,           1,           1,           1,           1,           1,           1,           1,           1,           1,           1,           1,           1,           1,           1,           1,           1,           1,           1,           1,\n",
              "                  1,           1,           1,           1,           1,           1,           1,           1,           1,           1,           1,           1,           1,           1,           1,           1,           1,           1,           1,           1,           1,           1,           1,\n",
              "                  1,           1,           1,           1,           1,           1,           1,           1,           1,           1,           1,           1,           1,           1,           1,           1,           1,           1,           1,           1,           1,           1,           1,\n",
              "                  1,           1,           1,           1,           1,           1,           1,           1,           1,           1,           1,           1,           1,           1,           1,           1,           1,           1,           1,           1,           1,           1,           1,\n",
              "                  1,           1,           1,           1,           1,           1,           1,           1,           1,           1,           1,           1,           1,           1,           1,           1,           1,           1,           1,           1,           1,           1,           1,\n",
              "                  1,           1,           1,           1,           1,           1,           1,           1,           1,           1,           1,           1,           1,           1,           1,           1,           1,           1,           1,           1,           1,           1,           1,\n",
              "                  1,           1,           1,           1,           1,           1,           1,           1,           1,           1,           1,           1,           1,           1,           1,           1,           1,           1,           1,           1,           1,           1,           1,\n",
              "                  1,           1,           1,           1,           1,           1,           1,           1,           1,           1,           1,           1,           1,           1,           1,           1,           1,           1,           1,           1,           1,           1,           1,\n",
              "                  1,           1,           1,           1,           1,           1,           1,           1,           1,           1,           1,           1,           1,           1,           1,           1,           1,           1,           1,           1,           1,           1,           1,\n",
              "                  1,           1,           1,           1,           1,           1,           1,           1,           1,           1,           1,           1,           1,           1,           1,           1,           1,           1,           1,           1,           1,           1,           1,\n",
              "                  1,           1,           1,           1,           1,           1,           1,           1,           1,           1,           1,           1,           1,           1,           1,           1,           1,           1,           1,           1,           1,           1,           1,\n",
              "                  1,           1,           1,           1,           1,           1,           1,           1,           1,           1,           1,           1,           1,           1,           1,           1,           1,           1,           1,           1,           1,           1,           1,\n",
              "                  1,           1,           1,           1,           1,           1,           1,           1,           1,           1,           1,           1,           1,           1,           1,           1,           1,           1,           1,           1,           1,           1,           1,\n",
              "                  1,           1,           1,           1,           1,           1,           1,           1,           1,           1,           1]]), 'Confidence', 'Precision'], [array([          0,    0.001001,    0.002002,    0.003003,    0.004004,    0.005005,    0.006006,    0.007007,    0.008008,    0.009009,     0.01001,    0.011011,    0.012012,    0.013013,    0.014014,    0.015015,    0.016016,    0.017017,    0.018018,    0.019019,     0.02002,    0.021021,    0.022022,    0.023023,\n",
              "          0.024024,    0.025025,    0.026026,    0.027027,    0.028028,    0.029029,     0.03003,    0.031031,    0.032032,    0.033033,    0.034034,    0.035035,    0.036036,    0.037037,    0.038038,    0.039039,     0.04004,    0.041041,    0.042042,    0.043043,    0.044044,    0.045045,    0.046046,    0.047047,\n",
              "          0.048048,    0.049049,     0.05005,    0.051051,    0.052052,    0.053053,    0.054054,    0.055055,    0.056056,    0.057057,    0.058058,    0.059059,     0.06006,    0.061061,    0.062062,    0.063063,    0.064064,    0.065065,    0.066066,    0.067067,    0.068068,    0.069069,     0.07007,    0.071071,\n",
              "          0.072072,    0.073073,    0.074074,    0.075075,    0.076076,    0.077077,    0.078078,    0.079079,     0.08008,    0.081081,    0.082082,    0.083083,    0.084084,    0.085085,    0.086086,    0.087087,    0.088088,    0.089089,     0.09009,    0.091091,    0.092092,    0.093093,    0.094094,    0.095095,\n",
              "          0.096096,    0.097097,    0.098098,    0.099099,      0.1001,      0.1011,      0.1021,      0.1031,      0.1041,     0.10511,     0.10611,     0.10711,     0.10811,     0.10911,     0.11011,     0.11111,     0.11211,     0.11311,     0.11411,     0.11512,     0.11612,     0.11712,     0.11812,     0.11912,\n",
              "           0.12012,     0.12112,     0.12212,     0.12312,     0.12412,     0.12513,     0.12613,     0.12713,     0.12813,     0.12913,     0.13013,     0.13113,     0.13213,     0.13313,     0.13413,     0.13514,     0.13614,     0.13714,     0.13814,     0.13914,     0.14014,     0.14114,     0.14214,     0.14314,\n",
              "           0.14414,     0.14515,     0.14615,     0.14715,     0.14815,     0.14915,     0.15015,     0.15115,     0.15215,     0.15315,     0.15415,     0.15516,     0.15616,     0.15716,     0.15816,     0.15916,     0.16016,     0.16116,     0.16216,     0.16316,     0.16416,     0.16517,     0.16617,     0.16717,\n",
              "           0.16817,     0.16917,     0.17017,     0.17117,     0.17217,     0.17317,     0.17417,     0.17518,     0.17618,     0.17718,     0.17818,     0.17918,     0.18018,     0.18118,     0.18218,     0.18318,     0.18418,     0.18519,     0.18619,     0.18719,     0.18819,     0.18919,     0.19019,     0.19119,\n",
              "           0.19219,     0.19319,     0.19419,      0.1952,      0.1962,      0.1972,      0.1982,      0.1992,      0.2002,      0.2012,      0.2022,      0.2032,      0.2042,     0.20521,     0.20621,     0.20721,     0.20821,     0.20921,     0.21021,     0.21121,     0.21221,     0.21321,     0.21421,     0.21522,\n",
              "           0.21622,     0.21722,     0.21822,     0.21922,     0.22022,     0.22122,     0.22222,     0.22322,     0.22422,     0.22523,     0.22623,     0.22723,     0.22823,     0.22923,     0.23023,     0.23123,     0.23223,     0.23323,     0.23423,     0.23524,     0.23624,     0.23724,     0.23824,     0.23924,\n",
              "           0.24024,     0.24124,     0.24224,     0.24324,     0.24424,     0.24525,     0.24625,     0.24725,     0.24825,     0.24925,     0.25025,     0.25125,     0.25225,     0.25325,     0.25425,     0.25526,     0.25626,     0.25726,     0.25826,     0.25926,     0.26026,     0.26126,     0.26226,     0.26326,\n",
              "           0.26426,     0.26527,     0.26627,     0.26727,     0.26827,     0.26927,     0.27027,     0.27127,     0.27227,     0.27327,     0.27427,     0.27528,     0.27628,     0.27728,     0.27828,     0.27928,     0.28028,     0.28128,     0.28228,     0.28328,     0.28428,     0.28529,     0.28629,     0.28729,\n",
              "           0.28829,     0.28929,     0.29029,     0.29129,     0.29229,     0.29329,     0.29429,      0.2953,      0.2963,      0.2973,      0.2983,      0.2993,      0.3003,      0.3013,      0.3023,      0.3033,      0.3043,     0.30531,     0.30631,     0.30731,     0.30831,     0.30931,     0.31031,     0.31131,\n",
              "           0.31231,     0.31331,     0.31431,     0.31532,     0.31632,     0.31732,     0.31832,     0.31932,     0.32032,     0.32132,     0.32232,     0.32332,     0.32432,     0.32533,     0.32633,     0.32733,     0.32833,     0.32933,     0.33033,     0.33133,     0.33233,     0.33333,     0.33433,     0.33534,\n",
              "           0.33634,     0.33734,     0.33834,     0.33934,     0.34034,     0.34134,     0.34234,     0.34334,     0.34434,     0.34535,     0.34635,     0.34735,     0.34835,     0.34935,     0.35035,     0.35135,     0.35235,     0.35335,     0.35435,     0.35536,     0.35636,     0.35736,     0.35836,     0.35936,\n",
              "           0.36036,     0.36136,     0.36236,     0.36336,     0.36436,     0.36537,     0.36637,     0.36737,     0.36837,     0.36937,     0.37037,     0.37137,     0.37237,     0.37337,     0.37437,     0.37538,     0.37638,     0.37738,     0.37838,     0.37938,     0.38038,     0.38138,     0.38238,     0.38338,\n",
              "           0.38438,     0.38539,     0.38639,     0.38739,     0.38839,     0.38939,     0.39039,     0.39139,     0.39239,     0.39339,     0.39439,      0.3954,      0.3964,      0.3974,      0.3984,      0.3994,      0.4004,      0.4014,      0.4024,      0.4034,      0.4044,     0.40541,     0.40641,     0.40741,\n",
              "           0.40841,     0.40941,     0.41041,     0.41141,     0.41241,     0.41341,     0.41441,     0.41542,     0.41642,     0.41742,     0.41842,     0.41942,     0.42042,     0.42142,     0.42242,     0.42342,     0.42442,     0.42543,     0.42643,     0.42743,     0.42843,     0.42943,     0.43043,     0.43143,\n",
              "           0.43243,     0.43343,     0.43443,     0.43544,     0.43644,     0.43744,     0.43844,     0.43944,     0.44044,     0.44144,     0.44244,     0.44344,     0.44444,     0.44545,     0.44645,     0.44745,     0.44845,     0.44945,     0.45045,     0.45145,     0.45245,     0.45345,     0.45445,     0.45546,\n",
              "           0.45646,     0.45746,     0.45846,     0.45946,     0.46046,     0.46146,     0.46246,     0.46346,     0.46446,     0.46547,     0.46647,     0.46747,     0.46847,     0.46947,     0.47047,     0.47147,     0.47247,     0.47347,     0.47447,     0.47548,     0.47648,     0.47748,     0.47848,     0.47948,\n",
              "           0.48048,     0.48148,     0.48248,     0.48348,     0.48448,     0.48549,     0.48649,     0.48749,     0.48849,     0.48949,     0.49049,     0.49149,     0.49249,     0.49349,     0.49449,      0.4955,      0.4965,      0.4975,      0.4985,      0.4995,      0.5005,      0.5015,      0.5025,      0.5035,\n",
              "            0.5045,     0.50551,     0.50651,     0.50751,     0.50851,     0.50951,     0.51051,     0.51151,     0.51251,     0.51351,     0.51451,     0.51552,     0.51652,     0.51752,     0.51852,     0.51952,     0.52052,     0.52152,     0.52252,     0.52352,     0.52452,     0.52553,     0.52653,     0.52753,\n",
              "           0.52853,     0.52953,     0.53053,     0.53153,     0.53253,     0.53353,     0.53453,     0.53554,     0.53654,     0.53754,     0.53854,     0.53954,     0.54054,     0.54154,     0.54254,     0.54354,     0.54454,     0.54555,     0.54655,     0.54755,     0.54855,     0.54955,     0.55055,     0.55155,\n",
              "           0.55255,     0.55355,     0.55455,     0.55556,     0.55656,     0.55756,     0.55856,     0.55956,     0.56056,     0.56156,     0.56256,     0.56356,     0.56456,     0.56557,     0.56657,     0.56757,     0.56857,     0.56957,     0.57057,     0.57157,     0.57257,     0.57357,     0.57457,     0.57558,\n",
              "           0.57658,     0.57758,     0.57858,     0.57958,     0.58058,     0.58158,     0.58258,     0.58358,     0.58458,     0.58559,     0.58659,     0.58759,     0.58859,     0.58959,     0.59059,     0.59159,     0.59259,     0.59359,     0.59459,      0.5956,      0.5966,      0.5976,      0.5986,      0.5996,\n",
              "            0.6006,      0.6016,      0.6026,      0.6036,      0.6046,     0.60561,     0.60661,     0.60761,     0.60861,     0.60961,     0.61061,     0.61161,     0.61261,     0.61361,     0.61461,     0.61562,     0.61662,     0.61762,     0.61862,     0.61962,     0.62062,     0.62162,     0.62262,     0.62362,\n",
              "           0.62462,     0.62563,     0.62663,     0.62763,     0.62863,     0.62963,     0.63063,     0.63163,     0.63263,     0.63363,     0.63463,     0.63564,     0.63664,     0.63764,     0.63864,     0.63964,     0.64064,     0.64164,     0.64264,     0.64364,     0.64464,     0.64565,     0.64665,     0.64765,\n",
              "           0.64865,     0.64965,     0.65065,     0.65165,     0.65265,     0.65365,     0.65465,     0.65566,     0.65666,     0.65766,     0.65866,     0.65966,     0.66066,     0.66166,     0.66266,     0.66366,     0.66466,     0.66567,     0.66667,     0.66767,     0.66867,     0.66967,     0.67067,     0.67167,\n",
              "           0.67267,     0.67367,     0.67467,     0.67568,     0.67668,     0.67768,     0.67868,     0.67968,     0.68068,     0.68168,     0.68268,     0.68368,     0.68468,     0.68569,     0.68669,     0.68769,     0.68869,     0.68969,     0.69069,     0.69169,     0.69269,     0.69369,     0.69469,      0.6957,\n",
              "            0.6967,      0.6977,      0.6987,      0.6997,      0.7007,      0.7017,      0.7027,      0.7037,      0.7047,     0.70571,     0.70671,     0.70771,     0.70871,     0.70971,     0.71071,     0.71171,     0.71271,     0.71371,     0.71471,     0.71572,     0.71672,     0.71772,     0.71872,     0.71972,\n",
              "           0.72072,     0.72172,     0.72272,     0.72372,     0.72472,     0.72573,     0.72673,     0.72773,     0.72873,     0.72973,     0.73073,     0.73173,     0.73273,     0.73373,     0.73473,     0.73574,     0.73674,     0.73774,     0.73874,     0.73974,     0.74074,     0.74174,     0.74274,     0.74374,\n",
              "           0.74474,     0.74575,     0.74675,     0.74775,     0.74875,     0.74975,     0.75075,     0.75175,     0.75275,     0.75375,     0.75475,     0.75576,     0.75676,     0.75776,     0.75876,     0.75976,     0.76076,     0.76176,     0.76276,     0.76376,     0.76476,     0.76577,     0.76677,     0.76777,\n",
              "           0.76877,     0.76977,     0.77077,     0.77177,     0.77277,     0.77377,     0.77477,     0.77578,     0.77678,     0.77778,     0.77878,     0.77978,     0.78078,     0.78178,     0.78278,     0.78378,     0.78478,     0.78579,     0.78679,     0.78779,     0.78879,     0.78979,     0.79079,     0.79179,\n",
              "           0.79279,     0.79379,     0.79479,      0.7958,      0.7968,      0.7978,      0.7988,      0.7998,      0.8008,      0.8018,      0.8028,      0.8038,      0.8048,     0.80581,     0.80681,     0.80781,     0.80881,     0.80981,     0.81081,     0.81181,     0.81281,     0.81381,     0.81481,     0.81582,\n",
              "           0.81682,     0.81782,     0.81882,     0.81982,     0.82082,     0.82182,     0.82282,     0.82382,     0.82482,     0.82583,     0.82683,     0.82783,     0.82883,     0.82983,     0.83083,     0.83183,     0.83283,     0.83383,     0.83483,     0.83584,     0.83684,     0.83784,     0.83884,     0.83984,\n",
              "           0.84084,     0.84184,     0.84284,     0.84384,     0.84484,     0.84585,     0.84685,     0.84785,     0.84885,     0.84985,     0.85085,     0.85185,     0.85285,     0.85385,     0.85485,     0.85586,     0.85686,     0.85786,     0.85886,     0.85986,     0.86086,     0.86186,     0.86286,     0.86386,\n",
              "           0.86486,     0.86587,     0.86687,     0.86787,     0.86887,     0.86987,     0.87087,     0.87187,     0.87287,     0.87387,     0.87487,     0.87588,     0.87688,     0.87788,     0.87888,     0.87988,     0.88088,     0.88188,     0.88288,     0.88388,     0.88488,     0.88589,     0.88689,     0.88789,\n",
              "           0.88889,     0.88989,     0.89089,     0.89189,     0.89289,     0.89389,     0.89489,      0.8959,      0.8969,      0.8979,      0.8989,      0.8999,      0.9009,      0.9019,      0.9029,      0.9039,      0.9049,     0.90591,     0.90691,     0.90791,     0.90891,     0.90991,     0.91091,     0.91191,\n",
              "           0.91291,     0.91391,     0.91491,     0.91592,     0.91692,     0.91792,     0.91892,     0.91992,     0.92092,     0.92192,     0.92292,     0.92392,     0.92492,     0.92593,     0.92693,     0.92793,     0.92893,     0.92993,     0.93093,     0.93193,     0.93293,     0.93393,     0.93493,     0.93594,\n",
              "           0.93694,     0.93794,     0.93894,     0.93994,     0.94094,     0.94194,     0.94294,     0.94394,     0.94494,     0.94595,     0.94695,     0.94795,     0.94895,     0.94995,     0.95095,     0.95195,     0.95295,     0.95395,     0.95495,     0.95596,     0.95696,     0.95796,     0.95896,     0.95996,\n",
              "           0.96096,     0.96196,     0.96296,     0.96396,     0.96496,     0.96597,     0.96697,     0.96797,     0.96897,     0.96997,     0.97097,     0.97197,     0.97297,     0.97397,     0.97497,     0.97598,     0.97698,     0.97798,     0.97898,     0.97998,     0.98098,     0.98198,     0.98298,     0.98398,\n",
              "           0.98498,     0.98599,     0.98699,     0.98799,     0.98899,     0.98999,     0.99099,     0.99199,     0.99299,     0.99399,     0.99499,       0.996,       0.997,       0.998,       0.999,           1]), array([[          1,           1,           1,           1,           1,           1,           1,           1,           1,           1,           1,           1,           1,           1,           1,           1,           1,           1,           1,           1,           1,           1,           1,\n",
              "                  1,           1,           1,           1,           1,           1,           1,           1,           1,           1,           1,           1,           1,           1,           1,           1,           1,     0.94872,     0.85897,     0.75641,     0.25641,    0.020362,           0,\n",
              "                  0,           0,           0,           0,           0,           0,           0,           0,           0,           0,           0,           0,           0,           0,           0,           0,           0,           0,           0,           0,           0,           0,           0,\n",
              "                  0,           0,           0,           0,           0,           0,           0,           0,           0,           0,           0,           0,           0,           0,           0,           0,           0,           0,           0,           0,           0,           0,           0,\n",
              "                  0,           0,           0,           0,           0,           0,           0,           0,           0,           0,           0,           0,           0,           0,           0,           0,           0,           0,           0,           0,           0,           0,           0,\n",
              "                  0,           0,           0,           0,           0,           0,           0,           0,           0,           0,           0,           0,           0,           0,           0,           0,           0,           0,           0,           0,           0,           0,           0,\n",
              "                  0,           0,           0,           0,           0,           0,           0,           0,           0,           0,           0,           0,           0,           0,           0,           0,           0,           0,           0,           0,           0,           0,           0,\n",
              "                  0,           0,           0,           0,           0,           0,           0,           0,           0,           0,           0,           0,           0,           0,           0,           0,           0,           0,           0,           0,           0,           0,           0,\n",
              "                  0,           0,           0,           0,           0,           0,           0,           0,           0,           0,           0,           0,           0,           0,           0,           0,           0,           0,           0,           0,           0,           0,           0,\n",
              "                  0,           0,           0,           0,           0,           0,           0,           0,           0,           0,           0,           0,           0,           0,           0,           0,           0,           0,           0,           0,           0,           0,           0,\n",
              "                  0,           0,           0,           0,           0,           0,           0,           0,           0,           0,           0,           0,           0,           0,           0,           0,           0,           0,           0,           0,           0,           0,           0,\n",
              "                  0,           0,           0,           0,           0,           0,           0,           0,           0,           0,           0,           0,           0,           0,           0,           0,           0,           0,           0,           0,           0,           0,           0,\n",
              "                  0,           0,           0,           0,           0,           0,           0,           0,           0,           0,           0,           0,           0,           0,           0,           0,           0,           0,           0,           0,           0,           0,           0,\n",
              "                  0,           0,           0,           0,           0,           0,           0,           0,           0,           0,           0,           0,           0,           0,           0,           0,           0,           0,           0,           0,           0,           0,           0,\n",
              "                  0,           0,           0,           0,           0,           0,           0,           0,           0,           0,           0,           0,           0,           0,           0,           0,           0,           0,           0,           0,           0,           0,           0,\n",
              "                  0,           0,           0,           0,           0,           0,           0,           0,           0,           0,           0,           0,           0,           0,           0,           0,           0,           0,           0,           0,           0,           0,           0,\n",
              "                  0,           0,           0,           0,           0,           0,           0,           0,           0,           0,           0,           0,           0,           0,           0,           0,           0,           0,           0,           0,           0,           0,           0,\n",
              "                  0,           0,           0,           0,           0,           0,           0,           0,           0,           0,           0,           0,           0,           0,           0,           0,           0,           0,           0,           0,           0,           0,           0,\n",
              "                  0,           0,           0,           0,           0,           0,           0,           0,           0,           0,           0,           0,           0,           0,           0,           0,           0,           0,           0,           0,           0,           0,           0,\n",
              "                  0,           0,           0,           0,           0,           0,           0,           0,           0,           0,           0,           0,           0,           0,           0,           0,           0,           0,           0,           0,           0,           0,           0,\n",
              "                  0,           0,           0,           0,           0,           0,           0,           0,           0,           0,           0,           0,           0,           0,           0,           0,           0,           0,           0,           0,           0,           0,           0,\n",
              "                  0,           0,           0,           0,           0,           0,           0,           0,           0,           0,           0,           0,           0,           0,           0,           0,           0,           0,           0,           0,           0,           0,           0,\n",
              "                  0,           0,           0,           0,           0,           0,           0,           0,           0,           0,           0,           0,           0,           0,           0,           0,           0,           0,           0,           0,           0,           0,           0,\n",
              "                  0,           0,           0,           0,           0,           0,           0,           0,           0,           0,           0,           0,           0,           0,           0,           0,           0,           0,           0,           0,           0,           0,           0,\n",
              "                  0,           0,           0,           0,           0,           0,           0,           0,           0,           0,           0,           0,           0,           0,           0,           0,           0,           0,           0,           0,           0,           0,           0,\n",
              "                  0,           0,           0,           0,           0,           0,           0,           0,           0,           0,           0,           0,           0,           0,           0,           0,           0,           0,           0,           0,           0,           0,           0,\n",
              "                  0,           0,           0,           0,           0,           0,           0,           0,           0,           0,           0,           0,           0,           0,           0,           0,           0,           0,           0,           0,           0,           0,           0,\n",
              "                  0,           0,           0,           0,           0,           0,           0,           0,           0,           0,           0,           0,           0,           0,           0,           0,           0,           0,           0,           0,           0,           0,           0,\n",
              "                  0,           0,           0,           0,           0,           0,           0,           0,           0,           0,           0,           0,           0,           0,           0,           0,           0,           0,           0,           0,           0,           0,           0,\n",
              "                  0,           0,           0,           0,           0,           0,           0,           0,           0,           0,           0,           0,           0,           0,           0,           0,           0,           0,           0,           0,           0,           0,           0,\n",
              "                  0,           0,           0,           0,           0,           0,           0,           0,           0,           0,           0,           0,           0,           0,           0,           0,           0,           0,           0,           0,           0,           0,           0,\n",
              "                  0,           0,           0,           0,           0,           0,           0,           0,           0,           0,           0,           0,           0,           0,           0,           0,           0,           0,           0,           0,           0,           0,           0,\n",
              "                  0,           0,           0,           0,           0,           0,           0,           0,           0,           0,           0,           0,           0,           0,           0,           0,           0,           0,           0,           0,           0,           0,           0,\n",
              "                  0,           0,           0,           0,           0,           0,           0,           0,           0,           0,           0,           0,           0,           0,           0,           0,           0,           0,           0,           0,           0,           0,           0,\n",
              "                  0,           0,           0,           0,           0,           0,           0,           0,           0,           0,           0,           0,           0,           0,           0,           0,           0,           0,           0,           0,           0,           0,           0,\n",
              "                  0,           0,           0,           0,           0,           0,           0,           0,           0,           0,           0,           0,           0,           0,           0,           0,           0,           0,           0,           0,           0,           0,           0,\n",
              "                  0,           0,           0,           0,           0,           0,           0,           0,           0,           0,           0,           0,           0,           0,           0,           0,           0,           0,           0,           0,           0,           0,           0,\n",
              "                  0,           0,           0,           0,           0,           0,           0,           0,           0,           0,           0,           0,           0,           0,           0,           0,           0,           0,           0,           0,           0,           0,           0,\n",
              "                  0,           0,           0,           0,           0,           0,           0,           0,           0,           0,           0,           0,           0,           0,           0,           0,           0,           0,           0,           0,           0,           0,           0,\n",
              "                  0,           0,           0,           0,           0,           0,           0,           0,           0,           0,           0,           0,           0,           0,           0,           0,           0,           0,           0,           0,           0,           0,           0,\n",
              "                  0,           0,           0,           0,           0,           0,           0,           0,           0,           0,           0,           0,           0,           0,           0,           0,           0,           0,           0,           0,           0,           0,           0,\n",
              "                  0,           0,           0,           0,           0,           0,           0,           0,           0,           0,           0,           0,           0,           0,           0,           0,           0,           0,           0,           0,           0,           0,           0,\n",
              "                  0,           0,           0,           0,           0,           0,           0,           0,           0,           0,           0,           0,           0,           0,           0,           0,           0,           0,           0,           0,           0,           0,           0,\n",
              "                  0,           0,           0,           0,           0,           0,           0,           0,           0,           0,           0]]), 'Confidence', 'Recall']]\n",
              "fitness: 0.10560066225631869\n",
              "keys: ['metrics/precision(B)', 'metrics/recall(B)', 'metrics/mAP50(B)', 'metrics/mAP50-95(B)']\n",
              "maps: array([   0.088212])\n",
              "names: {0: 'root'}\n",
              "plot: True\n",
              "results_dict: {'metrics/precision(B)': 0.022773722627737226, 'metrics/recall(B)': 1.0, 'metrics/mAP50(B)': 0.2621016524901738, 'metrics/mAP50-95(B)': 0.0882116633414459, 'fitness': 0.10560066225631869}\n",
              "save_dir: PosixPath('runs/detect/train')\n",
              "speed: {'preprocess': 0.021699147346692208, 'inference': 1.2200490022316957, 'loss': 0.0005991030962039263, 'postprocess': 2.430130273867876}\n",
              "task: 'detect'"
            ]
          },
          "metadata": {},
          "execution_count": 15
        }
      ]
    },
    {
      "cell_type": "code",
      "source": [
        "# Load best trained model\n",
        "model = YOLO(\"runs/detect/train/weights/best.pt\")\n",
        "\n",
        "# Evaluate model performance\n",
        "metrics = model.val()\n",
        "print(metrics)\n"
      ],
      "metadata": {
        "colab": {
          "base_uri": "https://localhost:8080/"
        },
        "id": "V-NQmI7q08ok",
        "outputId": "e28036f6-3d32-446b-d3f8-6063e553fbd4"
      },
      "execution_count": 16,
      "outputs": [
        {
          "output_type": "stream",
          "name": "stdout",
          "text": [
            "Ultralytics 8.3.74 🚀 Python-3.11.11 torch-2.5.1+cu124 CUDA:0 (Tesla T4, 15095MiB)\n",
            "Model summary (fused): 168 layers, 3,005,843 parameters, 0 gradients, 8.1 GFLOPs\n"
          ]
        },
        {
          "output_type": "stream",
          "name": "stderr",
          "text": [
            "\u001b[34m\u001b[1mval: \u001b[0mScanning /content/yolo_dataset/labels/val.cache... 78 images, 0 backgrounds, 0 corrupt: 100%|██████████| 78/78 [00:00<?, ?it/s]\n",
            "                 Class     Images  Instances      Box(P          R      mAP50  mAP50-95): 100%|██████████| 5/5 [00:00<00:00,  7.17it/s]\n"
          ]
        },
        {
          "output_type": "stream",
          "name": "stdout",
          "text": [
            "                   all         78         78     0.0228          1      0.258      0.084\n",
            "Speed: 0.3ms preprocess, 4.3ms inference, 0.0ms loss, 1.4ms postprocess per image\n",
            "Results saved to \u001b[1mruns/detect/val\u001b[0m\n",
            "ultralytics.utils.metrics.DetMetrics object with attributes:\n",
            "\n",
            "ap_class_index: array([0])\n",
            "box: ultralytics.utils.metrics.Metric object\n",
            "confusion_matrix: <ultralytics.utils.metrics.ConfusionMatrix object at 0x7db714ff1390>\n",
            "curves: ['Precision-Recall(B)', 'F1-Confidence(B)', 'Precision-Confidence(B)', 'Recall-Confidence(B)']\n",
            "curves_results: [[array([          0,    0.001001,    0.002002,    0.003003,    0.004004,    0.005005,    0.006006,    0.007007,    0.008008,    0.009009,     0.01001,    0.011011,    0.012012,    0.013013,    0.014014,    0.015015,    0.016016,    0.017017,    0.018018,    0.019019,     0.02002,    0.021021,    0.022022,    0.023023,\n",
            "          0.024024,    0.025025,    0.026026,    0.027027,    0.028028,    0.029029,     0.03003,    0.031031,    0.032032,    0.033033,    0.034034,    0.035035,    0.036036,    0.037037,    0.038038,    0.039039,     0.04004,    0.041041,    0.042042,    0.043043,    0.044044,    0.045045,    0.046046,    0.047047,\n",
            "          0.048048,    0.049049,     0.05005,    0.051051,    0.052052,    0.053053,    0.054054,    0.055055,    0.056056,    0.057057,    0.058058,    0.059059,     0.06006,    0.061061,    0.062062,    0.063063,    0.064064,    0.065065,    0.066066,    0.067067,    0.068068,    0.069069,     0.07007,    0.071071,\n",
            "          0.072072,    0.073073,    0.074074,    0.075075,    0.076076,    0.077077,    0.078078,    0.079079,     0.08008,    0.081081,    0.082082,    0.083083,    0.084084,    0.085085,    0.086086,    0.087087,    0.088088,    0.089089,     0.09009,    0.091091,    0.092092,    0.093093,    0.094094,    0.095095,\n",
            "          0.096096,    0.097097,    0.098098,    0.099099,      0.1001,      0.1011,      0.1021,      0.1031,      0.1041,     0.10511,     0.10611,     0.10711,     0.10811,     0.10911,     0.11011,     0.11111,     0.11211,     0.11311,     0.11411,     0.11512,     0.11612,     0.11712,     0.11812,     0.11912,\n",
            "           0.12012,     0.12112,     0.12212,     0.12312,     0.12412,     0.12513,     0.12613,     0.12713,     0.12813,     0.12913,     0.13013,     0.13113,     0.13213,     0.13313,     0.13413,     0.13514,     0.13614,     0.13714,     0.13814,     0.13914,     0.14014,     0.14114,     0.14214,     0.14314,\n",
            "           0.14414,     0.14515,     0.14615,     0.14715,     0.14815,     0.14915,     0.15015,     0.15115,     0.15215,     0.15315,     0.15415,     0.15516,     0.15616,     0.15716,     0.15816,     0.15916,     0.16016,     0.16116,     0.16216,     0.16316,     0.16416,     0.16517,     0.16617,     0.16717,\n",
            "           0.16817,     0.16917,     0.17017,     0.17117,     0.17217,     0.17317,     0.17417,     0.17518,     0.17618,     0.17718,     0.17818,     0.17918,     0.18018,     0.18118,     0.18218,     0.18318,     0.18418,     0.18519,     0.18619,     0.18719,     0.18819,     0.18919,     0.19019,     0.19119,\n",
            "           0.19219,     0.19319,     0.19419,      0.1952,      0.1962,      0.1972,      0.1982,      0.1992,      0.2002,      0.2012,      0.2022,      0.2032,      0.2042,     0.20521,     0.20621,     0.20721,     0.20821,     0.20921,     0.21021,     0.21121,     0.21221,     0.21321,     0.21421,     0.21522,\n",
            "           0.21622,     0.21722,     0.21822,     0.21922,     0.22022,     0.22122,     0.22222,     0.22322,     0.22422,     0.22523,     0.22623,     0.22723,     0.22823,     0.22923,     0.23023,     0.23123,     0.23223,     0.23323,     0.23423,     0.23524,     0.23624,     0.23724,     0.23824,     0.23924,\n",
            "           0.24024,     0.24124,     0.24224,     0.24324,     0.24424,     0.24525,     0.24625,     0.24725,     0.24825,     0.24925,     0.25025,     0.25125,     0.25225,     0.25325,     0.25425,     0.25526,     0.25626,     0.25726,     0.25826,     0.25926,     0.26026,     0.26126,     0.26226,     0.26326,\n",
            "           0.26426,     0.26527,     0.26627,     0.26727,     0.26827,     0.26927,     0.27027,     0.27127,     0.27227,     0.27327,     0.27427,     0.27528,     0.27628,     0.27728,     0.27828,     0.27928,     0.28028,     0.28128,     0.28228,     0.28328,     0.28428,     0.28529,     0.28629,     0.28729,\n",
            "           0.28829,     0.28929,     0.29029,     0.29129,     0.29229,     0.29329,     0.29429,      0.2953,      0.2963,      0.2973,      0.2983,      0.2993,      0.3003,      0.3013,      0.3023,      0.3033,      0.3043,     0.30531,     0.30631,     0.30731,     0.30831,     0.30931,     0.31031,     0.31131,\n",
            "           0.31231,     0.31331,     0.31431,     0.31532,     0.31632,     0.31732,     0.31832,     0.31932,     0.32032,     0.32132,     0.32232,     0.32332,     0.32432,     0.32533,     0.32633,     0.32733,     0.32833,     0.32933,     0.33033,     0.33133,     0.33233,     0.33333,     0.33433,     0.33534,\n",
            "           0.33634,     0.33734,     0.33834,     0.33934,     0.34034,     0.34134,     0.34234,     0.34334,     0.34434,     0.34535,     0.34635,     0.34735,     0.34835,     0.34935,     0.35035,     0.35135,     0.35235,     0.35335,     0.35435,     0.35536,     0.35636,     0.35736,     0.35836,     0.35936,\n",
            "           0.36036,     0.36136,     0.36236,     0.36336,     0.36436,     0.36537,     0.36637,     0.36737,     0.36837,     0.36937,     0.37037,     0.37137,     0.37237,     0.37337,     0.37437,     0.37538,     0.37638,     0.37738,     0.37838,     0.37938,     0.38038,     0.38138,     0.38238,     0.38338,\n",
            "           0.38438,     0.38539,     0.38639,     0.38739,     0.38839,     0.38939,     0.39039,     0.39139,     0.39239,     0.39339,     0.39439,      0.3954,      0.3964,      0.3974,      0.3984,      0.3994,      0.4004,      0.4014,      0.4024,      0.4034,      0.4044,     0.40541,     0.40641,     0.40741,\n",
            "           0.40841,     0.40941,     0.41041,     0.41141,     0.41241,     0.41341,     0.41441,     0.41542,     0.41642,     0.41742,     0.41842,     0.41942,     0.42042,     0.42142,     0.42242,     0.42342,     0.42442,     0.42543,     0.42643,     0.42743,     0.42843,     0.42943,     0.43043,     0.43143,\n",
            "           0.43243,     0.43343,     0.43443,     0.43544,     0.43644,     0.43744,     0.43844,     0.43944,     0.44044,     0.44144,     0.44244,     0.44344,     0.44444,     0.44545,     0.44645,     0.44745,     0.44845,     0.44945,     0.45045,     0.45145,     0.45245,     0.45345,     0.45445,     0.45546,\n",
            "           0.45646,     0.45746,     0.45846,     0.45946,     0.46046,     0.46146,     0.46246,     0.46346,     0.46446,     0.46547,     0.46647,     0.46747,     0.46847,     0.46947,     0.47047,     0.47147,     0.47247,     0.47347,     0.47447,     0.47548,     0.47648,     0.47748,     0.47848,     0.47948,\n",
            "           0.48048,     0.48148,     0.48248,     0.48348,     0.48448,     0.48549,     0.48649,     0.48749,     0.48849,     0.48949,     0.49049,     0.49149,     0.49249,     0.49349,     0.49449,      0.4955,      0.4965,      0.4975,      0.4985,      0.4995,      0.5005,      0.5015,      0.5025,      0.5035,\n",
            "            0.5045,     0.50551,     0.50651,     0.50751,     0.50851,     0.50951,     0.51051,     0.51151,     0.51251,     0.51351,     0.51451,     0.51552,     0.51652,     0.51752,     0.51852,     0.51952,     0.52052,     0.52152,     0.52252,     0.52352,     0.52452,     0.52553,     0.52653,     0.52753,\n",
            "           0.52853,     0.52953,     0.53053,     0.53153,     0.53253,     0.53353,     0.53453,     0.53554,     0.53654,     0.53754,     0.53854,     0.53954,     0.54054,     0.54154,     0.54254,     0.54354,     0.54454,     0.54555,     0.54655,     0.54755,     0.54855,     0.54955,     0.55055,     0.55155,\n",
            "           0.55255,     0.55355,     0.55455,     0.55556,     0.55656,     0.55756,     0.55856,     0.55956,     0.56056,     0.56156,     0.56256,     0.56356,     0.56456,     0.56557,     0.56657,     0.56757,     0.56857,     0.56957,     0.57057,     0.57157,     0.57257,     0.57357,     0.57457,     0.57558,\n",
            "           0.57658,     0.57758,     0.57858,     0.57958,     0.58058,     0.58158,     0.58258,     0.58358,     0.58458,     0.58559,     0.58659,     0.58759,     0.58859,     0.58959,     0.59059,     0.59159,     0.59259,     0.59359,     0.59459,      0.5956,      0.5966,      0.5976,      0.5986,      0.5996,\n",
            "            0.6006,      0.6016,      0.6026,      0.6036,      0.6046,     0.60561,     0.60661,     0.60761,     0.60861,     0.60961,     0.61061,     0.61161,     0.61261,     0.61361,     0.61461,     0.61562,     0.61662,     0.61762,     0.61862,     0.61962,     0.62062,     0.62162,     0.62262,     0.62362,\n",
            "           0.62462,     0.62563,     0.62663,     0.62763,     0.62863,     0.62963,     0.63063,     0.63163,     0.63263,     0.63363,     0.63463,     0.63564,     0.63664,     0.63764,     0.63864,     0.63964,     0.64064,     0.64164,     0.64264,     0.64364,     0.64464,     0.64565,     0.64665,     0.64765,\n",
            "           0.64865,     0.64965,     0.65065,     0.65165,     0.65265,     0.65365,     0.65465,     0.65566,     0.65666,     0.65766,     0.65866,     0.65966,     0.66066,     0.66166,     0.66266,     0.66366,     0.66466,     0.66567,     0.66667,     0.66767,     0.66867,     0.66967,     0.67067,     0.67167,\n",
            "           0.67267,     0.67367,     0.67467,     0.67568,     0.67668,     0.67768,     0.67868,     0.67968,     0.68068,     0.68168,     0.68268,     0.68368,     0.68468,     0.68569,     0.68669,     0.68769,     0.68869,     0.68969,     0.69069,     0.69169,     0.69269,     0.69369,     0.69469,      0.6957,\n",
            "            0.6967,      0.6977,      0.6987,      0.6997,      0.7007,      0.7017,      0.7027,      0.7037,      0.7047,     0.70571,     0.70671,     0.70771,     0.70871,     0.70971,     0.71071,     0.71171,     0.71271,     0.71371,     0.71471,     0.71572,     0.71672,     0.71772,     0.71872,     0.71972,\n",
            "           0.72072,     0.72172,     0.72272,     0.72372,     0.72472,     0.72573,     0.72673,     0.72773,     0.72873,     0.72973,     0.73073,     0.73173,     0.73273,     0.73373,     0.73473,     0.73574,     0.73674,     0.73774,     0.73874,     0.73974,     0.74074,     0.74174,     0.74274,     0.74374,\n",
            "           0.74474,     0.74575,     0.74675,     0.74775,     0.74875,     0.74975,     0.75075,     0.75175,     0.75275,     0.75375,     0.75475,     0.75576,     0.75676,     0.75776,     0.75876,     0.75976,     0.76076,     0.76176,     0.76276,     0.76376,     0.76476,     0.76577,     0.76677,     0.76777,\n",
            "           0.76877,     0.76977,     0.77077,     0.77177,     0.77277,     0.77377,     0.77477,     0.77578,     0.77678,     0.77778,     0.77878,     0.77978,     0.78078,     0.78178,     0.78278,     0.78378,     0.78478,     0.78579,     0.78679,     0.78779,     0.78879,     0.78979,     0.79079,     0.79179,\n",
            "           0.79279,     0.79379,     0.79479,      0.7958,      0.7968,      0.7978,      0.7988,      0.7998,      0.8008,      0.8018,      0.8028,      0.8038,      0.8048,     0.80581,     0.80681,     0.80781,     0.80881,     0.80981,     0.81081,     0.81181,     0.81281,     0.81381,     0.81481,     0.81582,\n",
            "           0.81682,     0.81782,     0.81882,     0.81982,     0.82082,     0.82182,     0.82282,     0.82382,     0.82482,     0.82583,     0.82683,     0.82783,     0.82883,     0.82983,     0.83083,     0.83183,     0.83283,     0.83383,     0.83483,     0.83584,     0.83684,     0.83784,     0.83884,     0.83984,\n",
            "           0.84084,     0.84184,     0.84284,     0.84384,     0.84484,     0.84585,     0.84685,     0.84785,     0.84885,     0.84985,     0.85085,     0.85185,     0.85285,     0.85385,     0.85485,     0.85586,     0.85686,     0.85786,     0.85886,     0.85986,     0.86086,     0.86186,     0.86286,     0.86386,\n",
            "           0.86486,     0.86587,     0.86687,     0.86787,     0.86887,     0.86987,     0.87087,     0.87187,     0.87287,     0.87387,     0.87487,     0.87588,     0.87688,     0.87788,     0.87888,     0.87988,     0.88088,     0.88188,     0.88288,     0.88388,     0.88488,     0.88589,     0.88689,     0.88789,\n",
            "           0.88889,     0.88989,     0.89089,     0.89189,     0.89289,     0.89389,     0.89489,      0.8959,      0.8969,      0.8979,      0.8989,      0.8999,      0.9009,      0.9019,      0.9029,      0.9039,      0.9049,     0.90591,     0.90691,     0.90791,     0.90891,     0.90991,     0.91091,     0.91191,\n",
            "           0.91291,     0.91391,     0.91491,     0.91592,     0.91692,     0.91792,     0.91892,     0.91992,     0.92092,     0.92192,     0.92292,     0.92392,     0.92492,     0.92593,     0.92693,     0.92793,     0.92893,     0.92993,     0.93093,     0.93193,     0.93293,     0.93393,     0.93493,     0.93594,\n",
            "           0.93694,     0.93794,     0.93894,     0.93994,     0.94094,     0.94194,     0.94294,     0.94394,     0.94494,     0.94595,     0.94695,     0.94795,     0.94895,     0.94995,     0.95095,     0.95195,     0.95295,     0.95395,     0.95495,     0.95596,     0.95696,     0.95796,     0.95896,     0.95996,\n",
            "           0.96096,     0.96196,     0.96296,     0.96396,     0.96496,     0.96597,     0.96697,     0.96797,     0.96897,     0.96997,     0.97097,     0.97197,     0.97297,     0.97397,     0.97497,     0.97598,     0.97698,     0.97798,     0.97898,     0.97998,     0.98098,     0.98198,     0.98298,     0.98398,\n",
            "           0.98498,     0.98599,     0.98699,     0.98799,     0.98899,     0.98999,     0.99099,     0.99199,     0.99299,     0.99399,     0.99499,       0.996,       0.997,       0.998,       0.999,           1]), array([[          1,           1,           1,           1,           1,           1,           1,           1,           1,           1,           1,           1,           1,           1,           1,           1,           1,           1,           1,           1,           1,           1,           1,\n",
            "                  1,           1,           1,           1,           1,           1,           1,           1,           1,           1,           1,           1,           1,           1,           1,           1,         0.4,         0.4,         0.4,         0.4,         0.4,         0.4,         0.4,\n",
            "                0.4,         0.4,         0.4,         0.4,         0.4,         0.4,     0.38462,     0.38462,     0.38462,     0.38462,     0.38462,     0.38462,     0.38462,     0.38462,     0.38462,     0.38462,     0.38462,     0.38462,     0.38462,     0.34146,     0.34146,     0.34146,     0.34146,\n",
            "            0.34146,     0.34146,     0.34146,     0.34146,     0.34146,     0.34146,     0.34146,     0.34146,     0.34146,     0.34146,     0.34146,     0.34146,     0.34146,     0.34146,     0.34146,     0.34146,     0.34146,     0.34146,     0.34146,     0.34146,     0.34146,     0.34146,     0.34146,\n",
            "            0.34146,     0.34146,     0.34146,     0.34146,     0.34146,     0.34146,     0.34146,     0.34146,     0.34146,     0.34146,     0.34146,     0.34146,     0.34146,     0.34146,     0.34146,     0.34146,     0.34146,     0.34146,     0.34146,     0.34146,     0.34146,     0.34146,     0.34146,\n",
            "            0.34146,     0.34146,     0.34146,     0.34146,     0.34146,     0.34146,     0.34146,     0.34146,     0.34146,     0.34146,     0.34146,     0.34146,     0.34146,     0.34146,     0.34146,     0.34146,     0.34146,     0.34146,     0.34146,     0.34146,     0.34146,     0.34146,     0.34146,\n",
            "            0.34146,     0.34146,     0.34146,     0.34146,     0.34146,     0.34146,     0.34146,     0.34146,     0.34146,     0.34146,     0.34146,     0.34146,     0.34146,     0.34146,     0.34146,     0.34146,     0.34146,     0.34146,     0.34146,     0.34146,     0.34146,     0.34146,     0.34146,\n",
            "            0.34146,     0.34146,     0.34146,     0.34146,     0.34146,     0.34146,     0.34146,     0.34146,     0.34146,     0.34146,     0.34146,     0.34146,     0.34146,     0.34146,     0.34146,     0.34146,     0.34146,     0.34146,     0.34146,     0.31579,     0.31579,     0.31579,     0.31579,\n",
            "            0.31579,     0.31579,     0.31579,     0.31579,     0.31579,     0.31579,     0.31579,     0.31579,     0.31579,     0.31579,     0.31579,     0.31579,     0.31579,     0.31579,     0.31579,     0.31579,     0.31579,     0.31579,     0.31579,     0.31579,     0.31579,     0.31579,     0.31579,\n",
            "            0.31579,     0.31579,     0.31579,     0.31579,     0.31579,     0.31579,     0.31579,     0.31579,     0.31579,     0.31579,     0.31579,     0.31579,     0.31579,     0.31579,     0.31579,     0.31579,     0.31579,     0.31579,     0.31579,     0.31579,     0.31579,     0.31579,     0.31579,\n",
            "            0.31579,     0.31579,     0.31579,     0.31579,     0.31579,     0.31579,     0.31579,     0.31579,     0.31579,     0.31579,     0.31579,     0.31579,     0.31579,     0.31579,     0.31579,     0.31579,     0.31579,     0.31579,     0.31579,     0.31579,     0.31579,     0.31579,     0.31579,\n",
            "            0.31579,     0.31579,     0.31579,     0.31579,     0.31579,     0.31579,     0.31579,     0.31579,     0.31579,     0.31579,     0.31579,     0.31579,     0.31579,     0.31579,     0.31579,     0.31579,     0.31579,     0.31579,     0.31579,     0.31579,     0.31579,     0.31579,     0.31579,\n",
            "            0.31579,     0.31579,     0.31579,     0.31579,     0.31579,     0.31579,     0.31579,     0.31579,     0.31579,     0.31579,     0.31579,     0.31579,     0.31579,     0.31579,     0.31579,     0.31579,     0.31579,     0.31579,     0.31579,     0.31579,     0.31579,     0.31579,     0.31579,\n",
            "            0.31579,     0.31579,     0.31579,     0.31579,     0.31579,     0.31579,     0.31579,     0.31579,     0.31579,     0.29213,     0.29213,     0.29213,     0.29213,     0.29213,     0.29213,     0.29213,     0.29213,     0.29213,     0.29213,     0.29213,     0.29213,     0.29213,     0.29213,\n",
            "            0.29213,     0.29213,     0.29213,     0.29213,     0.29213,     0.29213,     0.29213,     0.29213,     0.29213,     0.29213,     0.29213,     0.25962,     0.25962,     0.25962,     0.25962,     0.25962,     0.25962,     0.25962,     0.25962,     0.25962,     0.25962,     0.25962,     0.25962,\n",
            "            0.25962,        0.25,        0.25,        0.25,        0.25,        0.25,        0.25,        0.25,        0.25,        0.25,        0.25,        0.25,        0.25,        0.25,        0.25,        0.25,        0.25,        0.25,        0.25,        0.25,        0.25,        0.25,        0.25,\n",
            "               0.25,        0.25,        0.25,        0.25,     0.24793,     0.24793,     0.24793,     0.24793,     0.24793,     0.24793,     0.24793,     0.24793,     0.24793,     0.24793,     0.24793,     0.24793,     0.24793,     0.23571,     0.23571,     0.23571,     0.23571,     0.23571,     0.23571,\n",
            "            0.23571,     0.23571,     0.23571,     0.23571,     0.23571,     0.23571,     0.23571,     0.23571,     0.23571,     0.23571,     0.23571,     0.23571,     0.23571,     0.23571,     0.23571,     0.23571,     0.23571,     0.23571,     0.23571,     0.23571,     0.23571,     0.23571,     0.23571,\n",
            "            0.23571,     0.23571,     0.23571,     0.23571,     0.23571,     0.23571,     0.23571,     0.23571,     0.23571,     0.22293,     0.22293,     0.22293,     0.22293,     0.22293,     0.22293,     0.22293,     0.22293,     0.22293,     0.22293,     0.22293,     0.22293,     0.22293,     0.22293,\n",
            "            0.22293,     0.22293,     0.22293,     0.22293,     0.22293,     0.22293,     0.22293,     0.22293,     0.22293,     0.22293,     0.22293,     0.22293,     0.21765,     0.21765,     0.21765,     0.21765,     0.21765,     0.21765,     0.21765,     0.21765,     0.21765,     0.21765,     0.21765,\n",
            "            0.21765,     0.21765,     0.21765,     0.21765,     0.21765,     0.21765,     0.21765,     0.21765,     0.21765,     0.21765,     0.21765,     0.21765,     0.21765,     0.21765,     0.21226,     0.21226,     0.21226,     0.21226,     0.21226,     0.21226,     0.21226,     0.21226,     0.21226,\n",
            "            0.21226,     0.21226,     0.21226,     0.21226,     0.21226,     0.21226,     0.21226,     0.21226,     0.21226,     0.21226,     0.21226,     0.21226,     0.21226,     0.21226,     0.21226,     0.21226,     0.21226,     0.21226,     0.21226,     0.21226,     0.21226,     0.21226,     0.21226,\n",
            "            0.21226,     0.21226,     0.21226,     0.21226,     0.21226,     0.21226,     0.21226,     0.21226,     0.21226,     0.21226,     0.21226,     0.21226,     0.21226,     0.21226,     0.21226,     0.21226,     0.21226,     0.21226,     0.21226,     0.21226,     0.21226,     0.21226,     0.21226,\n",
            "            0.21226,     0.21226,     0.21226,     0.21226,     0.21226,     0.21226,     0.21226,     0.21226,     0.21226,     0.21226,     0.21226,     0.21226,     0.21226,     0.21226,     0.21226,     0.21226,     0.21226,     0.21226,     0.21226,     0.21226,     0.21226,     0.21226,     0.21226,\n",
            "            0.21226,     0.21226,     0.21226,     0.21226,     0.21226,     0.21226,     0.21226,     0.21226,     0.21226,     0.21226,     0.21226,     0.21226,     0.21226,     0.21226,     0.21226,     0.21226,     0.21226,     0.21226,     0.21226,     0.21226,     0.21226,     0.21226,     0.21226,\n",
            "            0.21226,     0.21226,     0.21053,     0.21053,     0.21053,     0.21053,     0.21053,     0.21053,     0.21053,     0.21053,     0.21053,     0.21053,     0.21053,     0.21053,     0.21053,     0.21053,     0.21053,     0.21053,     0.21053,     0.21053,     0.21053,     0.21053,     0.21053,\n",
            "            0.21053,     0.21053,     0.21053,     0.21053,     0.21053,     0.21053,     0.21053,     0.21053,     0.21053,     0.21053,     0.21053,     0.21053,     0.21053,     0.21053,     0.21053,     0.21053,     0.21053,     0.20833,     0.20833,     0.20833,     0.20833,     0.20833,     0.20833,\n",
            "            0.20833,     0.20833,     0.20833,     0.20833,     0.20833,     0.20833,     0.20833,     0.20833,     0.20833,     0.20833,     0.20833,     0.20833,     0.20833,     0.20833,     0.20833,     0.20833,     0.20833,     0.20833,     0.20833,     0.20833,     0.19466,     0.19466,     0.19466,\n",
            "            0.19466,     0.19466,     0.19466,     0.19466,     0.19466,     0.19466,     0.19466,     0.19466,     0.19466,     0.19466,     0.19424,     0.19424,     0.19424,     0.19424,     0.19424,     0.19424,     0.19424,     0.19424,     0.19424,     0.19424,     0.19424,     0.19424,     0.19424,\n",
            "            0.19424,     0.19424,     0.19424,     0.19424,     0.19424,     0.19424,     0.19424,     0.19424,     0.19424,     0.19424,     0.19424,     0.19424,     0.19424,     0.19424,     0.19424,     0.19424,     0.19424,     0.19424,     0.19424,     0.19424,     0.19424,     0.19424,     0.19424,\n",
            "            0.19424,     0.19424,      0.1821,      0.1821,      0.1821,      0.1821,      0.1821,      0.1821,      0.1821,      0.1821,      0.1821,      0.1821,      0.1821,      0.1821,      0.1821,      0.1821,      0.1821,      0.1821,      0.1821,      0.1821,      0.1821,      0.1821,      0.1821,\n",
            "             0.1821,      0.1821,      0.1821,      0.1821,      0.1821,      0.1821,      0.1821,      0.1821,      0.1821,      0.1821,      0.1821,      0.1821,      0.1821,      0.1821,      0.1821,      0.1821,      0.1821,      0.1821,      0.1821,      0.1821,      0.1821,      0.1821,      0.1821,\n",
            "             0.1821,      0.1821,      0.1821,      0.1821,      0.1821,      0.1821,      0.1821,      0.1821,      0.1821,      0.1821,      0.1821,      0.1821,      0.1821,      0.1821,      0.1821,      0.1821,      0.1821,      0.1821,      0.1821,      0.1821,     0.16216,     0.16216,     0.16216,\n",
            "            0.16216,     0.16216,     0.16216,     0.16216,     0.16216,     0.16216,     0.16216,     0.16216,     0.16216,     0.16216,     0.15969,     0.15969,     0.15969,     0.15969,     0.15969,     0.15969,     0.15969,     0.15969,     0.15969,     0.15969,     0.15969,     0.15969,     0.15969,\n",
            "              0.155,       0.155,       0.155,       0.155,       0.155,       0.155,       0.155,       0.155,       0.155,       0.155,       0.155,       0.155,       0.155,     0.15181,     0.15181,     0.15181,     0.15181,     0.15181,     0.15181,     0.15181,     0.15181,     0.15181,     0.15181,\n",
            "            0.15181,     0.15181,     0.14953,     0.14953,     0.14953,     0.14953,     0.14953,     0.14953,     0.14953,     0.14953,     0.14953,     0.14953,     0.14953,     0.14953,     0.14953,     0.14565,     0.14565,     0.14565,     0.14565,     0.14565,     0.14565,     0.14565,     0.14565,\n",
            "            0.14565,     0.14565,     0.14565,     0.14565,     0.14565,     0.14565,     0.14565,     0.14565,     0.14565,     0.14565,     0.14565,     0.14565,     0.14565,     0.14565,     0.14565,     0.14565,     0.14565,     0.14565,     0.14565,     0.14565,     0.14565,     0.14565,     0.14565,\n",
            "            0.14565,     0.14565,     0.14565,     0.14565,     0.14565,     0.14565,     0.14565,     0.14565,     0.14407,     0.14407,     0.14407,     0.14407,     0.14407,     0.14407,     0.14407,     0.14407,     0.14407,     0.14407,     0.14407,     0.14407,     0.13611,     0.13611,     0.13611,\n",
            "            0.13611,     0.13611,     0.13611,     0.13611,     0.13611,     0.13611,     0.13611,     0.13611,     0.13611,     0.13611,     0.13611,     0.13611,     0.13611,     0.13611,     0.13611,     0.13611,     0.13611,     0.13611,     0.13611,     0.13611,     0.13611,     0.13611,     0.13611,\n",
            "            0.13611,     0.13611,     0.13611,     0.13611,     0.13611,     0.13611,     0.13611,     0.13611,     0.13611,     0.13611,     0.13611,     0.13611,     0.13611,     0.13611,     0.13611,     0.13611,     0.13611,     0.13611,     0.13611,     0.13611,     0.13611,     0.13611,     0.13611,\n",
            "            0.13611,     0.13611,     0.13611,     0.13556,     0.13556,     0.13556,     0.13556,     0.13556,     0.13556,     0.13556,     0.13556,     0.13556,     0.13556,     0.13556,     0.13556,     0.13556,     0.13556,     0.13556,     0.13556,     0.13556,     0.13556,     0.13556,     0.13556,\n",
            "            0.13556,     0.13556,     0.13556,     0.13556,     0.13556,     0.13556,     0.13556,     0.13556,     0.13556,     0.13556,     0.13556,     0.13556,     0.13556,     0.13556,     0.13556,     0.13556,     0.13556,     0.13556,     0.13556,     0.13556,     0.13556,     0.13556,     0.13556,\n",
            "            0.13556,     0.13556,     0.13556,     0.13556,     0.13556,     0.13556,     0.13556,     0.13556,     0.13556,     0.13556,     0.13556,     0.13556,     0.13556,     0.13556,     0.13556,     0.13556,     0.13556,     0.13556,     0.13556,     0.13556,     0.13556,     0.13109,     0.13109,\n",
            "            0.13109,     0.13109,     0.13109,     0.13109,     0.13109,     0.13109,     0.13109,     0.13109,     0.13109,     0.13109,           0]]), 'Recall', 'Precision'], [array([          0,    0.001001,    0.002002,    0.003003,    0.004004,    0.005005,    0.006006,    0.007007,    0.008008,    0.009009,     0.01001,    0.011011,    0.012012,    0.013013,    0.014014,    0.015015,    0.016016,    0.017017,    0.018018,    0.019019,     0.02002,    0.021021,    0.022022,    0.023023,\n",
            "          0.024024,    0.025025,    0.026026,    0.027027,    0.028028,    0.029029,     0.03003,    0.031031,    0.032032,    0.033033,    0.034034,    0.035035,    0.036036,    0.037037,    0.038038,    0.039039,     0.04004,    0.041041,    0.042042,    0.043043,    0.044044,    0.045045,    0.046046,    0.047047,\n",
            "          0.048048,    0.049049,     0.05005,    0.051051,    0.052052,    0.053053,    0.054054,    0.055055,    0.056056,    0.057057,    0.058058,    0.059059,     0.06006,    0.061061,    0.062062,    0.063063,    0.064064,    0.065065,    0.066066,    0.067067,    0.068068,    0.069069,     0.07007,    0.071071,\n",
            "          0.072072,    0.073073,    0.074074,    0.075075,    0.076076,    0.077077,    0.078078,    0.079079,     0.08008,    0.081081,    0.082082,    0.083083,    0.084084,    0.085085,    0.086086,    0.087087,    0.088088,    0.089089,     0.09009,    0.091091,    0.092092,    0.093093,    0.094094,    0.095095,\n",
            "          0.096096,    0.097097,    0.098098,    0.099099,      0.1001,      0.1011,      0.1021,      0.1031,      0.1041,     0.10511,     0.10611,     0.10711,     0.10811,     0.10911,     0.11011,     0.11111,     0.11211,     0.11311,     0.11411,     0.11512,     0.11612,     0.11712,     0.11812,     0.11912,\n",
            "           0.12012,     0.12112,     0.12212,     0.12312,     0.12412,     0.12513,     0.12613,     0.12713,     0.12813,     0.12913,     0.13013,     0.13113,     0.13213,     0.13313,     0.13413,     0.13514,     0.13614,     0.13714,     0.13814,     0.13914,     0.14014,     0.14114,     0.14214,     0.14314,\n",
            "           0.14414,     0.14515,     0.14615,     0.14715,     0.14815,     0.14915,     0.15015,     0.15115,     0.15215,     0.15315,     0.15415,     0.15516,     0.15616,     0.15716,     0.15816,     0.15916,     0.16016,     0.16116,     0.16216,     0.16316,     0.16416,     0.16517,     0.16617,     0.16717,\n",
            "           0.16817,     0.16917,     0.17017,     0.17117,     0.17217,     0.17317,     0.17417,     0.17518,     0.17618,     0.17718,     0.17818,     0.17918,     0.18018,     0.18118,     0.18218,     0.18318,     0.18418,     0.18519,     0.18619,     0.18719,     0.18819,     0.18919,     0.19019,     0.19119,\n",
            "           0.19219,     0.19319,     0.19419,      0.1952,      0.1962,      0.1972,      0.1982,      0.1992,      0.2002,      0.2012,      0.2022,      0.2032,      0.2042,     0.20521,     0.20621,     0.20721,     0.20821,     0.20921,     0.21021,     0.21121,     0.21221,     0.21321,     0.21421,     0.21522,\n",
            "           0.21622,     0.21722,     0.21822,     0.21922,     0.22022,     0.22122,     0.22222,     0.22322,     0.22422,     0.22523,     0.22623,     0.22723,     0.22823,     0.22923,     0.23023,     0.23123,     0.23223,     0.23323,     0.23423,     0.23524,     0.23624,     0.23724,     0.23824,     0.23924,\n",
            "           0.24024,     0.24124,     0.24224,     0.24324,     0.24424,     0.24525,     0.24625,     0.24725,     0.24825,     0.24925,     0.25025,     0.25125,     0.25225,     0.25325,     0.25425,     0.25526,     0.25626,     0.25726,     0.25826,     0.25926,     0.26026,     0.26126,     0.26226,     0.26326,\n",
            "           0.26426,     0.26527,     0.26627,     0.26727,     0.26827,     0.26927,     0.27027,     0.27127,     0.27227,     0.27327,     0.27427,     0.27528,     0.27628,     0.27728,     0.27828,     0.27928,     0.28028,     0.28128,     0.28228,     0.28328,     0.28428,     0.28529,     0.28629,     0.28729,\n",
            "           0.28829,     0.28929,     0.29029,     0.29129,     0.29229,     0.29329,     0.29429,      0.2953,      0.2963,      0.2973,      0.2983,      0.2993,      0.3003,      0.3013,      0.3023,      0.3033,      0.3043,     0.30531,     0.30631,     0.30731,     0.30831,     0.30931,     0.31031,     0.31131,\n",
            "           0.31231,     0.31331,     0.31431,     0.31532,     0.31632,     0.31732,     0.31832,     0.31932,     0.32032,     0.32132,     0.32232,     0.32332,     0.32432,     0.32533,     0.32633,     0.32733,     0.32833,     0.32933,     0.33033,     0.33133,     0.33233,     0.33333,     0.33433,     0.33534,\n",
            "           0.33634,     0.33734,     0.33834,     0.33934,     0.34034,     0.34134,     0.34234,     0.34334,     0.34434,     0.34535,     0.34635,     0.34735,     0.34835,     0.34935,     0.35035,     0.35135,     0.35235,     0.35335,     0.35435,     0.35536,     0.35636,     0.35736,     0.35836,     0.35936,\n",
            "           0.36036,     0.36136,     0.36236,     0.36336,     0.36436,     0.36537,     0.36637,     0.36737,     0.36837,     0.36937,     0.37037,     0.37137,     0.37237,     0.37337,     0.37437,     0.37538,     0.37638,     0.37738,     0.37838,     0.37938,     0.38038,     0.38138,     0.38238,     0.38338,\n",
            "           0.38438,     0.38539,     0.38639,     0.38739,     0.38839,     0.38939,     0.39039,     0.39139,     0.39239,     0.39339,     0.39439,      0.3954,      0.3964,      0.3974,      0.3984,      0.3994,      0.4004,      0.4014,      0.4024,      0.4034,      0.4044,     0.40541,     0.40641,     0.40741,\n",
            "           0.40841,     0.40941,     0.41041,     0.41141,     0.41241,     0.41341,     0.41441,     0.41542,     0.41642,     0.41742,     0.41842,     0.41942,     0.42042,     0.42142,     0.42242,     0.42342,     0.42442,     0.42543,     0.42643,     0.42743,     0.42843,     0.42943,     0.43043,     0.43143,\n",
            "           0.43243,     0.43343,     0.43443,     0.43544,     0.43644,     0.43744,     0.43844,     0.43944,     0.44044,     0.44144,     0.44244,     0.44344,     0.44444,     0.44545,     0.44645,     0.44745,     0.44845,     0.44945,     0.45045,     0.45145,     0.45245,     0.45345,     0.45445,     0.45546,\n",
            "           0.45646,     0.45746,     0.45846,     0.45946,     0.46046,     0.46146,     0.46246,     0.46346,     0.46446,     0.46547,     0.46647,     0.46747,     0.46847,     0.46947,     0.47047,     0.47147,     0.47247,     0.47347,     0.47447,     0.47548,     0.47648,     0.47748,     0.47848,     0.47948,\n",
            "           0.48048,     0.48148,     0.48248,     0.48348,     0.48448,     0.48549,     0.48649,     0.48749,     0.48849,     0.48949,     0.49049,     0.49149,     0.49249,     0.49349,     0.49449,      0.4955,      0.4965,      0.4975,      0.4985,      0.4995,      0.5005,      0.5015,      0.5025,      0.5035,\n",
            "            0.5045,     0.50551,     0.50651,     0.50751,     0.50851,     0.50951,     0.51051,     0.51151,     0.51251,     0.51351,     0.51451,     0.51552,     0.51652,     0.51752,     0.51852,     0.51952,     0.52052,     0.52152,     0.52252,     0.52352,     0.52452,     0.52553,     0.52653,     0.52753,\n",
            "           0.52853,     0.52953,     0.53053,     0.53153,     0.53253,     0.53353,     0.53453,     0.53554,     0.53654,     0.53754,     0.53854,     0.53954,     0.54054,     0.54154,     0.54254,     0.54354,     0.54454,     0.54555,     0.54655,     0.54755,     0.54855,     0.54955,     0.55055,     0.55155,\n",
            "           0.55255,     0.55355,     0.55455,     0.55556,     0.55656,     0.55756,     0.55856,     0.55956,     0.56056,     0.56156,     0.56256,     0.56356,     0.56456,     0.56557,     0.56657,     0.56757,     0.56857,     0.56957,     0.57057,     0.57157,     0.57257,     0.57357,     0.57457,     0.57558,\n",
            "           0.57658,     0.57758,     0.57858,     0.57958,     0.58058,     0.58158,     0.58258,     0.58358,     0.58458,     0.58559,     0.58659,     0.58759,     0.58859,     0.58959,     0.59059,     0.59159,     0.59259,     0.59359,     0.59459,      0.5956,      0.5966,      0.5976,      0.5986,      0.5996,\n",
            "            0.6006,      0.6016,      0.6026,      0.6036,      0.6046,     0.60561,     0.60661,     0.60761,     0.60861,     0.60961,     0.61061,     0.61161,     0.61261,     0.61361,     0.61461,     0.61562,     0.61662,     0.61762,     0.61862,     0.61962,     0.62062,     0.62162,     0.62262,     0.62362,\n",
            "           0.62462,     0.62563,     0.62663,     0.62763,     0.62863,     0.62963,     0.63063,     0.63163,     0.63263,     0.63363,     0.63463,     0.63564,     0.63664,     0.63764,     0.63864,     0.63964,     0.64064,     0.64164,     0.64264,     0.64364,     0.64464,     0.64565,     0.64665,     0.64765,\n",
            "           0.64865,     0.64965,     0.65065,     0.65165,     0.65265,     0.65365,     0.65465,     0.65566,     0.65666,     0.65766,     0.65866,     0.65966,     0.66066,     0.66166,     0.66266,     0.66366,     0.66466,     0.66567,     0.66667,     0.66767,     0.66867,     0.66967,     0.67067,     0.67167,\n",
            "           0.67267,     0.67367,     0.67467,     0.67568,     0.67668,     0.67768,     0.67868,     0.67968,     0.68068,     0.68168,     0.68268,     0.68368,     0.68468,     0.68569,     0.68669,     0.68769,     0.68869,     0.68969,     0.69069,     0.69169,     0.69269,     0.69369,     0.69469,      0.6957,\n",
            "            0.6967,      0.6977,      0.6987,      0.6997,      0.7007,      0.7017,      0.7027,      0.7037,      0.7047,     0.70571,     0.70671,     0.70771,     0.70871,     0.70971,     0.71071,     0.71171,     0.71271,     0.71371,     0.71471,     0.71572,     0.71672,     0.71772,     0.71872,     0.71972,\n",
            "           0.72072,     0.72172,     0.72272,     0.72372,     0.72472,     0.72573,     0.72673,     0.72773,     0.72873,     0.72973,     0.73073,     0.73173,     0.73273,     0.73373,     0.73473,     0.73574,     0.73674,     0.73774,     0.73874,     0.73974,     0.74074,     0.74174,     0.74274,     0.74374,\n",
            "           0.74474,     0.74575,     0.74675,     0.74775,     0.74875,     0.74975,     0.75075,     0.75175,     0.75275,     0.75375,     0.75475,     0.75576,     0.75676,     0.75776,     0.75876,     0.75976,     0.76076,     0.76176,     0.76276,     0.76376,     0.76476,     0.76577,     0.76677,     0.76777,\n",
            "           0.76877,     0.76977,     0.77077,     0.77177,     0.77277,     0.77377,     0.77477,     0.77578,     0.77678,     0.77778,     0.77878,     0.77978,     0.78078,     0.78178,     0.78278,     0.78378,     0.78478,     0.78579,     0.78679,     0.78779,     0.78879,     0.78979,     0.79079,     0.79179,\n",
            "           0.79279,     0.79379,     0.79479,      0.7958,      0.7968,      0.7978,      0.7988,      0.7998,      0.8008,      0.8018,      0.8028,      0.8038,      0.8048,     0.80581,     0.80681,     0.80781,     0.80881,     0.80981,     0.81081,     0.81181,     0.81281,     0.81381,     0.81481,     0.81582,\n",
            "           0.81682,     0.81782,     0.81882,     0.81982,     0.82082,     0.82182,     0.82282,     0.82382,     0.82482,     0.82583,     0.82683,     0.82783,     0.82883,     0.82983,     0.83083,     0.83183,     0.83283,     0.83383,     0.83483,     0.83584,     0.83684,     0.83784,     0.83884,     0.83984,\n",
            "           0.84084,     0.84184,     0.84284,     0.84384,     0.84484,     0.84585,     0.84685,     0.84785,     0.84885,     0.84985,     0.85085,     0.85185,     0.85285,     0.85385,     0.85485,     0.85586,     0.85686,     0.85786,     0.85886,     0.85986,     0.86086,     0.86186,     0.86286,     0.86386,\n",
            "           0.86486,     0.86587,     0.86687,     0.86787,     0.86887,     0.86987,     0.87087,     0.87187,     0.87287,     0.87387,     0.87487,     0.87588,     0.87688,     0.87788,     0.87888,     0.87988,     0.88088,     0.88188,     0.88288,     0.88388,     0.88488,     0.88589,     0.88689,     0.88789,\n",
            "           0.88889,     0.88989,     0.89089,     0.89189,     0.89289,     0.89389,     0.89489,      0.8959,      0.8969,      0.8979,      0.8989,      0.8999,      0.9009,      0.9019,      0.9029,      0.9039,      0.9049,     0.90591,     0.90691,     0.90791,     0.90891,     0.90991,     0.91091,     0.91191,\n",
            "           0.91291,     0.91391,     0.91491,     0.91592,     0.91692,     0.91792,     0.91892,     0.91992,     0.92092,     0.92192,     0.92292,     0.92392,     0.92492,     0.92593,     0.92693,     0.92793,     0.92893,     0.92993,     0.93093,     0.93193,     0.93293,     0.93393,     0.93493,     0.93594,\n",
            "           0.93694,     0.93794,     0.93894,     0.93994,     0.94094,     0.94194,     0.94294,     0.94394,     0.94494,     0.94595,     0.94695,     0.94795,     0.94895,     0.94995,     0.95095,     0.95195,     0.95295,     0.95395,     0.95495,     0.95596,     0.95696,     0.95796,     0.95896,     0.95996,\n",
            "           0.96096,     0.96196,     0.96296,     0.96396,     0.96496,     0.96597,     0.96697,     0.96797,     0.96897,     0.96997,     0.97097,     0.97197,     0.97297,     0.97397,     0.97497,     0.97598,     0.97698,     0.97798,     0.97898,     0.97998,     0.98098,     0.98198,     0.98298,     0.98398,\n",
            "           0.98498,     0.98599,     0.98699,     0.98799,     0.98899,     0.98999,     0.99099,     0.99199,     0.99299,     0.99399,     0.99499,       0.996,       0.997,       0.998,       0.999,           1]), array([[   0.044622,    0.044642,    0.050427,    0.055029,    0.057775,    0.059629,    0.060981,    0.062405,     0.06398,    0.065181,    0.066058,    0.067588,    0.069874,    0.074611,    0.081427,    0.090813,    0.099902,      0.1099,     0.12162,     0.13071,     0.14208,     0.14994,     0.15564,\n",
            "            0.15941,     0.16276,      0.1679,     0.17114,     0.17388,     0.17845,     0.18272,     0.18731,     0.19067,     0.19329,     0.19821,     0.20164,     0.20655,     0.21018,     0.21975,     0.22599,     0.23154,     0.23568,     0.24674,     0.28201,      0.3037,    0.050738,           0,\n",
            "                  0,           0,           0,           0,           0,           0,           0,           0,           0,           0,           0,           0,           0,           0,           0,           0,           0,           0,           0,           0,           0,           0,           0,\n",
            "                  0,           0,           0,           0,           0,           0,           0,           0,           0,           0,           0,           0,           0,           0,           0,           0,           0,           0,           0,           0,           0,           0,           0,\n",
            "                  0,           0,           0,           0,           0,           0,           0,           0,           0,           0,           0,           0,           0,           0,           0,           0,           0,           0,           0,           0,           0,           0,           0,\n",
            "                  0,           0,           0,           0,           0,           0,           0,           0,           0,           0,           0,           0,           0,           0,           0,           0,           0,           0,           0,           0,           0,           0,           0,\n",
            "                  0,           0,           0,           0,           0,           0,           0,           0,           0,           0,           0,           0,           0,           0,           0,           0,           0,           0,           0,           0,           0,           0,           0,\n",
            "                  0,           0,           0,           0,           0,           0,           0,           0,           0,           0,           0,           0,           0,           0,           0,           0,           0,           0,           0,           0,           0,           0,           0,\n",
            "                  0,           0,           0,           0,           0,           0,           0,           0,           0,           0,           0,           0,           0,           0,           0,           0,           0,           0,           0,           0,           0,           0,           0,\n",
            "                  0,           0,           0,           0,           0,           0,           0,           0,           0,           0,           0,           0,           0,           0,           0,           0,           0,           0,           0,           0,           0,           0,           0,\n",
            "                  0,           0,           0,           0,           0,           0,           0,           0,           0,           0,           0,           0,           0,           0,           0,           0,           0,           0,           0,           0,           0,           0,           0,\n",
            "                  0,           0,           0,           0,           0,           0,           0,           0,           0,           0,           0,           0,           0,           0,           0,           0,           0,           0,           0,           0,           0,           0,           0,\n",
            "                  0,           0,           0,           0,           0,           0,           0,           0,           0,           0,           0,           0,           0,           0,           0,           0,           0,           0,           0,           0,           0,           0,           0,\n",
            "                  0,           0,           0,           0,           0,           0,           0,           0,           0,           0,           0,           0,           0,           0,           0,           0,           0,           0,           0,           0,           0,           0,           0,\n",
            "                  0,           0,           0,           0,           0,           0,           0,           0,           0,           0,           0,           0,           0,           0,           0,           0,           0,           0,           0,           0,           0,           0,           0,\n",
            "                  0,           0,           0,           0,           0,           0,           0,           0,           0,           0,           0,           0,           0,           0,           0,           0,           0,           0,           0,           0,           0,           0,           0,\n",
            "                  0,           0,           0,           0,           0,           0,           0,           0,           0,           0,           0,           0,           0,           0,           0,           0,           0,           0,           0,           0,           0,           0,           0,\n",
            "                  0,           0,           0,           0,           0,           0,           0,           0,           0,           0,           0,           0,           0,           0,           0,           0,           0,           0,           0,           0,           0,           0,           0,\n",
            "                  0,           0,           0,           0,           0,           0,           0,           0,           0,           0,           0,           0,           0,           0,           0,           0,           0,           0,           0,           0,           0,           0,           0,\n",
            "                  0,           0,           0,           0,           0,           0,           0,           0,           0,           0,           0,           0,           0,           0,           0,           0,           0,           0,           0,           0,           0,           0,           0,\n",
            "                  0,           0,           0,           0,           0,           0,           0,           0,           0,           0,           0,           0,           0,           0,           0,           0,           0,           0,           0,           0,           0,           0,           0,\n",
            "                  0,           0,           0,           0,           0,           0,           0,           0,           0,           0,           0,           0,           0,           0,           0,           0,           0,           0,           0,           0,           0,           0,           0,\n",
            "                  0,           0,           0,           0,           0,           0,           0,           0,           0,           0,           0,           0,           0,           0,           0,           0,           0,           0,           0,           0,           0,           0,           0,\n",
            "                  0,           0,           0,           0,           0,           0,           0,           0,           0,           0,           0,           0,           0,           0,           0,           0,           0,           0,           0,           0,           0,           0,           0,\n",
            "                  0,           0,           0,           0,           0,           0,           0,           0,           0,           0,           0,           0,           0,           0,           0,           0,           0,           0,           0,           0,           0,           0,           0,\n",
            "                  0,           0,           0,           0,           0,           0,           0,           0,           0,           0,           0,           0,           0,           0,           0,           0,           0,           0,           0,           0,           0,           0,           0,\n",
            "                  0,           0,           0,           0,           0,           0,           0,           0,           0,           0,           0,           0,           0,           0,           0,           0,           0,           0,           0,           0,           0,           0,           0,\n",
            "                  0,           0,           0,           0,           0,           0,           0,           0,           0,           0,           0,           0,           0,           0,           0,           0,           0,           0,           0,           0,           0,           0,           0,\n",
            "                  0,           0,           0,           0,           0,           0,           0,           0,           0,           0,           0,           0,           0,           0,           0,           0,           0,           0,           0,           0,           0,           0,           0,\n",
            "                  0,           0,           0,           0,           0,           0,           0,           0,           0,           0,           0,           0,           0,           0,           0,           0,           0,           0,           0,           0,           0,           0,           0,\n",
            "                  0,           0,           0,           0,           0,           0,           0,           0,           0,           0,           0,           0,           0,           0,           0,           0,           0,           0,           0,           0,           0,           0,           0,\n",
            "                  0,           0,           0,           0,           0,           0,           0,           0,           0,           0,           0,           0,           0,           0,           0,           0,           0,           0,           0,           0,           0,           0,           0,\n",
            "                  0,           0,           0,           0,           0,           0,           0,           0,           0,           0,           0,           0,           0,           0,           0,           0,           0,           0,           0,           0,           0,           0,           0,\n",
            "                  0,           0,           0,           0,           0,           0,           0,           0,           0,           0,           0,           0,           0,           0,           0,           0,           0,           0,           0,           0,           0,           0,           0,\n",
            "                  0,           0,           0,           0,           0,           0,           0,           0,           0,           0,           0,           0,           0,           0,           0,           0,           0,           0,           0,           0,           0,           0,           0,\n",
            "                  0,           0,           0,           0,           0,           0,           0,           0,           0,           0,           0,           0,           0,           0,           0,           0,           0,           0,           0,           0,           0,           0,           0,\n",
            "                  0,           0,           0,           0,           0,           0,           0,           0,           0,           0,           0,           0,           0,           0,           0,           0,           0,           0,           0,           0,           0,           0,           0,\n",
            "                  0,           0,           0,           0,           0,           0,           0,           0,           0,           0,           0,           0,           0,           0,           0,           0,           0,           0,           0,           0,           0,           0,           0,\n",
            "                  0,           0,           0,           0,           0,           0,           0,           0,           0,           0,           0,           0,           0,           0,           0,           0,           0,           0,           0,           0,           0,           0,           0,\n",
            "                  0,           0,           0,           0,           0,           0,           0,           0,           0,           0,           0,           0,           0,           0,           0,           0,           0,           0,           0,           0,           0,           0,           0,\n",
            "                  0,           0,           0,           0,           0,           0,           0,           0,           0,           0,           0,           0,           0,           0,           0,           0,           0,           0,           0,           0,           0,           0,           0,\n",
            "                  0,           0,           0,           0,           0,           0,           0,           0,           0,           0,           0,           0,           0,           0,           0,           0,           0,           0,           0,           0,           0,           0,           0,\n",
            "                  0,           0,           0,           0,           0,           0,           0,           0,           0,           0,           0,           0,           0,           0,           0,           0,           0,           0,           0,           0,           0,           0,           0,\n",
            "                  0,           0,           0,           0,           0,           0,           0,           0,           0,           0,           0]]), 'Confidence', 'F1'], [array([          0,    0.001001,    0.002002,    0.003003,    0.004004,    0.005005,    0.006006,    0.007007,    0.008008,    0.009009,     0.01001,    0.011011,    0.012012,    0.013013,    0.014014,    0.015015,    0.016016,    0.017017,    0.018018,    0.019019,     0.02002,    0.021021,    0.022022,    0.023023,\n",
            "          0.024024,    0.025025,    0.026026,    0.027027,    0.028028,    0.029029,     0.03003,    0.031031,    0.032032,    0.033033,    0.034034,    0.035035,    0.036036,    0.037037,    0.038038,    0.039039,     0.04004,    0.041041,    0.042042,    0.043043,    0.044044,    0.045045,    0.046046,    0.047047,\n",
            "          0.048048,    0.049049,     0.05005,    0.051051,    0.052052,    0.053053,    0.054054,    0.055055,    0.056056,    0.057057,    0.058058,    0.059059,     0.06006,    0.061061,    0.062062,    0.063063,    0.064064,    0.065065,    0.066066,    0.067067,    0.068068,    0.069069,     0.07007,    0.071071,\n",
            "          0.072072,    0.073073,    0.074074,    0.075075,    0.076076,    0.077077,    0.078078,    0.079079,     0.08008,    0.081081,    0.082082,    0.083083,    0.084084,    0.085085,    0.086086,    0.087087,    0.088088,    0.089089,     0.09009,    0.091091,    0.092092,    0.093093,    0.094094,    0.095095,\n",
            "          0.096096,    0.097097,    0.098098,    0.099099,      0.1001,      0.1011,      0.1021,      0.1031,      0.1041,     0.10511,     0.10611,     0.10711,     0.10811,     0.10911,     0.11011,     0.11111,     0.11211,     0.11311,     0.11411,     0.11512,     0.11612,     0.11712,     0.11812,     0.11912,\n",
            "           0.12012,     0.12112,     0.12212,     0.12312,     0.12412,     0.12513,     0.12613,     0.12713,     0.12813,     0.12913,     0.13013,     0.13113,     0.13213,     0.13313,     0.13413,     0.13514,     0.13614,     0.13714,     0.13814,     0.13914,     0.14014,     0.14114,     0.14214,     0.14314,\n",
            "           0.14414,     0.14515,     0.14615,     0.14715,     0.14815,     0.14915,     0.15015,     0.15115,     0.15215,     0.15315,     0.15415,     0.15516,     0.15616,     0.15716,     0.15816,     0.15916,     0.16016,     0.16116,     0.16216,     0.16316,     0.16416,     0.16517,     0.16617,     0.16717,\n",
            "           0.16817,     0.16917,     0.17017,     0.17117,     0.17217,     0.17317,     0.17417,     0.17518,     0.17618,     0.17718,     0.17818,     0.17918,     0.18018,     0.18118,     0.18218,     0.18318,     0.18418,     0.18519,     0.18619,     0.18719,     0.18819,     0.18919,     0.19019,     0.19119,\n",
            "           0.19219,     0.19319,     0.19419,      0.1952,      0.1962,      0.1972,      0.1982,      0.1992,      0.2002,      0.2012,      0.2022,      0.2032,      0.2042,     0.20521,     0.20621,     0.20721,     0.20821,     0.20921,     0.21021,     0.21121,     0.21221,     0.21321,     0.21421,     0.21522,\n",
            "           0.21622,     0.21722,     0.21822,     0.21922,     0.22022,     0.22122,     0.22222,     0.22322,     0.22422,     0.22523,     0.22623,     0.22723,     0.22823,     0.22923,     0.23023,     0.23123,     0.23223,     0.23323,     0.23423,     0.23524,     0.23624,     0.23724,     0.23824,     0.23924,\n",
            "           0.24024,     0.24124,     0.24224,     0.24324,     0.24424,     0.24525,     0.24625,     0.24725,     0.24825,     0.24925,     0.25025,     0.25125,     0.25225,     0.25325,     0.25425,     0.25526,     0.25626,     0.25726,     0.25826,     0.25926,     0.26026,     0.26126,     0.26226,     0.26326,\n",
            "           0.26426,     0.26527,     0.26627,     0.26727,     0.26827,     0.26927,     0.27027,     0.27127,     0.27227,     0.27327,     0.27427,     0.27528,     0.27628,     0.27728,     0.27828,     0.27928,     0.28028,     0.28128,     0.28228,     0.28328,     0.28428,     0.28529,     0.28629,     0.28729,\n",
            "           0.28829,     0.28929,     0.29029,     0.29129,     0.29229,     0.29329,     0.29429,      0.2953,      0.2963,      0.2973,      0.2983,      0.2993,      0.3003,      0.3013,      0.3023,      0.3033,      0.3043,     0.30531,     0.30631,     0.30731,     0.30831,     0.30931,     0.31031,     0.31131,\n",
            "           0.31231,     0.31331,     0.31431,     0.31532,     0.31632,     0.31732,     0.31832,     0.31932,     0.32032,     0.32132,     0.32232,     0.32332,     0.32432,     0.32533,     0.32633,     0.32733,     0.32833,     0.32933,     0.33033,     0.33133,     0.33233,     0.33333,     0.33433,     0.33534,\n",
            "           0.33634,     0.33734,     0.33834,     0.33934,     0.34034,     0.34134,     0.34234,     0.34334,     0.34434,     0.34535,     0.34635,     0.34735,     0.34835,     0.34935,     0.35035,     0.35135,     0.35235,     0.35335,     0.35435,     0.35536,     0.35636,     0.35736,     0.35836,     0.35936,\n",
            "           0.36036,     0.36136,     0.36236,     0.36336,     0.36436,     0.36537,     0.36637,     0.36737,     0.36837,     0.36937,     0.37037,     0.37137,     0.37237,     0.37337,     0.37437,     0.37538,     0.37638,     0.37738,     0.37838,     0.37938,     0.38038,     0.38138,     0.38238,     0.38338,\n",
            "           0.38438,     0.38539,     0.38639,     0.38739,     0.38839,     0.38939,     0.39039,     0.39139,     0.39239,     0.39339,     0.39439,      0.3954,      0.3964,      0.3974,      0.3984,      0.3994,      0.4004,      0.4014,      0.4024,      0.4034,      0.4044,     0.40541,     0.40641,     0.40741,\n",
            "           0.40841,     0.40941,     0.41041,     0.41141,     0.41241,     0.41341,     0.41441,     0.41542,     0.41642,     0.41742,     0.41842,     0.41942,     0.42042,     0.42142,     0.42242,     0.42342,     0.42442,     0.42543,     0.42643,     0.42743,     0.42843,     0.42943,     0.43043,     0.43143,\n",
            "           0.43243,     0.43343,     0.43443,     0.43544,     0.43644,     0.43744,     0.43844,     0.43944,     0.44044,     0.44144,     0.44244,     0.44344,     0.44444,     0.44545,     0.44645,     0.44745,     0.44845,     0.44945,     0.45045,     0.45145,     0.45245,     0.45345,     0.45445,     0.45546,\n",
            "           0.45646,     0.45746,     0.45846,     0.45946,     0.46046,     0.46146,     0.46246,     0.46346,     0.46446,     0.46547,     0.46647,     0.46747,     0.46847,     0.46947,     0.47047,     0.47147,     0.47247,     0.47347,     0.47447,     0.47548,     0.47648,     0.47748,     0.47848,     0.47948,\n",
            "           0.48048,     0.48148,     0.48248,     0.48348,     0.48448,     0.48549,     0.48649,     0.48749,     0.48849,     0.48949,     0.49049,     0.49149,     0.49249,     0.49349,     0.49449,      0.4955,      0.4965,      0.4975,      0.4985,      0.4995,      0.5005,      0.5015,      0.5025,      0.5035,\n",
            "            0.5045,     0.50551,     0.50651,     0.50751,     0.50851,     0.50951,     0.51051,     0.51151,     0.51251,     0.51351,     0.51451,     0.51552,     0.51652,     0.51752,     0.51852,     0.51952,     0.52052,     0.52152,     0.52252,     0.52352,     0.52452,     0.52553,     0.52653,     0.52753,\n",
            "           0.52853,     0.52953,     0.53053,     0.53153,     0.53253,     0.53353,     0.53453,     0.53554,     0.53654,     0.53754,     0.53854,     0.53954,     0.54054,     0.54154,     0.54254,     0.54354,     0.54454,     0.54555,     0.54655,     0.54755,     0.54855,     0.54955,     0.55055,     0.55155,\n",
            "           0.55255,     0.55355,     0.55455,     0.55556,     0.55656,     0.55756,     0.55856,     0.55956,     0.56056,     0.56156,     0.56256,     0.56356,     0.56456,     0.56557,     0.56657,     0.56757,     0.56857,     0.56957,     0.57057,     0.57157,     0.57257,     0.57357,     0.57457,     0.57558,\n",
            "           0.57658,     0.57758,     0.57858,     0.57958,     0.58058,     0.58158,     0.58258,     0.58358,     0.58458,     0.58559,     0.58659,     0.58759,     0.58859,     0.58959,     0.59059,     0.59159,     0.59259,     0.59359,     0.59459,      0.5956,      0.5966,      0.5976,      0.5986,      0.5996,\n",
            "            0.6006,      0.6016,      0.6026,      0.6036,      0.6046,     0.60561,     0.60661,     0.60761,     0.60861,     0.60961,     0.61061,     0.61161,     0.61261,     0.61361,     0.61461,     0.61562,     0.61662,     0.61762,     0.61862,     0.61962,     0.62062,     0.62162,     0.62262,     0.62362,\n",
            "           0.62462,     0.62563,     0.62663,     0.62763,     0.62863,     0.62963,     0.63063,     0.63163,     0.63263,     0.63363,     0.63463,     0.63564,     0.63664,     0.63764,     0.63864,     0.63964,     0.64064,     0.64164,     0.64264,     0.64364,     0.64464,     0.64565,     0.64665,     0.64765,\n",
            "           0.64865,     0.64965,     0.65065,     0.65165,     0.65265,     0.65365,     0.65465,     0.65566,     0.65666,     0.65766,     0.65866,     0.65966,     0.66066,     0.66166,     0.66266,     0.66366,     0.66466,     0.66567,     0.66667,     0.66767,     0.66867,     0.66967,     0.67067,     0.67167,\n",
            "           0.67267,     0.67367,     0.67467,     0.67568,     0.67668,     0.67768,     0.67868,     0.67968,     0.68068,     0.68168,     0.68268,     0.68368,     0.68468,     0.68569,     0.68669,     0.68769,     0.68869,     0.68969,     0.69069,     0.69169,     0.69269,     0.69369,     0.69469,      0.6957,\n",
            "            0.6967,      0.6977,      0.6987,      0.6997,      0.7007,      0.7017,      0.7027,      0.7037,      0.7047,     0.70571,     0.70671,     0.70771,     0.70871,     0.70971,     0.71071,     0.71171,     0.71271,     0.71371,     0.71471,     0.71572,     0.71672,     0.71772,     0.71872,     0.71972,\n",
            "           0.72072,     0.72172,     0.72272,     0.72372,     0.72472,     0.72573,     0.72673,     0.72773,     0.72873,     0.72973,     0.73073,     0.73173,     0.73273,     0.73373,     0.73473,     0.73574,     0.73674,     0.73774,     0.73874,     0.73974,     0.74074,     0.74174,     0.74274,     0.74374,\n",
            "           0.74474,     0.74575,     0.74675,     0.74775,     0.74875,     0.74975,     0.75075,     0.75175,     0.75275,     0.75375,     0.75475,     0.75576,     0.75676,     0.75776,     0.75876,     0.75976,     0.76076,     0.76176,     0.76276,     0.76376,     0.76476,     0.76577,     0.76677,     0.76777,\n",
            "           0.76877,     0.76977,     0.77077,     0.77177,     0.77277,     0.77377,     0.77477,     0.77578,     0.77678,     0.77778,     0.77878,     0.77978,     0.78078,     0.78178,     0.78278,     0.78378,     0.78478,     0.78579,     0.78679,     0.78779,     0.78879,     0.78979,     0.79079,     0.79179,\n",
            "           0.79279,     0.79379,     0.79479,      0.7958,      0.7968,      0.7978,      0.7988,      0.7998,      0.8008,      0.8018,      0.8028,      0.8038,      0.8048,     0.80581,     0.80681,     0.80781,     0.80881,     0.80981,     0.81081,     0.81181,     0.81281,     0.81381,     0.81481,     0.81582,\n",
            "           0.81682,     0.81782,     0.81882,     0.81982,     0.82082,     0.82182,     0.82282,     0.82382,     0.82482,     0.82583,     0.82683,     0.82783,     0.82883,     0.82983,     0.83083,     0.83183,     0.83283,     0.83383,     0.83483,     0.83584,     0.83684,     0.83784,     0.83884,     0.83984,\n",
            "           0.84084,     0.84184,     0.84284,     0.84384,     0.84484,     0.84585,     0.84685,     0.84785,     0.84885,     0.84985,     0.85085,     0.85185,     0.85285,     0.85385,     0.85485,     0.85586,     0.85686,     0.85786,     0.85886,     0.85986,     0.86086,     0.86186,     0.86286,     0.86386,\n",
            "           0.86486,     0.86587,     0.86687,     0.86787,     0.86887,     0.86987,     0.87087,     0.87187,     0.87287,     0.87387,     0.87487,     0.87588,     0.87688,     0.87788,     0.87888,     0.87988,     0.88088,     0.88188,     0.88288,     0.88388,     0.88488,     0.88589,     0.88689,     0.88789,\n",
            "           0.88889,     0.88989,     0.89089,     0.89189,     0.89289,     0.89389,     0.89489,      0.8959,      0.8969,      0.8979,      0.8989,      0.8999,      0.9009,      0.9019,      0.9029,      0.9039,      0.9049,     0.90591,     0.90691,     0.90791,     0.90891,     0.90991,     0.91091,     0.91191,\n",
            "           0.91291,     0.91391,     0.91491,     0.91592,     0.91692,     0.91792,     0.91892,     0.91992,     0.92092,     0.92192,     0.92292,     0.92392,     0.92492,     0.92593,     0.92693,     0.92793,     0.92893,     0.92993,     0.93093,     0.93193,     0.93293,     0.93393,     0.93493,     0.93594,\n",
            "           0.93694,     0.93794,     0.93894,     0.93994,     0.94094,     0.94194,     0.94294,     0.94394,     0.94494,     0.94595,     0.94695,     0.94795,     0.94895,     0.94995,     0.95095,     0.95195,     0.95295,     0.95395,     0.95495,     0.95596,     0.95696,     0.95796,     0.95896,     0.95996,\n",
            "           0.96096,     0.96196,     0.96296,     0.96396,     0.96496,     0.96597,     0.96697,     0.96797,     0.96897,     0.96997,     0.97097,     0.97197,     0.97297,     0.97397,     0.97497,     0.97598,     0.97698,     0.97798,     0.97898,     0.97998,     0.98098,     0.98198,     0.98298,     0.98398,\n",
            "           0.98498,     0.98599,     0.98699,     0.98799,     0.98899,     0.98999,     0.99099,     0.99199,     0.99299,     0.99399,     0.99499,       0.996,       0.997,       0.998,       0.999,           1]), array([[    0.02282,    0.022831,    0.025866,    0.028293,    0.029747,    0.030731,    0.031449,    0.032208,    0.033047,    0.033689,    0.034157,    0.034976,    0.036202,    0.038751,    0.042442,    0.047566,    0.052577,    0.058147,    0.064748,    0.069926,    0.076472,    0.081048,    0.084387,\n",
            "           0.086607,    0.088588,    0.091645,    0.093576,    0.095216,    0.097966,     0.10055,     0.10333,     0.10538,     0.10699,     0.11001,     0.11212,     0.11517,     0.11743,     0.12344,     0.12739,     0.13093,     0.13455,     0.14371,     0.17332,     0.28975,           1,           1,\n",
            "                  1,           1,           1,           1,           1,           1,           1,           1,           1,           1,           1,           1,           1,           1,           1,           1,           1,           1,           1,           1,           1,           1,           1,\n",
            "                  1,           1,           1,           1,           1,           1,           1,           1,           1,           1,           1,           1,           1,           1,           1,           1,           1,           1,           1,           1,           1,           1,           1,\n",
            "                  1,           1,           1,           1,           1,           1,           1,           1,           1,           1,           1,           1,           1,           1,           1,           1,           1,           1,           1,           1,           1,           1,           1,\n",
            "                  1,           1,           1,           1,           1,           1,           1,           1,           1,           1,           1,           1,           1,           1,           1,           1,           1,           1,           1,           1,           1,           1,           1,\n",
            "                  1,           1,           1,           1,           1,           1,           1,           1,           1,           1,           1,           1,           1,           1,           1,           1,           1,           1,           1,           1,           1,           1,           1,\n",
            "                  1,           1,           1,           1,           1,           1,           1,           1,           1,           1,           1,           1,           1,           1,           1,           1,           1,           1,           1,           1,           1,           1,           1,\n",
            "                  1,           1,           1,           1,           1,           1,           1,           1,           1,           1,           1,           1,           1,           1,           1,           1,           1,           1,           1,           1,           1,           1,           1,\n",
            "                  1,           1,           1,           1,           1,           1,           1,           1,           1,           1,           1,           1,           1,           1,           1,           1,           1,           1,           1,           1,           1,           1,           1,\n",
            "                  1,           1,           1,           1,           1,           1,           1,           1,           1,           1,           1,           1,           1,           1,           1,           1,           1,           1,           1,           1,           1,           1,           1,\n",
            "                  1,           1,           1,           1,           1,           1,           1,           1,           1,           1,           1,           1,           1,           1,           1,           1,           1,           1,           1,           1,           1,           1,           1,\n",
            "                  1,           1,           1,           1,           1,           1,           1,           1,           1,           1,           1,           1,           1,           1,           1,           1,           1,           1,           1,           1,           1,           1,           1,\n",
            "                  1,           1,           1,           1,           1,           1,           1,           1,           1,           1,           1,           1,           1,           1,           1,           1,           1,           1,           1,           1,           1,           1,           1,\n",
            "                  1,           1,           1,           1,           1,           1,           1,           1,           1,           1,           1,           1,           1,           1,           1,           1,           1,           1,           1,           1,           1,           1,           1,\n",
            "                  1,           1,           1,           1,           1,           1,           1,           1,           1,           1,           1,           1,           1,           1,           1,           1,           1,           1,           1,           1,           1,           1,           1,\n",
            "                  1,           1,           1,           1,           1,           1,           1,           1,           1,           1,           1,           1,           1,           1,           1,           1,           1,           1,           1,           1,           1,           1,           1,\n",
            "                  1,           1,           1,           1,           1,           1,           1,           1,           1,           1,           1,           1,           1,           1,           1,           1,           1,           1,           1,           1,           1,           1,           1,\n",
            "                  1,           1,           1,           1,           1,           1,           1,           1,           1,           1,           1,           1,           1,           1,           1,           1,           1,           1,           1,           1,           1,           1,           1,\n",
            "                  1,           1,           1,           1,           1,           1,           1,           1,           1,           1,           1,           1,           1,           1,           1,           1,           1,           1,           1,           1,           1,           1,           1,\n",
            "                  1,           1,           1,           1,           1,           1,           1,           1,           1,           1,           1,           1,           1,           1,           1,           1,           1,           1,           1,           1,           1,           1,           1,\n",
            "                  1,           1,           1,           1,           1,           1,           1,           1,           1,           1,           1,           1,           1,           1,           1,           1,           1,           1,           1,           1,           1,           1,           1,\n",
            "                  1,           1,           1,           1,           1,           1,           1,           1,           1,           1,           1,           1,           1,           1,           1,           1,           1,           1,           1,           1,           1,           1,           1,\n",
            "                  1,           1,           1,           1,           1,           1,           1,           1,           1,           1,           1,           1,           1,           1,           1,           1,           1,           1,           1,           1,           1,           1,           1,\n",
            "                  1,           1,           1,           1,           1,           1,           1,           1,           1,           1,           1,           1,           1,           1,           1,           1,           1,           1,           1,           1,           1,           1,           1,\n",
            "                  1,           1,           1,           1,           1,           1,           1,           1,           1,           1,           1,           1,           1,           1,           1,           1,           1,           1,           1,           1,           1,           1,           1,\n",
            "                  1,           1,           1,           1,           1,           1,           1,           1,           1,           1,           1,           1,           1,           1,           1,           1,           1,           1,           1,           1,           1,           1,           1,\n",
            "                  1,           1,           1,           1,           1,           1,           1,           1,           1,           1,           1,           1,           1,           1,           1,           1,           1,           1,           1,           1,           1,           1,           1,\n",
            "                  1,           1,           1,           1,           1,           1,           1,           1,           1,           1,           1,           1,           1,           1,           1,           1,           1,           1,           1,           1,           1,           1,           1,\n",
            "                  1,           1,           1,           1,           1,           1,           1,           1,           1,           1,           1,           1,           1,           1,           1,           1,           1,           1,           1,           1,           1,           1,           1,\n",
            "                  1,           1,           1,           1,           1,           1,           1,           1,           1,           1,           1,           1,           1,           1,           1,           1,           1,           1,           1,           1,           1,           1,           1,\n",
            "                  1,           1,           1,           1,           1,           1,           1,           1,           1,           1,           1,           1,           1,           1,           1,           1,           1,           1,           1,           1,           1,           1,           1,\n",
            "                  1,           1,           1,           1,           1,           1,           1,           1,           1,           1,           1,           1,           1,           1,           1,           1,           1,           1,           1,           1,           1,           1,           1,\n",
            "                  1,           1,           1,           1,           1,           1,           1,           1,           1,           1,           1,           1,           1,           1,           1,           1,           1,           1,           1,           1,           1,           1,           1,\n",
            "                  1,           1,           1,           1,           1,           1,           1,           1,           1,           1,           1,           1,           1,           1,           1,           1,           1,           1,           1,           1,           1,           1,           1,\n",
            "                  1,           1,           1,           1,           1,           1,           1,           1,           1,           1,           1,           1,           1,           1,           1,           1,           1,           1,           1,           1,           1,           1,           1,\n",
            "                  1,           1,           1,           1,           1,           1,           1,           1,           1,           1,           1,           1,           1,           1,           1,           1,           1,           1,           1,           1,           1,           1,           1,\n",
            "                  1,           1,           1,           1,           1,           1,           1,           1,           1,           1,           1,           1,           1,           1,           1,           1,           1,           1,           1,           1,           1,           1,           1,\n",
            "                  1,           1,           1,           1,           1,           1,           1,           1,           1,           1,           1,           1,           1,           1,           1,           1,           1,           1,           1,           1,           1,           1,           1,\n",
            "                  1,           1,           1,           1,           1,           1,           1,           1,           1,           1,           1,           1,           1,           1,           1,           1,           1,           1,           1,           1,           1,           1,           1,\n",
            "                  1,           1,           1,           1,           1,           1,           1,           1,           1,           1,           1,           1,           1,           1,           1,           1,           1,           1,           1,           1,           1,           1,           1,\n",
            "                  1,           1,           1,           1,           1,           1,           1,           1,           1,           1,           1,           1,           1,           1,           1,           1,           1,           1,           1,           1,           1,           1,           1,\n",
            "                  1,           1,           1,           1,           1,           1,           1,           1,           1,           1,           1,           1,           1,           1,           1,           1,           1,           1,           1,           1,           1,           1,           1,\n",
            "                  1,           1,           1,           1,           1,           1,           1,           1,           1,           1,           1]]), 'Confidence', 'Precision'], [array([          0,    0.001001,    0.002002,    0.003003,    0.004004,    0.005005,    0.006006,    0.007007,    0.008008,    0.009009,     0.01001,    0.011011,    0.012012,    0.013013,    0.014014,    0.015015,    0.016016,    0.017017,    0.018018,    0.019019,     0.02002,    0.021021,    0.022022,    0.023023,\n",
            "          0.024024,    0.025025,    0.026026,    0.027027,    0.028028,    0.029029,     0.03003,    0.031031,    0.032032,    0.033033,    0.034034,    0.035035,    0.036036,    0.037037,    0.038038,    0.039039,     0.04004,    0.041041,    0.042042,    0.043043,    0.044044,    0.045045,    0.046046,    0.047047,\n",
            "          0.048048,    0.049049,     0.05005,    0.051051,    0.052052,    0.053053,    0.054054,    0.055055,    0.056056,    0.057057,    0.058058,    0.059059,     0.06006,    0.061061,    0.062062,    0.063063,    0.064064,    0.065065,    0.066066,    0.067067,    0.068068,    0.069069,     0.07007,    0.071071,\n",
            "          0.072072,    0.073073,    0.074074,    0.075075,    0.076076,    0.077077,    0.078078,    0.079079,     0.08008,    0.081081,    0.082082,    0.083083,    0.084084,    0.085085,    0.086086,    0.087087,    0.088088,    0.089089,     0.09009,    0.091091,    0.092092,    0.093093,    0.094094,    0.095095,\n",
            "          0.096096,    0.097097,    0.098098,    0.099099,      0.1001,      0.1011,      0.1021,      0.1031,      0.1041,     0.10511,     0.10611,     0.10711,     0.10811,     0.10911,     0.11011,     0.11111,     0.11211,     0.11311,     0.11411,     0.11512,     0.11612,     0.11712,     0.11812,     0.11912,\n",
            "           0.12012,     0.12112,     0.12212,     0.12312,     0.12412,     0.12513,     0.12613,     0.12713,     0.12813,     0.12913,     0.13013,     0.13113,     0.13213,     0.13313,     0.13413,     0.13514,     0.13614,     0.13714,     0.13814,     0.13914,     0.14014,     0.14114,     0.14214,     0.14314,\n",
            "           0.14414,     0.14515,     0.14615,     0.14715,     0.14815,     0.14915,     0.15015,     0.15115,     0.15215,     0.15315,     0.15415,     0.15516,     0.15616,     0.15716,     0.15816,     0.15916,     0.16016,     0.16116,     0.16216,     0.16316,     0.16416,     0.16517,     0.16617,     0.16717,\n",
            "           0.16817,     0.16917,     0.17017,     0.17117,     0.17217,     0.17317,     0.17417,     0.17518,     0.17618,     0.17718,     0.17818,     0.17918,     0.18018,     0.18118,     0.18218,     0.18318,     0.18418,     0.18519,     0.18619,     0.18719,     0.18819,     0.18919,     0.19019,     0.19119,\n",
            "           0.19219,     0.19319,     0.19419,      0.1952,      0.1962,      0.1972,      0.1982,      0.1992,      0.2002,      0.2012,      0.2022,      0.2032,      0.2042,     0.20521,     0.20621,     0.20721,     0.20821,     0.20921,     0.21021,     0.21121,     0.21221,     0.21321,     0.21421,     0.21522,\n",
            "           0.21622,     0.21722,     0.21822,     0.21922,     0.22022,     0.22122,     0.22222,     0.22322,     0.22422,     0.22523,     0.22623,     0.22723,     0.22823,     0.22923,     0.23023,     0.23123,     0.23223,     0.23323,     0.23423,     0.23524,     0.23624,     0.23724,     0.23824,     0.23924,\n",
            "           0.24024,     0.24124,     0.24224,     0.24324,     0.24424,     0.24525,     0.24625,     0.24725,     0.24825,     0.24925,     0.25025,     0.25125,     0.25225,     0.25325,     0.25425,     0.25526,     0.25626,     0.25726,     0.25826,     0.25926,     0.26026,     0.26126,     0.26226,     0.26326,\n",
            "           0.26426,     0.26527,     0.26627,     0.26727,     0.26827,     0.26927,     0.27027,     0.27127,     0.27227,     0.27327,     0.27427,     0.27528,     0.27628,     0.27728,     0.27828,     0.27928,     0.28028,     0.28128,     0.28228,     0.28328,     0.28428,     0.28529,     0.28629,     0.28729,\n",
            "           0.28829,     0.28929,     0.29029,     0.29129,     0.29229,     0.29329,     0.29429,      0.2953,      0.2963,      0.2973,      0.2983,      0.2993,      0.3003,      0.3013,      0.3023,      0.3033,      0.3043,     0.30531,     0.30631,     0.30731,     0.30831,     0.30931,     0.31031,     0.31131,\n",
            "           0.31231,     0.31331,     0.31431,     0.31532,     0.31632,     0.31732,     0.31832,     0.31932,     0.32032,     0.32132,     0.32232,     0.32332,     0.32432,     0.32533,     0.32633,     0.32733,     0.32833,     0.32933,     0.33033,     0.33133,     0.33233,     0.33333,     0.33433,     0.33534,\n",
            "           0.33634,     0.33734,     0.33834,     0.33934,     0.34034,     0.34134,     0.34234,     0.34334,     0.34434,     0.34535,     0.34635,     0.34735,     0.34835,     0.34935,     0.35035,     0.35135,     0.35235,     0.35335,     0.35435,     0.35536,     0.35636,     0.35736,     0.35836,     0.35936,\n",
            "           0.36036,     0.36136,     0.36236,     0.36336,     0.36436,     0.36537,     0.36637,     0.36737,     0.36837,     0.36937,     0.37037,     0.37137,     0.37237,     0.37337,     0.37437,     0.37538,     0.37638,     0.37738,     0.37838,     0.37938,     0.38038,     0.38138,     0.38238,     0.38338,\n",
            "           0.38438,     0.38539,     0.38639,     0.38739,     0.38839,     0.38939,     0.39039,     0.39139,     0.39239,     0.39339,     0.39439,      0.3954,      0.3964,      0.3974,      0.3984,      0.3994,      0.4004,      0.4014,      0.4024,      0.4034,      0.4044,     0.40541,     0.40641,     0.40741,\n",
            "           0.40841,     0.40941,     0.41041,     0.41141,     0.41241,     0.41341,     0.41441,     0.41542,     0.41642,     0.41742,     0.41842,     0.41942,     0.42042,     0.42142,     0.42242,     0.42342,     0.42442,     0.42543,     0.42643,     0.42743,     0.42843,     0.42943,     0.43043,     0.43143,\n",
            "           0.43243,     0.43343,     0.43443,     0.43544,     0.43644,     0.43744,     0.43844,     0.43944,     0.44044,     0.44144,     0.44244,     0.44344,     0.44444,     0.44545,     0.44645,     0.44745,     0.44845,     0.44945,     0.45045,     0.45145,     0.45245,     0.45345,     0.45445,     0.45546,\n",
            "           0.45646,     0.45746,     0.45846,     0.45946,     0.46046,     0.46146,     0.46246,     0.46346,     0.46446,     0.46547,     0.46647,     0.46747,     0.46847,     0.46947,     0.47047,     0.47147,     0.47247,     0.47347,     0.47447,     0.47548,     0.47648,     0.47748,     0.47848,     0.47948,\n",
            "           0.48048,     0.48148,     0.48248,     0.48348,     0.48448,     0.48549,     0.48649,     0.48749,     0.48849,     0.48949,     0.49049,     0.49149,     0.49249,     0.49349,     0.49449,      0.4955,      0.4965,      0.4975,      0.4985,      0.4995,      0.5005,      0.5015,      0.5025,      0.5035,\n",
            "            0.5045,     0.50551,     0.50651,     0.50751,     0.50851,     0.50951,     0.51051,     0.51151,     0.51251,     0.51351,     0.51451,     0.51552,     0.51652,     0.51752,     0.51852,     0.51952,     0.52052,     0.52152,     0.52252,     0.52352,     0.52452,     0.52553,     0.52653,     0.52753,\n",
            "           0.52853,     0.52953,     0.53053,     0.53153,     0.53253,     0.53353,     0.53453,     0.53554,     0.53654,     0.53754,     0.53854,     0.53954,     0.54054,     0.54154,     0.54254,     0.54354,     0.54454,     0.54555,     0.54655,     0.54755,     0.54855,     0.54955,     0.55055,     0.55155,\n",
            "           0.55255,     0.55355,     0.55455,     0.55556,     0.55656,     0.55756,     0.55856,     0.55956,     0.56056,     0.56156,     0.56256,     0.56356,     0.56456,     0.56557,     0.56657,     0.56757,     0.56857,     0.56957,     0.57057,     0.57157,     0.57257,     0.57357,     0.57457,     0.57558,\n",
            "           0.57658,     0.57758,     0.57858,     0.57958,     0.58058,     0.58158,     0.58258,     0.58358,     0.58458,     0.58559,     0.58659,     0.58759,     0.58859,     0.58959,     0.59059,     0.59159,     0.59259,     0.59359,     0.59459,      0.5956,      0.5966,      0.5976,      0.5986,      0.5996,\n",
            "            0.6006,      0.6016,      0.6026,      0.6036,      0.6046,     0.60561,     0.60661,     0.60761,     0.60861,     0.60961,     0.61061,     0.61161,     0.61261,     0.61361,     0.61461,     0.61562,     0.61662,     0.61762,     0.61862,     0.61962,     0.62062,     0.62162,     0.62262,     0.62362,\n",
            "           0.62462,     0.62563,     0.62663,     0.62763,     0.62863,     0.62963,     0.63063,     0.63163,     0.63263,     0.63363,     0.63463,     0.63564,     0.63664,     0.63764,     0.63864,     0.63964,     0.64064,     0.64164,     0.64264,     0.64364,     0.64464,     0.64565,     0.64665,     0.64765,\n",
            "           0.64865,     0.64965,     0.65065,     0.65165,     0.65265,     0.65365,     0.65465,     0.65566,     0.65666,     0.65766,     0.65866,     0.65966,     0.66066,     0.66166,     0.66266,     0.66366,     0.66466,     0.66567,     0.66667,     0.66767,     0.66867,     0.66967,     0.67067,     0.67167,\n",
            "           0.67267,     0.67367,     0.67467,     0.67568,     0.67668,     0.67768,     0.67868,     0.67968,     0.68068,     0.68168,     0.68268,     0.68368,     0.68468,     0.68569,     0.68669,     0.68769,     0.68869,     0.68969,     0.69069,     0.69169,     0.69269,     0.69369,     0.69469,      0.6957,\n",
            "            0.6967,      0.6977,      0.6987,      0.6997,      0.7007,      0.7017,      0.7027,      0.7037,      0.7047,     0.70571,     0.70671,     0.70771,     0.70871,     0.70971,     0.71071,     0.71171,     0.71271,     0.71371,     0.71471,     0.71572,     0.71672,     0.71772,     0.71872,     0.71972,\n",
            "           0.72072,     0.72172,     0.72272,     0.72372,     0.72472,     0.72573,     0.72673,     0.72773,     0.72873,     0.72973,     0.73073,     0.73173,     0.73273,     0.73373,     0.73473,     0.73574,     0.73674,     0.73774,     0.73874,     0.73974,     0.74074,     0.74174,     0.74274,     0.74374,\n",
            "           0.74474,     0.74575,     0.74675,     0.74775,     0.74875,     0.74975,     0.75075,     0.75175,     0.75275,     0.75375,     0.75475,     0.75576,     0.75676,     0.75776,     0.75876,     0.75976,     0.76076,     0.76176,     0.76276,     0.76376,     0.76476,     0.76577,     0.76677,     0.76777,\n",
            "           0.76877,     0.76977,     0.77077,     0.77177,     0.77277,     0.77377,     0.77477,     0.77578,     0.77678,     0.77778,     0.77878,     0.77978,     0.78078,     0.78178,     0.78278,     0.78378,     0.78478,     0.78579,     0.78679,     0.78779,     0.78879,     0.78979,     0.79079,     0.79179,\n",
            "           0.79279,     0.79379,     0.79479,      0.7958,      0.7968,      0.7978,      0.7988,      0.7998,      0.8008,      0.8018,      0.8028,      0.8038,      0.8048,     0.80581,     0.80681,     0.80781,     0.80881,     0.80981,     0.81081,     0.81181,     0.81281,     0.81381,     0.81481,     0.81582,\n",
            "           0.81682,     0.81782,     0.81882,     0.81982,     0.82082,     0.82182,     0.82282,     0.82382,     0.82482,     0.82583,     0.82683,     0.82783,     0.82883,     0.82983,     0.83083,     0.83183,     0.83283,     0.83383,     0.83483,     0.83584,     0.83684,     0.83784,     0.83884,     0.83984,\n",
            "           0.84084,     0.84184,     0.84284,     0.84384,     0.84484,     0.84585,     0.84685,     0.84785,     0.84885,     0.84985,     0.85085,     0.85185,     0.85285,     0.85385,     0.85485,     0.85586,     0.85686,     0.85786,     0.85886,     0.85986,     0.86086,     0.86186,     0.86286,     0.86386,\n",
            "           0.86486,     0.86587,     0.86687,     0.86787,     0.86887,     0.86987,     0.87087,     0.87187,     0.87287,     0.87387,     0.87487,     0.87588,     0.87688,     0.87788,     0.87888,     0.87988,     0.88088,     0.88188,     0.88288,     0.88388,     0.88488,     0.88589,     0.88689,     0.88789,\n",
            "           0.88889,     0.88989,     0.89089,     0.89189,     0.89289,     0.89389,     0.89489,      0.8959,      0.8969,      0.8979,      0.8989,      0.8999,      0.9009,      0.9019,      0.9029,      0.9039,      0.9049,     0.90591,     0.90691,     0.90791,     0.90891,     0.90991,     0.91091,     0.91191,\n",
            "           0.91291,     0.91391,     0.91491,     0.91592,     0.91692,     0.91792,     0.91892,     0.91992,     0.92092,     0.92192,     0.92292,     0.92392,     0.92492,     0.92593,     0.92693,     0.92793,     0.92893,     0.92993,     0.93093,     0.93193,     0.93293,     0.93393,     0.93493,     0.93594,\n",
            "           0.93694,     0.93794,     0.93894,     0.93994,     0.94094,     0.94194,     0.94294,     0.94394,     0.94494,     0.94595,     0.94695,     0.94795,     0.94895,     0.94995,     0.95095,     0.95195,     0.95295,     0.95395,     0.95495,     0.95596,     0.95696,     0.95796,     0.95896,     0.95996,\n",
            "           0.96096,     0.96196,     0.96296,     0.96396,     0.96496,     0.96597,     0.96697,     0.96797,     0.96897,     0.96997,     0.97097,     0.97197,     0.97297,     0.97397,     0.97497,     0.97598,     0.97698,     0.97798,     0.97898,     0.97998,     0.98098,     0.98198,     0.98298,     0.98398,\n",
            "           0.98498,     0.98599,     0.98699,     0.98799,     0.98899,     0.98999,     0.99099,     0.99199,     0.99299,     0.99399,     0.99499,       0.996,       0.997,       0.998,       0.999,           1]), array([[          1,           1,           1,           1,           1,           1,           1,           1,           1,           1,           1,           1,           1,           1,           1,           1,           1,           1,           1,           1,           1,           1,           1,\n",
            "                  1,           1,           1,           1,           1,           1,           1,           1,           1,           1,           1,           1,           1,           1,           1,           1,           1,     0.94872,     0.87179,     0.75641,     0.31906,    0.026029,           0,\n",
            "                  0,           0,           0,           0,           0,           0,           0,           0,           0,           0,           0,           0,           0,           0,           0,           0,           0,           0,           0,           0,           0,           0,           0,\n",
            "                  0,           0,           0,           0,           0,           0,           0,           0,           0,           0,           0,           0,           0,           0,           0,           0,           0,           0,           0,           0,           0,           0,           0,\n",
            "                  0,           0,           0,           0,           0,           0,           0,           0,           0,           0,           0,           0,           0,           0,           0,           0,           0,           0,           0,           0,           0,           0,           0,\n",
            "                  0,           0,           0,           0,           0,           0,           0,           0,           0,           0,           0,           0,           0,           0,           0,           0,           0,           0,           0,           0,           0,           0,           0,\n",
            "                  0,           0,           0,           0,           0,           0,           0,           0,           0,           0,           0,           0,           0,           0,           0,           0,           0,           0,           0,           0,           0,           0,           0,\n",
            "                  0,           0,           0,           0,           0,           0,           0,           0,           0,           0,           0,           0,           0,           0,           0,           0,           0,           0,           0,           0,           0,           0,           0,\n",
            "                  0,           0,           0,           0,           0,           0,           0,           0,           0,           0,           0,           0,           0,           0,           0,           0,           0,           0,           0,           0,           0,           0,           0,\n",
            "                  0,           0,           0,           0,           0,           0,           0,           0,           0,           0,           0,           0,           0,           0,           0,           0,           0,           0,           0,           0,           0,           0,           0,\n",
            "                  0,           0,           0,           0,           0,           0,           0,           0,           0,           0,           0,           0,           0,           0,           0,           0,           0,           0,           0,           0,           0,           0,           0,\n",
            "                  0,           0,           0,           0,           0,           0,           0,           0,           0,           0,           0,           0,           0,           0,           0,           0,           0,           0,           0,           0,           0,           0,           0,\n",
            "                  0,           0,           0,           0,           0,           0,           0,           0,           0,           0,           0,           0,           0,           0,           0,           0,           0,           0,           0,           0,           0,           0,           0,\n",
            "                  0,           0,           0,           0,           0,           0,           0,           0,           0,           0,           0,           0,           0,           0,           0,           0,           0,           0,           0,           0,           0,           0,           0,\n",
            "                  0,           0,           0,           0,           0,           0,           0,           0,           0,           0,           0,           0,           0,           0,           0,           0,           0,           0,           0,           0,           0,           0,           0,\n",
            "                  0,           0,           0,           0,           0,           0,           0,           0,           0,           0,           0,           0,           0,           0,           0,           0,           0,           0,           0,           0,           0,           0,           0,\n",
            "                  0,           0,           0,           0,           0,           0,           0,           0,           0,           0,           0,           0,           0,           0,           0,           0,           0,           0,           0,           0,           0,           0,           0,\n",
            "                  0,           0,           0,           0,           0,           0,           0,           0,           0,           0,           0,           0,           0,           0,           0,           0,           0,           0,           0,           0,           0,           0,           0,\n",
            "                  0,           0,           0,           0,           0,           0,           0,           0,           0,           0,           0,           0,           0,           0,           0,           0,           0,           0,           0,           0,           0,           0,           0,\n",
            "                  0,           0,           0,           0,           0,           0,           0,           0,           0,           0,           0,           0,           0,           0,           0,           0,           0,           0,           0,           0,           0,           0,           0,\n",
            "                  0,           0,           0,           0,           0,           0,           0,           0,           0,           0,           0,           0,           0,           0,           0,           0,           0,           0,           0,           0,           0,           0,           0,\n",
            "                  0,           0,           0,           0,           0,           0,           0,           0,           0,           0,           0,           0,           0,           0,           0,           0,           0,           0,           0,           0,           0,           0,           0,\n",
            "                  0,           0,           0,           0,           0,           0,           0,           0,           0,           0,           0,           0,           0,           0,           0,           0,           0,           0,           0,           0,           0,           0,           0,\n",
            "                  0,           0,           0,           0,           0,           0,           0,           0,           0,           0,           0,           0,           0,           0,           0,           0,           0,           0,           0,           0,           0,           0,           0,\n",
            "                  0,           0,           0,           0,           0,           0,           0,           0,           0,           0,           0,           0,           0,           0,           0,           0,           0,           0,           0,           0,           0,           0,           0,\n",
            "                  0,           0,           0,           0,           0,           0,           0,           0,           0,           0,           0,           0,           0,           0,           0,           0,           0,           0,           0,           0,           0,           0,           0,\n",
            "                  0,           0,           0,           0,           0,           0,           0,           0,           0,           0,           0,           0,           0,           0,           0,           0,           0,           0,           0,           0,           0,           0,           0,\n",
            "                  0,           0,           0,           0,           0,           0,           0,           0,           0,           0,           0,           0,           0,           0,           0,           0,           0,           0,           0,           0,           0,           0,           0,\n",
            "                  0,           0,           0,           0,           0,           0,           0,           0,           0,           0,           0,           0,           0,           0,           0,           0,           0,           0,           0,           0,           0,           0,           0,\n",
            "                  0,           0,           0,           0,           0,           0,           0,           0,           0,           0,           0,           0,           0,           0,           0,           0,           0,           0,           0,           0,           0,           0,           0,\n",
            "                  0,           0,           0,           0,           0,           0,           0,           0,           0,           0,           0,           0,           0,           0,           0,           0,           0,           0,           0,           0,           0,           0,           0,\n",
            "                  0,           0,           0,           0,           0,           0,           0,           0,           0,           0,           0,           0,           0,           0,           0,           0,           0,           0,           0,           0,           0,           0,           0,\n",
            "                  0,           0,           0,           0,           0,           0,           0,           0,           0,           0,           0,           0,           0,           0,           0,           0,           0,           0,           0,           0,           0,           0,           0,\n",
            "                  0,           0,           0,           0,           0,           0,           0,           0,           0,           0,           0,           0,           0,           0,           0,           0,           0,           0,           0,           0,           0,           0,           0,\n",
            "                  0,           0,           0,           0,           0,           0,           0,           0,           0,           0,           0,           0,           0,           0,           0,           0,           0,           0,           0,           0,           0,           0,           0,\n",
            "                  0,           0,           0,           0,           0,           0,           0,           0,           0,           0,           0,           0,           0,           0,           0,           0,           0,           0,           0,           0,           0,           0,           0,\n",
            "                  0,           0,           0,           0,           0,           0,           0,           0,           0,           0,           0,           0,           0,           0,           0,           0,           0,           0,           0,           0,           0,           0,           0,\n",
            "                  0,           0,           0,           0,           0,           0,           0,           0,           0,           0,           0,           0,           0,           0,           0,           0,           0,           0,           0,           0,           0,           0,           0,\n",
            "                  0,           0,           0,           0,           0,           0,           0,           0,           0,           0,           0,           0,           0,           0,           0,           0,           0,           0,           0,           0,           0,           0,           0,\n",
            "                  0,           0,           0,           0,           0,           0,           0,           0,           0,           0,           0,           0,           0,           0,           0,           0,           0,           0,           0,           0,           0,           0,           0,\n",
            "                  0,           0,           0,           0,           0,           0,           0,           0,           0,           0,           0,           0,           0,           0,           0,           0,           0,           0,           0,           0,           0,           0,           0,\n",
            "                  0,           0,           0,           0,           0,           0,           0,           0,           0,           0,           0,           0,           0,           0,           0,           0,           0,           0,           0,           0,           0,           0,           0,\n",
            "                  0,           0,           0,           0,           0,           0,           0,           0,           0,           0,           0,           0,           0,           0,           0,           0,           0,           0,           0,           0,           0,           0,           0,\n",
            "                  0,           0,           0,           0,           0,           0,           0,           0,           0,           0,           0]]), 'Confidence', 'Recall']]\n",
            "fitness: 0.10140168385856452\n",
            "keys: ['metrics/precision(B)', 'metrics/recall(B)', 'metrics/mAP50(B)', 'metrics/mAP50-95(B)']\n",
            "maps: array([   0.083987])\n",
            "names: {0: 'root'}\n",
            "plot: True\n",
            "results_dict: {'metrics/precision(B)': 0.022820362785254535, 'metrics/recall(B)': 1.0, 'metrics/mAP50(B)': 0.25813063003298875, 'metrics/mAP50-95(B)': 0.08398735650585071, 'fitness': 0.10140168385856452}\n",
            "save_dir: PosixPath('runs/detect/val')\n",
            "speed: {'preprocess': 0.32454576247777694, 'inference': 4.311463771722256, 'loss': 0.000666349362104367, 'postprocess': 1.4277543777074568}\n",
            "task: 'detect'\n"
          ]
        }
      ]
    },
    {
      "cell_type": "code",
      "source": [
        "import os\n",
        "\n",
        "TEST_IMG_DIR = \"/content/data/test\"  # Update this if needed\n",
        "\n",
        "# List all test images\n",
        "test_images = os.listdir(TEST_IMG_DIR)\n",
        "print(\"Test Images:\", test_images)\n"
      ],
      "metadata": {
        "colab": {
          "base_uri": "https://localhost:8080/"
        },
        "id": "LPBr98OY1xQD",
        "outputId": "2092b4de-5af2-4747-b476-4dfe5fba749a"
      },
      "execution_count": 18,
      "outputs": [
        {
          "output_type": "stream",
          "name": "stdout",
          "text": [
            "Test Images: ['E1rmdjjang', 'Wgutyon8uu', 'V6awcupt6m', 'Yjzw2bylox', 'Yvlyjpumzl', 'Lnkljfdtgh', 'Q91mym9ev4', 'Izbgyxre0g', 'Qinorm9cg3', 'A6dzrkjqvl', 'Pucqtyga9u', 'Ummqfuetoc', 'Geksu5kuf3', 'B8x7mhxe6z', 'Lwuwokuhrf', 'Ubgsvkns3h', 'Sauopakhvn', 'Ifqbqqrika', 'B5myqsh1wi', 'Vwjlghaocq', 'Hqcekwpxgu', 'Dz9lpsl9ae', 'Ecxdebmlnr', 'Dhfwcg1uj2', 'S6lk1xauct', 'Mylwjeq6tq', 'Nrse2plksd', 'Hzapvbcfm8', 'Lzkaccojep', 'L5l1h3kekg', 'Pfp24vx905', 'Vlqr6qhbqk', 'Mskdmpitqk', 'Bb02c5k7wm', 'Hc3b9gicdo', 'Mpmvh2mgm3', 'Vbkivqphuz', 'Klhqlr0ako', 'Cex3glsnzv', 'Jrem9eo37e', 'Ah4ubi4ggi', 'Ox18ob0syv', 'Puya1uaaln', 'Pctl4tyb9l', 'Qhqftdiz4q', 'Oipmzygepq', 'F5lrpuuq8q', 'Yxmmb4wt55', 'Vlcavd4dwj', 'L6qdyaff5q', 'R9jmsmugc0', 'Lsdgz02kdp', 'S11rphogci', 'Vwsx0beaxb', 'Jtcfkuovxk', 'Kcqzgef5an', 'Mrw7chmalv', 'L8w7zu7wek', 'Eotyv55rer', 'Q4uyruus4j', 'Me1ufzzcxk', 'H9lomh5fxk']\n"
          ]
        }
      ]
    },
    {
      "cell_type": "code",
      "source": [
        "import os\n",
        "\n",
        "TEST_IMG_DIR = \"/content/data/test\"  # Update if needed\n",
        "\n",
        "# Check if entries are files or directories\n",
        "for entry in os.listdir(TEST_IMG_DIR):\n",
        "    entry_path = os.path.join(TEST_IMG_DIR, entry)\n",
        "    if os.path.isdir(entry_path):\n",
        "        print(f\"📂 '{entry}' is a folder\")\n",
        "    else:\n",
        "        print(f\"🖼️ '{entry}' is an image\")\n"
      ],
      "metadata": {
        "colab": {
          "base_uri": "https://localhost:8080/"
        },
        "id": "SICU2DmR2ZDd",
        "outputId": "26c954ff-3013-40aa-a5e4-93c981735dc2"
      },
      "execution_count": 19,
      "outputs": [
        {
          "output_type": "stream",
          "name": "stdout",
          "text": [
            "📂 'E1rmdjjang' is a folder\n",
            "📂 'Wgutyon8uu' is a folder\n",
            "📂 'V6awcupt6m' is a folder\n",
            "📂 'Yjzw2bylox' is a folder\n",
            "📂 'Yvlyjpumzl' is a folder\n",
            "📂 'Lnkljfdtgh' is a folder\n",
            "📂 'Q91mym9ev4' is a folder\n",
            "📂 'Izbgyxre0g' is a folder\n",
            "📂 'Qinorm9cg3' is a folder\n",
            "📂 'A6dzrkjqvl' is a folder\n",
            "📂 'Pucqtyga9u' is a folder\n",
            "📂 'Ummqfuetoc' is a folder\n",
            "📂 'Geksu5kuf3' is a folder\n",
            "📂 'B8x7mhxe6z' is a folder\n",
            "📂 'Lwuwokuhrf' is a folder\n",
            "📂 'Ubgsvkns3h' is a folder\n",
            "📂 'Sauopakhvn' is a folder\n",
            "📂 'Ifqbqqrika' is a folder\n",
            "📂 'B5myqsh1wi' is a folder\n",
            "📂 'Vwjlghaocq' is a folder\n",
            "📂 'Hqcekwpxgu' is a folder\n",
            "📂 'Dz9lpsl9ae' is a folder\n",
            "📂 'Ecxdebmlnr' is a folder\n",
            "📂 'Dhfwcg1uj2' is a folder\n",
            "📂 'S6lk1xauct' is a folder\n",
            "📂 'Mylwjeq6tq' is a folder\n",
            "📂 'Nrse2plksd' is a folder\n",
            "📂 'Hzapvbcfm8' is a folder\n",
            "📂 'Lzkaccojep' is a folder\n",
            "📂 'L5l1h3kekg' is a folder\n",
            "📂 'Pfp24vx905' is a folder\n",
            "📂 'Vlqr6qhbqk' is a folder\n",
            "📂 'Mskdmpitqk' is a folder\n",
            "📂 'Bb02c5k7wm' is a folder\n",
            "📂 'Hc3b9gicdo' is a folder\n",
            "📂 'Mpmvh2mgm3' is a folder\n",
            "📂 'Vbkivqphuz' is a folder\n",
            "📂 'Klhqlr0ako' is a folder\n",
            "📂 'Cex3glsnzv' is a folder\n",
            "📂 'Jrem9eo37e' is a folder\n",
            "📂 'Ah4ubi4ggi' is a folder\n",
            "📂 'Ox18ob0syv' is a folder\n",
            "📂 'Puya1uaaln' is a folder\n",
            "📂 'Pctl4tyb9l' is a folder\n",
            "📂 'Qhqftdiz4q' is a folder\n",
            "📂 'Oipmzygepq' is a folder\n",
            "📂 'F5lrpuuq8q' is a folder\n",
            "📂 'Yxmmb4wt55' is a folder\n",
            "📂 'Vlcavd4dwj' is a folder\n",
            "📂 'L6qdyaff5q' is a folder\n",
            "📂 'R9jmsmugc0' is a folder\n",
            "📂 'Lsdgz02kdp' is a folder\n",
            "📂 'S11rphogci' is a folder\n",
            "📂 'Vwsx0beaxb' is a folder\n",
            "📂 'Jtcfkuovxk' is a folder\n",
            "📂 'Kcqzgef5an' is a folder\n",
            "📂 'Mrw7chmalv' is a folder\n",
            "📂 'L8w7zu7wek' is a folder\n",
            "📂 'Eotyv55rer' is a folder\n",
            "📂 'Q4uyruus4j' is a folder\n",
            "📂 'Me1ufzzcxk' is a folder\n",
            "📂 'H9lomh5fxk' is a folder\n"
          ]
        }
      ]
    },
    {
      "cell_type": "code",
      "source": [
        "all_test_images = []\n",
        "\n",
        "for folder in os.listdir(TEST_IMG_DIR):\n",
        "    folder_path = os.path.join(TEST_IMG_DIR, folder)\n",
        "    if os.path.isdir(folder_path):  # If it's a folder\n",
        "        images = [os.path.join(folder_path, img) for img in os.listdir(folder_path) if img.endswith((\".png\", \".jpg\", \".jpeg\"))]\n",
        "        all_test_images.extend(images)\n",
        "\n",
        "print(f\"Found {len(all_test_images)} test images.\")\n",
        "print(\"Example image path:\", all_test_images[0] if all_test_images else \"No images found!\")\n"
      ],
      "metadata": {
        "colab": {
          "base_uri": "https://localhost:8080/"
        },
        "id": "QScULt712tW7",
        "outputId": "9739bb05-9ec7-41ef-d250-972012751f3b"
      },
      "execution_count": 20,
      "outputs": [
        {
          "output_type": "stream",
          "name": "stdout",
          "text": [
            "Found 10168 test images.\n",
            "Example image path: /content/data/test/E1rmdjjang/E1rmdjjang_R_014.png\n"
          ]
        }
      ]
    },
    {
      "cell_type": "code",
      "source": [
        "\n",
        "# Set the number of test images you need\n",
        "NUM_TEST_IMAGES = 386\n",
        "\n",
        "# Ensure we don't select more images than available\n",
        "selected_test_images = random.sample(all_test_images, min(NUM_TEST_IMAGES, len(all_test_images)))\n",
        "\n",
        "# Define the output directory for selected test images\n",
        "SELECTED_TEST_DIR = \"/content/data/selected_test\"\n",
        "os.makedirs(SELECTED_TEST_DIR, exist_ok=True)\n",
        "\n",
        "# Copy selected images to the new folder\n",
        "for img_path in selected_test_images:\n",
        "    shutil.copy(img_path, os.path.join(SELECTED_TEST_DIR, os.path.basename(img_path)))\n",
        "\n",
        "print(f\"✅ Selected {len(selected_test_images)} test images.\")\n",
        "print(f\"🛠️ Images copied to: {SELECTED_TEST_DIR}\")\n",
        "print(\"Example selected image:\", selected_test_images[0])\n"
      ],
      "metadata": {
        "colab": {
          "base_uri": "https://localhost:8080/"
        },
        "id": "6YDEmw0x4o4T",
        "outputId": "63e10eb1-fbeb-45d6-cd1f-fbb476168490"
      },
      "execution_count": 21,
      "outputs": [
        {
          "output_type": "stream",
          "name": "stdout",
          "text": [
            "✅ Selected 386 test images.\n",
            "🛠️ Images copied to: /content/data/selected_test\n",
            "Example selected image: /content/data/test/Cex3glsnzv/Cex3glsnzv_R_029.png\n"
          ]
        }
      ]
    },
    {
      "cell_type": "code",
      "source": [
        "def segment_image(img_path):\n",
        "    results = model(img_path)\n",
        "    segmented_img = results[0].plot()\n",
        "    return segmented_img\n",
        "\n",
        "# Example on a test image\n",
        "sample_img_path = os.path.join(SELECTED_TEST_DIR, \"A6dzrkjqvl_L_004.png\")\n",
        "seg_img = segment_image(sample_img_path)\n",
        "\n",
        "plt.imshow(seg_img)\n",
        "plt.show()"
      ],
      "metadata": {
        "colab": {
          "base_uri": "https://localhost:8080/",
          "height": 145
        },
        "id": "fCdfhIwV5D6D",
        "outputId": "993f7e20-a58d-4d81-a212-66b2f816a3ae"
      },
      "execution_count": 22,
      "outputs": [
        {
          "output_type": "stream",
          "name": "stdout",
          "text": [
            "\n",
            "image 1/1 /content/data/selected_test/A6dzrkjqvl_L_004.png: 32x640 (no detections), 45.9ms\n",
            "Speed: 0.7ms preprocess, 45.9ms inference, 0.9ms postprocess per image at shape (1, 3, 32, 640)\n"
          ]
        },
        {
          "output_type": "display_data",
          "data": {
            "text/plain": [
              "<Figure size 640x480 with 1 Axes>"
            ],
            "image/png": "[encoded data removed]"
          },
          "metadata": {}
        }
      ]
    },
    {
      "cell_type": "code",
      "source": [
        "def extract_features(df, img_dir):\n",
        "    features = []\n",
        "    for _, row in tqdm(df.iterrows(), total=len(df)):\n",
        "        img_path = os.path.join(img_dir, row['FolderName'], f\"{row['FolderName']}_{row['Side']}_{str(row['Start']).zfill(3)}.png\")\n",
        "        results = model(img_path)\n",
        "        num_roots = len(results[0].boxes)  # Number of detected root bounding boxes\n",
        "        features.append([row['ID'], num_roots])\n",
        "\n",
        "    return pd.DataFrame(features, columns=['ID', 'RootCount'])\n",
        "\n",
        "# Extract features from training data\n",
        "train_features = extract_features(train_df, TRAIN_IMG_DIR)\n",
        "train_data = train_df.merge(train_features, on=\"ID\")\n",
        "\n",
        "# Train a regression model\n",
        "from sklearn.ensemble import RandomForestRegressor\n",
        "from sklearn.metrics import mean_squared_error\n",
        "\n",
        "X = train_data[['RootCount']]\n",
        "y = train_data['RootVolume']\n",
        "X_train, X_val, y_train, y_val = train_test_split(X, y, test_size=0.2, random_state=42)\n",
        "\n",
        "model_reg = RandomForestRegressor(n_estimators=100, random_state=42)\n",
        "model_reg.fit(X_train, y_train)\n",
        "\n",
        "# Validate Model\n",
        "y_pred = model_reg.predict(X_val)\n",
        "rmse = np.sqrt(mean_squared_error(y_val, y_pred))\n",
        "print(f\"Validation RMSE: {rmse}\")\n"
      ],
      "metadata": {
        "colab": {
          "base_uri": "https://localhost:8080/"
        },
        "id": "LLiogmM157YU",
        "outputId": "c86005a1-eb78-405a-f98b-d5c85d77e851"
      },
      "execution_count": 23,
      "outputs": [
        {
          "output_type": "stream",
          "name": "stderr",
          "text": [
            "\r  0%|          | 0/386 [00:00<?, ?it/s]"
          ]
        },
        {
          "output_type": "stream",
          "name": "stdout",
          "text": [
            "\n",
            "image 1/1 /content/data/train/A6dzrkjqvl/A6dzrkjqvl_L_033.png: 32x640 (no detections), 11.5ms\n",
            "Speed: 0.9ms preprocess, 11.5ms inference, 0.7ms postprocess per image at shape (1, 3, 32, 640)\n",
            "\n",
            "image 1/1 /content/data/train/Ypktwvqjbn/Ypktwvqjbn_L_033.png: 32x640 (no detections), 7.8ms\n",
            "Speed: 0.7ms preprocess, 7.8ms inference, 0.5ms postprocess per image at shape (1, 3, 32, 640)\n",
            "\n",
            "image 1/1 /content/data/train/Ox18ob0syv/Ox18ob0syv_R_021.png: 32x640 (no detections), 6.6ms\n",
            "Speed: 0.5ms preprocess, 6.6ms inference, 0.5ms postprocess per image at shape (1, 3, 32, 640)\n",
            "\n",
            "image 1/1 /content/data/train/Hqcekwpxgu/Hqcekwpxgu_R_030.png: 32x640 (no detections), 6.4ms\n",
            "Speed: 0.5ms preprocess, 6.4ms inference, 0.5ms postprocess per image at shape (1, 3, 32, 640)\n",
            "\n",
            "image 1/1 /content/data/train/Ummqfuetoc/Ummqfuetoc_R_017.png: 32x640 (no detections), 6.3ms\n",
            "Speed: 1.7ms preprocess, 6.3ms inference, 0.5ms postprocess per image at shape (1, 3, 32, 640)\n",
            "\n",
            "image 1/1 /content/data/train/B5myqsh1wi/B5myqsh1wi_R_026.png: 32x640 (no detections), 6.1ms\n",
            "Speed: 2.1ms preprocess, 6.1ms inference, 0.4ms postprocess per image at shape (1, 3, 32, 640)\n"
          ]
        },
        {
          "output_type": "stream",
          "name": "stderr",
          "text": [
            "\r  2%|▏         | 6/386 [00:00<00:06, 58.65it/s]"
          ]
        },
        {
          "output_type": "stream",
          "name": "stdout",
          "text": [
            "\n",
            "image 1/1 /content/data/train/L8w7zu7wek/L8w7zu7wek_R_027.png: 32x640 (no detections), 6.6ms\n",
            "Speed: 0.7ms preprocess, 6.6ms inference, 0.5ms postprocess per image at shape (1, 3, 32, 640)\n",
            "\n",
            "image 1/1 /content/data/train/Izbgyxre0g/Izbgyxre0g_L_024.png: 32x640 (no detections), 6.7ms\n",
            "Speed: 0.8ms preprocess, 6.7ms inference, 0.5ms postprocess per image at shape (1, 3, 32, 640)\n",
            "\n",
            "image 1/1 /content/data/train/Vinlgebupo/Vinlgebupo_L_023.png: 32x640 (no detections), 6.2ms\n",
            "Speed: 1.4ms preprocess, 6.2ms inference, 0.4ms postprocess per image at shape (1, 3, 32, 640)\n",
            "\n",
            "image 1/1 /content/data/train/Hc3b9gicdo/Hc3b9gicdo_L_037.png: 32x640 (no detections), 6.0ms\n",
            "Speed: 0.4ms preprocess, 6.0ms inference, 0.5ms postprocess per image at shape (1, 3, 32, 640)\n",
            "\n",
            "image 1/1 /content/data/train/Lzkaccojep/Lzkaccojep_L_024.png: 32x640 (no detections), 6.5ms\n",
            "Speed: 1.5ms preprocess, 6.5ms inference, 0.4ms postprocess per image at shape (1, 3, 32, 640)\n",
            "\n",
            "image 1/1 /content/data/train/Q4uyruus4j/Q4uyruus4j_R_027.png: 32x640 (no detections), 8.4ms\n",
            "Speed: 1.0ms preprocess, 8.4ms inference, 0.5ms postprocess per image at shape (1, 3, 32, 640)\n",
            "\n",
            "image 1/1 /content/data/train/Yxmmb4wt55/Yxmmb4wt55_R_017.png: 32x640 (no detections), 8.1ms\n",
            "Speed: 0.7ms preprocess, 8.1ms inference, 0.4ms postprocess per image at shape (1, 3, 32, 640)\n"
          ]
        },
        {
          "output_type": "stream",
          "name": "stderr",
          "text": [
            "\r  3%|▎         | 13/386 [00:00<00:06, 62.03it/s]"
          ]
        },
        {
          "output_type": "stream",
          "name": "stdout",
          "text": [
            "\n",
            "image 1/1 /content/data/train/Sauopakhvn/Sauopakhvn_R_021.png: 32x640 (no detections), 7.2ms\n",
            "Speed: 0.5ms preprocess, 7.2ms inference, 0.6ms postprocess per image at shape (1, 3, 32, 640)\n",
            "\n",
            "image 1/1 /content/data/train/Mpmvh2mgm3/Mpmvh2mgm3_L_032.png: 32x640 (no detections), 7.0ms\n",
            "Speed: 0.4ms preprocess, 7.0ms inference, 0.4ms postprocess per image at shape (1, 3, 32, 640)\n",
            "\n",
            "image 1/1 /content/data/train/B8x7mhxe6z/B8x7mhxe6z_R_020.png: 32x640 (no detections), 10.9ms\n",
            "Speed: 0.9ms preprocess, 10.9ms inference, 0.6ms postprocess per image at shape (1, 3, 32, 640)\n",
            "\n",
            "image 1/1 /content/data/train/Kjvcz6bjfj/Kjvcz6bjfj_R_026.png: 32x640 (no detections), 9.9ms\n",
            "Speed: 0.7ms preprocess, 9.9ms inference, 0.5ms postprocess per image at shape (1, 3, 32, 640)\n",
            "\n",
            "image 1/1 /content/data/train/Ntqusw7xpb/Ntqusw7xpb_R_037.png: 32x640 (no detections), 9.6ms\n",
            "Speed: 0.5ms preprocess, 9.6ms inference, 0.5ms postprocess per image at shape (1, 3, 32, 640)\n",
            "\n",
            "image 1/1 /content/data/train/Ecxdebmlnr/Ecxdebmlnr_R_025.png: 32x640 (no detections), 10.0ms\n",
            "Speed: 0.5ms preprocess, 10.0ms inference, 0.6ms postprocess per image at shape (1, 3, 32, 640)\n",
            "\n",
            "image 1/1 /content/data/train/V6awcupt6m/V6awcupt6m_R_028.png: 32x640 (no detections), 10.6ms\n",
            "Speed: 0.5ms preprocess, 10.6ms inference, 0.6ms postprocess per image at shape (1, 3, 32, 640)\n"
          ]
        },
        {
          "output_type": "stream",
          "name": "stderr",
          "text": [
            "\r  5%|▌         | 20/386 [00:00<00:06, 57.82it/s]"
          ]
        },
        {
          "output_type": "stream",
          "name": "stdout",
          "text": [
            "\n",
            "image 1/1 /content/data/train/Ah4ubi4ggi/Ah4ubi4ggi_R_027.png: 32x640 (no detections), 9.5ms\n",
            "Speed: 0.6ms preprocess, 9.5ms inference, 0.6ms postprocess per image at shape (1, 3, 32, 640)\n",
            "\n",
            "image 1/1 /content/data/train/Ph2ti2sjzu/Ph2ti2sjzu_L_022.png: 32x640 (no detections), 9.8ms\n",
            "Speed: 2.5ms preprocess, 9.8ms inference, 0.9ms postprocess per image at shape (1, 3, 32, 640)\n",
            "\n",
            "image 1/1 /content/data/train/Vlqr6qhbqk/Vlqr6qhbqk_R_032.png: 32x640 (no detections), 12.2ms\n",
            "Speed: 0.5ms preprocess, 12.2ms inference, 0.6ms postprocess per image at shape (1, 3, 32, 640)\n",
            "\n",
            "image 1/1 /content/data/train/Idiolerx47/Idiolerx47_L_010.png: 32x640 (no detections), 13.4ms\n",
            "Speed: 0.5ms preprocess, 13.4ms inference, 0.7ms postprocess per image at shape (1, 3, 32, 640)\n",
            "\n",
            "image 1/1 /content/data/train/Pw4ytibfql/Pw4ytibfql_L_025.png: 32x640 (no detections), 8.5ms\n",
            "Speed: 0.5ms preprocess, 8.5ms inference, 0.7ms postprocess per image at shape (1, 3, 32, 640)\n",
            "\n",
            "image 1/1 /content/data/train/Gernxgxbnu/Gernxgxbnu_L_014.png: 32x640 (no detections), 9.1ms\n",
            "Speed: 0.6ms preprocess, 9.1ms inference, 0.7ms postprocess per image at shape (1, 3, 32, 640)\n"
          ]
        },
        {
          "output_type": "stream",
          "name": "stderr",
          "text": [
            "\r  7%|▋         | 26/386 [00:00<00:06, 55.09it/s]"
          ]
        },
        {
          "output_type": "stream",
          "name": "stdout",
          "text": [
            "\n",
            "image 1/1 /content/data/train/Lsdgz02kdp/Lsdgz02kdp_L_029.png: 32x640 (no detections), 10.6ms\n",
            "Speed: 0.5ms preprocess, 10.6ms inference, 0.5ms postprocess per image at shape (1, 3, 32, 640)\n",
            "\n",
            "image 1/1 /content/data/train/Mpmvh2mgm3/Mpmvh2mgm3_L_032.png: 32x640 (no detections), 9.7ms\n",
            "Speed: 0.6ms preprocess, 9.7ms inference, 0.8ms postprocess per image at shape (1, 3, 32, 640)\n",
            "\n",
            "image 1/1 /content/data/train/Xrrcqvdbkw/Xrrcqvdbkw_R_027.png: 32x640 (no detections), 9.7ms\n",
            "Speed: 0.5ms preprocess, 9.7ms inference, 0.7ms postprocess per image at shape (1, 3, 32, 640)\n",
            "\n",
            "image 1/1 /content/data/train/Zplb9xaxis/Zplb9xaxis_L_019.png: 32x640 (no detections), 9.9ms\n",
            "Speed: 0.5ms preprocess, 9.9ms inference, 0.6ms postprocess per image at shape (1, 3, 32, 640)\n",
            "\n",
            "image 1/1 /content/data/train/Dz9lpsl9ae/Dz9lpsl9ae_L_037.png: 32x640 (no detections), 11.1ms\n",
            "Speed: 0.5ms preprocess, 11.1ms inference, 0.6ms postprocess per image at shape (1, 3, 32, 640)\n",
            "\n",
            "image 1/1 /content/data/train/Vlcavd4dwj/Vlcavd4dwj_L_034.png: 32x640 (no detections), 13.7ms\n",
            "Speed: 0.5ms preprocess, 13.7ms inference, 3.2ms postprocess per image at shape (1, 3, 32, 640)\n"
          ]
        },
        {
          "output_type": "stream",
          "name": "stderr",
          "text": [
            "\r  8%|▊         | 32/386 [00:00<00:06, 52.97it/s]"
          ]
        },
        {
          "output_type": "stream",
          "name": "stdout",
          "text": [
            "\n",
            "image 1/1 /content/data/train/Ifqbqqrika/Ifqbqqrika_L_026.png: 32x640 (no detections), 13.6ms\n",
            "Speed: 0.6ms preprocess, 13.6ms inference, 1.2ms postprocess per image at shape (1, 3, 32, 640)\n",
            "\n",
            "image 1/1 /content/data/train/Qhqftdiz4q/Qhqftdiz4q_R_049.png: 32x640 (no detections), 12.1ms\n",
            "Speed: 0.6ms preprocess, 12.1ms inference, 1.0ms postprocess per image at shape (1, 3, 32, 640)\n",
            "\n",
            "image 1/1 /content/data/train/Qhqftdiz4q/Qhqftdiz4q_R_049.png: 32x640 (no detections), 11.3ms\n",
            "Speed: 0.7ms preprocess, 11.3ms inference, 0.8ms postprocess per image at shape (1, 3, 32, 640)\n",
            "\n",
            "image 1/1 /content/data/train/Pw4ytibfql/Pw4ytibfql_L_025.png: 32x640 (no detections), 11.2ms\n",
            "Speed: 0.8ms preprocess, 11.2ms inference, 0.8ms postprocess per image at shape (1, 3, 32, 640)\n",
            "\n",
            "image 1/1 /content/data/train/Ah4ubi4ggi/Ah4ubi4ggi_L_042.png: 32x640 (no detections), 10.9ms\n",
            "Speed: 0.5ms preprocess, 10.9ms inference, 0.6ms postprocess per image at shape (1, 3, 32, 640)\n",
            "\n",
            "image 1/1 /content/data/train/Xdi1ipcemf/Xdi1ipcemf_R_032.png: 32x640 (no detections), 11.2ms\n",
            "Speed: 0.6ms preprocess, 11.2ms inference, 0.7ms postprocess per image at shape (1, 3, 32, 640)\n"
          ]
        },
        {
          "output_type": "stream",
          "name": "stderr",
          "text": [
            "\r 10%|▉         | 38/386 [00:00<00:06, 50.49it/s]"
          ]
        },
        {
          "output_type": "stream",
          "name": "stdout",
          "text": [
            "\n",
            "image 1/1 /content/data/train/Yznlv6wrsh/Yznlv6wrsh_L_030.png: 32x640 (no detections), 11.4ms\n",
            "Speed: 0.5ms preprocess, 11.4ms inference, 0.9ms postprocess per image at shape (1, 3, 32, 640)\n",
            "\n",
            "image 1/1 /content/data/train/Pctl4tyb9l/Pctl4tyb9l_L_046.png: 32x640 (no detections), 11.2ms\n",
            "Speed: 0.6ms preprocess, 11.2ms inference, 0.6ms postprocess per image at shape (1, 3, 32, 640)\n",
            "\n",
            "image 1/1 /content/data/train/Ubgsvkns3h/Ubgsvkns3h_L_033.png: 32x640 (no detections), 10.1ms\n",
            "Speed: 0.7ms preprocess, 10.1ms inference, 1.3ms postprocess per image at shape (1, 3, 32, 640)\n",
            "\n",
            "image 1/1 /content/data/train/Wgutyon8uu/Wgutyon8uu_R_023.png: 32x640 (no detections), 11.2ms\n",
            "Speed: 0.6ms preprocess, 11.2ms inference, 0.6ms postprocess per image at shape (1, 3, 32, 640)\n",
            "\n",
            "image 1/1 /content/data/train/Rzyf8hal4j/Rzyf8hal4j_L_032.png: 32x640 (no detections), 10.1ms\n",
            "Speed: 0.5ms preprocess, 10.1ms inference, 0.6ms postprocess per image at shape (1, 3, 32, 640)\n",
            "\n",
            "image 1/1 /content/data/train/Ummqfuetoc/Ummqfuetoc_L_025.png: 32x640 (no detections), 10.8ms\n",
            "Speed: 1.2ms preprocess, 10.8ms inference, 0.8ms postprocess per image at shape (1, 3, 32, 640)\n"
          ]
        },
        {
          "output_type": "stream",
          "name": "stderr",
          "text": [
            "\r 11%|█▏        | 44/386 [00:00<00:06, 50.31it/s]"
          ]
        },
        {
          "output_type": "stream",
          "name": "stdout",
          "text": [
            "\n",
            "image 1/1 /content/data/train/Mskdmpitqk/Mskdmpitqk_R_027.png: 32x640 (no detections), 11.5ms\n",
            "Speed: 0.6ms preprocess, 11.5ms inference, 1.0ms postprocess per image at shape (1, 3, 32, 640)\n",
            "\n",
            "image 1/1 /content/data/train/Mskdmpitqk/Mskdmpitqk_R_027.png: 32x640 (no detections), 14.1ms\n",
            "Speed: 0.6ms preprocess, 14.1ms inference, 0.8ms postprocess per image at shape (1, 3, 32, 640)\n",
            "\n",
            "image 1/1 /content/data/train/Me1ufzzcxk/Me1ufzzcxk_R_023.png: 32x640 (no detections), 12.2ms\n",
            "Speed: 0.6ms preprocess, 12.2ms inference, 0.6ms postprocess per image at shape (1, 3, 32, 640)\n",
            "\n",
            "image 1/1 /content/data/train/Ah4ubi4ggi/Ah4ubi4ggi_L_042.png: 32x640 (no detections), 11.3ms\n",
            "Speed: 0.5ms preprocess, 11.3ms inference, 0.7ms postprocess per image at shape (1, 3, 32, 640)\n",
            "\n",
            "image 1/1 /content/data/train/Mylwjeq6tq/Mylwjeq6tq_R_019.png: 32x640 (no detections), 11.0ms\n",
            "Speed: 0.5ms preprocess, 11.0ms inference, 0.7ms postprocess per image at shape (1, 3, 32, 640)\n",
            "\n",
            "image 1/1 /content/data/train/Ifqbqqrika/Ifqbqqrika_L_026.png: 32x640 (no detections), 10.2ms\n",
            "Speed: 0.6ms preprocess, 10.2ms inference, 0.7ms postprocess per image at shape (1, 3, 32, 640)\n"
          ]
        },
        {
          "output_type": "stream",
          "name": "stderr",
          "text": [
            "\r 13%|█▎        | 50/386 [00:00<00:06, 48.96it/s]"
          ]
        },
        {
          "output_type": "stream",
          "name": "stdout",
          "text": [
            "\n",
            "image 1/1 /content/data/train/Dz9lpsl9ae/Dz9lpsl9ae_R_045.png: 32x640 (no detections), 10.1ms\n",
            "Speed: 0.5ms preprocess, 10.1ms inference, 0.7ms postprocess per image at shape (1, 3, 32, 640)\n",
            "\n",
            "image 1/1 /content/data/train/Qinorm9cg3/Qinorm9cg3_R_022.png: 32x640 (no detections), 10.4ms\n",
            "Speed: 0.5ms preprocess, 10.4ms inference, 0.6ms postprocess per image at shape (1, 3, 32, 640)\n",
            "\n",
            "image 1/1 /content/data/train/Vbkivqphuz/Vbkivqphuz_L_020.png: 32x640 (no detections), 10.4ms\n",
            "Speed: 1.0ms preprocess, 10.4ms inference, 0.6ms postprocess per image at shape (1, 3, 32, 640)\n",
            "\n",
            "image 1/1 /content/data/train/Puya1uaaln/Puya1uaaln_R_016.png: 32x640 (no detections), 11.8ms\n",
            "Speed: 0.6ms preprocess, 11.8ms inference, 0.7ms postprocess per image at shape (1, 3, 32, 640)\n",
            "\n",
            "image 1/1 /content/data/train/Ifqbqqrika/Ifqbqqrika_R_020.png: 32x640 (no detections), 10.1ms\n",
            "Speed: 0.5ms preprocess, 10.1ms inference, 0.6ms postprocess per image at shape (1, 3, 32, 640)\n"
          ]
        },
        {
          "output_type": "stream",
          "name": "stderr",
          "text": [
            "\r 14%|█▍        | 55/386 [00:01<00:06, 48.97it/s]"
          ]
        },
        {
          "output_type": "stream",
          "name": "stdout",
          "text": [
            "\n",
            "image 1/1 /content/data/train/Lsdgz02kdp/Lsdgz02kdp_R_017.png: 32x640 (no detections), 12.7ms\n",
            "Speed: 0.7ms preprocess, 12.7ms inference, 0.8ms postprocess per image at shape (1, 3, 32, 640)\n",
            "\n",
            "image 1/1 /content/data/train/Dz9lpsl9ae/Dz9lpsl9ae_L_037.png: 32x640 (no detections), 11.0ms\n",
            "Speed: 0.5ms preprocess, 11.0ms inference, 0.7ms postprocess per image at shape (1, 3, 32, 640)\n",
            "\n",
            "image 1/1 /content/data/train/L5l1h3kekg/L5l1h3kekg_L_038.png: 32x640 (no detections), 10.2ms\n",
            "Speed: 0.6ms preprocess, 10.2ms inference, 0.8ms postprocess per image at shape (1, 3, 32, 640)\n",
            "\n",
            "image 1/1 /content/data/train/Pucqtyga9u/Pucqtyga9u_L_030.png: 32x640 (no detections), 9.7ms\n",
            "Speed: 1.1ms preprocess, 9.7ms inference, 0.6ms postprocess per image at shape (1, 3, 32, 640)\n",
            "\n",
            "image 1/1 /content/data/train/Puya1uaaln/Puya1uaaln_R_016.png: 32x640 (no detections), 8.2ms\n",
            "Speed: 0.5ms preprocess, 8.2ms inference, 0.7ms postprocess per image at shape (1, 3, 32, 640)\n"
          ]
        },
        {
          "output_type": "stream",
          "name": "stderr",
          "text": [
            "\r 16%|█▌        | 60/386 [00:01<00:06, 48.85it/s]"
          ]
        },
        {
          "output_type": "stream",
          "name": "stdout",
          "text": [
            "\n",
            "image 1/1 /content/data/train/P3om3dfa78/P3om3dfa78_R_021.png: 32x640 (no detections), 6.8ms\n",
            "Speed: 0.5ms preprocess, 6.8ms inference, 0.5ms postprocess per image at shape (1, 3, 32, 640)\n",
            "\n",
            "image 1/1 /content/data/train/Ot13d4nq6t/Ot13d4nq6t_L_041.png: 32x640 (no detections), 7.0ms\n",
            "Speed: 0.5ms preprocess, 7.0ms inference, 0.5ms postprocess per image at shape (1, 3, 32, 640)\n",
            "\n",
            "image 1/1 /content/data/train/Jtcfkuovxk/Jtcfkuovxk_R_028.png: 32x640 (no detections), 7.5ms\n",
            "Speed: 0.6ms preprocess, 7.5ms inference, 0.5ms postprocess per image at shape (1, 3, 32, 640)\n",
            "\n",
            "image 1/1 /content/data/train/Vinlgebupo/Vinlgebupo_L_023.png: 32x640 (no detections), 8.2ms\n",
            "Speed: 0.6ms preprocess, 8.2ms inference, 0.6ms postprocess per image at shape (1, 3, 32, 640)\n",
            "\n",
            "image 1/1 /content/data/train/F3odypnsyf/F3odypnsyf_L_015.png: 32x640 (no detections), 10.5ms\n",
            "Speed: 0.5ms preprocess, 10.5ms inference, 0.5ms postprocess per image at shape (1, 3, 32, 640)\n",
            "\n",
            "image 1/1 /content/data/train/Wgutyon8uu/Wgutyon8uu_L_018.png: 32x640 (no detections), 11.3ms\n",
            "Speed: 0.5ms preprocess, 11.3ms inference, 0.7ms postprocess per image at shape (1, 3, 32, 640)\n",
            "\n",
            "image 1/1 /content/data/train/Lwuwokuhrf/Lwuwokuhrf_R_015.png: 32x640 (no detections), 11.0ms\n",
            "Speed: 0.5ms preprocess, 11.0ms inference, 0.8ms postprocess per image at shape (1, 3, 32, 640)\n"
          ]
        },
        {
          "output_type": "stream",
          "name": "stderr",
          "text": [
            "\r 17%|█▋        | 67/386 [00:01<00:06, 52.05it/s]"
          ]
        },
        {
          "output_type": "stream",
          "name": "stdout",
          "text": [
            "\n",
            "image 1/1 /content/data/train/Hzapvbcfm8/Hzapvbcfm8_R_024.png: 32x640 (no detections), 11.5ms\n",
            "Speed: 0.5ms preprocess, 11.5ms inference, 0.8ms postprocess per image at shape (1, 3, 32, 640)\n",
            "\n",
            "image 1/1 /content/data/train/Vbkivqphuz/Vbkivqphuz_R_030.png: 32x640 (no detections), 10.9ms\n",
            "Speed: 0.5ms preprocess, 10.9ms inference, 0.6ms postprocess per image at shape (1, 3, 32, 640)\n",
            "\n",
            "image 1/1 /content/data/train/H9lomh5fxk/H9lomh5fxk_L_040.png: 32x640 (no detections), 9.9ms\n",
            "Speed: 0.5ms preprocess, 9.9ms inference, 0.6ms postprocess per image at shape (1, 3, 32, 640)\n",
            "\n",
            "image 1/1 /content/data/train/L8w7zu7wek/L8w7zu7wek_L_033.png: 32x640 (no detections), 11.5ms\n",
            "Speed: 0.7ms preprocess, 11.5ms inference, 0.6ms postprocess per image at shape (1, 3, 32, 640)\n",
            "\n",
            "image 1/1 /content/data/train/Mskdmpitqk/Mskdmpitqk_L_021.png: 32x640 (no detections), 11.1ms\n",
            "Speed: 0.9ms preprocess, 11.1ms inference, 0.7ms postprocess per image at shape (1, 3, 32, 640)\n",
            "\n",
            "image 1/1 /content/data/train/Isdzz86frg/Isdzz86frg_L_010.png: 32x640 (no detections), 10.9ms\n",
            "Speed: 0.9ms preprocess, 10.9ms inference, 0.6ms postprocess per image at shape (1, 3, 32, 640)\n"
          ]
        },
        {
          "output_type": "stream",
          "name": "stderr",
          "text": [
            "\r 19%|█▉        | 73/386 [00:01<00:06, 51.40it/s]"
          ]
        },
        {
          "output_type": "stream",
          "name": "stdout",
          "text": [
            "\n",
            "image 1/1 /content/data/train/S6lk1xauct/S6lk1xauct_L_028.png: 32x640 (no detections), 12.2ms\n",
            "Speed: 0.5ms preprocess, 12.2ms inference, 0.6ms postprocess per image at shape (1, 3, 32, 640)\n",
            "\n",
            "image 1/1 /content/data/train/Jrem9eo37e/Jrem9eo37e_L_029.png: 32x640 (no detections), 9.0ms\n",
            "Speed: 0.6ms preprocess, 9.0ms inference, 0.7ms postprocess per image at shape (1, 3, 32, 640)\n",
            "\n",
            "image 1/1 /content/data/train/Pucqtyga9u/Pucqtyga9u_R_037.png: 32x640 (no detections), 9.2ms\n",
            "Speed: 0.8ms preprocess, 9.2ms inference, 2.0ms postprocess per image at shape (1, 3, 32, 640)\n",
            "\n",
            "image 1/1 /content/data/train/Pw4ytibfql/Pw4ytibfql_R_028.png: 32x640 (no detections), 9.5ms\n",
            "Speed: 1.4ms preprocess, 9.5ms inference, 0.5ms postprocess per image at shape (1, 3, 32, 640)\n",
            "\n",
            "image 1/1 /content/data/train/Yjzw2bylox/Yjzw2bylox_L_025.png: 32x640 (no detections), 8.9ms\n",
            "Speed: 0.5ms preprocess, 8.9ms inference, 0.7ms postprocess per image at shape (1, 3, 32, 640)\n",
            "\n",
            "image 1/1 /content/data/train/V6awcupt6m/V6awcupt6m_L_034.png: 32x640 (no detections), 10.7ms\n",
            "Speed: 0.5ms preprocess, 10.7ms inference, 0.6ms postprocess per image at shape (1, 3, 32, 640)\n"
          ]
        },
        {
          "output_type": "stream",
          "name": "stderr",
          "text": [
            "\r 20%|██        | 79/386 [00:01<00:06, 50.81it/s]"
          ]
        },
        {
          "output_type": "stream",
          "name": "stdout",
          "text": [
            "\n",
            "image 1/1 /content/data/train/Xydfltswbm/Xydfltswbm_L_043.png: 32x640 (no detections), 13.4ms\n",
            "Speed: 0.7ms preprocess, 13.4ms inference, 0.5ms postprocess per image at shape (1, 3, 32, 640)\n",
            "\n",
            "image 1/1 /content/data/train/Pucqtyga9u/Pucqtyga9u_R_037.png: 32x640 (no detections), 7.1ms\n",
            "Speed: 0.5ms preprocess, 7.1ms inference, 0.5ms postprocess per image at shape (1, 3, 32, 640)\n",
            "\n",
            "image 1/1 /content/data/train/L8w7zu7wek/L8w7zu7wek_R_027.png: 32x640 (no detections), 7.4ms\n",
            "Speed: 0.5ms preprocess, 7.4ms inference, 0.4ms postprocess per image at shape (1, 3, 32, 640)\n",
            "\n",
            "image 1/1 /content/data/train/Kjvcz6bjfj/Kjvcz6bjfj_R_026.png: 32x640 (no detections), 8.2ms\n",
            "Speed: 0.5ms preprocess, 8.2ms inference, 0.5ms postprocess per image at shape (1, 3, 32, 640)\n",
            "\n",
            "image 1/1 /content/data/train/Rzyf8hal4j/Rzyf8hal4j_L_032.png: 32x640 (no detections), 7.4ms\n",
            "Speed: 0.5ms preprocess, 7.4ms inference, 0.5ms postprocess per image at shape (1, 3, 32, 640)\n",
            "\n",
            "image 1/1 /content/data/train/Lwuwokuhrf/Lwuwokuhrf_R_015.png: 32x640 (no detections), 7.1ms\n",
            "Speed: 0.5ms preprocess, 7.1ms inference, 0.7ms postprocess per image at shape (1, 3, 32, 640)\n"
          ]
        },
        {
          "output_type": "stream",
          "name": "stderr",
          "text": [
            "\r 22%|██▏       | 85/386 [00:01<00:05, 53.16it/s]"
          ]
        },
        {
          "output_type": "stream",
          "name": "stdout",
          "text": [
            "\n",
            "image 1/1 /content/data/train/Tbhppxjkvr/Tbhppxjkvr_L_022.png: 32x640 (no detections), 12.9ms\n",
            "Speed: 0.6ms preprocess, 12.9ms inference, 0.9ms postprocess per image at shape (1, 3, 32, 640)\n",
            "\n",
            "image 1/1 /content/data/train/Miny0c252a/Miny0c252a_R_028.png: 32x640 (no detections), 11.4ms\n",
            "Speed: 0.5ms preprocess, 11.4ms inference, 0.6ms postprocess per image at shape (1, 3, 32, 640)\n",
            "\n",
            "image 1/1 /content/data/train/Hzapvbcfm8/Hzapvbcfm8_R_024.png: 32x640 (no detections), 10.1ms\n",
            "Speed: 0.5ms preprocess, 10.1ms inference, 0.5ms postprocess per image at shape (1, 3, 32, 640)\n",
            "\n",
            "image 1/1 /content/data/train/Toaefqwoli/Toaefqwoli_L_037.png: 32x640 (no detections), 6.8ms\n",
            "Speed: 0.5ms preprocess, 6.8ms inference, 0.5ms postprocess per image at shape (1, 3, 32, 640)\n",
            "\n",
            "image 1/1 /content/data/train/Puya1uaaln/Puya1uaaln_L_026.png: 32x640 (no detections), 10.1ms\n",
            "Speed: 0.4ms preprocess, 10.1ms inference, 0.5ms postprocess per image at shape (1, 3, 32, 640)\n",
            "\n",
            "image 1/1 /content/data/train/Rzyf8hal4j/Rzyf8hal4j_R_038.png: 32x640 (no detections), 7.5ms\n",
            "Speed: 0.6ms preprocess, 7.5ms inference, 0.5ms postprocess per image at shape (1, 3, 32, 640)\n"
          ]
        },
        {
          "output_type": "stream",
          "name": "stderr",
          "text": [
            "\r 24%|██▎       | 91/386 [00:01<00:05, 53.87it/s]"
          ]
        },
        {
          "output_type": "stream",
          "name": "stdout",
          "text": [
            "\n",
            "image 1/1 /content/data/train/Vlcavd4dwj/Vlcavd4dwj_L_034.png: 32x640 (no detections), 7.7ms\n",
            "Speed: 0.5ms preprocess, 7.7ms inference, 0.5ms postprocess per image at shape (1, 3, 32, 640)\n",
            "\n",
            "image 1/1 /content/data/train/Cex3glsnzv/Cex3glsnzv_L_040.png: 32x640 (no detections), 6.9ms\n",
            "Speed: 0.5ms preprocess, 6.9ms inference, 0.5ms postprocess per image at shape (1, 3, 32, 640)\n",
            "\n",
            "image 1/1 /content/data/train/Vlqr6qhbqk/Vlqr6qhbqk_L_048.png: 32x640 (no detections), 7.5ms\n",
            "Speed: 0.6ms preprocess, 7.5ms inference, 0.4ms postprocess per image at shape (1, 3, 32, 640)\n",
            "\n",
            "image 1/1 /content/data/train/S6lk1xauct/S6lk1xauct_L_028.png: 32x640 (no detections), 10.6ms\n",
            "Speed: 0.4ms preprocess, 10.6ms inference, 0.6ms postprocess per image at shape (1, 3, 32, 640)\n",
            "\n",
            "image 1/1 /content/data/train/Q91mym9ev4/Q91mym9ev4_R_022.png: 32x640 (no detections), 6.8ms\n",
            "Speed: 0.4ms preprocess, 6.8ms inference, 0.5ms postprocess per image at shape (1, 3, 32, 640)\n",
            "\n",
            "image 1/1 /content/data/train/Tbhppxjkvr/Tbhppxjkvr_R_016.png: 32x640 (no detections), 8.6ms\n",
            "Speed: 0.5ms preprocess, 8.6ms inference, 0.5ms postprocess per image at shape (1, 3, 32, 640)\n",
            "\n",
            "image 1/1 /content/data/train/Aevcaxguiw/Aevcaxguiw_L_008.png: 32x640 (no detections), 6.6ms\n",
            "Speed: 0.4ms preprocess, 6.6ms inference, 0.5ms postprocess per image at shape (1, 3, 32, 640)\n"
          ]
        },
        {
          "output_type": "stream",
          "name": "stderr",
          "text": [
            "\r 25%|██▌       | 98/386 [00:01<00:05, 56.37it/s]"
          ]
        },
        {
          "output_type": "stream",
          "name": "stdout",
          "text": [
            "\n",
            "image 1/1 /content/data/train/S6lk1xauct/S6lk1xauct_R_024.png: 32x640 (no detections), 8.7ms\n",
            "Speed: 0.5ms preprocess, 8.7ms inference, 0.5ms postprocess per image at shape (1, 3, 32, 640)\n",
            "\n",
            "image 1/1 /content/data/train/Dhfwcg1uj2/Dhfwcg1uj2_R_020.png: 32x640 (no detections), 7.2ms\n",
            "Speed: 2.6ms preprocess, 7.2ms inference, 0.5ms postprocess per image at shape (1, 3, 32, 640)\n",
            "\n",
            "image 1/1 /content/data/train/Rzyf8hal4j/Rzyf8hal4j_L_032.png: 32x640 (no detections), 9.2ms\n",
            "Speed: 0.4ms preprocess, 9.2ms inference, 0.4ms postprocess per image at shape (1, 3, 32, 640)\n",
            "\n",
            "image 1/1 /content/data/train/Ecxdebmlnr/Ecxdebmlnr_R_025.png: 32x640 (no detections), 6.7ms\n",
            "Speed: 0.4ms preprocess, 6.7ms inference, 0.5ms postprocess per image at shape (1, 3, 32, 640)\n",
            "\n",
            "image 1/1 /content/data/train/Izbgyxre0g/Izbgyxre0g_R_022.png: 32x640 (no detections), 7.1ms\n",
            "Speed: 0.3ms preprocess, 7.1ms inference, 0.7ms postprocess per image at shape (1, 3, 32, 640)\n",
            "\n",
            "image 1/1 /content/data/train/Ph2ti2sjzu/Ph2ti2sjzu_L_022.png: 32x640 (no detections), 6.4ms\n",
            "Speed: 0.4ms preprocess, 6.4ms inference, 0.4ms postprocess per image at shape (1, 3, 32, 640)\n",
            "\n",
            "image 1/1 /content/data/train/B8x7mhxe6z/B8x7mhxe6z_L_023.png: 32x640 (no detections), 11.5ms\n",
            "Speed: 0.7ms preprocess, 11.5ms inference, 0.5ms postprocess per image at shape (1, 3, 32, 640)\n"
          ]
        },
        {
          "output_type": "stream",
          "name": "stderr",
          "text": [
            "\r 27%|██▋       | 105/386 [00:01<00:04, 57.61it/s]"
          ]
        },
        {
          "output_type": "stream",
          "name": "stdout",
          "text": [
            "\n",
            "image 1/1 /content/data/train/Xydfltswbm/Xydfltswbm_L_043.png: 32x640 (no detections), 7.2ms\n",
            "Speed: 0.5ms preprocess, 7.2ms inference, 0.5ms postprocess per image at shape (1, 3, 32, 640)\n",
            "\n",
            "image 1/1 /content/data/train/Xrrcqvdbkw/Xrrcqvdbkw_R_027.png: 32x640 (no detections), 7.1ms\n",
            "Speed: 0.6ms preprocess, 7.1ms inference, 0.4ms postprocess per image at shape (1, 3, 32, 640)\n",
            "\n",
            "image 1/1 /content/data/train/Ah4ubi4ggi/Ah4ubi4ggi_R_027.png: 32x640 (no detections), 8.6ms\n",
            "Speed: 0.5ms preprocess, 8.6ms inference, 0.7ms postprocess per image at shape (1, 3, 32, 640)\n",
            "\n",
            "image 1/1 /content/data/train/L8w7zu7wek/L8w7zu7wek_L_033.png: 32x640 (no detections), 17.4ms\n",
            "Speed: 1.6ms preprocess, 17.4ms inference, 1.8ms postprocess per image at shape (1, 3, 32, 640)\n",
            "\n",
            "image 1/1 /content/data/train/F5lrpuuq8q/F5lrpuuq8q_R_023.png: 32x640 (no detections), 13.4ms\n",
            "Speed: 0.5ms preprocess, 13.4ms inference, 0.6ms postprocess per image at shape (1, 3, 32, 640)\n",
            "\n",
            "image 1/1 /content/data/train/Dhfwcg1uj2/Dhfwcg1uj2_L_020.png: 32x640 (no detections), 13.7ms\n",
            "Speed: 0.6ms preprocess, 13.7ms inference, 0.6ms postprocess per image at shape (1, 3, 32, 640)\n"
          ]
        },
        {
          "output_type": "stream",
          "name": "stderr",
          "text": [
            "\r 29%|██▉       | 111/386 [00:02<00:04, 55.47it/s]"
          ]
        },
        {
          "output_type": "stream",
          "name": "stdout",
          "text": [
            "\n",
            "image 1/1 /content/data/train/Rzyf8hal4j/Rzyf8hal4j_R_038.png: 32x640 (no detections), 10.7ms\n",
            "Speed: 0.4ms preprocess, 10.7ms inference, 0.9ms postprocess per image at shape (1, 3, 32, 640)\n",
            "\n",
            "image 1/1 /content/data/train/Klhqlr0ako/Klhqlr0ako_L_038.png: 32x640 (no detections), 12.0ms\n",
            "Speed: 0.5ms preprocess, 12.0ms inference, 0.8ms postprocess per image at shape (1, 3, 32, 640)\n",
            "\n",
            "image 1/1 /content/data/train/Lwuwokuhrf/Lwuwokuhrf_L_025.png: 32x640 (no detections), 12.2ms\n",
            "Speed: 0.6ms preprocess, 12.2ms inference, 0.7ms postprocess per image at shape (1, 3, 32, 640)\n",
            "\n",
            "image 1/1 /content/data/train/S6lk1xauct/S6lk1xauct_R_024.png: 32x640 (no detections), 11.6ms\n",
            "Speed: 0.5ms preprocess, 11.6ms inference, 0.7ms postprocess per image at shape (1, 3, 32, 640)\n",
            "\n",
            "image 1/1 /content/data/train/Pucqtyga9u/Pucqtyga9u_R_037.png: 32x640 (no detections), 12.0ms\n",
            "Speed: 0.5ms preprocess, 12.0ms inference, 0.7ms postprocess per image at shape (1, 3, 32, 640)\n",
            "\n",
            "image 1/1 /content/data/train/Kcqzgef5an/Kcqzgef5an_L_018.png: 32x640 (no detections), 11.7ms\n",
            "Speed: 0.5ms preprocess, 11.7ms inference, 0.6ms postprocess per image at shape (1, 3, 32, 640)\n"
          ]
        },
        {
          "output_type": "stream",
          "name": "stderr",
          "text": [
            "\r 30%|███       | 117/386 [00:02<00:05, 53.02it/s]"
          ]
        },
        {
          "output_type": "stream",
          "name": "stdout",
          "text": [
            "\n",
            "image 1/1 /content/data/train/Kjvcz6bjfj/Kjvcz6bjfj_R_026.png: 32x640 (no detections), 9.1ms\n",
            "Speed: 0.5ms preprocess, 9.1ms inference, 0.8ms postprocess per image at shape (1, 3, 32, 640)\n",
            "\n",
            "image 1/1 /content/data/train/A6dzrkjqvl/A6dzrkjqvl_L_033.png: 32x640 (no detections), 12.6ms\n",
            "Speed: 0.5ms preprocess, 12.6ms inference, 0.7ms postprocess per image at shape (1, 3, 32, 640)\n",
            "\n",
            "image 1/1 /content/data/train/Jtcfkuovxk/Jtcfkuovxk_L_018.png: 32x640 (no detections), 12.8ms\n",
            "Speed: 0.6ms preprocess, 12.8ms inference, 0.7ms postprocess per image at shape (1, 3, 32, 640)\n",
            "\n",
            "image 1/1 /content/data/train/Hzapvbcfm8/Hzapvbcfm8_R_024.png: 32x640 (no detections), 11.3ms\n",
            "Speed: 0.5ms preprocess, 11.3ms inference, 1.4ms postprocess per image at shape (1, 3, 32, 640)\n",
            "\n",
            "image 1/1 /content/data/train/Hzapvbcfm8/Hzapvbcfm8_L_019.png: 32x640 (no detections), 13.2ms\n",
            "Speed: 0.5ms preprocess, 13.2ms inference, 0.7ms postprocess per image at shape (1, 3, 32, 640)\n",
            "\n",
            "image 1/1 /content/data/train/Ummqfuetoc/Ummqfuetoc_R_017.png: 32x640 (no detections), 12.1ms\n",
            "Speed: 1.3ms preprocess, 12.1ms inference, 0.9ms postprocess per image at shape (1, 3, 32, 640)\n"
          ]
        },
        {
          "output_type": "stream",
          "name": "stderr",
          "text": [
            "\r 32%|███▏      | 123/386 [00:02<00:05, 49.76it/s]"
          ]
        },
        {
          "output_type": "stream",
          "name": "stdout",
          "text": [
            "\n",
            "image 1/1 /content/data/train/V6awcupt6m/V6awcupt6m_L_034.png: 32x640 (no detections), 13.0ms\n",
            "Speed: 0.6ms preprocess, 13.0ms inference, 0.8ms postprocess per image at shape (1, 3, 32, 640)\n",
            "\n",
            "image 1/1 /content/data/train/Ceibvxd51g/Ceibvxd51g_R_037.png: 32x640 (no detections), 11.3ms\n",
            "Speed: 2.4ms preprocess, 11.3ms inference, 0.7ms postprocess per image at shape (1, 3, 32, 640)\n",
            "\n",
            "image 1/1 /content/data/train/Ot13d4nq6t/Ot13d4nq6t_L_041.png: 32x640 (no detections), 12.8ms\n",
            "Speed: 0.5ms preprocess, 12.8ms inference, 0.7ms postprocess per image at shape (1, 3, 32, 640)\n",
            "\n",
            "image 1/1 /content/data/train/Jtcfkuovxk/Jtcfkuovxk_L_018.png: 32x640 (no detections), 15.0ms\n",
            "Speed: 0.5ms preprocess, 15.0ms inference, 0.8ms postprocess per image at shape (1, 3, 32, 640)\n",
            "\n",
            "image 1/1 /content/data/train/Pucqtyga9u/Pucqtyga9u_L_030.png: 32x640 (no detections), 18.6ms\n",
            "Speed: 0.7ms preprocess, 18.6ms inference, 0.8ms postprocess per image at shape (1, 3, 32, 640)\n",
            "\n",
            "image 1/1 /content/data/train/Pw4ytibfql/Pw4ytibfql_L_025.png: 32x640 (no detections), 13.7ms\n",
            "Speed: 1.6ms preprocess, 13.7ms inference, 0.6ms postprocess per image at shape (1, 3, 32, 640)\n"
          ]
        },
        {
          "output_type": "stream",
          "name": "stderr",
          "text": [
            "\r 33%|███▎      | 129/386 [00:02<00:05, 45.67it/s]"
          ]
        },
        {
          "output_type": "stream",
          "name": "stdout",
          "text": [
            "\n",
            "image 1/1 /content/data/train/Xdi1ipcemf/Xdi1ipcemf_L_021.png: 32x640 (no detections), 13.7ms\n",
            "Speed: 0.8ms preprocess, 13.7ms inference, 0.8ms postprocess per image at shape (1, 3, 32, 640)\n",
            "\n",
            "image 1/1 /content/data/train/Bs8ueatyis/Bs8ueatyis_L_033.png: 32x640 (no detections), 20.0ms\n",
            "Speed: 0.5ms preprocess, 20.0ms inference, 0.7ms postprocess per image at shape (1, 3, 32, 640)\n",
            "\n",
            "image 1/1 /content/data/train/F1p0lhe1ij/F1p0lhe1ij_R_030.png: 32x640 (no detections), 16.9ms\n",
            "Speed: 2.4ms preprocess, 16.9ms inference, 0.9ms postprocess per image at shape (1, 3, 32, 640)\n",
            "\n",
            "image 1/1 /content/data/train/Bs8ueatyis/Bs8ueatyis_L_033.png: 32x640 (no detections), 16.6ms\n",
            "Speed: 0.8ms preprocess, 16.6ms inference, 0.8ms postprocess per image at shape (1, 3, 32, 640)\n",
            "\n",
            "image 1/1 /content/data/train/Lsdgz02kdp/Lsdgz02kdp_L_029.png: 32x640 (no detections), 11.0ms\n",
            "Speed: 0.6ms preprocess, 11.0ms inference, 0.7ms postprocess per image at shape (1, 3, 32, 640)\n"
          ]
        },
        {
          "output_type": "stream",
          "name": "stderr",
          "text": [
            "\r 35%|███▍      | 134/386 [00:02<00:05, 43.23it/s]"
          ]
        },
        {
          "output_type": "stream",
          "name": "stdout",
          "text": [
            "\n",
            "image 1/1 /content/data/train/B5myqsh1wi/B5myqsh1wi_R_026.png: 32x640 (no detections), 13.7ms\n",
            "Speed: 0.5ms preprocess, 13.7ms inference, 0.7ms postprocess per image at shape (1, 3, 32, 640)\n",
            "\n",
            "image 1/1 /content/data/train/Hc3b9gicdo/Hc3b9gicdo_R_029.png: 32x640 (no detections), 19.1ms\n",
            "Speed: 1.0ms preprocess, 19.1ms inference, 0.8ms postprocess per image at shape (1, 3, 32, 640)\n",
            "\n",
            "image 1/1 /content/data/train/B8x7mhxe6z/B8x7mhxe6z_R_020.png: 32x640 (no detections), 11.9ms\n",
            "Speed: 0.5ms preprocess, 11.9ms inference, 2.1ms postprocess per image at shape (1, 3, 32, 640)\n",
            "\n",
            "image 1/1 /content/data/train/Mrw7chmalv/Mrw7chmalv_L_018.png: 32x640 (no detections), 8.1ms\n",
            "Speed: 2.6ms preprocess, 8.1ms inference, 0.6ms postprocess per image at shape (1, 3, 32, 640)\n",
            "\n",
            "image 1/1 /content/data/train/Up8aqujy0s/Up8aqujy0s_R_025.png: 32x640 (no detections), 12.5ms\n",
            "Speed: 0.5ms preprocess, 12.5ms inference, 3.5ms postprocess per image at shape (1, 3, 32, 640)\n"
          ]
        },
        {
          "output_type": "stream",
          "name": "stderr",
          "text": [
            "\r 36%|███▌      | 139/386 [00:02<00:05, 41.99it/s]"
          ]
        },
        {
          "output_type": "stream",
          "name": "stdout",
          "text": [
            "\n",
            "image 1/1 /content/data/train/Ceibvxd51g/Ceibvxd51g_R_037.png: 32x640 (no detections), 12.9ms\n",
            "Speed: 0.5ms preprocess, 12.9ms inference, 2.9ms postprocess per image at shape (1, 3, 32, 640)\n",
            "\n",
            "image 1/1 /content/data/train/Ah4ubi4ggi/Ah4ubi4ggi_L_042.png: 32x640 (no detections), 10.1ms\n",
            "Speed: 1.3ms preprocess, 10.1ms inference, 0.6ms postprocess per image at shape (1, 3, 32, 640)\n",
            "\n",
            "image 1/1 /content/data/train/Mskdmpitqk/Mskdmpitqk_L_021.png: 32x640 (no detections), 14.2ms\n",
            "Speed: 0.5ms preprocess, 14.2ms inference, 2.0ms postprocess per image at shape (1, 3, 32, 640)\n",
            "\n",
            "image 1/1 /content/data/train/Ceibvxd51g/Ceibvxd51g_R_037.png: 32x640 (no detections), 9.7ms\n",
            "Speed: 0.5ms preprocess, 9.7ms inference, 0.8ms postprocess per image at shape (1, 3, 32, 640)\n",
            "\n",
            "image 1/1 /content/data/train/Td901zykbu/Td901zykbu_L_008.png: 32x640 (no detections), 11.6ms\n",
            "Speed: 0.5ms preprocess, 11.6ms inference, 0.6ms postprocess per image at shape (1, 3, 32, 640)\n"
          ]
        },
        {
          "output_type": "stream",
          "name": "stderr",
          "text": [
            "\r 37%|███▋      | 144/386 [00:02<00:05, 41.37it/s]"
          ]
        },
        {
          "output_type": "stream",
          "name": "stdout",
          "text": [
            "\n",
            "image 1/1 /content/data/train/Mrw7chmalv/Mrw7chmalv_L_018.png: 32x640 (no detections), 16.8ms\n",
            "Speed: 0.5ms preprocess, 16.8ms inference, 0.8ms postprocess per image at shape (1, 3, 32, 640)\n",
            "\n",
            "image 1/1 /content/data/train/Yznlv6wrsh/Yznlv6wrsh_R_045.png: 32x640 (no detections), 12.9ms\n",
            "Speed: 0.6ms preprocess, 12.9ms inference, 0.8ms postprocess per image at shape (1, 3, 32, 640)\n",
            "\n",
            "image 1/1 /content/data/train/Ynjc34lyjb/Ynjc34lyjb_L_010.png: 32x640 (no detections), 9.7ms\n",
            "Speed: 0.5ms preprocess, 9.7ms inference, 4.0ms postprocess per image at shape (1, 3, 32, 640)\n",
            "\n",
            "image 1/1 /content/data/train/Lsdgz02kdp/Lsdgz02kdp_R_017.png: 32x640 (no detections), 13.0ms\n",
            "Speed: 0.5ms preprocess, 13.0ms inference, 0.6ms postprocess per image at shape (1, 3, 32, 640)\n",
            "\n",
            "image 1/1 /content/data/train/Izbgyxre0g/Izbgyxre0g_L_024.png: 32x640 (no detections), 12.5ms\n",
            "Speed: 0.4ms preprocess, 12.5ms inference, 0.6ms postprocess per image at shape (1, 3, 32, 640)\n"
          ]
        },
        {
          "output_type": "stream",
          "name": "stderr",
          "text": [
            "\r 39%|███▊      | 149/386 [00:03<00:05, 40.08it/s]"
          ]
        },
        {
          "output_type": "stream",
          "name": "stdout",
          "text": [
            "\n",
            "image 1/1 /content/data/train/L8w7zu7wek/L8w7zu7wek_L_033.png: 32x640 (no detections), 12.6ms\n",
            "Speed: 0.5ms preprocess, 12.6ms inference, 4.1ms postprocess per image at shape (1, 3, 32, 640)\n",
            "\n",
            "image 1/1 /content/data/train/Yxmmb4wt55/Yxmmb4wt55_R_017.png: 32x640 (no detections), 14.8ms\n",
            "Speed: 0.4ms preprocess, 14.8ms inference, 0.7ms postprocess per image at shape (1, 3, 32, 640)\n",
            "\n",
            "image 1/1 /content/data/train/Vlqr6qhbqk/Vlqr6qhbqk_L_048.png: 32x640 (no detections), 12.8ms\n",
            "Speed: 0.6ms preprocess, 12.8ms inference, 1.3ms postprocess per image at shape (1, 3, 32, 640)\n",
            "\n",
            "image 1/1 /content/data/train/Mrw7chmalv/Mrw7chmalv_R_030.png: 32x640 (no detections), 10.7ms\n",
            "Speed: 0.4ms preprocess, 10.7ms inference, 0.7ms postprocess per image at shape (1, 3, 32, 640)\n",
            "\n",
            "image 1/1 /content/data/train/Up8aqujy0s/Up8aqujy0s_R_025.png: 32x640 (no detections), 12.2ms\n",
            "Speed: 0.5ms preprocess, 12.2ms inference, 0.8ms postprocess per image at shape (1, 3, 32, 640)\n"
          ]
        },
        {
          "output_type": "stream",
          "name": "stderr",
          "text": [
            "\r 40%|███▉      | 154/386 [00:03<00:05, 39.83it/s]"
          ]
        },
        {
          "output_type": "stream",
          "name": "stdout",
          "text": [
            "\n",
            "image 1/1 /content/data/train/Mpmvh2mgm3/Mpmvh2mgm3_R_024.png: 32x640 (no detections), 13.7ms\n",
            "Speed: 0.6ms preprocess, 13.7ms inference, 0.8ms postprocess per image at shape (1, 3, 32, 640)\n",
            "\n",
            "image 1/1 /content/data/train/Mpmvh2mgm3/Mpmvh2mgm3_L_032.png: 32x640 (no detections), 12.5ms\n",
            "Speed: 0.5ms preprocess, 12.5ms inference, 1.0ms postprocess per image at shape (1, 3, 32, 640)\n",
            "\n",
            "image 1/1 /content/data/train/Ox18ob0syv/Ox18ob0syv_L_025.png: 32x640 (no detections), 9.2ms\n",
            "Speed: 0.5ms preprocess, 9.2ms inference, 0.6ms postprocess per image at shape (1, 3, 32, 640)\n",
            "\n",
            "image 1/1 /content/data/train/Lsdgz02kdp/Lsdgz02kdp_L_029.png: 32x640 (no detections), 10.4ms\n",
            "Speed: 0.4ms preprocess, 10.4ms inference, 0.9ms postprocess per image at shape (1, 3, 32, 640)\n",
            "\n",
            "image 1/1 /content/data/train/Ummqfuetoc/Ummqfuetoc_L_025.png: 32x640 (no detections), 13.2ms\n",
            "Speed: 0.6ms preprocess, 13.2ms inference, 0.9ms postprocess per image at shape (1, 3, 32, 640)\n"
          ]
        },
        {
          "output_type": "stream",
          "name": "stderr",
          "text": [
            "\r 41%|████      | 159/386 [00:03<00:05, 41.70it/s]"
          ]
        },
        {
          "output_type": "stream",
          "name": "stdout",
          "text": [
            "\n",
            "image 1/1 /content/data/train/Efaiye0hmy/Efaiye0hmy_R_020.png: 32x640 (no detections), 13.5ms\n",
            "Speed: 0.5ms preprocess, 13.5ms inference, 0.9ms postprocess per image at shape (1, 3, 32, 640)\n",
            "\n",
            "image 1/1 /content/data/train/Oipmzygepq/Oipmzygepq_R_032.png: 32x640 (no detections), 12.7ms\n",
            "Speed: 0.5ms preprocess, 12.7ms inference, 0.7ms postprocess per image at shape (1, 3, 32, 640)\n",
            "\n",
            "image 1/1 /content/data/train/Ntqusw7xpb/Ntqusw7xpb_L_019.png: 32x640 (no detections), 12.6ms\n",
            "Speed: 0.7ms preprocess, 12.6ms inference, 0.9ms postprocess per image at shape (1, 3, 32, 640)\n",
            "\n",
            "image 1/1 /content/data/train/Qhqftdiz4q/Qhqftdiz4q_L_028.png: 32x640 (no detections), 12.0ms\n",
            "Speed: 0.7ms preprocess, 12.0ms inference, 1.0ms postprocess per image at shape (1, 3, 32, 640)\n",
            "\n",
            "image 1/1 /content/data/train/S11rphogci/S11rphogci_R_025.png: 32x640 (no detections), 12.1ms\n",
            "Speed: 0.7ms preprocess, 12.1ms inference, 1.0ms postprocess per image at shape (1, 3, 32, 640)\n"
          ]
        },
        {
          "output_type": "stream",
          "name": "stderr",
          "text": [
            "\r 42%|████▏     | 164/386 [00:03<00:05, 42.46it/s]"
          ]
        },
        {
          "output_type": "stream",
          "name": "stdout",
          "text": [
            "\n",
            "image 1/1 /content/data/train/Geksu5kuf3/Geksu5kuf3_R_035.png: 32x640 (no detections), 13.2ms\n",
            "Speed: 0.5ms preprocess, 13.2ms inference, 0.8ms postprocess per image at shape (1, 3, 32, 640)\n",
            "\n",
            "image 1/1 /content/data/train/P3om3dfa78/P3om3dfa78_R_021.png: 32x640 (no detections), 13.6ms\n",
            "Speed: 0.5ms preprocess, 13.6ms inference, 0.8ms postprocess per image at shape (1, 3, 32, 640)\n",
            "\n",
            "image 1/1 /content/data/train/S11rphogci/S11rphogci_L_020.png: 32x640 (no detections), 13.2ms\n",
            "Speed: 0.6ms preprocess, 13.2ms inference, 0.9ms postprocess per image at shape (1, 3, 32, 640)\n",
            "\n",
            "image 1/1 /content/data/train/Kjvcz6bjfj/Kjvcz6bjfj_L_024.png: 32x640 (no detections), 12.5ms\n",
            "Speed: 0.5ms preprocess, 12.5ms inference, 1.0ms postprocess per image at shape (1, 3, 32, 640)\n",
            "\n",
            "image 1/1 /content/data/train/Vwsx0beaxb/Vwsx0beaxb_R_019.png: 32x640 (no detections), 12.7ms\n",
            "Speed: 0.5ms preprocess, 12.7ms inference, 0.8ms postprocess per image at shape (1, 3, 32, 640)\n"
          ]
        },
        {
          "output_type": "stream",
          "name": "stderr",
          "text": [
            "\r 44%|████▍     | 169/386 [00:03<00:05, 43.10it/s]"
          ]
        },
        {
          "output_type": "stream",
          "name": "stdout",
          "text": [
            "\n",
            "image 1/1 /content/data/train/M4stkh3qez/M4stkh3qez_R_026.png: 32x640 (no detections), 12.6ms\n",
            "Speed: 0.6ms preprocess, 12.6ms inference, 1.1ms postprocess per image at shape (1, 3, 32, 640)\n",
            "\n",
            "image 1/1 /content/data/train/Ubgsvkns3h/Ubgsvkns3h_L_033.png: 32x640 (no detections), 13.5ms\n",
            "Speed: 0.4ms preprocess, 13.5ms inference, 0.7ms postprocess per image at shape (1, 3, 32, 640)\n",
            "\n",
            "image 1/1 /content/data/train/Geksu5kuf3/Geksu5kuf3_R_035.png: 32x640 (no detections), 16.7ms\n",
            "Speed: 0.5ms preprocess, 16.7ms inference, 0.9ms postprocess per image at shape (1, 3, 32, 640)\n",
            "\n",
            "image 1/1 /content/data/train/Xdi1ipcemf/Xdi1ipcemf_R_032.png: 32x640 (no detections), 13.7ms\n",
            "Speed: 3.7ms preprocess, 13.7ms inference, 0.6ms postprocess per image at shape (1, 3, 32, 640)\n",
            "\n",
            "image 1/1 /content/data/train/Vwsx0beaxb/Vwsx0beaxb_L_027.png: 32x640 (no detections), 16.5ms\n",
            "Speed: 1.1ms preprocess, 16.5ms inference, 0.7ms postprocess per image at shape (1, 3, 32, 640)\n"
          ]
        },
        {
          "output_type": "stream",
          "name": "stderr",
          "text": [
            "\r 45%|████▌     | 174/386 [00:03<00:05, 40.91it/s]"
          ]
        },
        {
          "output_type": "stream",
          "name": "stdout",
          "text": [
            "\n",
            "image 1/1 /content/data/train/Ph2ti2sjzu/Ph2ti2sjzu_L_022.png: 32x640 (no detections), 21.3ms\n",
            "Speed: 0.6ms preprocess, 21.3ms inference, 0.7ms postprocess per image at shape (1, 3, 32, 640)\n",
            "\n",
            "image 1/1 /content/data/train/Up8aqujy0s/Up8aqujy0s_L_029.png: 32x640 (no detections), 16.3ms\n",
            "Speed: 1.3ms preprocess, 16.3ms inference, 0.8ms postprocess per image at shape (1, 3, 32, 640)\n",
            "\n",
            "image 1/1 /content/data/train/Tbhppxjkvr/Tbhppxjkvr_R_016.png: 32x640 (no detections), 13.2ms\n",
            "Speed: 0.5ms preprocess, 13.2ms inference, 0.6ms postprocess per image at shape (1, 3, 32, 640)\n",
            "\n",
            "image 1/1 /content/data/train/Ypktwvqjbn/Ypktwvqjbn_L_033.png: 32x640 (no detections), 16.9ms\n",
            "Speed: 0.5ms preprocess, 16.9ms inference, 2.9ms postprocess per image at shape (1, 3, 32, 640)\n",
            "\n",
            "image 1/1 /content/data/train/Pfp24vx905/Pfp24vx905_R_027.png: 32x640 (no detections), 16.1ms\n",
            "Speed: 0.5ms preprocess, 16.1ms inference, 3.9ms postprocess per image at shape (1, 3, 32, 640)\n"
          ]
        },
        {
          "output_type": "stream",
          "name": "stderr",
          "text": [
            "\r 46%|████▋     | 179/386 [00:03<00:05, 38.34it/s]"
          ]
        },
        {
          "output_type": "stream",
          "name": "stdout",
          "text": [
            "\n",
            "image 1/1 /content/data/train/Qhqftdiz4q/Qhqftdiz4q_L_028.png: 32x640 (no detections), 13.3ms\n",
            "Speed: 0.5ms preprocess, 13.3ms inference, 0.6ms postprocess per image at shape (1, 3, 32, 640)\n",
            "\n",
            "image 1/1 /content/data/train/Ummqfuetoc/Ummqfuetoc_R_017.png: 32x640 (no detections), 12.9ms\n",
            "Speed: 0.5ms preprocess, 12.9ms inference, 0.7ms postprocess per image at shape (1, 3, 32, 640)\n",
            "\n",
            "image 1/1 /content/data/train/Vlqr6qhbqk/Vlqr6qhbqk_L_048.png: 32x640 (no detections), 17.5ms\n",
            "Speed: 0.5ms preprocess, 17.5ms inference, 0.7ms postprocess per image at shape (1, 3, 32, 640)\n",
            "\n",
            "image 1/1 /content/data/train/Q4uyruus4j/Q4uyruus4j_R_027.png: 32x640 (no detections), 16.4ms\n",
            "Speed: 0.4ms preprocess, 16.4ms inference, 0.7ms postprocess per image at shape (1, 3, 32, 640)\n"
          ]
        },
        {
          "output_type": "stream",
          "name": "stderr",
          "text": [
            "\r 47%|████▋     | 183/386 [00:03<00:05, 37.81it/s]"
          ]
        },
        {
          "output_type": "stream",
          "name": "stdout",
          "text": [
            "\n",
            "image 1/1 /content/data/train/Yznlv6wrsh/Yznlv6wrsh_L_030.png: 32x640 (no detections), 19.4ms\n",
            "Speed: 0.5ms preprocess, 19.4ms inference, 0.9ms postprocess per image at shape (1, 3, 32, 640)\n",
            "\n",
            "image 1/1 /content/data/train/Yxmmb4wt55/Yxmmb4wt55_R_017.png: 32x640 (no detections), 14.0ms\n",
            "Speed: 0.5ms preprocess, 14.0ms inference, 0.6ms postprocess per image at shape (1, 3, 32, 640)\n",
            "\n",
            "image 1/1 /content/data/train/Yznlv6wrsh/Yznlv6wrsh_R_045.png: 32x640 (no detections), 13.0ms\n",
            "Speed: 0.4ms preprocess, 13.0ms inference, 0.6ms postprocess per image at shape (1, 3, 32, 640)\n",
            "\n",
            "image 1/1 /content/data/train/L5l1h3kekg/L5l1h3kekg_R_040.png: 32x640 (no detections), 19.4ms\n",
            "Speed: 0.4ms preprocess, 19.4ms inference, 0.6ms postprocess per image at shape (1, 3, 32, 640)\n"
          ]
        },
        {
          "output_type": "stream",
          "name": "stderr",
          "text": [
            "\r 48%|████▊     | 187/386 [00:03<00:05, 36.91it/s]"
          ]
        },
        {
          "output_type": "stream",
          "name": "stdout",
          "text": [
            "\n",
            "image 1/1 /content/data/train/Puya1uaaln/Puya1uaaln_L_026.png: 32x640 (no detections), 11.5ms\n",
            "Speed: 1.4ms preprocess, 11.5ms inference, 1.1ms postprocess per image at shape (1, 3, 32, 640)\n",
            "\n",
            "image 1/1 /content/data/train/Miny0c252a/Miny0c252a_R_028.png: 32x640 (no detections), 11.9ms\n",
            "Speed: 1.2ms preprocess, 11.9ms inference, 0.7ms postprocess per image at shape (1, 3, 32, 640)\n",
            "\n",
            "image 1/1 /content/data/train/Lsdgz02kdp/Lsdgz02kdp_R_017.png: 32x640 (no detections), 16.1ms\n",
            "Speed: 1.1ms preprocess, 16.1ms inference, 0.7ms postprocess per image at shape (1, 3, 32, 640)\n",
            "\n",
            "image 1/1 /content/data/train/F1p0lhe1ij/F1p0lhe1ij_R_030.png: 32x640 (no detections), 12.7ms\n",
            "Speed: 1.5ms preprocess, 12.7ms inference, 0.7ms postprocess per image at shape (1, 3, 32, 640)\n"
          ]
        },
        {
          "output_type": "stream",
          "name": "stderr",
          "text": [
            "\r 49%|████▉     | 191/386 [00:04<00:05, 37.02it/s]"
          ]
        },
        {
          "output_type": "stream",
          "name": "stdout",
          "text": [
            "\n",
            "image 1/1 /content/data/train/F5lrpuuq8q/F5lrpuuq8q_R_023.png: 32x640 (no detections), 10.0ms\n",
            "Speed: 0.5ms preprocess, 10.0ms inference, 0.6ms postprocess per image at shape (1, 3, 32, 640)\n",
            "\n",
            "image 1/1 /content/data/train/Xrrcqvdbkw/Xrrcqvdbkw_R_027.png: 32x640 (no detections), 11.5ms\n",
            "Speed: 0.5ms preprocess, 11.5ms inference, 0.8ms postprocess per image at shape (1, 3, 32, 640)\n",
            "\n",
            "image 1/1 /content/data/train/F5lrpuuq8q/F5lrpuuq8q_R_023.png: 32x640 (no detections), 12.6ms\n",
            "Speed: 0.6ms preprocess, 12.6ms inference, 0.8ms postprocess per image at shape (1, 3, 32, 640)\n",
            "\n",
            "image 1/1 /content/data/train/Dhfwcg1uj2/Dhfwcg1uj2_L_020.png: 32x640 (no detections), 12.0ms\n",
            "Speed: 0.5ms preprocess, 12.0ms inference, 0.7ms postprocess per image at shape (1, 3, 32, 640)\n",
            "\n",
            "image 1/1 /content/data/train/Ubgsvkns3h/Ubgsvkns3h_R_017.png: 32x640 (no detections), 12.3ms\n",
            "Speed: 0.5ms preprocess, 12.3ms inference, 0.9ms postprocess per image at shape (1, 3, 32, 640)\n"
          ]
        },
        {
          "output_type": "stream",
          "name": "stderr",
          "text": [
            "\r 51%|█████     | 196/386 [00:04<00:04, 38.86it/s]"
          ]
        },
        {
          "output_type": "stream",
          "name": "stdout",
          "text": [
            "\n",
            "image 1/1 /content/data/train/J0zdanvgrq/J0zdanvgrq_L_010.png: 32x640 (no detections), 11.6ms\n",
            "Speed: 0.8ms preprocess, 11.6ms inference, 0.7ms postprocess per image at shape (1, 3, 32, 640)\n",
            "\n",
            "image 1/1 /content/data/train/Cex3glsnzv/Cex3glsnzv_L_040.png: 32x640 (no detections), 11.7ms\n",
            "Speed: 0.5ms preprocess, 11.7ms inference, 0.7ms postprocess per image at shape (1, 3, 32, 640)\n",
            "\n",
            "image 1/1 /content/data/train/Nrse2plksd/Nrse2plksd_R_025.png: 32x640 (no detections), 11.6ms\n",
            "Speed: 1.3ms preprocess, 11.6ms inference, 0.8ms postprocess per image at shape (1, 3, 32, 640)\n",
            "\n",
            "image 1/1 /content/data/train/Tbhppxjkvr/Tbhppxjkvr_L_022.png: 32x640 (no detections), 10.3ms\n",
            "Speed: 0.6ms preprocess, 10.3ms inference, 0.5ms postprocess per image at shape (1, 3, 32, 640)\n",
            "\n",
            "image 1/1 /content/data/train/Mskdmpitqk/Mskdmpitqk_R_027.png: 32x640 (no detections), 14.6ms\n",
            "Speed: 0.4ms preprocess, 14.6ms inference, 3.3ms postprocess per image at shape (1, 3, 32, 640)\n"
          ]
        },
        {
          "output_type": "stream",
          "name": "stderr",
          "text": [
            "\r 52%|█████▏    | 201/386 [00:04<00:04, 39.82it/s]"
          ]
        },
        {
          "output_type": "stream",
          "name": "stdout",
          "text": [
            "\n",
            "image 1/1 /content/data/train/Lsdgz02kdp/Lsdgz02kdp_R_017.png: 32x640 (no detections), 13.1ms\n",
            "Speed: 1.6ms preprocess, 13.1ms inference, 0.6ms postprocess per image at shape (1, 3, 32, 640)\n",
            "\n",
            "image 1/1 /content/data/train/Bb02c5k7wm/Bb02c5k7wm_L_022.png: 32x640 (no detections), 13.0ms\n",
            "Speed: 0.8ms preprocess, 13.0ms inference, 0.6ms postprocess per image at shape (1, 3, 32, 640)\n",
            "\n",
            "image 1/1 /content/data/train/V6awcupt6m/V6awcupt6m_L_034.png: 32x640 (no detections), 12.2ms\n",
            "Speed: 1.4ms preprocess, 12.2ms inference, 4.8ms postprocess per image at shape (1, 3, 32, 640)\n",
            "\n",
            "image 1/1 /content/data/train/Xdi1ipcemf/Xdi1ipcemf_L_021.png: 32x640 (no detections), 11.6ms\n",
            "Speed: 0.6ms preprocess, 11.6ms inference, 0.7ms postprocess per image at shape (1, 3, 32, 640)\n"
          ]
        },
        {
          "output_type": "stream",
          "name": "stderr",
          "text": [
            "\r 53%|█████▎    | 205/386 [00:04<00:04, 39.31it/s]"
          ]
        },
        {
          "output_type": "stream",
          "name": "stdout",
          "text": [
            "\n",
            "image 1/1 /content/data/train/H9lomh5fxk/H9lomh5fxk_L_040.png: 32x640 (no detections), 10.0ms\n",
            "Speed: 0.4ms preprocess, 10.0ms inference, 0.6ms postprocess per image at shape (1, 3, 32, 640)\n",
            "\n",
            "image 1/1 /content/data/train/Efaiye0hmy/Efaiye0hmy_R_020.png: 32x640 (no detections), 13.4ms\n",
            "Speed: 0.5ms preprocess, 13.4ms inference, 0.8ms postprocess per image at shape (1, 3, 32, 640)\n",
            "\n",
            "image 1/1 /content/data/train/Toaefqwoli/Toaefqwoli_L_037.png: 32x640 (no detections), 12.3ms\n",
            "Speed: 0.4ms preprocess, 12.3ms inference, 0.7ms postprocess per image at shape (1, 3, 32, 640)\n",
            "\n",
            "image 1/1 /content/data/train/Pucqtyga9u/Pucqtyga9u_L_030.png: 32x640 (no detections), 13.0ms\n",
            "Speed: 0.5ms preprocess, 13.0ms inference, 2.7ms postprocess per image at shape (1, 3, 32, 640)\n",
            "\n",
            "image 1/1 /content/data/train/Ot13d4nq6t/Ot13d4nq6t_L_041.png: 32x640 (no detections), 12.2ms\n",
            "Speed: 0.5ms preprocess, 12.2ms inference, 0.7ms postprocess per image at shape (1, 3, 32, 640)\n"
          ]
        },
        {
          "output_type": "stream",
          "name": "stderr",
          "text": [
            "\r 54%|█████▍    | 210/386 [00:04<00:04, 39.42it/s]"
          ]
        },
        {
          "output_type": "stream",
          "name": "stdout",
          "text": [
            "\n",
            "image 1/1 /content/data/train/Pw4ytibfql/Pw4ytibfql_R_028.png: 32x640 (no detections), 12.6ms\n",
            "Speed: 0.5ms preprocess, 12.6ms inference, 1.3ms postprocess per image at shape (1, 3, 32, 640)\n",
            "\n",
            "image 1/1 /content/data/train/Miny0c252a/Miny0c252a_R_028.png: 32x640 (no detections), 16.5ms\n",
            "Speed: 0.5ms preprocess, 16.5ms inference, 0.7ms postprocess per image at shape (1, 3, 32, 640)\n",
            "\n",
            "image 1/1 /content/data/train/Jrem9eo37e/Jrem9eo37e_R_023.png: 32x640 (no detections), 9.3ms\n",
            "Speed: 1.6ms preprocess, 9.3ms inference, 0.8ms postprocess per image at shape (1, 3, 32, 640)\n",
            "\n",
            "image 1/1 /content/data/train/Mpmvh2mgm3/Mpmvh2mgm3_R_024.png: 32x640 (no detections), 17.5ms\n",
            "Speed: 0.5ms preprocess, 17.5ms inference, 1.3ms postprocess per image at shape (1, 3, 32, 640)\n"
          ]
        },
        {
          "output_type": "stream",
          "name": "stderr",
          "text": [
            "\r 55%|█████▌    | 214/386 [00:04<00:04, 39.27it/s]"
          ]
        },
        {
          "output_type": "stream",
          "name": "stdout",
          "text": [
            "\n",
            "image 1/1 /content/data/train/Up8aqujy0s/Up8aqujy0s_L_029.png: 32x640 (no detections), 21.6ms\n",
            "Speed: 0.6ms preprocess, 21.6ms inference, 1.0ms postprocess per image at shape (1, 3, 32, 640)\n",
            "\n",
            "image 1/1 /content/data/train/Up8aqujy0s/Up8aqujy0s_L_029.png: 32x640 (no detections), 16.0ms\n",
            "Speed: 0.6ms preprocess, 16.0ms inference, 0.9ms postprocess per image at shape (1, 3, 32, 640)\n",
            "\n",
            "image 1/1 /content/data/train/Dz9lpsl9ae/Dz9lpsl9ae_R_045.png: 32x640 (no detections), 17.6ms\n",
            "Speed: 0.5ms preprocess, 17.6ms inference, 1.8ms postprocess per image at shape (1, 3, 32, 640)\n",
            "\n",
            "image 1/1 /content/data/train/A2miww5mfx/A2miww5mfx_L_010.png: 32x640 (no detections), 15.6ms\n",
            "Speed: 0.7ms preprocess, 15.6ms inference, 0.8ms postprocess per image at shape (1, 3, 32, 640)\n"
          ]
        },
        {
          "output_type": "stream",
          "name": "stderr",
          "text": [
            "\r 56%|█████▋    | 218/386 [00:04<00:04, 37.64it/s]"
          ]
        },
        {
          "output_type": "stream",
          "name": "stdout",
          "text": [
            "\n",
            "image 1/1 /content/data/train/Up8aqujy0s/Up8aqujy0s_R_025.png: 32x640 (no detections), 16.6ms\n",
            "Speed: 0.5ms preprocess, 16.6ms inference, 2.6ms postprocess per image at shape (1, 3, 32, 640)\n",
            "\n",
            "image 1/1 /content/data/train/Mskdmpitqk/Mskdmpitqk_L_021.png: 32x640 (no detections), 14.1ms\n",
            "Speed: 2.6ms preprocess, 14.1ms inference, 0.7ms postprocess per image at shape (1, 3, 32, 640)\n",
            "\n",
            "image 1/1 /content/data/train/Kjvcz6bjfj/Kjvcz6bjfj_L_024.png: 32x640 (no detections), 12.6ms\n",
            "Speed: 0.5ms preprocess, 12.6ms inference, 0.6ms postprocess per image at shape (1, 3, 32, 640)\n",
            "\n",
            "image 1/1 /content/data/train/A6dzrkjqvl/A6dzrkjqvl_L_033.png: 32x640 (no detections), 15.6ms\n",
            "Speed: 0.6ms preprocess, 15.6ms inference, 0.8ms postprocess per image at shape (1, 3, 32, 640)\n"
          ]
        },
        {
          "output_type": "stream",
          "name": "stderr",
          "text": [
            "\r 58%|█████▊    | 222/386 [00:04<00:04, 37.62it/s]"
          ]
        },
        {
          "output_type": "stream",
          "name": "stdout",
          "text": [
            "\n",
            "image 1/1 /content/data/train/Ifqbqqrika/Ifqbqqrika_R_020.png: 32x640 (no detections), 16.2ms\n",
            "Speed: 0.5ms preprocess, 16.2ms inference, 0.7ms postprocess per image at shape (1, 3, 32, 640)\n",
            "\n",
            "image 1/1 /content/data/train/Xdi1ipcemf/Xdi1ipcemf_R_032.png: 32x640 (no detections), 16.2ms\n",
            "Speed: 0.6ms preprocess, 16.2ms inference, 0.8ms postprocess per image at shape (1, 3, 32, 640)\n",
            "\n",
            "image 1/1 /content/data/train/Cex3glsnzv/Cex3glsnzv_L_040.png: 32x640 (no detections), 13.9ms\n",
            "Speed: 0.4ms preprocess, 13.9ms inference, 0.7ms postprocess per image at shape (1, 3, 32, 640)\n",
            "\n",
            "image 1/1 /content/data/train/Kjvcz6bjfj/Kjvcz6bjfj_R_026.png: 32x640 (no detections), 14.0ms\n",
            "Speed: 0.5ms preprocess, 14.0ms inference, 0.9ms postprocess per image at shape (1, 3, 32, 640)\n"
          ]
        },
        {
          "output_type": "stream",
          "name": "stderr",
          "text": [
            "\r 59%|█████▊    | 226/386 [00:05<00:04, 37.58it/s]"
          ]
        },
        {
          "output_type": "stream",
          "name": "stdout",
          "text": [
            "\n",
            "image 1/1 /content/data/train/Hzapvbcfm8/Hzapvbcfm8_L_019.png: 32x640 (no detections), 12.6ms\n",
            "Speed: 0.5ms preprocess, 12.6ms inference, 0.7ms postprocess per image at shape (1, 3, 32, 640)\n",
            "\n",
            "image 1/1 /content/data/train/Vinlgebupo/Vinlgebupo_L_023.png: 32x640 (no detections), 12.7ms\n",
            "Speed: 0.5ms preprocess, 12.7ms inference, 0.6ms postprocess per image at shape (1, 3, 32, 640)\n",
            "\n",
            "image 1/1 /content/data/train/Yznlv6wrsh/Yznlv6wrsh_R_045.png: 32x640 (no detections), 11.3ms\n",
            "Speed: 0.5ms preprocess, 11.3ms inference, 0.8ms postprocess per image at shape (1, 3, 32, 640)\n",
            "\n",
            "image 1/1 /content/data/train/Qhqftdiz4q/Qhqftdiz4q_L_028.png: 32x640 (no detections), 11.8ms\n",
            "Speed: 0.5ms preprocess, 11.8ms inference, 1.2ms postprocess per image at shape (1, 3, 32, 640)\n",
            "\n",
            "image 1/1 /content/data/train/Lzkaccojep/Lzkaccojep_R_016.png: 32x640 (no detections), 10.1ms\n",
            "Speed: 0.5ms preprocess, 10.1ms inference, 0.6ms postprocess per image at shape (1, 3, 32, 640)\n"
          ]
        },
        {
          "output_type": "stream",
          "name": "stderr",
          "text": [
            "\r 60%|█████▉    | 231/386 [00:05<00:03, 40.15it/s]"
          ]
        },
        {
          "output_type": "stream",
          "name": "stdout",
          "text": [
            "\n",
            "image 1/1 /content/data/train/Rxxe9bh6qn/Rxxe9bh6qn_L_031.png: 32x640 (no detections), 13.4ms\n",
            "Speed: 0.4ms preprocess, 13.4ms inference, 0.7ms postprocess per image at shape (1, 3, 32, 640)\n",
            "\n",
            "image 1/1 /content/data/train/Ifqbqqrika/Ifqbqqrika_L_026.png: 32x640 (no detections), 14.4ms\n",
            "Speed: 0.6ms preprocess, 14.4ms inference, 1.0ms postprocess per image at shape (1, 3, 32, 640)\n",
            "\n",
            "image 1/1 /content/data/train/Q4uyruus4j/Q4uyruus4j_L_033.png: 32x640 (no detections), 12.0ms\n",
            "Speed: 0.6ms preprocess, 12.0ms inference, 0.8ms postprocess per image at shape (1, 3, 32, 640)\n",
            "\n",
            "image 1/1 /content/data/train/L5l1h3kekg/L5l1h3kekg_R_040.png: 32x640 (no detections), 14.1ms\n",
            "Speed: 0.6ms preprocess, 14.1ms inference, 0.8ms postprocess per image at shape (1, 3, 32, 640)\n",
            "\n",
            "image 1/1 /content/data/train/Lwuwokuhrf/Lwuwokuhrf_L_025.png: 32x640 (no detections), 12.3ms\n",
            "Speed: 0.5ms preprocess, 12.3ms inference, 0.7ms postprocess per image at shape (1, 3, 32, 640)\n"
          ]
        },
        {
          "output_type": "stream",
          "name": "stderr",
          "text": [
            "\r 61%|██████    | 236/386 [00:05<00:03, 41.86it/s]"
          ]
        },
        {
          "output_type": "stream",
          "name": "stdout",
          "text": [
            "\n",
            "image 1/1 /content/data/train/Hzapvbcfm8/Hzapvbcfm8_L_019.png: 32x640 (no detections), 8.9ms\n",
            "Speed: 0.8ms preprocess, 8.9ms inference, 0.6ms postprocess per image at shape (1, 3, 32, 640)\n",
            "\n",
            "image 1/1 /content/data/train/Puya1uaaln/Puya1uaaln_R_016.png: 32x640 (no detections), 19.9ms\n",
            "Speed: 1.2ms preprocess, 19.9ms inference, 0.9ms postprocess per image at shape (1, 3, 32, 640)\n",
            "\n",
            "image 1/1 /content/data/train/Jrem9eo37e/Jrem9eo37e_L_029.png: 32x640 (no detections), 17.1ms\n",
            "Speed: 0.5ms preprocess, 17.1ms inference, 0.6ms postprocess per image at shape (1, 3, 32, 640)\n",
            "\n",
            "image 1/1 /content/data/train/Nrse2plksd/Nrse2plksd_L_019.png: 32x640 (no detections), 10.8ms\n",
            "Speed: 0.6ms preprocess, 10.8ms inference, 0.6ms postprocess per image at shape (1, 3, 32, 640)\n",
            "\n",
            "image 1/1 /content/data/train/Ypktwvqjbn/Ypktwvqjbn_L_033.png: 32x640 (no detections), 13.5ms\n",
            "Speed: 0.4ms preprocess, 13.5ms inference, 1.3ms postprocess per image at shape (1, 3, 32, 640)\n"
          ]
        },
        {
          "output_type": "stream",
          "name": "stderr",
          "text": [
            "\r 62%|██████▏   | 241/386 [00:05<00:03, 39.53it/s]"
          ]
        },
        {
          "output_type": "stream",
          "name": "stdout",
          "text": [
            "\n",
            "image 1/1 /content/data/train/Sauopakhvn/Sauopakhvn_R_021.png: 32x640 (no detections), 11.3ms\n",
            "Speed: 0.5ms preprocess, 11.3ms inference, 0.8ms postprocess per image at shape (1, 3, 32, 640)\n",
            "\n",
            "image 1/1 /content/data/train/H9lomh5fxk/H9lomh5fxk_L_040.png: 32x640 (no detections), 11.4ms\n",
            "Speed: 0.5ms preprocess, 11.4ms inference, 1.1ms postprocess per image at shape (1, 3, 32, 640)\n",
            "\n",
            "image 1/1 /content/data/train/Q91mym9ev4/Q91mym9ev4_L_022.png: 32x640 (no detections), 9.1ms\n",
            "Speed: 0.5ms preprocess, 9.1ms inference, 0.6ms postprocess per image at shape (1, 3, 32, 640)\n",
            "\n",
            "image 1/1 /content/data/train/Xrrcqvdbkw/Xrrcqvdbkw_R_027.png: 32x640 (no detections), 11.8ms\n",
            "Speed: 0.7ms preprocess, 11.8ms inference, 0.5ms postprocess per image at shape (1, 3, 32, 640)\n",
            "\n",
            "image 1/1 /content/data/train/Q4uyruus4j/Q4uyruus4j_L_033.png: 32x640 (no detections), 11.9ms\n",
            "Speed: 0.5ms preprocess, 11.9ms inference, 0.6ms postprocess per image at shape (1, 3, 32, 640)\n"
          ]
        },
        {
          "output_type": "stream",
          "name": "stderr",
          "text": [
            "\r 64%|██████▎   | 246/386 [00:05<00:03, 41.54it/s]"
          ]
        },
        {
          "output_type": "stream",
          "name": "stdout",
          "text": [
            "\n",
            "image 1/1 /content/data/train/Puya1uaaln/Puya1uaaln_R_016.png: 32x640 (no detections), 10.1ms\n",
            "Speed: 0.4ms preprocess, 10.1ms inference, 1.2ms postprocess per image at shape (1, 3, 32, 640)\n",
            "\n",
            "image 1/1 /content/data/train/Nrse2plksd/Nrse2plksd_L_019.png: 32x640 (no detections), 15.8ms\n",
            "Speed: 0.6ms preprocess, 15.8ms inference, 0.7ms postprocess per image at shape (1, 3, 32, 640)\n",
            "\n",
            "image 1/1 /content/data/train/Ntqusw7xpb/Ntqusw7xpb_R_037.png: 32x640 (no detections), 16.3ms\n",
            "Speed: 1.4ms preprocess, 16.3ms inference, 2.5ms postprocess per image at shape (1, 3, 32, 640)\n",
            "\n",
            "image 1/1 /content/data/train/Mpmvh2mgm3/Mpmvh2mgm3_L_032.png: 32x640 (no detections), 10.7ms\n",
            "Speed: 0.5ms preprocess, 10.7ms inference, 1.0ms postprocess per image at shape (1, 3, 32, 640)\n",
            "\n",
            "image 1/1 /content/data/train/Gawaekzxou/Gawaekzxou_L_010.png: 32x640 (no detections), 11.8ms\n",
            "Speed: 0.6ms preprocess, 11.8ms inference, 0.9ms postprocess per image at shape (1, 3, 32, 640)\n"
          ]
        },
        {
          "output_type": "stream",
          "name": "stderr",
          "text": [
            "\r 65%|██████▌   | 251/386 [00:05<00:03, 41.77it/s]"
          ]
        },
        {
          "output_type": "stream",
          "name": "stdout",
          "text": [
            "\n",
            "image 1/1 /content/data/train/Hc3b9gicdo/Hc3b9gicdo_L_037.png: 32x640 (no detections), 12.7ms\n",
            "Speed: 0.6ms preprocess, 12.7ms inference, 0.8ms postprocess per image at shape (1, 3, 32, 640)\n",
            "\n",
            "image 1/1 /content/data/train/Ifqbqqrika/Ifqbqqrika_R_020.png: 32x640 (no detections), 12.2ms\n",
            "Speed: 0.5ms preprocess, 12.2ms inference, 0.8ms postprocess per image at shape (1, 3, 32, 640)\n",
            "\n",
            "image 1/1 /content/data/train/Lnkljfdtgh/Lnkljfdtgh_R_023.png: 32x640 (no detections), 11.6ms\n",
            "Speed: 0.5ms preprocess, 11.6ms inference, 0.7ms postprocess per image at shape (1, 3, 32, 640)\n",
            "\n",
            "image 1/1 /content/data/train/Jtcfkuovxk/Jtcfkuovxk_R_028.png: 32x640 (no detections), 14.3ms\n",
            "Speed: 0.5ms preprocess, 14.3ms inference, 0.7ms postprocess per image at shape (1, 3, 32, 640)\n",
            "\n",
            "image 1/1 /content/data/train/Bs8ueatyis/Bs8ueatyis_L_033.png: 32x640 (no detections), 13.2ms\n",
            "Speed: 0.5ms preprocess, 13.2ms inference, 0.7ms postprocess per image at shape (1, 3, 32, 640)\n"
          ]
        },
        {
          "output_type": "stream",
          "name": "stderr",
          "text": [
            "\r 66%|██████▋   | 256/386 [00:05<00:03, 41.89it/s]"
          ]
        },
        {
          "output_type": "stream",
          "name": "stdout",
          "text": [
            "\n",
            "image 1/1 /content/data/train/Pctl4tyb9l/Pctl4tyb9l_L_046.png: 32x640 (no detections), 19.5ms\n",
            "Speed: 0.4ms preprocess, 19.5ms inference, 0.7ms postprocess per image at shape (1, 3, 32, 640)\n",
            "\n",
            "image 1/1 /content/data/train/Kjvcz6bjfj/Kjvcz6bjfj_L_024.png: 32x640 (no detections), 10.7ms\n",
            "Speed: 0.4ms preprocess, 10.7ms inference, 0.6ms postprocess per image at shape (1, 3, 32, 640)\n",
            "\n",
            "image 1/1 /content/data/train/S11rphogci/S11rphogci_L_020.png: 32x640 (no detections), 10.7ms\n",
            "Speed: 0.5ms preprocess, 10.7ms inference, 2.8ms postprocess per image at shape (1, 3, 32, 640)\n",
            "\n",
            "image 1/1 /content/data/train/Zbjyzgqwtu/Zbjyzgqwtu_L_022.png: 32x640 (no detections), 12.8ms\n",
            "Speed: 2.1ms preprocess, 12.8ms inference, 0.8ms postprocess per image at shape (1, 3, 32, 640)\n",
            "\n",
            "image 1/1 /content/data/train/Pfp24vx905/Pfp24vx905_R_027.png: 32x640 (no detections), 11.5ms\n",
            "Speed: 0.5ms preprocess, 11.5ms inference, 0.6ms postprocess per image at shape (1, 3, 32, 640)\n"
          ]
        },
        {
          "output_type": "stream",
          "name": "stderr",
          "text": [
            "\r 68%|██████▊   | 261/386 [00:05<00:02, 42.49it/s]"
          ]
        },
        {
          "output_type": "stream",
          "name": "stdout",
          "text": [
            "\n",
            "image 1/1 /content/data/train/Miny0c252a/Miny0c252a_R_028.png: 32x640 (no detections), 10.9ms\n",
            "Speed: 0.5ms preprocess, 10.9ms inference, 0.6ms postprocess per image at shape (1, 3, 32, 640)\n",
            "\n",
            "image 1/1 /content/data/train/Bs8ueatyis/Bs8ueatyis_L_033.png: 32x640 (no detections), 11.1ms\n",
            "Speed: 0.5ms preprocess, 11.1ms inference, 1.4ms postprocess per image at shape (1, 3, 32, 640)\n",
            "\n",
            "image 1/1 /content/data/train/Lsdgz02kdp/Lsdgz02kdp_L_029.png: 32x640 (no detections), 17.2ms\n",
            "Speed: 0.4ms preprocess, 17.2ms inference, 0.8ms postprocess per image at shape (1, 3, 32, 640)\n",
            "\n",
            "image 1/1 /content/data/train/Sauopakhvn/Sauopakhvn_L_019.png: 32x640 (no detections), 17.1ms\n",
            "Speed: 1.1ms preprocess, 17.1ms inference, 0.8ms postprocess per image at shape (1, 3, 32, 640)\n",
            "\n",
            "image 1/1 /content/data/train/B5myqsh1wi/B5myqsh1wi_R_026.png: 32x640 (no detections), 19.2ms\n",
            "Speed: 0.4ms preprocess, 19.2ms inference, 0.7ms postprocess per image at shape (1, 3, 32, 640)\n"
          ]
        },
        {
          "output_type": "stream",
          "name": "stderr",
          "text": [
            "\r 69%|██████▉   | 266/386 [00:05<00:02, 41.49it/s]"
          ]
        },
        {
          "output_type": "stream",
          "name": "stdout",
          "text": [
            "\n",
            "image 1/1 /content/data/train/Tbhppxjkvr/Tbhppxjkvr_R_016.png: 32x640 (no detections), 19.9ms\n",
            "Speed: 0.5ms preprocess, 19.9ms inference, 1.6ms postprocess per image at shape (1, 3, 32, 640)\n",
            "\n",
            "image 1/1 /content/data/train/V6awcupt6m/V6awcupt6m_R_028.png: 32x640 (no detections), 23.2ms\n",
            "Speed: 0.5ms preprocess, 23.2ms inference, 0.7ms postprocess per image at shape (1, 3, 32, 640)\n",
            "\n",
            "image 1/1 /content/data/train/Rzyf8hal4j/Rzyf8hal4j_L_032.png: 32x640 (no detections), 20.2ms\n",
            "Speed: 0.5ms preprocess, 20.2ms inference, 0.8ms postprocess per image at shape (1, 3, 32, 640)\n",
            "\n",
            "image 1/1 /content/data/train/Cvdxhjziab/Cvdxhjziab_L_010.png: 32x640 (no detections), 17.7ms\n",
            "Speed: 0.5ms preprocess, 17.7ms inference, 1.6ms postprocess per image at shape (1, 3, 32, 640)\n",
            "\n",
            "image 1/1 /content/data/train/V6awcupt6m/V6awcupt6m_R_028.png: 32x640 (no detections), 18.4ms\n",
            "Speed: 0.5ms preprocess, 18.4ms inference, 0.8ms postprocess per image at shape (1, 3, 32, 640)\n"
          ]
        },
        {
          "output_type": "stream",
          "name": "stderr",
          "text": [
            "\r 70%|███████   | 271/386 [00:06<00:03, 37.55it/s]"
          ]
        },
        {
          "output_type": "stream",
          "name": "stdout",
          "text": [
            "\n",
            "image 1/1 /content/data/train/Pucqtyga9u/Pucqtyga9u_L_030.png: 32x640 (no detections), 15.0ms\n",
            "Speed: 0.5ms preprocess, 15.0ms inference, 0.8ms postprocess per image at shape (1, 3, 32, 640)\n",
            "\n",
            "image 1/1 /content/data/train/S11rphogci/S11rphogci_R_025.png: 32x640 (no detections), 16.9ms\n",
            "Speed: 0.5ms preprocess, 16.9ms inference, 0.8ms postprocess per image at shape (1, 3, 32, 640)\n",
            "\n",
            "image 1/1 /content/data/train/Vlqr6qhbqk/Vlqr6qhbqk_R_032.png: 32x640 (no detections), 16.4ms\n",
            "Speed: 0.5ms preprocess, 16.4ms inference, 0.8ms postprocess per image at shape (1, 3, 32, 640)\n",
            "\n",
            "image 1/1 /content/data/train/Yznlv6wrsh/Yznlv6wrsh_R_045.png: 32x640 (no detections), 14.7ms\n",
            "Speed: 0.5ms preprocess, 14.7ms inference, 0.8ms postprocess per image at shape (1, 3, 32, 640)\n"
          ]
        },
        {
          "output_type": "stream",
          "name": "stderr",
          "text": [
            "\r 71%|███████   | 275/386 [00:06<00:02, 37.59it/s]"
          ]
        },
        {
          "output_type": "stream",
          "name": "stdout",
          "text": [
            "\n",
            "image 1/1 /content/data/train/Tbhppxjkvr/Tbhppxjkvr_L_022.png: 32x640 (no detections), 16.3ms\n",
            "Speed: 2.0ms preprocess, 16.3ms inference, 0.8ms postprocess per image at shape (1, 3, 32, 640)\n",
            "\n",
            "image 1/1 /content/data/train/Ph2ti2sjzu/Ph2ti2sjzu_L_022.png: 32x640 (no detections), 18.2ms\n",
            "Speed: 0.5ms preprocess, 18.2ms inference, 0.8ms postprocess per image at shape (1, 3, 32, 640)\n",
            "\n",
            "image 1/1 /content/data/train/S11rphogci/S11rphogci_R_025.png: 32x640 (no detections), 15.8ms\n",
            "Speed: 0.5ms preprocess, 15.8ms inference, 0.8ms postprocess per image at shape (1, 3, 32, 640)\n",
            "\n",
            "image 1/1 /content/data/train/Kjvcz6bjfj/Kjvcz6bjfj_L_024.png: 32x640 (no detections), 16.7ms\n",
            "Speed: 0.9ms preprocess, 16.7ms inference, 0.8ms postprocess per image at shape (1, 3, 32, 640)\n"
          ]
        },
        {
          "output_type": "stream",
          "name": "stderr",
          "text": [
            "\r 72%|███████▏  | 279/386 [00:06<00:02, 37.57it/s]"
          ]
        },
        {
          "output_type": "stream",
          "name": "stdout",
          "text": [
            "\n",
            "image 1/1 /content/data/train/Ah4ubi4ggi/Ah4ubi4ggi_L_042.png: 32x640 (no detections), 19.1ms\n",
            "Speed: 0.5ms preprocess, 19.1ms inference, 0.9ms postprocess per image at shape (1, 3, 32, 640)\n",
            "\n",
            "image 1/1 /content/data/train/Wgutyon8uu/Wgutyon8uu_L_018.png: 32x640 (no detections), 15.4ms\n",
            "Speed: 0.5ms preprocess, 15.4ms inference, 0.7ms postprocess per image at shape (1, 3, 32, 640)\n",
            "\n",
            "image 1/1 /content/data/train/Ifqbqqrika/Ifqbqqrika_R_020.png: 32x640 (no detections), 12.2ms\n",
            "Speed: 0.5ms preprocess, 12.2ms inference, 0.9ms postprocess per image at shape (1, 3, 32, 640)\n",
            "\n",
            "image 1/1 /content/data/train/Efaiye0hmy/Efaiye0hmy_R_020.png: 32x640 (no detections), 14.7ms\n",
            "Speed: 0.7ms preprocess, 14.7ms inference, 0.9ms postprocess per image at shape (1, 3, 32, 640)\n",
            "\n",
            "image 1/1 /content/data/train/Up8aqujy0s/Up8aqujy0s_R_025.png: 32x640 (no detections), 12.2ms\n",
            "Speed: 0.6ms preprocess, 12.2ms inference, 0.6ms postprocess per image at shape (1, 3, 32, 640)\n"
          ]
        },
        {
          "output_type": "stream",
          "name": "stderr",
          "text": [
            "\r 74%|███████▎  | 284/386 [00:06<00:02, 38.67it/s]"
          ]
        },
        {
          "output_type": "stream",
          "name": "stdout",
          "text": [
            "\n",
            "image 1/1 /content/data/train/Rzyf8hal4j/Rzyf8hal4j_R_038.png: 32x640 (no detections), 9.7ms\n",
            "Speed: 0.5ms preprocess, 9.7ms inference, 0.6ms postprocess per image at shape (1, 3, 32, 640)\n",
            "\n",
            "image 1/1 /content/data/train/Ifqbqqrika/Ifqbqqrika_L_026.png: 32x640 (no detections), 9.3ms\n",
            "Speed: 0.5ms preprocess, 9.3ms inference, 0.8ms postprocess per image at shape (1, 3, 32, 640)\n",
            "\n",
            "image 1/1 /content/data/train/Ceibvxd51g/Ceibvxd51g_R_037.png: 32x640 (no detections), 12.5ms\n",
            "Speed: 0.5ms preprocess, 12.5ms inference, 0.7ms postprocess per image at shape (1, 3, 32, 640)\n",
            "\n",
            "image 1/1 /content/data/train/Vlqr6qhbqk/Vlqr6qhbqk_R_032.png: 32x640 (no detections), 12.0ms\n",
            "Speed: 1.4ms preprocess, 12.0ms inference, 0.5ms postprocess per image at shape (1, 3, 32, 640)\n",
            "\n",
            "image 1/1 /content/data/train/Pctl4tyb9l/Pctl4tyb9l_L_046.png: 32x640 (no detections), 11.0ms\n",
            "Speed: 0.5ms preprocess, 11.0ms inference, 0.7ms postprocess per image at shape (1, 3, 32, 640)\n"
          ]
        },
        {
          "output_type": "stream",
          "name": "stderr",
          "text": [
            "\r 75%|███████▍  | 289/386 [00:06<00:02, 40.38it/s]"
          ]
        },
        {
          "output_type": "stream",
          "name": "stdout",
          "text": [
            "\n",
            "image 1/1 /content/data/train/Miny0c252a/Miny0c252a_R_028.png: 32x640 (no detections), 11.7ms\n",
            "Speed: 0.7ms preprocess, 11.7ms inference, 0.7ms postprocess per image at shape (1, 3, 32, 640)\n",
            "\n",
            "image 1/1 /content/data/train/Pw4ytibfql/Pw4ytibfql_R_028.png: 32x640 (no detections), 13.2ms\n",
            "Speed: 0.8ms preprocess, 13.2ms inference, 0.6ms postprocess per image at shape (1, 3, 32, 640)\n",
            "\n",
            "image 1/1 /content/data/train/Yznlv6wrsh/Yznlv6wrsh_R_045.png: 32x640 (no detections), 11.8ms\n",
            "Speed: 0.8ms preprocess, 11.8ms inference, 0.6ms postprocess per image at shape (1, 3, 32, 640)\n",
            "\n",
            "image 1/1 /content/data/train/Jrem9eo37e/Jrem9eo37e_R_023.png: 32x640 (no detections), 12.3ms\n",
            "Speed: 0.6ms preprocess, 12.3ms inference, 0.7ms postprocess per image at shape (1, 3, 32, 640)\n",
            "\n",
            "image 1/1 /content/data/train/Ah4ubi4ggi/Ah4ubi4ggi_R_027.png: 32x640 (no detections), 11.0ms\n",
            "Speed: 0.5ms preprocess, 11.0ms inference, 0.7ms postprocess per image at shape (1, 3, 32, 640)\n"
          ]
        },
        {
          "output_type": "stream",
          "name": "stderr",
          "text": [
            "\r 76%|███████▌  | 294/386 [00:06<00:02, 42.31it/s]"
          ]
        },
        {
          "output_type": "stream",
          "name": "stdout",
          "text": [
            "\n",
            "image 1/1 /content/data/train/Jrem9eo37e/Jrem9eo37e_L_029.png: 32x640 (no detections), 11.7ms\n",
            "Speed: 0.5ms preprocess, 11.7ms inference, 0.6ms postprocess per image at shape (1, 3, 32, 640)\n",
            "\n",
            "image 1/1 /content/data/train/Qhqftdiz4q/Qhqftdiz4q_R_049.png: 32x640 (no detections), 12.3ms\n",
            "Speed: 0.6ms preprocess, 12.3ms inference, 0.5ms postprocess per image at shape (1, 3, 32, 640)\n",
            "\n",
            "image 1/1 /content/data/train/Nto14cbfiw/Nto14cbfiw_L_010.png: 32x640 (no detections), 12.3ms\n",
            "Speed: 0.6ms preprocess, 12.3ms inference, 0.8ms postprocess per image at shape (1, 3, 32, 640)\n",
            "\n",
            "image 1/1 /content/data/train/Yjzw2bylox/Yjzw2bylox_R_023.png: 32x640 (no detections), 11.7ms\n",
            "Speed: 0.5ms preprocess, 11.7ms inference, 0.7ms postprocess per image at shape (1, 3, 32, 640)\n",
            "\n",
            "image 1/1 /content/data/train/Iuxzotmvrc/Iuxzotmvrc_L_010.png: 32x640 (no detections), 11.4ms\n",
            "Speed: 0.5ms preprocess, 11.4ms inference, 0.6ms postprocess per image at shape (1, 3, 32, 640)\n"
          ]
        },
        {
          "output_type": "stream",
          "name": "stderr",
          "text": [
            "\r 77%|███████▋  | 299/386 [00:06<00:02, 43.18it/s]"
          ]
        },
        {
          "output_type": "stream",
          "name": "stdout",
          "text": [
            "\n",
            "image 1/1 /content/data/train/Mpmvh2mgm3/Mpmvh2mgm3_R_024.png: 32x640 (no detections), 11.4ms\n",
            "Speed: 0.7ms preprocess, 11.4ms inference, 0.7ms postprocess per image at shape (1, 3, 32, 640)\n",
            "\n",
            "image 1/1 /content/data/train/Ubgsvkns3h/Ubgsvkns3h_R_017.png: 32x640 (no detections), 10.8ms\n",
            "Speed: 0.5ms preprocess, 10.8ms inference, 0.7ms postprocess per image at shape (1, 3, 32, 640)\n",
            "\n",
            "image 1/1 /content/data/train/Me1ufzzcxk/Me1ufzzcxk_R_023.png: 32x640 (no detections), 13.1ms\n",
            "Speed: 0.5ms preprocess, 13.1ms inference, 0.6ms postprocess per image at shape (1, 3, 32, 640)\n",
            "\n",
            "image 1/1 /content/data/train/Rxxe9bh6qn/Rxxe9bh6qn_L_031.png: 32x640 (no detections), 12.3ms\n",
            "Speed: 0.7ms preprocess, 12.3ms inference, 0.7ms postprocess per image at shape (1, 3, 32, 640)\n",
            "\n",
            "image 1/1 /content/data/train/Kjvcz6bjfj/Kjvcz6bjfj_R_026.png: 32x640 (no detections), 13.4ms\n",
            "Speed: 0.6ms preprocess, 13.4ms inference, 0.6ms postprocess per image at shape (1, 3, 32, 640)\n"
          ]
        },
        {
          "output_type": "stream",
          "name": "stderr",
          "text": [
            "\r 79%|███████▉  | 304/386 [00:06<00:01, 43.79it/s]"
          ]
        },
        {
          "output_type": "stream",
          "name": "stdout",
          "text": [
            "\n",
            "image 1/1 /content/data/train/B8x7mhxe6z/B8x7mhxe6z_L_023.png: 32x640 (no detections), 13.4ms\n",
            "Speed: 0.6ms preprocess, 13.4ms inference, 0.6ms postprocess per image at shape (1, 3, 32, 640)\n",
            "\n",
            "image 1/1 /content/data/train/Yznlv6wrsh/Yznlv6wrsh_L_030.png: 32x640 (no detections), 15.9ms\n",
            "Speed: 0.6ms preprocess, 15.9ms inference, 0.5ms postprocess per image at shape (1, 3, 32, 640)\n",
            "\n",
            "image 1/1 /content/data/train/Hzapvbcfm8/Hzapvbcfm8_R_024.png: 32x640 (no detections), 12.4ms\n",
            "Speed: 0.8ms preprocess, 12.4ms inference, 0.6ms postprocess per image at shape (1, 3, 32, 640)\n",
            "\n",
            "image 1/1 /content/data/train/Tbhppxjkvr/Tbhppxjkvr_L_022.png: 32x640 (no detections), 10.6ms\n",
            "Speed: 0.5ms preprocess, 10.6ms inference, 0.8ms postprocess per image at shape (1, 3, 32, 640)\n",
            "\n",
            "image 1/1 /content/data/train/Tbhppxjkvr/Tbhppxjkvr_R_016.png: 32x640 (no detections), 10.3ms\n",
            "Speed: 0.6ms preprocess, 10.3ms inference, 0.6ms postprocess per image at shape (1, 3, 32, 640)\n"
          ]
        },
        {
          "output_type": "stream",
          "name": "stderr",
          "text": [
            "\r 80%|████████  | 309/386 [00:06<00:01, 43.90it/s]"
          ]
        },
        {
          "output_type": "stream",
          "name": "stdout",
          "text": [
            "\n",
            "image 1/1 /content/data/train/B5myqsh1wi/B5myqsh1wi_R_026.png: 32x640 (no detections), 12.5ms\n",
            "Speed: 0.4ms preprocess, 12.5ms inference, 1.1ms postprocess per image at shape (1, 3, 32, 640)\n",
            "\n",
            "image 1/1 /content/data/train/Me1ufzzcxk/Me1ufzzcxk_R_023.png: 32x640 (no detections), 11.9ms\n",
            "Speed: 0.6ms preprocess, 11.9ms inference, 0.9ms postprocess per image at shape (1, 3, 32, 640)\n",
            "\n",
            "image 1/1 /content/data/train/V6awcupt6m/V6awcupt6m_L_034.png: 32x640 (no detections), 11.8ms\n",
            "Speed: 0.6ms preprocess, 11.8ms inference, 0.6ms postprocess per image at shape (1, 3, 32, 640)\n",
            "\n",
            "image 1/1 /content/data/train/Dz9lpsl9ae/Dz9lpsl9ae_R_045.png: 32x640 (no detections), 15.6ms\n",
            "Speed: 0.5ms preprocess, 15.6ms inference, 1.2ms postprocess per image at shape (1, 3, 32, 640)\n",
            "\n",
            "image 1/1 /content/data/train/Me1ufzzcxk/Me1ufzzcxk_R_023.png: 32x640 (no detections), 13.4ms\n",
            "Speed: 0.6ms preprocess, 13.4ms inference, 1.3ms postprocess per image at shape (1, 3, 32, 640)\n"
          ]
        },
        {
          "output_type": "stream",
          "name": "stderr",
          "text": [
            "\r 81%|████████▏ | 314/386 [00:07<00:01, 43.53it/s]"
          ]
        },
        {
          "output_type": "stream",
          "name": "stdout",
          "text": [
            "\n",
            "image 1/1 /content/data/train/Ceibvxd51g/Ceibvxd51g_R_037.png: 32x640 (no detections), 16.4ms\n",
            "Speed: 0.5ms preprocess, 16.4ms inference, 1.2ms postprocess per image at shape (1, 3, 32, 640)\n",
            "\n",
            "image 1/1 /content/data/train/Efaiye0hmy/Efaiye0hmy_R_020.png: 32x640 (no detections), 17.3ms\n",
            "Speed: 0.8ms preprocess, 17.3ms inference, 0.7ms postprocess per image at shape (1, 3, 32, 640)\n",
            "\n",
            "image 1/1 /content/data/train/Up8aqujy0s/Up8aqujy0s_L_029.png: 32x640 (no detections), 12.3ms\n",
            "Speed: 0.5ms preprocess, 12.3ms inference, 0.9ms postprocess per image at shape (1, 3, 32, 640)\n",
            "\n",
            "image 1/1 /content/data/train/Pw4ytibfql/Pw4ytibfql_L_025.png: 32x640 (no detections), 12.8ms\n",
            "Speed: 0.6ms preprocess, 12.8ms inference, 0.5ms postprocess per image at shape (1, 3, 32, 640)\n",
            "\n",
            "image 1/1 /content/data/train/Sauopakhvn/Sauopakhvn_L_019.png: 32x640 (no detections), 12.7ms\n",
            "Speed: 0.5ms preprocess, 12.7ms inference, 0.8ms postprocess per image at shape (1, 3, 32, 640)\n"
          ]
        },
        {
          "output_type": "stream",
          "name": "stderr",
          "text": [
            "\r 83%|████████▎ | 319/386 [00:07<00:01, 43.02it/s]"
          ]
        },
        {
          "output_type": "stream",
          "name": "stdout",
          "text": [
            "\n",
            "image 1/1 /content/data/train/Kjvcz6bjfj/Kjvcz6bjfj_L_024.png: 32x640 (no detections), 12.8ms\n",
            "Speed: 0.5ms preprocess, 12.8ms inference, 0.8ms postprocess per image at shape (1, 3, 32, 640)\n",
            "\n",
            "image 1/1 /content/data/train/F1p0lhe1ij/F1p0lhe1ij_R_030.png: 32x640 (no detections), 10.0ms\n",
            "Speed: 0.6ms preprocess, 10.0ms inference, 0.6ms postprocess per image at shape (1, 3, 32, 640)\n",
            "\n",
            "image 1/1 /content/data/train/Rxxe9bh6qn/Rxxe9bh6qn_L_031.png: 32x640 (no detections), 12.6ms\n",
            "Speed: 0.5ms preprocess, 12.6ms inference, 1.0ms postprocess per image at shape (1, 3, 32, 640)\n",
            "\n",
            "image 1/1 /content/data/train/Bb02c5k7wm/Bb02c5k7wm_L_022.png: 32x640 (no detections), 12.2ms\n",
            "Speed: 0.5ms preprocess, 12.2ms inference, 1.0ms postprocess per image at shape (1, 3, 32, 640)\n",
            "\n",
            "image 1/1 /content/data/train/Izbgyxre0g/Izbgyxre0g_L_024.png: 32x640 (no detections), 11.8ms\n",
            "Speed: 0.5ms preprocess, 11.8ms inference, 0.9ms postprocess per image at shape (1, 3, 32, 640)\n"
          ]
        },
        {
          "output_type": "stream",
          "name": "stderr",
          "text": [
            "\r 84%|████████▍ | 324/386 [00:07<00:01, 44.06it/s]"
          ]
        },
        {
          "output_type": "stream",
          "name": "stdout",
          "text": [
            "\n",
            "image 1/1 /content/data/train/Zbjyzgqwtu/Zbjyzgqwtu_L_022.png: 32x640 (no detections), 11.5ms\n",
            "Speed: 0.5ms preprocess, 11.5ms inference, 0.5ms postprocess per image at shape (1, 3, 32, 640)\n",
            "\n",
            "image 1/1 /content/data/train/Jct834ckgh/Jct834ckgh_L_019.png: 32x640 (no detections), 10.6ms\n",
            "Speed: 0.6ms preprocess, 10.6ms inference, 0.7ms postprocess per image at shape (1, 3, 32, 640)\n",
            "\n",
            "image 1/1 /content/data/train/Zbjyzgqwtu/Zbjyzgqwtu_L_022.png: 32x640 (no detections), 10.4ms\n",
            "Speed: 0.5ms preprocess, 10.4ms inference, 0.6ms postprocess per image at shape (1, 3, 32, 640)\n",
            "\n",
            "image 1/1 /content/data/train/L8w7zu7wek/L8w7zu7wek_R_027.png: 32x640 (no detections), 13.0ms\n",
            "Speed: 0.5ms preprocess, 13.0ms inference, 0.7ms postprocess per image at shape (1, 3, 32, 640)\n",
            "\n",
            "image 1/1 /content/data/train/Tbhppxjkvr/Tbhppxjkvr_L_022.png: 32x640 (no detections), 11.3ms\n",
            "Speed: 0.5ms preprocess, 11.3ms inference, 0.7ms postprocess per image at shape (1, 3, 32, 640)\n"
          ]
        },
        {
          "output_type": "stream",
          "name": "stderr",
          "text": [
            "\r 85%|████████▌ | 329/386 [00:07<00:01, 45.19it/s]"
          ]
        },
        {
          "output_type": "stream",
          "name": "stdout",
          "text": [
            "\n",
            "image 1/1 /content/data/train/Hc3b9gicdo/Hc3b9gicdo_R_029.png: 32x640 (no detections), 13.6ms\n",
            "Speed: 0.5ms preprocess, 13.6ms inference, 0.9ms postprocess per image at shape (1, 3, 32, 640)\n",
            "\n",
            "image 1/1 /content/data/train/Hqcekwpxgu/Hqcekwpxgu_R_030.png: 32x640 (no detections), 11.9ms\n",
            "Speed: 0.6ms preprocess, 11.9ms inference, 0.8ms postprocess per image at shape (1, 3, 32, 640)\n",
            "\n",
            "image 1/1 /content/data/train/Oipmzygepq/Oipmzygepq_R_032.png: 32x640 (no detections), 11.2ms\n",
            "Speed: 0.6ms preprocess, 11.2ms inference, 0.7ms postprocess per image at shape (1, 3, 32, 640)\n",
            "\n",
            "image 1/1 /content/data/train/Zbjyzgqwtu/Zbjyzgqwtu_R_015.png: 32x640 (no detections), 13.1ms\n",
            "Speed: 0.5ms preprocess, 13.1ms inference, 0.7ms postprocess per image at shape (1, 3, 32, 640)\n",
            "\n",
            "image 1/1 /content/data/train/Hqcekwpxgu/Hqcekwpxgu_R_030.png: 32x640 (no detections), 11.3ms\n",
            "Speed: 0.6ms preprocess, 11.3ms inference, 0.8ms postprocess per image at shape (1, 3, 32, 640)\n"
          ]
        },
        {
          "output_type": "stream",
          "name": "stderr",
          "text": [
            "\r 87%|████████▋ | 334/386 [00:07<00:01, 44.47it/s]"
          ]
        },
        {
          "output_type": "stream",
          "name": "stdout",
          "text": [
            "\n",
            "image 1/1 /content/data/train/Puya1uaaln/Puya1uaaln_L_026.png: 32x640 (no detections), 11.3ms\n",
            "Speed: 0.5ms preprocess, 11.3ms inference, 0.6ms postprocess per image at shape (1, 3, 32, 640)\n",
            "\n",
            "image 1/1 /content/data/train/Ehwtko5bvb/Ehwtko5bvb_L_010.png: 32x640 (no detections), 12.2ms\n",
            "Speed: 0.5ms preprocess, 12.2ms inference, 1.0ms postprocess per image at shape (1, 3, 32, 640)\n",
            "\n",
            "image 1/1 /content/data/train/Vinlgebupo/Vinlgebupo_L_023.png: 32x640 (no detections), 14.3ms\n",
            "Speed: 0.5ms preprocess, 14.3ms inference, 0.8ms postprocess per image at shape (1, 3, 32, 640)\n",
            "\n",
            "image 1/1 /content/data/train/Q4uyruus4j/Q4uyruus4j_R_027.png: 32x640 (no detections), 10.5ms\n",
            "Speed: 0.5ms preprocess, 10.5ms inference, 0.8ms postprocess per image at shape (1, 3, 32, 640)\n",
            "\n",
            "image 1/1 /content/data/train/F5lrpuuq8q/F5lrpuuq8q_R_023.png: 32x640 (no detections), 9.6ms\n",
            "Speed: 1.2ms preprocess, 9.6ms inference, 0.6ms postprocess per image at shape (1, 3, 32, 640)\n"
          ]
        },
        {
          "output_type": "stream",
          "name": "stderr",
          "text": [
            "\r 88%|████████▊ | 339/386 [00:07<00:01, 44.98it/s]"
          ]
        },
        {
          "output_type": "stream",
          "name": "stdout",
          "text": [
            "\n",
            "image 1/1 /content/data/train/Pw4ytibfql/Pw4ytibfql_R_028.png: 32x640 (no detections), 10.9ms\n",
            "Speed: 2.7ms preprocess, 10.9ms inference, 0.6ms postprocess per image at shape (1, 3, 32, 640)\n",
            "\n",
            "image 1/1 /content/data/train/Yznlv6wrsh/Yznlv6wrsh_L_030.png: 32x640 (no detections), 8.6ms\n",
            "Speed: 0.5ms preprocess, 8.6ms inference, 0.8ms postprocess per image at shape (1, 3, 32, 640)\n",
            "\n",
            "image 1/1 /content/data/train/Dz9lpsl9ae/Dz9lpsl9ae_L_037.png: 32x640 (no detections), 15.5ms\n",
            "Speed: 0.5ms preprocess, 15.5ms inference, 0.9ms postprocess per image at shape (1, 3, 32, 640)\n",
            "\n",
            "image 1/1 /content/data/train/Jrem9eo37e/Jrem9eo37e_R_023.png: 32x640 (no detections), 15.9ms\n",
            "Speed: 0.5ms preprocess, 15.9ms inference, 0.9ms postprocess per image at shape (1, 3, 32, 640)\n",
            "\n",
            "image 1/1 /content/data/train/Ypktwvqjbn/Ypktwvqjbn_L_033.png: 32x640 (no detections), 12.1ms\n",
            "Speed: 1.9ms preprocess, 12.1ms inference, 0.8ms postprocess per image at shape (1, 3, 32, 640)\n"
          ]
        },
        {
          "output_type": "stream",
          "name": "stderr",
          "text": [
            "\r 89%|████████▉ | 344/386 [00:07<00:00, 44.37it/s]"
          ]
        },
        {
          "output_type": "stream",
          "name": "stdout",
          "text": [
            "\n",
            "image 1/1 /content/data/train/Toaefqwoli/Toaefqwoli_L_037.png: 32x640 (no detections), 14.4ms\n",
            "Speed: 0.5ms preprocess, 14.4ms inference, 0.8ms postprocess per image at shape (1, 3, 32, 640)\n",
            "\n",
            "image 1/1 /content/data/train/L5l1h3kekg/L5l1h3kekg_L_038.png: 32x640 (no detections), 12.4ms\n",
            "Speed: 0.6ms preprocess, 12.4ms inference, 1.0ms postprocess per image at shape (1, 3, 32, 640)\n",
            "\n",
            "image 1/1 /content/data/train/Puya1uaaln/Puya1uaaln_L_026.png: 32x640 (no detections), 12.7ms\n",
            "Speed: 0.5ms preprocess, 12.7ms inference, 1.0ms postprocess per image at shape (1, 3, 32, 640)\n",
            "\n",
            "image 1/1 /content/data/train/Zbjyzgqwtu/Zbjyzgqwtu_R_015.png: 32x640 (no detections), 11.0ms\n",
            "Speed: 0.5ms preprocess, 11.0ms inference, 0.7ms postprocess per image at shape (1, 3, 32, 640)\n",
            "\n",
            "image 1/1 /content/data/train/Zbjyzgqwtu/Zbjyzgqwtu_R_015.png: 32x640 (no detections), 11.6ms\n",
            "Speed: 0.7ms preprocess, 11.6ms inference, 0.8ms postprocess per image at shape (1, 3, 32, 640)\n"
          ]
        },
        {
          "output_type": "stream",
          "name": "stderr",
          "text": [
            "\r 90%|█████████ | 349/386 [00:07<00:00, 44.99it/s]"
          ]
        },
        {
          "output_type": "stream",
          "name": "stdout",
          "text": [
            "\n",
            "image 1/1 /content/data/train/Ph2ti2sjzu/Ph2ti2sjzu_L_022.png: 32x640 (no detections), 11.9ms\n",
            "Speed: 1.0ms preprocess, 11.9ms inference, 0.6ms postprocess per image at shape (1, 3, 32, 640)\n",
            "\n",
            "image 1/1 /content/data/train/Nrse2plksd/Nrse2plksd_R_025.png: 32x640 (no detections), 14.2ms\n",
            "Speed: 0.7ms preprocess, 14.2ms inference, 0.8ms postprocess per image at shape (1, 3, 32, 640)\n",
            "\n",
            "image 1/1 /content/data/train/Ot13d4nq6t/Ot13d4nq6t_L_041.png: 32x640 (no detections), 11.9ms\n",
            "Speed: 0.4ms preprocess, 11.9ms inference, 1.0ms postprocess per image at shape (1, 3, 32, 640)\n",
            "\n",
            "image 1/1 /content/data/train/Nrse2plksd/Nrse2plksd_R_025.png: 32x640 (no detections), 14.7ms\n",
            "Speed: 0.6ms preprocess, 14.7ms inference, 0.8ms postprocess per image at shape (1, 3, 32, 640)\n",
            "\n",
            "image 1/1 /content/data/train/Lnkljfdtgh/Lnkljfdtgh_R_023.png: 32x640 (no detections), 10.5ms\n",
            "Speed: 0.5ms preprocess, 10.5ms inference, 0.6ms postprocess per image at shape (1, 3, 32, 640)\n"
          ]
        },
        {
          "output_type": "stream",
          "name": "stderr",
          "text": [
            "\r 92%|█████████▏| 354/386 [00:08<00:00, 44.82it/s]"
          ]
        },
        {
          "output_type": "stream",
          "name": "stdout",
          "text": [
            "\n",
            "image 1/1 /content/data/train/Ah4ubi4ggi/Ah4ubi4ggi_R_027.png: 32x640 (no detections), 13.8ms\n",
            "Speed: 0.5ms preprocess, 13.8ms inference, 0.7ms postprocess per image at shape (1, 3, 32, 640)\n",
            "\n",
            "image 1/1 /content/data/train/Wgutyon8uu/Wgutyon8uu_R_023.png: 32x640 (no detections), 10.6ms\n",
            "Speed: 0.5ms preprocess, 10.6ms inference, 0.6ms postprocess per image at shape (1, 3, 32, 640)\n",
            "\n",
            "image 1/1 /content/data/train/Rzyf8hal4j/Rzyf8hal4j_R_038.png: 32x640 (no detections), 12.4ms\n",
            "Speed: 0.6ms preprocess, 12.4ms inference, 0.6ms postprocess per image at shape (1, 3, 32, 640)\n",
            "\n",
            "image 1/1 /content/data/train/Hzapvbcfm8/Hzapvbcfm8_L_019.png: 32x640 (no detections), 10.4ms\n",
            "Speed: 0.5ms preprocess, 10.4ms inference, 1.0ms postprocess per image at shape (1, 3, 32, 640)\n",
            "\n",
            "image 1/1 /content/data/train/V6awcupt6m/V6awcupt6m_R_028.png: 32x640 (no detections), 10.1ms\n",
            "Speed: 0.5ms preprocess, 10.1ms inference, 0.9ms postprocess per image at shape (1, 3, 32, 640)\n"
          ]
        },
        {
          "output_type": "stream",
          "name": "stderr",
          "text": [
            "\r 93%|█████████▎| 359/386 [00:08<00:00, 44.85it/s]"
          ]
        },
        {
          "output_type": "stream",
          "name": "stdout",
          "text": [
            "\n",
            "image 1/1 /content/data/train/Mylwjeq6tq/Mylwjeq6tq_L_028.png: 32x640 (no detections), 9.7ms\n",
            "Speed: 0.4ms preprocess, 9.7ms inference, 0.6ms postprocess per image at shape (1, 3, 32, 640)\n",
            "\n",
            "image 1/1 /content/data/train/Vinlgebupo/Vinlgebupo_L_023.png: 32x640 (no detections), 12.5ms\n",
            "Speed: 0.5ms preprocess, 12.5ms inference, 0.7ms postprocess per image at shape (1, 3, 32, 640)\n",
            "\n",
            "image 1/1 /content/data/train/Mpmvh2mgm3/Mpmvh2mgm3_R_024.png: 32x640 (no detections), 15.5ms\n",
            "Speed: 0.5ms preprocess, 15.5ms inference, 0.8ms postprocess per image at shape (1, 3, 32, 640)\n",
            "\n",
            "image 1/1 /content/data/train/Mrw7chmalv/Mrw7chmalv_R_030.png: 32x640 (no detections), 11.7ms\n",
            "Speed: 0.5ms preprocess, 11.7ms inference, 0.7ms postprocess per image at shape (1, 3, 32, 640)\n",
            "\n",
            "image 1/1 /content/data/train/F1p0lhe1ij/F1p0lhe1ij_R_030.png: 32x640 (no detections), 10.5ms\n",
            "Speed: 0.5ms preprocess, 10.5ms inference, 0.5ms postprocess per image at shape (1, 3, 32, 640)\n"
          ]
        },
        {
          "output_type": "stream",
          "name": "stderr",
          "text": [
            "\r 94%|█████████▍| 364/386 [00:08<00:00, 45.92it/s]"
          ]
        },
        {
          "output_type": "stream",
          "name": "stdout",
          "text": [
            "\n",
            "image 1/1 /content/data/train/P3om3dfa78/P3om3dfa78_R_021.png: 32x640 (no detections), 12.1ms\n",
            "Speed: 0.5ms preprocess, 12.1ms inference, 0.6ms postprocess per image at shape (1, 3, 32, 640)\n",
            "\n",
            "image 1/1 /content/data/train/Rzyf8hal4j/Rzyf8hal4j_L_032.png: 32x640 (no detections), 8.6ms\n",
            "Speed: 0.5ms preprocess, 8.6ms inference, 0.5ms postprocess per image at shape (1, 3, 32, 640)\n",
            "\n",
            "image 1/1 /content/data/train/Bb02c5k7wm/Bb02c5k7wm_L_022.png: 32x640 (no detections), 8.6ms\n",
            "Speed: 0.5ms preprocess, 8.6ms inference, 0.8ms postprocess per image at shape (1, 3, 32, 640)\n",
            "\n",
            "image 1/1 /content/data/train/Rxxe9bh6qn/Rxxe9bh6qn_L_031.png: 32x640 (no detections), 9.1ms\n",
            "Speed: 0.6ms preprocess, 9.1ms inference, 0.5ms postprocess per image at shape (1, 3, 32, 640)\n",
            "\n",
            "image 1/1 /content/data/train/Ummqfuetoc/Ummqfuetoc_L_025.png: 32x640 (no detections), 8.5ms\n",
            "Speed: 0.5ms preprocess, 8.5ms inference, 0.6ms postprocess per image at shape (1, 3, 32, 640)\n",
            "\n",
            "image 1/1 /content/data/train/Dhfwcg1uj2/Dhfwcg1uj2_R_020.png: 32x640 (no detections), 7.8ms\n",
            "Speed: 0.6ms preprocess, 7.8ms inference, 0.4ms postprocess per image at shape (1, 3, 32, 640)\n"
          ]
        },
        {
          "output_type": "stream",
          "name": "stderr",
          "text": [
            "\r 96%|█████████▌| 370/386 [00:08<00:00, 48.87it/s]"
          ]
        },
        {
          "output_type": "stream",
          "name": "stdout",
          "text": [
            "\n",
            "image 1/1 /content/data/train/Qinorm9cg3/Qinorm9cg3_L_016.png: 32x640 (no detections), 10.0ms\n",
            "Speed: 2.5ms preprocess, 10.0ms inference, 0.6ms postprocess per image at shape (1, 3, 32, 640)\n",
            "\n",
            "image 1/1 /content/data/train/Pucqtyga9u/Pucqtyga9u_R_037.png: 32x640 (no detections), 8.4ms\n",
            "Speed: 0.5ms preprocess, 8.4ms inference, 0.4ms postprocess per image at shape (1, 3, 32, 640)\n",
            "\n",
            "image 1/1 /content/data/train/S11rphogci/S11rphogci_L_020.png: 32x640 (no detections), 7.5ms\n",
            "Speed: 0.5ms preprocess, 7.5ms inference, 0.5ms postprocess per image at shape (1, 3, 32, 640)\n",
            "\n",
            "image 1/1 /content/data/train/Toaefqwoli/Toaefqwoli_L_037.png: 32x640 (no detections), 8.7ms\n",
            "Speed: 0.5ms preprocess, 8.7ms inference, 0.5ms postprocess per image at shape (1, 3, 32, 640)\n",
            "\n",
            "image 1/1 /content/data/train/Q4uyruus4j/Q4uyruus4j_L_033.png: 32x640 (no detections), 8.9ms\n",
            "Speed: 0.8ms preprocess, 8.9ms inference, 0.5ms postprocess per image at shape (1, 3, 32, 640)\n",
            "\n",
            "image 1/1 /content/data/train/Yznlv6wrsh/Yznlv6wrsh_L_030.png: 32x640 (no detections), 8.6ms\n",
            "Speed: 0.5ms preprocess, 8.6ms inference, 0.4ms postprocess per image at shape (1, 3, 32, 640)\n"
          ]
        },
        {
          "output_type": "stream",
          "name": "stderr",
          "text": [
            "\r 97%|█████████▋| 376/386 [00:08<00:00, 51.10it/s]"
          ]
        },
        {
          "output_type": "stream",
          "name": "stdout",
          "text": [
            "\n",
            "image 1/1 /content/data/train/Tbhppxjkvr/Tbhppxjkvr_R_016.png: 32x640 (no detections), 7.4ms\n",
            "Speed: 0.8ms preprocess, 7.4ms inference, 0.5ms postprocess per image at shape (1, 3, 32, 640)\n",
            "\n",
            "image 1/1 /content/data/train/Xdi1ipcemf/Xdi1ipcemf_L_021.png: 32x640 (no detections), 9.8ms\n",
            "Speed: 0.9ms preprocess, 9.8ms inference, 0.4ms postprocess per image at shape (1, 3, 32, 640)\n",
            "\n",
            "image 1/1 /content/data/train/L6qdyaff5q/L6qdyaff5q_L_026.png: 32x640 (no detections), 7.2ms\n",
            "Speed: 0.5ms preprocess, 7.2ms inference, 0.4ms postprocess per image at shape (1, 3, 32, 640)\n",
            "\n",
            "image 1/1 /content/data/train/Laspkqmflo/Laspkqmflo_L_033.png: 32x640 (no detections), 7.8ms\n",
            "Speed: 0.7ms preprocess, 7.8ms inference, 0.5ms postprocess per image at shape (1, 3, 32, 640)\n",
            "\n",
            "image 1/1 /content/data/train/Nrse2plksd/Nrse2plksd_L_019.png: 32x640 (no detections), 12.4ms\n",
            "Speed: 0.5ms preprocess, 12.4ms inference, 0.5ms postprocess per image at shape (1, 3, 32, 640)\n",
            "\n",
            "image 1/1 /content/data/train/Ntqusw7xpb/Ntqusw7xpb_L_019.png: 32x640 (no detections), 7.2ms\n",
            "Speed: 0.6ms preprocess, 7.2ms inference, 0.5ms postprocess per image at shape (1, 3, 32, 640)\n"
          ]
        },
        {
          "output_type": "stream",
          "name": "stderr",
          "text": [
            "\r 99%|█████████▉| 382/386 [00:08<00:00, 52.01it/s]"
          ]
        },
        {
          "output_type": "stream",
          "name": "stdout",
          "text": [
            "\n",
            "image 1/1 /content/data/train/Izbgyxre0g/Izbgyxre0g_R_022.png: 32x640 (no detections), 8.8ms\n",
            "Speed: 0.9ms preprocess, 8.8ms inference, 0.5ms postprocess per image at shape (1, 3, 32, 640)\n",
            "\n",
            "image 1/1 /content/data/train/Efaiye0hmy/Efaiye0hmy_R_020.png: 32x640 (no detections), 10.5ms\n",
            "Speed: 1.2ms preprocess, 10.5ms inference, 0.6ms postprocess per image at shape (1, 3, 32, 640)\n",
            "\n",
            "image 1/1 /content/data/train/Rzyf8hal4j/Rzyf8hal4j_R_038.png: 32x640 (no detections), 8.5ms\n",
            "Speed: 0.5ms preprocess, 8.5ms inference, 0.6ms postprocess per image at shape (1, 3, 32, 640)\n",
            "\n",
            "image 1/1 /content/data/train/Izbgyxre0g/Izbgyxre0g_R_022.png: 32x640 (no detections), 7.9ms\n",
            "Speed: 0.5ms preprocess, 7.9ms inference, 0.5ms postprocess per image at shape (1, 3, 32, 640)\n"
          ]
        },
        {
          "output_type": "stream",
          "name": "stderr",
          "text": [
            "\r100%|██████████| 386/386 [00:08<00:00, 44.81it/s]\n"
          ]
        },
        {
          "output_type": "stream",
          "name": "stdout",
          "text": [
            "Validation RMSE: 1.3679645003081706\n"
          ]
        }
      ]
    },
    {
      "cell_type": "code",
      "source": [
        "test_df = pd.read_csv(TEST_CSV)\n",
        "# Extract features from test data\n",
        "test_features = extract_features(test_df, TEST_IMG_DIR)\n",
        "test_data = test_df.merge(test_features, on=\"ID\")\n",
        "\n",
        "# Generate predictions\n",
        "test_data['RootVolume'] = model_reg.predict(test_data[['RootCount']])\n",
        "\n",
        "# Save submission\n",
        "submission = test_data[['ID', 'RootVolume']]\n",
        "submission.to_csv(\"submission.csv\", index=False)\n",
        "print(submission.head())\n",
        "print(\"Submission file saved as submission.csv\")\n"
      ],
      "metadata": {
        "colab": {
          "base_uri": "https://localhost:8080/"
        },
        "id": "6n9TmbZl6fL8",
        "outputId": "d09134af-44f0-435d-9565-39415ceab19a"
      },
      "execution_count": 26,
      "outputs": [
        {
          "output_type": "stream",
          "name": "stderr",
          "text": [
            "\r  0%|          | 0/130 [00:00<?, ?it/s]"
          ]
        },
        {
          "output_type": "stream",
          "name": "stdout",
          "text": [
            "\n",
            "image 1/1 /content/data/test/L5l1h3kekg/L5l1h3kekg_L_038.png: 32x640 (no detections), 11.0ms\n",
            "Speed: 0.7ms preprocess, 11.0ms inference, 0.8ms postprocess per image at shape (1, 3, 32, 640)\n",
            "\n",
            "image 1/1 /content/data/test/Wgutyon8uu/Wgutyon8uu_R_023.png: 32x640 (no detections), 6.5ms\n",
            "Speed: 0.4ms preprocess, 6.5ms inference, 0.6ms postprocess per image at shape (1, 3, 32, 640)\n",
            "\n",
            "image 1/1 /content/data/test/Mylwjeq6tq/Mylwjeq6tq_R_019.png: 32x640 (no detections), 7.1ms\n",
            "Speed: 2.4ms preprocess, 7.1ms inference, 0.5ms postprocess per image at shape (1, 3, 32, 640)\n",
            "\n",
            "image 1/1 /content/data/test/Pfp24vx905/Pfp24vx905_R_027.png: 32x640 (no detections), 6.4ms\n",
            "Speed: 0.3ms preprocess, 6.4ms inference, 0.5ms postprocess per image at shape (1, 3, 32, 640)\n",
            "\n",
            "image 1/1 /content/data/test/Mrw7chmalv/Mrw7chmalv_R_030.png: 32x640 (no detections), 8.0ms\n",
            "Speed: 0.8ms preprocess, 8.0ms inference, 0.5ms postprocess per image at shape (1, 3, 32, 640)\n",
            "\n",
            "image 1/1 /content/data/test/Lzkaccojep/Lzkaccojep_L_024.png: 32x640 (no detections), 6.5ms\n",
            "Speed: 0.5ms preprocess, 6.5ms inference, 0.5ms postprocess per image at shape (1, 3, 32, 640)\n",
            "\n",
            "image 1/1 /content/data/test/Mylwjeq6tq/Mylwjeq6tq_L_028.png: 32x640 (no detections), 6.4ms\n",
            "Speed: 2.2ms preprocess, 6.4ms inference, 0.5ms postprocess per image at shape (1, 3, 32, 640)\n"
          ]
        },
        {
          "output_type": "stream",
          "name": "stderr",
          "text": [
            "\r  5%|▌         | 7/130 [00:00<00:02, 61.10it/s]"
          ]
        },
        {
          "output_type": "stream",
          "name": "stdout",
          "text": [
            "\n",
            "image 1/1 /content/data/test/B5myqsh1wi/B5myqsh1wi_R_026.png: 32x640 (no detections), 6.1ms\n",
            "Speed: 3.1ms preprocess, 6.1ms inference, 0.5ms postprocess per image at shape (1, 3, 32, 640)\n",
            "\n",
            "image 1/1 /content/data/test/L5l1h3kekg/L5l1h3kekg_L_038.png: 32x640 (no detections), 8.6ms\n",
            "Speed: 0.5ms preprocess, 8.6ms inference, 0.4ms postprocess per image at shape (1, 3, 32, 640)\n",
            "\n",
            "image 1/1 /content/data/test/Nrse2plksd/Nrse2plksd_R_025.png: 32x640 (no detections), 8.6ms\n",
            "Speed: 0.5ms preprocess, 8.6ms inference, 0.5ms postprocess per image at shape (1, 3, 32, 640)\n",
            "\n",
            "image 1/1 /content/data/test/Oipmzygepq/Oipmzygepq_R_032.png: 32x640 (no detections), 6.7ms\n",
            "Speed: 1.5ms preprocess, 6.7ms inference, 0.5ms postprocess per image at shape (1, 3, 32, 640)\n",
            "\n",
            "image 1/1 /content/data/test/Hzapvbcfm8/Hzapvbcfm8_R_024.png: 32x640 (no detections), 6.4ms\n",
            "Speed: 1.4ms preprocess, 6.4ms inference, 0.5ms postprocess per image at shape (1, 3, 32, 640)\n",
            "\n",
            "image 1/1 /content/data/test/Bb02c5k7wm/Bb02c5k7wm_L_022.png: 32x640 (no detections), 7.0ms\n",
            "Speed: 2.3ms preprocess, 7.0ms inference, 0.5ms postprocess per image at shape (1, 3, 32, 640)\n",
            "\n",
            "image 1/1 /content/data/test/Vwjlghaocq/Vwjlghaocq_L_010.png: 32x640 (no detections), 7.1ms\n",
            "Speed: 1.4ms preprocess, 7.1ms inference, 0.6ms postprocess per image at shape (1, 3, 32, 640)\n"
          ]
        },
        {
          "output_type": "stream",
          "name": "stderr",
          "text": [
            "\r 11%|█         | 14/130 [00:00<00:01, 62.58it/s]"
          ]
        },
        {
          "output_type": "stream",
          "name": "stdout",
          "text": [
            "\n",
            "image 1/1 /content/data/test/Qinorm9cg3/Qinorm9cg3_L_016.png: 32x640 (no detections), 10.2ms\n",
            "Speed: 0.8ms preprocess, 10.2ms inference, 0.5ms postprocess per image at shape (1, 3, 32, 640)\n",
            "\n",
            "image 1/1 /content/data/test/Q4uyruus4j/Q4uyruus4j_R_027.png: 32x640 (no detections), 8.9ms\n",
            "Speed: 1.7ms preprocess, 8.9ms inference, 0.5ms postprocess per image at shape (1, 3, 32, 640)\n",
            "\n",
            "image 1/1 /content/data/test/Geksu5kuf3/Geksu5kuf3_R_035.png: 32x640 (no detections), 7.0ms\n",
            "Speed: 1.5ms preprocess, 7.0ms inference, 0.6ms postprocess per image at shape (1, 3, 32, 640)\n",
            "\n",
            "image 1/1 /content/data/test/Mskdmpitqk/Mskdmpitqk_R_027.png: 32x640 (no detections), 7.7ms\n",
            "Speed: 0.7ms preprocess, 7.7ms inference, 0.6ms postprocess per image at shape (1, 3, 32, 640)\n",
            "\n",
            "image 1/1 /content/data/test/B8x7mhxe6z/B8x7mhxe6z_L_023.png: 32x640 (no detections), 7.5ms\n",
            "Speed: 0.7ms preprocess, 7.5ms inference, 0.4ms postprocess per image at shape (1, 3, 32, 640)\n",
            "\n",
            "image 1/1 /content/data/test/Mylwjeq6tq/Mylwjeq6tq_R_019.png: 32x640 (no detections), 7.9ms\n",
            "Speed: 0.7ms preprocess, 7.9ms inference, 0.5ms postprocess per image at shape (1, 3, 32, 640)\n",
            "\n",
            "image 1/1 /content/data/test/Mrw7chmalv/Mrw7chmalv_L_018.png: 32x640 (no detections), 6.6ms\n",
            "Speed: 0.4ms preprocess, 6.6ms inference, 0.4ms postprocess per image at shape (1, 3, 32, 640)\n"
          ]
        },
        {
          "output_type": "stream",
          "name": "stderr",
          "text": [
            "\r 16%|█▌        | 21/130 [00:00<00:01, 61.83it/s]"
          ]
        },
        {
          "output_type": "stream",
          "name": "stdout",
          "text": [
            "\n",
            "image 1/1 /content/data/test/Yjzw2bylox/Yjzw2bylox_R_023.png: 32x640 (no detections), 9.5ms\n",
            "Speed: 0.4ms preprocess, 9.5ms inference, 0.5ms postprocess per image at shape (1, 3, 32, 640)\n",
            "\n",
            "image 1/1 /content/data/test/Izbgyxre0g/Izbgyxre0g_L_024.png: 32x640 (no detections), 6.9ms\n",
            "Speed: 0.5ms preprocess, 6.9ms inference, 0.5ms postprocess per image at shape (1, 3, 32, 640)\n",
            "\n",
            "image 1/1 /content/data/test/Qinorm9cg3/Qinorm9cg3_L_016.png: 32x640 (no detections), 7.9ms\n",
            "Speed: 0.5ms preprocess, 7.9ms inference, 0.5ms postprocess per image at shape (1, 3, 32, 640)\n",
            "\n",
            "image 1/1 /content/data/test/Ifqbqqrika/Ifqbqqrika_R_020.png: 32x640 (no detections), 9.1ms\n",
            "Speed: 1.6ms preprocess, 9.1ms inference, 0.5ms postprocess per image at shape (1, 3, 32, 640)\n",
            "\n",
            "image 1/1 /content/data/test/Sauopakhvn/Sauopakhvn_L_019.png: 32x640 (no detections), 7.3ms\n",
            "Speed: 0.6ms preprocess, 7.3ms inference, 0.6ms postprocess per image at shape (1, 3, 32, 640)\n",
            "\n",
            "image 1/1 /content/data/test/Qinorm9cg3/Qinorm9cg3_L_016.png: 32x640 (no detections), 7.3ms\n",
            "Speed: 0.5ms preprocess, 7.3ms inference, 0.5ms postprocess per image at shape (1, 3, 32, 640)\n",
            "\n",
            "image 1/1 /content/data/test/Qinorm9cg3/Qinorm9cg3_R_022.png: 32x640 (no detections), 7.1ms\n",
            "Speed: 2.8ms preprocess, 7.1ms inference, 0.5ms postprocess per image at shape (1, 3, 32, 640)\n"
          ]
        },
        {
          "output_type": "stream",
          "name": "stderr",
          "text": [
            "\r 22%|██▏       | 28/130 [00:00<00:01, 61.75it/s]"
          ]
        },
        {
          "output_type": "stream",
          "name": "stdout",
          "text": [
            "\n",
            "image 1/1 /content/data/test/Lwuwokuhrf/Lwuwokuhrf_R_015.png: 32x640 (no detections), 6.9ms\n",
            "Speed: 2.0ms preprocess, 6.9ms inference, 0.5ms postprocess per image at shape (1, 3, 32, 640)\n",
            "\n",
            "image 1/1 /content/data/test/Eotyv55rer/Eotyv55rer_L_016.png: 32x640 (no detections), 7.0ms\n",
            "Speed: 0.3ms preprocess, 7.0ms inference, 0.5ms postprocess per image at shape (1, 3, 32, 640)\n",
            "\n",
            "image 1/1 /content/data/test/Ubgsvkns3h/Ubgsvkns3h_R_017.png: 32x640 (no detections), 6.8ms\n",
            "Speed: 1.8ms preprocess, 6.8ms inference, 0.5ms postprocess per image at shape (1, 3, 32, 640)\n",
            "\n",
            "image 1/1 /content/data/test/Pctl4tyb9l/Pctl4tyb9l_L_046.png: 32x640 (no detections), 6.9ms\n",
            "Speed: 0.3ms preprocess, 6.9ms inference, 0.5ms postprocess per image at shape (1, 3, 32, 640)\n",
            "\n",
            "image 1/1 /content/data/test/Lsdgz02kdp/Lsdgz02kdp_R_017.png: 32x640 (no detections), 9.2ms\n",
            "Speed: 0.5ms preprocess, 9.2ms inference, 0.5ms postprocess per image at shape (1, 3, 32, 640)\n",
            "\n",
            "image 1/1 /content/data/test/Puya1uaaln/Puya1uaaln_R_016.png: 32x640 (no detections), 9.3ms\n",
            "Speed: 0.5ms preprocess, 9.3ms inference, 0.5ms postprocess per image at shape (1, 3, 32, 640)\n",
            "\n",
            "image 1/1 /content/data/test/Dz9lpsl9ae/Dz9lpsl9ae_R_045.png: 32x640 (no detections), 10.3ms\n",
            "Speed: 0.4ms preprocess, 10.3ms inference, 0.5ms postprocess per image at shape (1, 3, 32, 640)\n"
          ]
        },
        {
          "output_type": "stream",
          "name": "stderr",
          "text": [
            "\r 27%|██▋       | 35/130 [00:00<00:01, 61.82it/s]"
          ]
        },
        {
          "output_type": "stream",
          "name": "stdout",
          "text": [
            "\n",
            "image 1/1 /content/data/test/Mrw7chmalv/Mrw7chmalv_R_030.png: 32x640 (no detections), 6.5ms\n",
            "Speed: 1.7ms preprocess, 6.5ms inference, 0.6ms postprocess per image at shape (1, 3, 32, 640)\n",
            "\n",
            "image 1/1 /content/data/test/Hc3b9gicdo/Hc3b9gicdo_L_037.png: 32x640 (no detections), 6.5ms\n",
            "Speed: 0.8ms preprocess, 6.5ms inference, 0.5ms postprocess per image at shape (1, 3, 32, 640)\n",
            "\n",
            "image 1/1 /content/data/test/Nrse2plksd/Nrse2plksd_R_025.png: 32x640 (no detections), 7.1ms\n",
            "Speed: 1.6ms preprocess, 7.1ms inference, 0.5ms postprocess per image at shape (1, 3, 32, 640)\n",
            "\n",
            "image 1/1 /content/data/test/Mylwjeq6tq/Mylwjeq6tq_L_028.png: 32x640 (no detections), 6.7ms\n",
            "Speed: 0.5ms preprocess, 6.7ms inference, 0.4ms postprocess per image at shape (1, 3, 32, 640)\n",
            "\n",
            "image 1/1 /content/data/test/Mylwjeq6tq/Mylwjeq6tq_R_019.png: 32x640 (no detections), 9.0ms\n",
            "Speed: 0.4ms preprocess, 9.0ms inference, 0.5ms postprocess per image at shape (1, 3, 32, 640)\n",
            "\n",
            "image 1/1 /content/data/test/Sauopakhvn/Sauopakhvn_L_019.png: 32x640 (no detections), 7.6ms\n",
            "Speed: 1.8ms preprocess, 7.6ms inference, 0.6ms postprocess per image at shape (1, 3, 32, 640)\n",
            "\n",
            "image 1/1 /content/data/test/F5lrpuuq8q/F5lrpuuq8q_R_023.png: 32x640 (no detections), 7.0ms\n",
            "Speed: 0.3ms preprocess, 7.0ms inference, 0.6ms postprocess per image at shape (1, 3, 32, 640)\n"
          ]
        },
        {
          "output_type": "stream",
          "name": "stderr",
          "text": [
            "\r 32%|███▏      | 42/130 [00:00<00:01, 62.24it/s]"
          ]
        },
        {
          "output_type": "stream",
          "name": "stdout",
          "text": [
            "\n",
            "image 1/1 /content/data/test/L8w7zu7wek/L8w7zu7wek_R_027.png: 32x640 (no detections), 7.0ms\n",
            "Speed: 1.9ms preprocess, 7.0ms inference, 0.5ms postprocess per image at shape (1, 3, 32, 640)\n",
            "\n",
            "image 1/1 /content/data/test/Puya1uaaln/Puya1uaaln_L_026.png: 32x640 (no detections), 6.8ms\n",
            "Speed: 0.6ms preprocess, 6.8ms inference, 0.5ms postprocess per image at shape (1, 3, 32, 640)\n",
            "\n",
            "image 1/1 /content/data/test/Yjzw2bylox/Yjzw2bylox_L_025.png: 32x640 (no detections), 8.0ms\n",
            "Speed: 0.8ms preprocess, 8.0ms inference, 0.5ms postprocess per image at shape (1, 3, 32, 640)\n",
            "\n",
            "image 1/1 /content/data/test/Vbkivqphuz/Vbkivqphuz_R_030.png: 32x640 (no detections), 7.6ms\n",
            "Speed: 0.5ms preprocess, 7.6ms inference, 0.5ms postprocess per image at shape (1, 3, 32, 640)\n",
            "\n",
            "image 1/1 /content/data/test/L6qdyaff5q/L6qdyaff5q_L_026.png: 32x640 (no detections), 9.1ms\n",
            "Speed: 0.6ms preprocess, 9.1ms inference, 0.5ms postprocess per image at shape (1, 3, 32, 640)\n",
            "\n",
            "image 1/1 /content/data/test/L5l1h3kekg/L5l1h3kekg_R_040.png: 32x640 (no detections), 7.3ms\n",
            "Speed: 0.3ms preprocess, 7.3ms inference, 0.5ms postprocess per image at shape (1, 3, 32, 640)\n",
            "\n",
            "image 1/1 /content/data/test/Ox18ob0syv/Ox18ob0syv_R_021.png: 32x640 (no detections), 12.7ms\n",
            "Speed: 0.7ms preprocess, 12.7ms inference, 0.8ms postprocess per image at shape (1, 3, 32, 640)\n"
          ]
        },
        {
          "output_type": "stream",
          "name": "stderr",
          "text": [
            "\r 38%|███▊      | 49/130 [00:00<00:01, 61.18it/s]"
          ]
        },
        {
          "output_type": "stream",
          "name": "stdout",
          "text": [
            "\n",
            "image 1/1 /content/data/test/Mrw7chmalv/Mrw7chmalv_L_018.png: 32x640 (no detections), 14.6ms\n",
            "Speed: 0.5ms preprocess, 14.6ms inference, 0.7ms postprocess per image at shape (1, 3, 32, 640)\n",
            "\n",
            "image 1/1 /content/data/test/Jtcfkuovxk/Jtcfkuovxk_R_028.png: 32x640 (no detections), 9.0ms\n",
            "Speed: 0.8ms preprocess, 9.0ms inference, 0.6ms postprocess per image at shape (1, 3, 32, 640)\n",
            "\n",
            "image 1/1 /content/data/test/Mylwjeq6tq/Mylwjeq6tq_R_019.png: 32x640 (no detections), 9.7ms\n",
            "Speed: 0.6ms preprocess, 9.7ms inference, 0.6ms postprocess per image at shape (1, 3, 32, 640)\n",
            "\n",
            "image 1/1 /content/data/test/Lzkaccojep/Lzkaccojep_R_016.png: 32x640 (no detections), 8.7ms\n",
            "Speed: 0.4ms preprocess, 8.7ms inference, 0.5ms postprocess per image at shape (1, 3, 32, 640)\n",
            "\n",
            "image 1/1 /content/data/test/Pucqtyga9u/Pucqtyga9u_L_030.png: 32x640 (no detections), 10.2ms\n",
            "Speed: 0.6ms preprocess, 10.2ms inference, 0.6ms postprocess per image at shape (1, 3, 32, 640)\n",
            "\n",
            "image 1/1 /content/data/test/Izbgyxre0g/Izbgyxre0g_R_022.png: 32x640 (no detections), 8.6ms\n",
            "Speed: 1.0ms preprocess, 8.6ms inference, 0.7ms postprocess per image at shape (1, 3, 32, 640)\n",
            "\n",
            "image 1/1 /content/data/test/Me1ufzzcxk/Me1ufzzcxk_R_023.png: 32x640 (no detections), 9.6ms\n",
            "Speed: 0.4ms preprocess, 9.6ms inference, 0.6ms postprocess per image at shape (1, 3, 32, 640)\n"
          ]
        },
        {
          "output_type": "stream",
          "name": "stderr",
          "text": [
            "\r 43%|████▎     | 56/130 [00:00<00:01, 57.86it/s]"
          ]
        },
        {
          "output_type": "stream",
          "name": "stdout",
          "text": [
            "\n",
            "image 1/1 /content/data/test/V6awcupt6m/V6awcupt6m_L_034.png: 32x640 (no detections), 12.1ms\n",
            "Speed: 0.4ms preprocess, 12.1ms inference, 0.9ms postprocess per image at shape (1, 3, 32, 640)\n",
            "\n",
            "image 1/1 /content/data/test/A6dzrkjqvl/A6dzrkjqvl_L_033.png: 32x640 (no detections), 18.2ms\n",
            "Speed: 0.5ms preprocess, 18.2ms inference, 0.8ms postprocess per image at shape (1, 3, 32, 640)\n",
            "\n",
            "image 1/1 /content/data/test/Mpmvh2mgm3/Mpmvh2mgm3_L_032.png: 32x640 (no detections), 9.8ms\n",
            "Speed: 0.5ms preprocess, 9.8ms inference, 0.7ms postprocess per image at shape (1, 3, 32, 640)\n",
            "\n",
            "image 1/1 /content/data/test/Mskdmpitqk/Mskdmpitqk_L_021.png: 32x640 (no detections), 10.9ms\n",
            "Speed: 0.5ms preprocess, 10.9ms inference, 0.5ms postprocess per image at shape (1, 3, 32, 640)\n",
            "\n",
            "image 1/1 /content/data/test/Vbkivqphuz/Vbkivqphuz_L_020.png: 32x640 (no detections), 9.3ms\n",
            "Speed: 0.5ms preprocess, 9.3ms inference, 0.6ms postprocess per image at shape (1, 3, 32, 640)\n",
            "\n",
            "image 1/1 /content/data/test/Kcqzgef5an/Kcqzgef5an_L_018.png: 32x640 (no detections), 10.1ms\n",
            "Speed: 0.6ms preprocess, 10.1ms inference, 0.8ms postprocess per image at shape (1, 3, 32, 640)\n"
          ]
        },
        {
          "output_type": "stream",
          "name": "stderr",
          "text": [
            "\r 48%|████▊     | 62/130 [00:01<00:01, 53.70it/s]"
          ]
        },
        {
          "output_type": "stream",
          "name": "stdout",
          "text": [
            "\n",
            "image 1/1 /content/data/test/Qinorm9cg3/Qinorm9cg3_R_022.png: 32x640 (no detections), 10.8ms\n",
            "Speed: 0.6ms preprocess, 10.8ms inference, 0.8ms postprocess per image at shape (1, 3, 32, 640)\n",
            "\n",
            "image 1/1 /content/data/test/Bb02c5k7wm/Bb02c5k7wm_L_022.png: 32x640 (no detections), 9.4ms\n",
            "Speed: 0.5ms preprocess, 9.4ms inference, 0.6ms postprocess per image at shape (1, 3, 32, 640)\n",
            "\n",
            "image 1/1 /content/data/test/Ifqbqqrika/Ifqbqqrika_L_026.png: 32x640 (no detections), 11.4ms\n",
            "Speed: 1.8ms preprocess, 11.4ms inference, 0.5ms postprocess per image at shape (1, 3, 32, 640)\n",
            "\n",
            "image 1/1 /content/data/test/Jrem9eo37e/Jrem9eo37e_R_023.png: 32x640 (no detections), 9.2ms\n",
            "Speed: 0.6ms preprocess, 9.2ms inference, 0.9ms postprocess per image at shape (1, 3, 32, 640)\n",
            "\n",
            "image 1/1 /content/data/test/Hqcekwpxgu/Hqcekwpxgu_R_030.png: 32x640 (no detections), 9.8ms\n",
            "Speed: 0.6ms preprocess, 9.8ms inference, 0.9ms postprocess per image at shape (1, 3, 32, 640)\n",
            "\n",
            "image 1/1 /content/data/test/Yjzw2bylox/Yjzw2bylox_R_023.png: 32x640 (no detections), 9.7ms\n",
            "Speed: 1.2ms preprocess, 9.7ms inference, 0.6ms postprocess per image at shape (1, 3, 32, 640)\n"
          ]
        },
        {
          "output_type": "stream",
          "name": "stderr",
          "text": [
            "\r 52%|█████▏    | 68/130 [00:01<00:01, 52.48it/s]"
          ]
        },
        {
          "output_type": "stream",
          "name": "stdout",
          "text": [
            "\n",
            "image 1/1 /content/data/test/Q4uyruus4j/Q4uyruus4j_L_033.png: 32x640 (no detections), 10.9ms\n",
            "Speed: 0.5ms preprocess, 10.9ms inference, 0.7ms postprocess per image at shape (1, 3, 32, 640)\n",
            "\n",
            "image 1/1 /content/data/test/H9lomh5fxk/H9lomh5fxk_L_040.png: 32x640 (no detections), 10.1ms\n",
            "Speed: 0.6ms preprocess, 10.1ms inference, 0.8ms postprocess per image at shape (1, 3, 32, 640)\n",
            "\n",
            "image 1/1 /content/data/test/Mskdmpitqk/Mskdmpitqk_L_021.png: 32x640 (no detections), 9.4ms\n",
            "Speed: 0.3ms preprocess, 9.4ms inference, 0.7ms postprocess per image at shape (1, 3, 32, 640)\n",
            "\n",
            "image 1/1 /content/data/test/Mpmvh2mgm3/Mpmvh2mgm3_R_024.png: 32x640 (no detections), 9.0ms\n",
            "Speed: 0.5ms preprocess, 9.0ms inference, 0.6ms postprocess per image at shape (1, 3, 32, 640)\n",
            "\n",
            "image 1/1 /content/data/test/Ecxdebmlnr/Ecxdebmlnr_R_025.png: 32x640 (no detections), 10.9ms\n",
            "Speed: 0.5ms preprocess, 10.9ms inference, 0.7ms postprocess per image at shape (1, 3, 32, 640)\n",
            "\n",
            "image 1/1 /content/data/test/E1rmdjjang/E1rmdjjang_L_008.png: 32x640 (no detections), 9.8ms\n",
            "Speed: 0.5ms preprocess, 9.8ms inference, 0.6ms postprocess per image at shape (1, 3, 32, 640)\n"
          ]
        },
        {
          "output_type": "stream",
          "name": "stderr",
          "text": [
            "\r 57%|█████▋    | 74/130 [00:01<00:01, 52.20it/s]"
          ]
        },
        {
          "output_type": "stream",
          "name": "stdout",
          "text": [
            "\n",
            "image 1/1 /content/data/test/Qinorm9cg3/Qinorm9cg3_R_022.png: 32x640 (no detections), 10.9ms\n",
            "Speed: 0.5ms preprocess, 10.9ms inference, 0.6ms postprocess per image at shape (1, 3, 32, 640)\n",
            "\n",
            "image 1/1 /content/data/test/Q91mym9ev4/Q91mym9ev4_R_022.png: 32x640 (no detections), 8.8ms\n",
            "Speed: 2.8ms preprocess, 8.8ms inference, 0.6ms postprocess per image at shape (1, 3, 32, 640)\n",
            "\n",
            "image 1/1 /content/data/test/Cex3glsnzv/Cex3glsnzv_L_040.png: 32x640 (no detections), 10.8ms\n",
            "Speed: 1.0ms preprocess, 10.8ms inference, 0.6ms postprocess per image at shape (1, 3, 32, 640)\n",
            "\n",
            "image 1/1 /content/data/test/Lzkaccojep/Lzkaccojep_R_016.png: 32x640 (no detections), 12.2ms\n",
            "Speed: 0.5ms preprocess, 12.2ms inference, 0.8ms postprocess per image at shape (1, 3, 32, 640)\n",
            "\n",
            "image 1/1 /content/data/test/Vwsx0beaxb/Vwsx0beaxb_R_019.png: 32x640 (no detections), 9.8ms\n",
            "Speed: 0.6ms preprocess, 9.8ms inference, 0.6ms postprocess per image at shape (1, 3, 32, 640)\n",
            "\n",
            "image 1/1 /content/data/test/Qhqftdiz4q/Qhqftdiz4q_R_049.png: 32x640 (no detections), 10.9ms\n",
            "Speed: 0.6ms preprocess, 10.9ms inference, 0.7ms postprocess per image at shape (1, 3, 32, 640)\n"
          ]
        },
        {
          "output_type": "stream",
          "name": "stderr",
          "text": [
            "\r 62%|██████▏   | 80/130 [00:01<00:00, 51.16it/s]"
          ]
        },
        {
          "output_type": "stream",
          "name": "stdout",
          "text": [
            "\n",
            "image 1/1 /content/data/test/Vlcavd4dwj/Vlcavd4dwj_L_034.png: 32x640 (no detections), 13.5ms\n",
            "Speed: 0.5ms preprocess, 13.5ms inference, 1.0ms postprocess per image at shape (1, 3, 32, 640)\n",
            "\n",
            "image 1/1 /content/data/test/Vlqr6qhbqk/Vlqr6qhbqk_L_048.png: 32x640 (no detections), 11.2ms\n",
            "Speed: 0.5ms preprocess, 11.2ms inference, 0.8ms postprocess per image at shape (1, 3, 32, 640)\n",
            "\n",
            "image 1/1 /content/data/test/Klhqlr0ako/Klhqlr0ako_L_038.png: 32x640 (no detections), 11.7ms\n",
            "Speed: 0.6ms preprocess, 11.7ms inference, 0.6ms postprocess per image at shape (1, 3, 32, 640)\n",
            "\n",
            "image 1/1 /content/data/test/Q91mym9ev4/Q91mym9ev4_L_022.png: 32x640 (no detections), 10.0ms\n",
            "Speed: 0.5ms preprocess, 10.0ms inference, 0.6ms postprocess per image at shape (1, 3, 32, 640)\n",
            "\n",
            "image 1/1 /content/data/test/Qhqftdiz4q/Qhqftdiz4q_R_049.png: 32x640 (no detections), 12.1ms\n",
            "Speed: 0.5ms preprocess, 12.1ms inference, 0.7ms postprocess per image at shape (1, 3, 32, 640)\n",
            "\n",
            "image 1/1 /content/data/test/V6awcupt6m/V6awcupt6m_R_028.png: 32x640 (no detections), 10.6ms\n",
            "Speed: 0.4ms preprocess, 10.6ms inference, 0.6ms postprocess per image at shape (1, 3, 32, 640)\n"
          ]
        },
        {
          "output_type": "stream",
          "name": "stderr",
          "text": [
            "\r 66%|██████▌   | 86/130 [00:01<00:00, 50.19it/s]"
          ]
        },
        {
          "output_type": "stream",
          "name": "stdout",
          "text": [
            "\n",
            "image 1/1 /content/data/test/Yjzw2bylox/Yjzw2bylox_L_025.png: 32x640 (no detections), 10.5ms\n",
            "Speed: 1.0ms preprocess, 10.5ms inference, 0.7ms postprocess per image at shape (1, 3, 32, 640)\n",
            "\n",
            "image 1/1 /content/data/test/S11rphogci/S11rphogci_R_025.png: 32x640 (no detections), 10.1ms\n",
            "Speed: 0.8ms preprocess, 10.1ms inference, 0.8ms postprocess per image at shape (1, 3, 32, 640)\n",
            "\n",
            "image 1/1 /content/data/test/Jrem9eo37e/Jrem9eo37e_L_029.png: 32x640 (no detections), 11.1ms\n",
            "Speed: 0.5ms preprocess, 11.1ms inference, 0.9ms postprocess per image at shape (1, 3, 32, 640)\n",
            "\n",
            "image 1/1 /content/data/test/Dhfwcg1uj2/Dhfwcg1uj2_R_020.png: 32x640 (no detections), 10.2ms\n",
            "Speed: 0.5ms preprocess, 10.2ms inference, 0.6ms postprocess per image at shape (1, 3, 32, 640)\n",
            "\n",
            "image 1/1 /content/data/test/L6qdyaff5q/L6qdyaff5q_L_026.png: 32x640 (no detections), 9.5ms\n",
            "Speed: 0.5ms preprocess, 9.5ms inference, 0.5ms postprocess per image at shape (1, 3, 32, 640)\n",
            "\n",
            "image 1/1 /content/data/test/L5l1h3kekg/L5l1h3kekg_R_040.png: 32x640 (no detections), 9.2ms\n",
            "Speed: 0.7ms preprocess, 9.2ms inference, 0.6ms postprocess per image at shape (1, 3, 32, 640)\n"
          ]
        },
        {
          "output_type": "stream",
          "name": "stderr",
          "text": [
            "\r 71%|███████   | 92/130 [00:01<00:00, 50.69it/s]"
          ]
        },
        {
          "output_type": "stream",
          "name": "stdout",
          "text": [
            "\n",
            "image 1/1 /content/data/test/Q91mym9ev4/Q91mym9ev4_R_022.png: 32x640 (no detections), 11.0ms\n",
            "Speed: 0.5ms preprocess, 11.0ms inference, 0.9ms postprocess per image at shape (1, 3, 32, 640)\n",
            "\n",
            "image 1/1 /content/data/test/Pctl4tyb9l/Pctl4tyb9l_L_046.png: 32x640 (no detections), 11.4ms\n",
            "Speed: 0.8ms preprocess, 11.4ms inference, 0.9ms postprocess per image at shape (1, 3, 32, 640)\n",
            "\n",
            "image 1/1 /content/data/test/S11rphogci/S11rphogci_L_020.png: 32x640 (no detections), 10.8ms\n",
            "Speed: 0.6ms preprocess, 10.8ms inference, 0.6ms postprocess per image at shape (1, 3, 32, 640)\n",
            "\n",
            "image 1/1 /content/data/test/Lwuwokuhrf/Lwuwokuhrf_R_015.png: 32x640 (no detections), 8.9ms\n",
            "Speed: 0.5ms preprocess, 8.9ms inference, 0.6ms postprocess per image at shape (1, 3, 32, 640)\n",
            "\n",
            "image 1/1 /content/data/test/Vlqr6qhbqk/Vlqr6qhbqk_R_032.png: 32x640 (no detections), 10.2ms\n",
            "Speed: 2.1ms preprocess, 10.2ms inference, 0.6ms postprocess per image at shape (1, 3, 32, 640)\n",
            "\n",
            "image 1/1 /content/data/test/S6lk1xauct/S6lk1xauct_R_024.png: 32x640 (no detections), 9.8ms\n",
            "Speed: 0.6ms preprocess, 9.8ms inference, 0.6ms postprocess per image at shape (1, 3, 32, 640)\n"
          ]
        },
        {
          "output_type": "stream",
          "name": "stderr",
          "text": [
            "\r 75%|███████▌  | 98/130 [00:01<00:00, 50.08it/s]"
          ]
        },
        {
          "output_type": "stream",
          "name": "stdout",
          "text": [
            "\n",
            "image 1/1 /content/data/test/Jrem9eo37e/Jrem9eo37e_L_029.png: 32x640 (no detections), 16.9ms\n",
            "Speed: 0.8ms preprocess, 16.9ms inference, 1.0ms postprocess per image at shape (1, 3, 32, 640)\n",
            "\n",
            "image 1/1 /content/data/test/Lwuwokuhrf/Lwuwokuhrf_L_025.png: 32x640 (no detections), 13.4ms\n",
            "Speed: 0.5ms preprocess, 13.4ms inference, 0.8ms postprocess per image at shape (1, 3, 32, 640)\n",
            "\n",
            "image 1/1 /content/data/test/S6lk1xauct/S6lk1xauct_L_028.png: 32x640 (no detections), 15.0ms\n",
            "Speed: 0.6ms preprocess, 15.0ms inference, 1.8ms postprocess per image at shape (1, 3, 32, 640)\n",
            "\n",
            "image 1/1 /content/data/test/Ubgsvkns3h/Ubgsvkns3h_R_017.png: 32x640 (no detections), 14.9ms\n",
            "Speed: 0.6ms preprocess, 14.9ms inference, 0.8ms postprocess per image at shape (1, 3, 32, 640)\n",
            "\n",
            "image 1/1 /content/data/test/A6dzrkjqvl/A6dzrkjqvl_L_033.png: 32x640 (no detections), 8.6ms\n",
            "Speed: 0.6ms preprocess, 8.6ms inference, 0.9ms postprocess per image at shape (1, 3, 32, 640)\n",
            "\n",
            "image 1/1 /content/data/test/Q91mym9ev4/Q91mym9ev4_L_022.png: 32x640 (no detections), 10.9ms\n",
            "Speed: 0.7ms preprocess, 10.9ms inference, 0.6ms postprocess per image at shape (1, 3, 32, 640)\n"
          ]
        },
        {
          "output_type": "stream",
          "name": "stderr",
          "text": [
            "\r 80%|████████  | 104/130 [00:01<00:00, 47.27it/s]"
          ]
        },
        {
          "output_type": "stream",
          "name": "stdout",
          "text": [
            "\n",
            "image 1/1 /content/data/test/B8x7mhxe6z/B8x7mhxe6z_R_020.png: 32x640 (no detections), 11.6ms\n",
            "Speed: 0.5ms preprocess, 11.6ms inference, 0.7ms postprocess per image at shape (1, 3, 32, 640)\n",
            "\n",
            "image 1/1 /content/data/test/Vbkivqphuz/Vbkivqphuz_L_020.png: 32x640 (no detections), 10.0ms\n",
            "Speed: 0.5ms preprocess, 10.0ms inference, 0.6ms postprocess per image at shape (1, 3, 32, 640)\n",
            "\n",
            "image 1/1 /content/data/test/Yxmmb4wt55/Yxmmb4wt55_R_017.png: 32x640 (no detections), 9.9ms\n",
            "Speed: 0.5ms preprocess, 9.9ms inference, 0.9ms postprocess per image at shape (1, 3, 32, 640)\n",
            "\n",
            "image 1/1 /content/data/test/Vlqr6qhbqk/Vlqr6qhbqk_R_032.png: 32x640 (no detections), 18.8ms\n",
            "Speed: 0.5ms preprocess, 18.8ms inference, 0.9ms postprocess per image at shape (1, 3, 32, 640)\n",
            "\n",
            "image 1/1 /content/data/test/Ummqfuetoc/Ummqfuetoc_L_025.png: 32x640 (no detections), 11.0ms\n",
            "Speed: 0.5ms preprocess, 11.0ms inference, 0.7ms postprocess per image at shape (1, 3, 32, 640)\n"
          ]
        },
        {
          "output_type": "stream",
          "name": "stderr",
          "text": [
            "\r 84%|████████▍ | 109/130 [00:02<00:00, 46.09it/s]"
          ]
        },
        {
          "output_type": "stream",
          "name": "stdout",
          "text": [
            "\n",
            "image 1/1 /content/data/test/R9jmsmugc0/R9jmsmugc0_L_017.png: 32x640 (no detections), 11.7ms\n",
            "Speed: 0.5ms preprocess, 11.7ms inference, 0.6ms postprocess per image at shape (1, 3, 32, 640)\n",
            "\n",
            "image 1/1 /content/data/test/Qhqftdiz4q/Qhqftdiz4q_L_028.png: 32x640 (no detections), 9.7ms\n",
            "Speed: 0.6ms preprocess, 9.7ms inference, 0.8ms postprocess per image at shape (1, 3, 32, 640)\n",
            "\n",
            "image 1/1 /content/data/test/Lsdgz02kdp/Lsdgz02kdp_L_029.png: 32x640 (no detections), 10.0ms\n",
            "Speed: 0.7ms preprocess, 10.0ms inference, 0.5ms postprocess per image at shape (1, 3, 32, 640)\n",
            "\n",
            "image 1/1 /content/data/test/Yvlyjpumzl/Yvlyjpumzl_L_008.png: 32x640 (no detections), 10.4ms\n",
            "Speed: 0.5ms preprocess, 10.4ms inference, 0.6ms postprocess per image at shape (1, 3, 32, 640)\n",
            "\n",
            "image 1/1 /content/data/test/Ah4ubi4ggi/Ah4ubi4ggi_R_027.png: 32x640 (no detections), 11.1ms\n",
            "Speed: 0.6ms preprocess, 11.1ms inference, 0.7ms postprocess per image at shape (1, 3, 32, 640)\n"
          ]
        },
        {
          "output_type": "stream",
          "name": "stderr",
          "text": [
            "\r 88%|████████▊ | 114/130 [00:02<00:00, 46.94it/s]"
          ]
        },
        {
          "output_type": "stream",
          "name": "stdout",
          "text": [
            "\n",
            "image 1/1 /content/data/test/Ubgsvkns3h/Ubgsvkns3h_L_033.png: 32x640 (no detections), 18.0ms\n",
            "Speed: 0.7ms preprocess, 18.0ms inference, 0.7ms postprocess per image at shape (1, 3, 32, 640)\n",
            "\n",
            "image 1/1 /content/data/test/Dz9lpsl9ae/Dz9lpsl9ae_L_037.png: 32x640 (no detections), 11.1ms\n",
            "Speed: 0.6ms preprocess, 11.1ms inference, 0.9ms postprocess per image at shape (1, 3, 32, 640)\n",
            "\n",
            "image 1/1 /content/data/test/L5l1h3kekg/L5l1h3kekg_L_038.png: 32x640 (no detections), 10.5ms\n",
            "Speed: 0.6ms preprocess, 10.5ms inference, 0.8ms postprocess per image at shape (1, 3, 32, 640)\n",
            "\n",
            "image 1/1 /content/data/test/Lnkljfdtgh/Lnkljfdtgh_R_023.png: 32x640 (no detections), 11.4ms\n",
            "Speed: 1.1ms preprocess, 11.4ms inference, 0.6ms postprocess per image at shape (1, 3, 32, 640)\n",
            "\n",
            "image 1/1 /content/data/test/Lzkaccojep/Lzkaccojep_L_024.png: 32x640 (no detections), 14.0ms\n",
            "Speed: 1.2ms preprocess, 14.0ms inference, 0.8ms postprocess per image at shape (1, 3, 32, 640)\n"
          ]
        },
        {
          "output_type": "stream",
          "name": "stderr",
          "text": [
            "\r 92%|█████████▏| 119/130 [00:02<00:00, 46.00it/s]"
          ]
        },
        {
          "output_type": "stream",
          "name": "stdout",
          "text": [
            "\n",
            "image 1/1 /content/data/test/Ox18ob0syv/Ox18ob0syv_L_025.png: 32x640 (no detections), 10.2ms\n",
            "Speed: 1.4ms preprocess, 10.2ms inference, 0.8ms postprocess per image at shape (1, 3, 32, 640)\n",
            "\n",
            "image 1/1 /content/data/test/Cex3glsnzv/Cex3glsnzv_L_040.png: 32x640 (no detections), 10.2ms\n",
            "Speed: 0.9ms preprocess, 10.2ms inference, 0.7ms postprocess per image at shape (1, 3, 32, 640)\n",
            "\n",
            "image 1/1 /content/data/test/Nrse2plksd/Nrse2plksd_L_019.png: 32x640 (no detections), 13.7ms\n",
            "Speed: 0.7ms preprocess, 13.7ms inference, 0.6ms postprocess per image at shape (1, 3, 32, 640)\n",
            "\n",
            "image 1/1 /content/data/test/Geksu5kuf3/Geksu5kuf3_R_035.png: 32x640 (no detections), 10.7ms\n",
            "Speed: 0.7ms preprocess, 10.7ms inference, 0.7ms postprocess per image at shape (1, 3, 32, 640)\n",
            "\n",
            "image 1/1 /content/data/test/Wgutyon8uu/Wgutyon8uu_L_018.png: 32x640 (no detections), 11.1ms\n",
            "Speed: 0.5ms preprocess, 11.1ms inference, 0.9ms postprocess per image at shape (1, 3, 32, 640)\n"
          ]
        },
        {
          "output_type": "stream",
          "name": "stderr",
          "text": [
            "\r 95%|█████████▌| 124/130 [00:02<00:00, 46.11it/s]"
          ]
        },
        {
          "output_type": "stream",
          "name": "stdout",
          "text": [
            "\n",
            "image 1/1 /content/data/test/Ox18ob0syv/Ox18ob0syv_L_025.png: 32x640 (no detections), 12.3ms\n",
            "Speed: 0.5ms preprocess, 12.3ms inference, 0.8ms postprocess per image at shape (1, 3, 32, 640)\n",
            "\n",
            "image 1/1 /content/data/test/L8w7zu7wek/L8w7zu7wek_L_033.png: 32x640 (no detections), 9.4ms\n",
            "Speed: 0.5ms preprocess, 9.4ms inference, 0.6ms postprocess per image at shape (1, 3, 32, 640)\n",
            "\n",
            "image 1/1 /content/data/test/Klhqlr0ako/Klhqlr0ako_L_038.png: 32x640 (no detections), 11.2ms\n",
            "Speed: 0.5ms preprocess, 11.2ms inference, 0.7ms postprocess per image at shape (1, 3, 32, 640)\n",
            "\n",
            "image 1/1 /content/data/test/Vlqr6qhbqk/Vlqr6qhbqk_L_048.png: 32x640 (no detections), 11.4ms\n",
            "Speed: 0.5ms preprocess, 11.4ms inference, 0.7ms postprocess per image at shape (1, 3, 32, 640)\n",
            "\n",
            "image 1/1 /content/data/test/Pfp24vx905/Pfp24vx905_R_027.png: 32x640 (no detections), 11.6ms\n",
            "Speed: 0.6ms preprocess, 11.6ms inference, 0.7ms postprocess per image at shape (1, 3, 32, 640)\n",
            "\n",
            "image 1/1 /content/data/test/Qhqftdiz4q/Qhqftdiz4q_L_028.png: 32x640 (no detections), 12.0ms\n",
            "Speed: 0.4ms preprocess, 12.0ms inference, 0.9ms postprocess per image at shape (1, 3, 32, 640)\n"
          ]
        },
        {
          "output_type": "stream",
          "name": "stderr",
          "text": [
            "100%|██████████| 130/130 [00:02<00:00, 52.14it/s]"
          ]
        },
        {
          "output_type": "stream",
          "name": "stdout",
          "text": [
            "                 ID  RootVolume\n",
            "0  ID_208667_Hnkl8q    2.088643\n",
            "1  ID_285249_Jnjvav    2.088643\n",
            "2  ID_697947_Yec6bd    2.088643\n",
            "3  ID_534638_X3j91f    2.088643\n",
            "4  ID_929298_Xvymuz    2.088643\n",
            "Submission file saved as submission.csv\n"
          ]
        },
        {
          "output_type": "stream",
          "name": "stderr",
          "text": [
            "\n"
          ]
        }
      ]
    }
  ]
}